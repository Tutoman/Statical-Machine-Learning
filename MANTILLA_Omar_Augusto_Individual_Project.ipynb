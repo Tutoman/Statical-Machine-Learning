{
 "cells": [
  {
   "cell_type": "markdown",
   "id": "31dcdd60",
   "metadata": {},
   "source": [
    "# MANTILLA Omar Augusto - INDIVIDUAL PROJECT"
   ]
  },
  {
   "cell_type": "code",
   "execution_count": 2,
   "id": "8f146264",
   "metadata": {},
   "outputs": [
    {
     "name": "stderr",
     "output_type": "stream",
     "text": [
      "Loading required package: ParamHelpers\n",
      "\n",
      "Warning message: 'mlr' is in 'maintenance-only' mode since July 2019.\n",
      "Future development will only happen in 'mlr3'\n",
      "(<https://mlr3.mlr-org.com>). Due to the focus on 'mlr3' there might be\n",
      "uncaught bugs meanwhile in {mlr} - please consider switching.\n",
      "\n",
      "Loading required package: ggplot2\n",
      "\n",
      "Loading required package: lattice\n",
      "\n",
      "\n",
      "Attaching package: 'caret'\n",
      "\n",
      "\n",
      "The following object is masked from 'package:mlr':\n",
      "\n",
      "    train\n",
      "\n",
      "\n",
      "Type 'citation(\"pROC\")' for a citation.\n",
      "\n",
      "\n",
      "Attaching package: 'pROC'\n",
      "\n",
      "\n",
      "The following objects are masked from 'package:stats':\n",
      "\n",
      "    cov, smooth, var\n",
      "\n",
      "\n",
      "\n",
      "Attaching package: 'e1071'\n",
      "\n",
      "\n",
      "The following object is masked from 'package:mlr':\n",
      "\n",
      "    impute\n",
      "\n",
      "\n",
      "-- \u001b[1mAttaching packages\u001b[22m ------------------------------------------------------------------------------- tidyverse 1.3.1 --\n",
      "\n",
      "\u001b[32mv\u001b[39m \u001b[34mtibble \u001b[39m 3.1.6     \u001b[32mv\u001b[39m \u001b[34mdplyr  \u001b[39m 1.0.7\n",
      "\u001b[32mv\u001b[39m \u001b[34mtidyr  \u001b[39m 1.2.0     \u001b[32mv\u001b[39m \u001b[34mstringr\u001b[39m 1.4.0\n",
      "\u001b[32mv\u001b[39m \u001b[34mreadr  \u001b[39m 2.1.2     \u001b[32mv\u001b[39m \u001b[34mforcats\u001b[39m 0.5.1\n",
      "\u001b[32mv\u001b[39m \u001b[34mpurrr  \u001b[39m 0.3.4     \n",
      "\n",
      "-- \u001b[1mConflicts\u001b[22m ---------------------------------------------------------------------------------- tidyverse_conflicts() --\n",
      "\u001b[31mx\u001b[39m \u001b[34mdplyr\u001b[39m::\u001b[32mbetween()\u001b[39m   masks \u001b[34mdata.table\u001b[39m::between()\n",
      "\u001b[31mx\u001b[39m \u001b[34mdplyr\u001b[39m::\u001b[32mfilter()\u001b[39m    masks \u001b[34mstats\u001b[39m::filter()\n",
      "\u001b[31mx\u001b[39m \u001b[34mdplyr\u001b[39m::\u001b[32mfirst()\u001b[39m     masks \u001b[34mdata.table\u001b[39m::first()\n",
      "\u001b[31mx\u001b[39m \u001b[34mdplyr\u001b[39m::\u001b[32mlag()\u001b[39m       masks \u001b[34mstats\u001b[39m::lag()\n",
      "\u001b[31mx\u001b[39m \u001b[34mdplyr\u001b[39m::\u001b[32mlast()\u001b[39m      masks \u001b[34mdata.table\u001b[39m::last()\n",
      "\u001b[31mx\u001b[39m \u001b[34mpurrr\u001b[39m::\u001b[32mlift()\u001b[39m      masks \u001b[34mcaret\u001b[39m::lift()\n",
      "\u001b[31mx\u001b[39m \u001b[34mpurrr\u001b[39m::\u001b[32mtranspose()\u001b[39m masks \u001b[34mdata.table\u001b[39m::transpose()\n",
      "\n",
      "------------------------------------------------------------------------------\n",
      "\n",
      "You have loaded plyr after dplyr - this is likely to cause problems.\n",
      "If you need functions from both plyr and dplyr, please load plyr first, then dplyr:\n",
      "library(plyr); library(dplyr)\n",
      "\n",
      "------------------------------------------------------------------------------\n",
      "\n",
      "\n",
      "Attaching package: 'plyr'\n",
      "\n",
      "\n",
      "The following objects are masked from 'package:dplyr':\n",
      "\n",
      "    arrange, count, desc, failwith, id, mutate, rename, summarise,\n",
      "    summarize\n",
      "\n",
      "\n",
      "The following object is masked from 'package:purrr':\n",
      "\n",
      "    compact\n",
      "\n",
      "\n",
      "naivebayes 0.9.7 loaded\n",
      "\n",
      "\n",
      "Attaching package: 'naivebayes'\n",
      "\n",
      "\n",
      "The following object is masked from 'package:data.table':\n",
      "\n",
      "    tables\n",
      "\n",
      "\n",
      "\n",
      "Attaching package: 'psych'\n",
      "\n",
      "\n",
      "The following objects are masked from 'package:ggplot2':\n",
      "\n",
      "    %+%, alpha\n",
      "\n",
      "\n",
      "\n",
      "Attaching package: 'kernlab'\n",
      "\n",
      "\n",
      "The following object is masked from 'package:psych':\n",
      "\n",
      "    alpha\n",
      "\n",
      "\n",
      "The following object is masked from 'package:purrr':\n",
      "\n",
      "    cross\n",
      "\n",
      "\n",
      "The following object is masked from 'package:ggplot2':\n",
      "\n",
      "    alpha\n",
      "\n",
      "\n",
      "randomForest 4.6-14\n",
      "\n",
      "Type rfNews() to see new features/changes/bug fixes.\n",
      "\n",
      "\n",
      "Attaching package: 'randomForest'\n",
      "\n",
      "\n",
      "The following object is masked from 'package:psych':\n",
      "\n",
      "    outlier\n",
      "\n",
      "\n",
      "The following object is masked from 'package:dplyr':\n",
      "\n",
      "    combine\n",
      "\n",
      "\n",
      "The following object is masked from 'package:ggplot2':\n",
      "\n",
      "    margin\n",
      "\n",
      "\n",
      "\n",
      "Attaching package: 'MASS'\n",
      "\n",
      "\n",
      "The following object is masked from 'package:dplyr':\n",
      "\n",
      "    select\n",
      "\n",
      "\n"
     ]
    }
   ],
   "source": [
    "# Loading Libraries\n",
    "\n",
    "# Set environment params\n",
    "Sys.setenv(LANG='en')  # English\n",
    "\n",
    "# Import libraries\n",
    "library(data.table)  # Data manipulate\n",
    "library(mlr)         # ML toolkit\n",
    "library(caret)       # ML toolkit\n",
    "library(ggplot2)     # Visualization\n",
    "library(pROC)        # AUC, ROC\n",
    "library(e1071)       # SVM\n",
    "library(tidyverse)\n",
    "library(dplyr)\n",
    "library(plyr)\n",
    "library(caTools)\n",
    "library(naivebayes)\n",
    "library(psych)\n",
    "library(kernlab)\n",
    "library(rpart)\n",
    "library(rpart.plot)\n",
    "library(randomForest)\n",
    "library(Boruta)\n",
    "# Import data\n",
    "library(ISLR)      # Data from the course book\n",
    "library(MASS)      # Boston housing dataset\n",
    "library(datasets)  # US crime dataset\n",
    "library(tidyverse)\n",
    "library(leaps)\n",
    "\n",
    "# Resize plot\n",
    "library(repr)  # String and binary representations\n",
    "#options(repr.plot.width=4, repr.plot.height=4)\n",
    "#par(cex.lab=0.8, cex.axis=0.8, cex.main=0.8, cex.sub=0.8)"
   ]
  },
  {
   "cell_type": "code",
   "execution_count": 2,
   "id": "359e3c05",
   "metadata": {},
   "outputs": [
    {
     "data": {
      "text/html": [
       "<table class=\"dataframe\">\n",
       "<caption>A data.frame: 20000 × 21</caption>\n",
       "<thead>\n",
       "\t<tr><th scope=col>client_id</th><th scope=col>age</th><th scope=col>job</th><th scope=col>marital</th><th scope=col>education</th><th scope=col>default</th><th scope=col>housing</th><th scope=col>loan</th><th scope=col>contact</th><th scope=col>month</th><th scope=col>⋯</th><th scope=col>campaign</th><th scope=col>pdays</th><th scope=col>previous</th><th scope=col>poutcome</th><th scope=col>emp.var.rate</th><th scope=col>cons.price.idx</th><th scope=col>cons.conf.idx</th><th scope=col>euribor3m</th><th scope=col>nr.employed</th><th scope=col>subscribe</th></tr>\n",
       "\t<tr><th scope=col>&lt;int&gt;</th><th scope=col>&lt;int&gt;</th><th scope=col>&lt;chr&gt;</th><th scope=col>&lt;chr&gt;</th><th scope=col>&lt;chr&gt;</th><th scope=col>&lt;chr&gt;</th><th scope=col>&lt;chr&gt;</th><th scope=col>&lt;chr&gt;</th><th scope=col>&lt;chr&gt;</th><th scope=col>&lt;chr&gt;</th><th scope=col>⋯</th><th scope=col>&lt;int&gt;</th><th scope=col>&lt;int&gt;</th><th scope=col>&lt;int&gt;</th><th scope=col>&lt;chr&gt;</th><th scope=col>&lt;dbl&gt;</th><th scope=col>&lt;dbl&gt;</th><th scope=col>&lt;dbl&gt;</th><th scope=col>&lt;dbl&gt;</th><th scope=col>&lt;dbl&gt;</th><th scope=col>&lt;int&gt;</th></tr>\n",
       "</thead>\n",
       "<tbody>\n",
       "\t<tr><td>29925</td><td>42</td><td>management  </td><td>married </td><td>basic.9y           </td><td>no     </td><td>no     </td><td>no     </td><td>cellular </td><td>jul</td><td>⋯</td><td>1</td><td>999</td><td>0</td><td>nonexistent</td><td> 1.4</td><td>93.918</td><td>-42.7</td><td>4.968</td><td>5228.1</td><td>0</td></tr>\n",
       "\t<tr><td>37529</td><td>35</td><td>unemployed  </td><td>married </td><td>university.degree  </td><td>no     </td><td>yes    </td><td>no     </td><td>telephone</td><td>jun</td><td>⋯</td><td>4</td><td>999</td><td>0</td><td>nonexistent</td><td> 1.4</td><td>94.465</td><td>-41.8</td><td>4.960</td><td>5228.1</td><td>0</td></tr>\n",
       "\t<tr><td> 2757</td><td>44</td><td>technician  </td><td>married </td><td>basic.9y           </td><td>no     </td><td>yes    </td><td>yes    </td><td>cellular </td><td>may</td><td>⋯</td><td>1</td><td>999</td><td>0</td><td>nonexistent</td><td>-1.8</td><td>92.893</td><td>-46.2</td><td>1.264</td><td>5099.1</td><td>0</td></tr>\n",
       "\t<tr><td> 9642</td><td>45</td><td>services    </td><td>married </td><td>high.school        </td><td>no     </td><td>yes    </td><td>no     </td><td>cellular </td><td>apr</td><td>⋯</td><td>1</td><td>999</td><td>0</td><td>nonexistent</td><td>-1.8</td><td>93.075</td><td>-47.1</td><td>1.453</td><td>5099.1</td><td>0</td></tr>\n",
       "\t<tr><td>14183</td><td>45</td><td>unknown     </td><td>married </td><td>unknown            </td><td>unknown</td><td>unknown</td><td>unknown</td><td>telephone</td><td>may</td><td>⋯</td><td>1</td><td>999</td><td>0</td><td>nonexistent</td><td> 1.1</td><td>93.994</td><td>-36.4</td><td>4.859</td><td>5191.0</td><td>0</td></tr>\n",
       "\t<tr><td>15180</td><td>38</td><td>technician  </td><td>married </td><td>professional.course</td><td>no     </td><td>no     </td><td>no     </td><td>telephone</td><td>may</td><td>⋯</td><td>2</td><td>999</td><td>0</td><td>nonexistent</td><td> 1.1</td><td>93.994</td><td>-36.4</td><td>4.858</td><td>5191.0</td><td>0</td></tr>\n",
       "\t<tr><td>27168</td><td>33</td><td>technician  </td><td>married </td><td>professional.course</td><td>no     </td><td>no     </td><td>yes    </td><td>cellular </td><td>apr</td><td>⋯</td><td>1</td><td> NA</td><td>1</td><td>failure    </td><td>-1.8</td><td>93.075</td><td>-47.1</td><td>1.405</td><td>5099.1</td><td>1</td></tr>\n",
       "\t<tr><td> 9097</td><td>38</td><td>blue-collar </td><td>single  </td><td>basic.9y           </td><td>unknown</td><td>yes    </td><td>no     </td><td>telephone</td><td>may</td><td>⋯</td><td>1</td><td>999</td><td>0</td><td>nonexistent</td><td> 1.1</td><td>93.994</td><td>-36.4</td><td>4.857</td><td>5191.0</td><td>0</td></tr>\n",
       "\t<tr><td>30538</td><td>29</td><td>blue-collar </td><td>single  </td><td>unknown            </td><td>no     </td><td>yes    </td><td>no     </td><td>cellular </td><td>may</td><td>⋯</td><td>1</td><td>999</td><td>1</td><td>failure    </td><td>-1.8</td><td>92.893</td><td>-46.2</td><td>1.250</td><td>5099.1</td><td>0</td></tr>\n",
       "\t<tr><td>28981</td><td>34</td><td>admin.      </td><td>divorced</td><td>university.degree  </td><td>no     </td><td>yes    </td><td>yes    </td><td>cellular </td><td>aug</td><td>⋯</td><td>1</td><td>999</td><td>0</td><td>nonexistent</td><td> 1.4</td><td>93.444</td><td>-36.1</td><td>4.965</td><td>5228.1</td><td>0</td></tr>\n",
       "\t<tr><td> 7989</td><td>47</td><td>blue-collar </td><td>married </td><td>high.school        </td><td>unknown</td><td>yes    </td><td>no     </td><td>telephone</td><td>jun</td><td>⋯</td><td>3</td><td>999</td><td>0</td><td>nonexistent</td><td> 1.4</td><td>94.465</td><td>-41.8</td><td>4.961</td><td>5228.1</td><td>0</td></tr>\n",
       "\t<tr><td>13536</td><td>30</td><td>blue-collar </td><td>single  </td><td>basic.9y           </td><td>no     </td><td>yes    </td><td>no     </td><td>cellular </td><td>jul</td><td>⋯</td><td>1</td><td>999</td><td>0</td><td>nonexistent</td><td> 1.4</td><td>93.918</td><td>-42.7</td><td>4.963</td><td>5228.1</td><td>0</td></tr>\n",
       "\t<tr><td>24541</td><td>30</td><td>admin.      </td><td>married </td><td>basic.6y           </td><td>no     </td><td>yes    </td><td>no     </td><td>cellular </td><td>jul</td><td>⋯</td><td>1</td><td>999</td><td>0</td><td>nonexistent</td><td> 1.4</td><td>93.918</td><td>-42.7</td><td>4.958</td><td>5228.1</td><td>0</td></tr>\n",
       "\t<tr><td> 6216</td><td>35</td><td>services    </td><td>married </td><td>basic.6y           </td><td>unknown</td><td>yes    </td><td>no     </td><td>cellular </td><td>may</td><td>⋯</td><td>2</td><td>999</td><td>0</td><td>nonexistent</td><td>-1.8</td><td>92.893</td><td>-46.2</td><td>1.344</td><td>5099.1</td><td>0</td></tr>\n",
       "\t<tr><td>17983</td><td>45</td><td>management  </td><td>married </td><td>professional.course</td><td>no     </td><td>no     </td><td>no     </td><td>cellular </td><td>nov</td><td>⋯</td><td>1</td><td>999</td><td>0</td><td>nonexistent</td><td>-0.1</td><td>93.200</td><td>-42.0</td><td>4.076</td><td>5195.8</td><td>1</td></tr>\n",
       "\t<tr><td>29394</td><td>37</td><td>entrepreneur</td><td>married </td><td>university.degree  </td><td>unknown</td><td>yes    </td><td>no     </td><td>cellular </td><td>nov</td><td>⋯</td><td>2</td><td>999</td><td>1</td><td>failure    </td><td>-0.1</td><td>93.200</td><td>-42.0</td><td>4.191</td><td>5195.8</td><td>0</td></tr>\n",
       "\t<tr><td>28825</td><td>48</td><td>blue-collar </td><td>married </td><td>basic.6y           </td><td>no     </td><td>no     </td><td>no     </td><td>telephone</td><td>jun</td><td>⋯</td><td>2</td><td>999</td><td>0</td><td>nonexistent</td><td> 1.4</td><td>94.465</td><td>-41.8</td><td>4.866</td><td>5228.1</td><td>0</td></tr>\n",
       "\t<tr><td>   41</td><td>47</td><td>admin.      </td><td>married </td><td>basic.6y           </td><td>unknown</td><td>yes    </td><td>no     </td><td>cellular </td><td>apr</td><td>⋯</td><td>2</td><td>999</td><td>1</td><td>failure    </td><td>-1.8</td><td>93.075</td><td>-47.1</td><td>1.410</td><td>5099.1</td><td>0</td></tr>\n",
       "\t<tr><td> 7284</td><td>35</td><td>blue-collar </td><td>married </td><td>basic.9y           </td><td>no     </td><td>yes    </td><td>no     </td><td>telephone</td><td>may</td><td>⋯</td><td>1</td><td>999</td><td>0</td><td>nonexistent</td><td> 1.1</td><td>93.994</td><td>-36.4</td><td>4.858</td><td>5191.0</td><td>0</td></tr>\n",
       "\t<tr><td>28502</td><td>34</td><td>technician  </td><td>married </td><td>professional.course</td><td>no     </td><td>no     </td><td>no     </td><td>cellular </td><td>apr</td><td>⋯</td><td>3</td><td>999</td><td>0</td><td>nonexistent</td><td>-1.8</td><td>93.075</td><td>-47.1</td><td>1.405</td><td>5099.1</td><td>0</td></tr>\n",
       "\t<tr><td>11473</td><td>60</td><td>technician  </td><td>married </td><td>university.degree  </td><td>unknown</td><td>yes    </td><td>no     </td><td>telephone</td><td>may</td><td>⋯</td><td>5</td><td>999</td><td>0</td><td>nonexistent</td><td> 1.1</td><td>93.994</td><td>-36.4</td><td>4.855</td><td>5191.0</td><td>0</td></tr>\n",
       "\t<tr><td> 6134</td><td>35</td><td>services    </td><td>single  </td><td>high.school        </td><td>no     </td><td>no     </td><td>no     </td><td>cellular </td><td>may</td><td>⋯</td><td>2</td><td>999</td><td>1</td><td>failure    </td><td>-1.8</td><td>92.893</td><td>-46.2</td><td>1.334</td><td>5099.1</td><td>0</td></tr>\n",
       "\t<tr><td>33523</td><td>32</td><td>technician  </td><td>married </td><td>university.degree  </td><td>no     </td><td>yes    </td><td>no     </td><td>cellular </td><td>may</td><td>⋯</td><td>1</td><td>999</td><td>0</td><td>nonexistent</td><td>-1.8</td><td>92.893</td><td>-46.2</td><td>1.281</td><td>5099.1</td><td>0</td></tr>\n",
       "\t<tr><td>21812</td><td>49</td><td>blue-collar </td><td>married </td><td>unknown            </td><td>unknown</td><td>yes    </td><td>no     </td><td>telephone</td><td>may</td><td>⋯</td><td>1</td><td>999</td><td>0</td><td>nonexistent</td><td> 1.1</td><td>93.994</td><td>-36.4</td><td>4.856</td><td>5191.0</td><td>0</td></tr>\n",
       "\t<tr><td>39895</td><td>45</td><td>technician  </td><td>single  </td><td>professional.course</td><td>no     </td><td>no     </td><td>no     </td><td>telephone</td><td>may</td><td>⋯</td><td>2</td><td>999</td><td>0</td><td>nonexistent</td><td> 1.1</td><td>93.994</td><td>-36.4</td><td>4.856</td><td>5191.0</td><td>0</td></tr>\n",
       "\t<tr><td> 9326</td><td>33</td><td>blue-collar </td><td>single  </td><td>basic.9y           </td><td>unknown</td><td>yes    </td><td>no     </td><td>telephone</td><td>jun</td><td>⋯</td><td>4</td><td>999</td><td>0</td><td>nonexistent</td><td> 1.4</td><td>94.465</td><td>-41.8</td><td>4.865</td><td>5228.1</td><td>0</td></tr>\n",
       "\t<tr><td>26510</td><td>34</td><td>management  </td><td>single  </td><td>university.degree  </td><td>no     </td><td>unknown</td><td>unknown</td><td>telephone</td><td>nov</td><td>⋯</td><td>5</td><td>999</td><td>0</td><td>nonexistent</td><td>-0.1</td><td>93.200</td><td>-42.0</td><td>4.021</td><td>5195.8</td><td>0</td></tr>\n",
       "\t<tr><td>20960</td><td>57</td><td>retired     </td><td>married </td><td>university.degree  </td><td>no     </td><td>yes    </td><td>no     </td><td>telephone</td><td>may</td><td>⋯</td><td>1</td><td>999</td><td>0</td><td>nonexistent</td><td> 1.1</td><td>93.994</td><td>-36.4</td><td>4.856</td><td>5191.0</td><td>0</td></tr>\n",
       "\t<tr><td>14403</td><td>50</td><td>technician  </td><td>single  </td><td>professional.course</td><td>no     </td><td>no     </td><td>yes    </td><td>cellular </td><td>jul</td><td>⋯</td><td>8</td><td>999</td><td>0</td><td>nonexistent</td><td> 1.4</td><td>93.918</td><td>-42.7</td><td>4.962</td><td>5228.1</td><td>0</td></tr>\n",
       "\t<tr><td>28799</td><td>49</td><td>housemaid   </td><td>married </td><td>university.degree  </td><td>no     </td><td>yes    </td><td>no     </td><td>cellular </td><td>aug</td><td>⋯</td><td>2</td><td>999</td><td>0</td><td>nonexistent</td><td> 1.4</td><td>93.444</td><td>-36.1</td><td>4.967</td><td>5228.1</td><td>0</td></tr>\n",
       "\t<tr><td>⋮</td><td>⋮</td><td>⋮</td><td>⋮</td><td>⋮</td><td>⋮</td><td>⋮</td><td>⋮</td><td>⋮</td><td>⋮</td><td>⋱</td><td>⋮</td><td>⋮</td><td>⋮</td><td>⋮</td><td>⋮</td><td>⋮</td><td>⋮</td><td>⋮</td><td>⋮</td><td>⋮</td></tr>\n",
       "\t<tr><td> 3036</td><td>33</td><td>self-employed</td><td>married </td><td>university.degree  </td><td>no     </td><td>no     </td><td>no     </td><td>cellular </td><td>aug</td><td>⋯</td><td> 3</td><td>999</td><td> 0</td><td>nonexistent</td><td> 1.4</td><td>93.444</td><td>-36.1</td><td>4.965</td><td>5228.1</td><td>0</td></tr>\n",
       "\t<tr><td>19102</td><td>31</td><td>admin.       </td><td>single  </td><td>university.degree  </td><td>unknown</td><td>yes    </td><td>no     </td><td>cellular </td><td>aug</td><td>⋯</td><td> 1</td><td>999</td><td> 0</td><td>nonexistent</td><td> 1.4</td><td>93.444</td><td>-36.1</td><td>4.964</td><td>5228.1</td><td>0</td></tr>\n",
       "\t<tr><td>37729</td><td>46</td><td>technician   </td><td>married </td><td>professional.course</td><td>no     </td><td>no     </td><td>no     </td><td>telephone</td><td>may</td><td>⋯</td><td> 1</td><td>999</td><td> 0</td><td>nonexistent</td><td> 1.1</td><td>93.994</td><td>-36.4</td><td>4.860</td><td>5191.0</td><td>0</td></tr>\n",
       "\t<tr><td>20186</td><td>50</td><td>self-employed</td><td>married </td><td>unknown            </td><td>no     </td><td>unknown</td><td>unknown</td><td>cellular </td><td>jul</td><td>⋯</td><td> 2</td><td>999</td><td> 0</td><td>nonexistent</td><td>-2.9</td><td>92.469</td><td>-33.6</td><td>0.914</td><td>5076.2</td><td>0</td></tr>\n",
       "\t<tr><td>38059</td><td>43</td><td>admin.       </td><td>divorced</td><td>university.degree  </td><td>unknown</td><td>no     </td><td>no     </td><td>cellular </td><td>aug</td><td>⋯</td><td> 2</td><td>999</td><td> 0</td><td>nonexistent</td><td> 1.4</td><td>93.444</td><td>-36.1</td><td>4.966</td><td>5228.1</td><td>0</td></tr>\n",
       "\t<tr><td> 8099</td><td>32</td><td>technician   </td><td>divorced</td><td>professional.course</td><td>no     </td><td>no     </td><td>no     </td><td>cellular </td><td>nov</td><td>⋯</td><td> 1</td><td>999</td><td> 0</td><td>nonexistent</td><td>-0.1</td><td>93.200</td><td>-42.0</td><td>4.153</td><td>5195.8</td><td>0</td></tr>\n",
       "\t<tr><td>15178</td><td>37</td><td>housemaid    </td><td>married </td><td>basic.4y           </td><td>unknown</td><td>no     </td><td>yes    </td><td>cellular </td><td>aug</td><td>⋯</td><td> 2</td><td>999</td><td> 0</td><td>nonexistent</td><td> 1.4</td><td>93.444</td><td>-36.1</td><td>4.965</td><td>5228.1</td><td>0</td></tr>\n",
       "\t<tr><td>18920</td><td>47</td><td>technician   </td><td>divorced</td><td>high.school        </td><td>no     </td><td>yes    </td><td>no     </td><td>telephone</td><td>jun</td><td>⋯</td><td> 2</td><td>999</td><td>NA</td><td>nonexistent</td><td> 1.4</td><td>94.465</td><td>-41.8</td><td>4.865</td><td>5228.1</td><td>0</td></tr>\n",
       "\t<tr><td>19757</td><td>31</td><td>admin.       </td><td>single  </td><td>university.degree  </td><td>no     </td><td>yes    </td><td>no     </td><td>cellular </td><td>aug</td><td>⋯</td><td> 1</td><td>999</td><td> 0</td><td>nonexistent</td><td> 1.4</td><td>93.444</td><td>-36.1</td><td>4.965</td><td>5228.1</td><td>0</td></tr>\n",
       "\t<tr><td> 9327</td><td>31</td><td>admin.       </td><td>single  </td><td>university.degree  </td><td>unknown</td><td>no     </td><td>yes    </td><td>cellular </td><td>aug</td><td>⋯</td><td> 1</td><td>999</td><td> 0</td><td>nonexistent</td><td> 1.4</td><td>93.444</td><td>-36.1</td><td>4.968</td><td>5228.1</td><td>0</td></tr>\n",
       "\t<tr><td>16641</td><td>51</td><td>technician   </td><td>married </td><td>professional.course</td><td>no     </td><td>yes    </td><td>no     </td><td>cellular </td><td>oct</td><td>⋯</td><td> 6</td><td>  6</td><td> 3</td><td>failure    </td><td>-3.4</td><td>92.431</td><td>-26.9</td><td>0.754</td><td>5017.5</td><td>0</td></tr>\n",
       "\t<tr><td> 9656</td><td>30</td><td>admin.       </td><td>married </td><td>university.degree  </td><td>no     </td><td>yes    </td><td>no     </td><td>cellular </td><td>aug</td><td>⋯</td><td> 3</td><td>999</td><td> 0</td><td>nonexistent</td><td> 1.4</td><td>93.444</td><td>-36.1</td><td>4.963</td><td>5228.1</td><td>0</td></tr>\n",
       "\t<tr><td>37330</td><td>42</td><td>technician   </td><td>married </td><td>professional.course</td><td>unknown</td><td>yes    </td><td>no     </td><td>telephone</td><td>may</td><td>⋯</td><td> 3</td><td>999</td><td> 0</td><td>nonexistent</td><td> 1.1</td><td>93.994</td><td>-36.4</td><td>4.864</td><td>5191.0</td><td>0</td></tr>\n",
       "\t<tr><td>34568</td><td>32</td><td>blue-collar  </td><td>married </td><td>basic.6y           </td><td>no     </td><td>yes    </td><td>no     </td><td>telephone</td><td>may</td><td>⋯</td><td> 3</td><td>999</td><td> 0</td><td>nonexistent</td><td> 1.1</td><td>93.994</td><td>-36.4</td><td>4.860</td><td>5191.0</td><td>0</td></tr>\n",
       "\t<tr><td>23095</td><td>41</td><td>blue-collar  </td><td>married </td><td>basic.6y           </td><td>no     </td><td>yes    </td><td>no     </td><td>cellular </td><td>jul</td><td>⋯</td><td> 3</td><td>999</td><td> 0</td><td>nonexistent</td><td> 1.4</td><td>93.918</td><td>-42.7</td><td>4.968</td><td>5228.1</td><td>0</td></tr>\n",
       "\t<tr><td>25383</td><td>48</td><td>admin.       </td><td>divorced</td><td>high.school        </td><td>no     </td><td>no     </td><td>yes    </td><td>telephone</td><td>may</td><td>⋯</td><td> 2</td><td>999</td><td> 0</td><td>nonexistent</td><td> 1.1</td><td>93.994</td><td>-36.4</td><td>4.856</td><td>5191.0</td><td>0</td></tr>\n",
       "\t<tr><td>16918</td><td>31</td><td>admin.       </td><td>NA      </td><td>university.degree  </td><td>no     </td><td>yes    </td><td>yes    </td><td>cellular </td><td>sep</td><td>⋯</td><td> 1</td><td>999</td><td> 0</td><td>nonexistent</td><td>-1.1</td><td>94.199</td><td>-37.5</td><td>0.877</td><td>4963.6</td><td>1</td></tr>\n",
       "\t<tr><td> 4245</td><td>35</td><td>blue-collar  </td><td>single  </td><td>unknown            </td><td>no     </td><td>yes    </td><td>no     </td><td>telephone</td><td>jul</td><td>⋯</td><td>NA</td><td>999</td><td> 0</td><td>nonexistent</td><td> 1.4</td><td>93.918</td><td>-42.7</td><td>4.960</td><td>5228.1</td><td>0</td></tr>\n",
       "\t<tr><td>21920</td><td>39</td><td>blue-collar  </td><td>married </td><td>basic.4y           </td><td>unknown</td><td>yes    </td><td>no     </td><td>telephone</td><td>may</td><td>⋯</td><td> 1</td><td>999</td><td> 0</td><td>nonexistent</td><td> 1.1</td><td>    NA</td><td>-36.4</td><td>4.859</td><td>5191.0</td><td>0</td></tr>\n",
       "\t<tr><td>29000</td><td>21</td><td>student      </td><td>single  </td><td>high.school        </td><td>no     </td><td>no     </td><td>no     </td><td>cellular </td><td>oct</td><td>⋯</td><td> 1</td><td>999</td><td> 0</td><td>nonexistent</td><td>-3.4</td><td>92.431</td><td>   NA</td><td>0.728</td><td>5017.5</td><td>1</td></tr>\n",
       "\t<tr><td> 6627</td><td>28</td><td>admin.       </td><td>single  </td><td>university.degree  </td><td>no     </td><td>yes    </td><td>no     </td><td>cellular </td><td>sep</td><td>⋯</td><td> 1</td><td>  1</td><td> 3</td><td>success    </td><td>-3.4</td><td>92.379</td><td>-29.8</td><td>0.773</td><td>5017.5</td><td>1</td></tr>\n",
       "\t<tr><td>35702</td><td>29</td><td>admin.       </td><td>single  </td><td>university.degree  </td><td>no     </td><td>yes    </td><td>no     </td><td>cellular </td><td>aug</td><td>⋯</td><td> 1</td><td>999</td><td> 0</td><td>nonexistent</td><td> 1.4</td><td>93.444</td><td>-36.1</td><td>4.963</td><td>5228.1</td><td>0</td></tr>\n",
       "\t<tr><td>38555</td><td>49</td><td>services     </td><td>married </td><td>basic.4y           </td><td>unknown</td><td>no     </td><td>no     </td><td>cellular </td><td>aug</td><td>⋯</td><td> 2</td><td>999</td><td> 0</td><td>nonexistent</td><td> 1.4</td><td>93.444</td><td>-36.1</td><td>4.963</td><td>5228.1</td><td>1</td></tr>\n",
       "\t<tr><td>23289</td><td>38</td><td>blue-collar  </td><td>divorced</td><td>high.school        </td><td>no     </td><td>yes    </td><td>no     </td><td>cellular </td><td>may</td><td>⋯</td><td> 6</td><td>999</td><td> 1</td><td>failure    </td><td>-1.8</td><td>92.893</td><td>-46.2</td><td>1.344</td><td>5099.1</td><td>0</td></tr>\n",
       "\t<tr><td> 2969</td><td>36</td><td>blue-collar  </td><td>single  </td><td>high.school        </td><td>no     </td><td>yes    </td><td>no     </td><td>cellular </td><td>jul</td><td>⋯</td><td>24</td><td>999</td><td> 0</td><td>nonexistent</td><td> 1.4</td><td>93.918</td><td>-42.7</td><td>4.968</td><td>5228.1</td><td>0</td></tr>\n",
       "\t<tr><td>13724</td><td>45</td><td>unknown      </td><td>unknown </td><td>unknown            </td><td>no     </td><td>yes    </td><td>yes    </td><td>cellular </td><td>jul</td><td>⋯</td><td> 1</td><td>999</td><td> 0</td><td>nonexistent</td><td> 1.4</td><td>93.918</td><td>-42.7</td><td>4.957</td><td>5228.1</td><td>1</td></tr>\n",
       "\t<tr><td>29863</td><td>26</td><td>admin.       </td><td>single  </td><td>university.degree  </td><td>no     </td><td>yes    </td><td>no     </td><td>cellular </td><td>may</td><td>⋯</td><td> 2</td><td>999</td><td> 1</td><td>failure    </td><td>-1.8</td><td>92.893</td><td>-46.2</td><td>1.299</td><td>5099.1</td><td>0</td></tr>\n",
       "\t<tr><td> 9841</td><td>33</td><td>admin.       </td><td>married </td><td>high.school        </td><td>no     </td><td>yes    </td><td>yes    </td><td>cellular </td><td>may</td><td>⋯</td><td> 1</td><td>999</td><td> 1</td><td>failure    </td><td>-1.8</td><td>92.893</td><td>-46.2</td><td>1.299</td><td>5099.1</td><td>0</td></tr>\n",
       "\t<tr><td>36432</td><td>43</td><td>admin.       </td><td>married </td><td>high.school        </td><td>no     </td><td>yes    </td><td>no     </td><td>telephone</td><td>jul</td><td>⋯</td><td>10</td><td>999</td><td> 0</td><td>nonexistent</td><td> 1.4</td><td>93.918</td><td>-42.7</td><td>4.960</td><td>5228.1</td><td>0</td></tr>\n",
       "\t<tr><td>15639</td><td>55</td><td>blue-collar  </td><td>married </td><td>basic.9y           </td><td>no     </td><td>yes    </td><td>yes    </td><td>cellular </td><td>aug</td><td>⋯</td><td> 3</td><td>999</td><td> 0</td><td>nonexistent</td><td> 1.4</td><td>93.444</td><td>-36.1</td><td>4.963</td><td>5228.1</td><td>0</td></tr>\n",
       "</tbody>\n",
       "</table>\n"
      ],
      "text/latex": [
       "A data.frame: 20000 × 21\n",
       "\\begin{tabular}{lllllllllllllllllllll}\n",
       " client\\_id & age & job & marital & education & default & housing & loan & contact & month & ⋯ & campaign & pdays & previous & poutcome & emp.var.rate & cons.price.idx & cons.conf.idx & euribor3m & nr.employed & subscribe\\\\\n",
       " <int> & <int> & <chr> & <chr> & <chr> & <chr> & <chr> & <chr> & <chr> & <chr> & ⋯ & <int> & <int> & <int> & <chr> & <dbl> & <dbl> & <dbl> & <dbl> & <dbl> & <int>\\\\\n",
       "\\hline\n",
       "\t 29925 & 42 & management   & married  & basic.9y            & no      & no      & no      & cellular  & jul & ⋯ & 1 & 999 & 0 & nonexistent &  1.4 & 93.918 & -42.7 & 4.968 & 5228.1 & 0\\\\\n",
       "\t 37529 & 35 & unemployed   & married  & university.degree   & no      & yes     & no      & telephone & jun & ⋯ & 4 & 999 & 0 & nonexistent &  1.4 & 94.465 & -41.8 & 4.960 & 5228.1 & 0\\\\\n",
       "\t  2757 & 44 & technician   & married  & basic.9y            & no      & yes     & yes     & cellular  & may & ⋯ & 1 & 999 & 0 & nonexistent & -1.8 & 92.893 & -46.2 & 1.264 & 5099.1 & 0\\\\\n",
       "\t  9642 & 45 & services     & married  & high.school         & no      & yes     & no      & cellular  & apr & ⋯ & 1 & 999 & 0 & nonexistent & -1.8 & 93.075 & -47.1 & 1.453 & 5099.1 & 0\\\\\n",
       "\t 14183 & 45 & unknown      & married  & unknown             & unknown & unknown & unknown & telephone & may & ⋯ & 1 & 999 & 0 & nonexistent &  1.1 & 93.994 & -36.4 & 4.859 & 5191.0 & 0\\\\\n",
       "\t 15180 & 38 & technician   & married  & professional.course & no      & no      & no      & telephone & may & ⋯ & 2 & 999 & 0 & nonexistent &  1.1 & 93.994 & -36.4 & 4.858 & 5191.0 & 0\\\\\n",
       "\t 27168 & 33 & technician   & married  & professional.course & no      & no      & yes     & cellular  & apr & ⋯ & 1 &  NA & 1 & failure     & -1.8 & 93.075 & -47.1 & 1.405 & 5099.1 & 1\\\\\n",
       "\t  9097 & 38 & blue-collar  & single   & basic.9y            & unknown & yes     & no      & telephone & may & ⋯ & 1 & 999 & 0 & nonexistent &  1.1 & 93.994 & -36.4 & 4.857 & 5191.0 & 0\\\\\n",
       "\t 30538 & 29 & blue-collar  & single   & unknown             & no      & yes     & no      & cellular  & may & ⋯ & 1 & 999 & 1 & failure     & -1.8 & 92.893 & -46.2 & 1.250 & 5099.1 & 0\\\\\n",
       "\t 28981 & 34 & admin.       & divorced & university.degree   & no      & yes     & yes     & cellular  & aug & ⋯ & 1 & 999 & 0 & nonexistent &  1.4 & 93.444 & -36.1 & 4.965 & 5228.1 & 0\\\\\n",
       "\t  7989 & 47 & blue-collar  & married  & high.school         & unknown & yes     & no      & telephone & jun & ⋯ & 3 & 999 & 0 & nonexistent &  1.4 & 94.465 & -41.8 & 4.961 & 5228.1 & 0\\\\\n",
       "\t 13536 & 30 & blue-collar  & single   & basic.9y            & no      & yes     & no      & cellular  & jul & ⋯ & 1 & 999 & 0 & nonexistent &  1.4 & 93.918 & -42.7 & 4.963 & 5228.1 & 0\\\\\n",
       "\t 24541 & 30 & admin.       & married  & basic.6y            & no      & yes     & no      & cellular  & jul & ⋯ & 1 & 999 & 0 & nonexistent &  1.4 & 93.918 & -42.7 & 4.958 & 5228.1 & 0\\\\\n",
       "\t  6216 & 35 & services     & married  & basic.6y            & unknown & yes     & no      & cellular  & may & ⋯ & 2 & 999 & 0 & nonexistent & -1.8 & 92.893 & -46.2 & 1.344 & 5099.1 & 0\\\\\n",
       "\t 17983 & 45 & management   & married  & professional.course & no      & no      & no      & cellular  & nov & ⋯ & 1 & 999 & 0 & nonexistent & -0.1 & 93.200 & -42.0 & 4.076 & 5195.8 & 1\\\\\n",
       "\t 29394 & 37 & entrepreneur & married  & university.degree   & unknown & yes     & no      & cellular  & nov & ⋯ & 2 & 999 & 1 & failure     & -0.1 & 93.200 & -42.0 & 4.191 & 5195.8 & 0\\\\\n",
       "\t 28825 & 48 & blue-collar  & married  & basic.6y            & no      & no      & no      & telephone & jun & ⋯ & 2 & 999 & 0 & nonexistent &  1.4 & 94.465 & -41.8 & 4.866 & 5228.1 & 0\\\\\n",
       "\t    41 & 47 & admin.       & married  & basic.6y            & unknown & yes     & no      & cellular  & apr & ⋯ & 2 & 999 & 1 & failure     & -1.8 & 93.075 & -47.1 & 1.410 & 5099.1 & 0\\\\\n",
       "\t  7284 & 35 & blue-collar  & married  & basic.9y            & no      & yes     & no      & telephone & may & ⋯ & 1 & 999 & 0 & nonexistent &  1.1 & 93.994 & -36.4 & 4.858 & 5191.0 & 0\\\\\n",
       "\t 28502 & 34 & technician   & married  & professional.course & no      & no      & no      & cellular  & apr & ⋯ & 3 & 999 & 0 & nonexistent & -1.8 & 93.075 & -47.1 & 1.405 & 5099.1 & 0\\\\\n",
       "\t 11473 & 60 & technician   & married  & university.degree   & unknown & yes     & no      & telephone & may & ⋯ & 5 & 999 & 0 & nonexistent &  1.1 & 93.994 & -36.4 & 4.855 & 5191.0 & 0\\\\\n",
       "\t  6134 & 35 & services     & single   & high.school         & no      & no      & no      & cellular  & may & ⋯ & 2 & 999 & 1 & failure     & -1.8 & 92.893 & -46.2 & 1.334 & 5099.1 & 0\\\\\n",
       "\t 33523 & 32 & technician   & married  & university.degree   & no      & yes     & no      & cellular  & may & ⋯ & 1 & 999 & 0 & nonexistent & -1.8 & 92.893 & -46.2 & 1.281 & 5099.1 & 0\\\\\n",
       "\t 21812 & 49 & blue-collar  & married  & unknown             & unknown & yes     & no      & telephone & may & ⋯ & 1 & 999 & 0 & nonexistent &  1.1 & 93.994 & -36.4 & 4.856 & 5191.0 & 0\\\\\n",
       "\t 39895 & 45 & technician   & single   & professional.course & no      & no      & no      & telephone & may & ⋯ & 2 & 999 & 0 & nonexistent &  1.1 & 93.994 & -36.4 & 4.856 & 5191.0 & 0\\\\\n",
       "\t  9326 & 33 & blue-collar  & single   & basic.9y            & unknown & yes     & no      & telephone & jun & ⋯ & 4 & 999 & 0 & nonexistent &  1.4 & 94.465 & -41.8 & 4.865 & 5228.1 & 0\\\\\n",
       "\t 26510 & 34 & management   & single   & university.degree   & no      & unknown & unknown & telephone & nov & ⋯ & 5 & 999 & 0 & nonexistent & -0.1 & 93.200 & -42.0 & 4.021 & 5195.8 & 0\\\\\n",
       "\t 20960 & 57 & retired      & married  & university.degree   & no      & yes     & no      & telephone & may & ⋯ & 1 & 999 & 0 & nonexistent &  1.1 & 93.994 & -36.4 & 4.856 & 5191.0 & 0\\\\\n",
       "\t 14403 & 50 & technician   & single   & professional.course & no      & no      & yes     & cellular  & jul & ⋯ & 8 & 999 & 0 & nonexistent &  1.4 & 93.918 & -42.7 & 4.962 & 5228.1 & 0\\\\\n",
       "\t 28799 & 49 & housemaid    & married  & university.degree   & no      & yes     & no      & cellular  & aug & ⋯ & 2 & 999 & 0 & nonexistent &  1.4 & 93.444 & -36.1 & 4.967 & 5228.1 & 0\\\\\n",
       "\t ⋮ & ⋮ & ⋮ & ⋮ & ⋮ & ⋮ & ⋮ & ⋮ & ⋮ & ⋮ & ⋱ & ⋮ & ⋮ & ⋮ & ⋮ & ⋮ & ⋮ & ⋮ & ⋮ & ⋮ & ⋮\\\\\n",
       "\t  3036 & 33 & self-employed & married  & university.degree   & no      & no      & no      & cellular  & aug & ⋯ &  3 & 999 &  0 & nonexistent &  1.4 & 93.444 & -36.1 & 4.965 & 5228.1 & 0\\\\\n",
       "\t 19102 & 31 & admin.        & single   & university.degree   & unknown & yes     & no      & cellular  & aug & ⋯ &  1 & 999 &  0 & nonexistent &  1.4 & 93.444 & -36.1 & 4.964 & 5228.1 & 0\\\\\n",
       "\t 37729 & 46 & technician    & married  & professional.course & no      & no      & no      & telephone & may & ⋯ &  1 & 999 &  0 & nonexistent &  1.1 & 93.994 & -36.4 & 4.860 & 5191.0 & 0\\\\\n",
       "\t 20186 & 50 & self-employed & married  & unknown             & no      & unknown & unknown & cellular  & jul & ⋯ &  2 & 999 &  0 & nonexistent & -2.9 & 92.469 & -33.6 & 0.914 & 5076.2 & 0\\\\\n",
       "\t 38059 & 43 & admin.        & divorced & university.degree   & unknown & no      & no      & cellular  & aug & ⋯ &  2 & 999 &  0 & nonexistent &  1.4 & 93.444 & -36.1 & 4.966 & 5228.1 & 0\\\\\n",
       "\t  8099 & 32 & technician    & divorced & professional.course & no      & no      & no      & cellular  & nov & ⋯ &  1 & 999 &  0 & nonexistent & -0.1 & 93.200 & -42.0 & 4.153 & 5195.8 & 0\\\\\n",
       "\t 15178 & 37 & housemaid     & married  & basic.4y            & unknown & no      & yes     & cellular  & aug & ⋯ &  2 & 999 &  0 & nonexistent &  1.4 & 93.444 & -36.1 & 4.965 & 5228.1 & 0\\\\\n",
       "\t 18920 & 47 & technician    & divorced & high.school         & no      & yes     & no      & telephone & jun & ⋯ &  2 & 999 & NA & nonexistent &  1.4 & 94.465 & -41.8 & 4.865 & 5228.1 & 0\\\\\n",
       "\t 19757 & 31 & admin.        & single   & university.degree   & no      & yes     & no      & cellular  & aug & ⋯ &  1 & 999 &  0 & nonexistent &  1.4 & 93.444 & -36.1 & 4.965 & 5228.1 & 0\\\\\n",
       "\t  9327 & 31 & admin.        & single   & university.degree   & unknown & no      & yes     & cellular  & aug & ⋯ &  1 & 999 &  0 & nonexistent &  1.4 & 93.444 & -36.1 & 4.968 & 5228.1 & 0\\\\\n",
       "\t 16641 & 51 & technician    & married  & professional.course & no      & yes     & no      & cellular  & oct & ⋯ &  6 &   6 &  3 & failure     & -3.4 & 92.431 & -26.9 & 0.754 & 5017.5 & 0\\\\\n",
       "\t  9656 & 30 & admin.        & married  & university.degree   & no      & yes     & no      & cellular  & aug & ⋯ &  3 & 999 &  0 & nonexistent &  1.4 & 93.444 & -36.1 & 4.963 & 5228.1 & 0\\\\\n",
       "\t 37330 & 42 & technician    & married  & professional.course & unknown & yes     & no      & telephone & may & ⋯ &  3 & 999 &  0 & nonexistent &  1.1 & 93.994 & -36.4 & 4.864 & 5191.0 & 0\\\\\n",
       "\t 34568 & 32 & blue-collar   & married  & basic.6y            & no      & yes     & no      & telephone & may & ⋯ &  3 & 999 &  0 & nonexistent &  1.1 & 93.994 & -36.4 & 4.860 & 5191.0 & 0\\\\\n",
       "\t 23095 & 41 & blue-collar   & married  & basic.6y            & no      & yes     & no      & cellular  & jul & ⋯ &  3 & 999 &  0 & nonexistent &  1.4 & 93.918 & -42.7 & 4.968 & 5228.1 & 0\\\\\n",
       "\t 25383 & 48 & admin.        & divorced & high.school         & no      & no      & yes     & telephone & may & ⋯ &  2 & 999 &  0 & nonexistent &  1.1 & 93.994 & -36.4 & 4.856 & 5191.0 & 0\\\\\n",
       "\t 16918 & 31 & admin.        & NA       & university.degree   & no      & yes     & yes     & cellular  & sep & ⋯ &  1 & 999 &  0 & nonexistent & -1.1 & 94.199 & -37.5 & 0.877 & 4963.6 & 1\\\\\n",
       "\t  4245 & 35 & blue-collar   & single   & unknown             & no      & yes     & no      & telephone & jul & ⋯ & NA & 999 &  0 & nonexistent &  1.4 & 93.918 & -42.7 & 4.960 & 5228.1 & 0\\\\\n",
       "\t 21920 & 39 & blue-collar   & married  & basic.4y            & unknown & yes     & no      & telephone & may & ⋯ &  1 & 999 &  0 & nonexistent &  1.1 &     NA & -36.4 & 4.859 & 5191.0 & 0\\\\\n",
       "\t 29000 & 21 & student       & single   & high.school         & no      & no      & no      & cellular  & oct & ⋯ &  1 & 999 &  0 & nonexistent & -3.4 & 92.431 &    NA & 0.728 & 5017.5 & 1\\\\\n",
       "\t  6627 & 28 & admin.        & single   & university.degree   & no      & yes     & no      & cellular  & sep & ⋯ &  1 &   1 &  3 & success     & -3.4 & 92.379 & -29.8 & 0.773 & 5017.5 & 1\\\\\n",
       "\t 35702 & 29 & admin.        & single   & university.degree   & no      & yes     & no      & cellular  & aug & ⋯ &  1 & 999 &  0 & nonexistent &  1.4 & 93.444 & -36.1 & 4.963 & 5228.1 & 0\\\\\n",
       "\t 38555 & 49 & services      & married  & basic.4y            & unknown & no      & no      & cellular  & aug & ⋯ &  2 & 999 &  0 & nonexistent &  1.4 & 93.444 & -36.1 & 4.963 & 5228.1 & 1\\\\\n",
       "\t 23289 & 38 & blue-collar   & divorced & high.school         & no      & yes     & no      & cellular  & may & ⋯ &  6 & 999 &  1 & failure     & -1.8 & 92.893 & -46.2 & 1.344 & 5099.1 & 0\\\\\n",
       "\t  2969 & 36 & blue-collar   & single   & high.school         & no      & yes     & no      & cellular  & jul & ⋯ & 24 & 999 &  0 & nonexistent &  1.4 & 93.918 & -42.7 & 4.968 & 5228.1 & 0\\\\\n",
       "\t 13724 & 45 & unknown       & unknown  & unknown             & no      & yes     & yes     & cellular  & jul & ⋯ &  1 & 999 &  0 & nonexistent &  1.4 & 93.918 & -42.7 & 4.957 & 5228.1 & 1\\\\\n",
       "\t 29863 & 26 & admin.        & single   & university.degree   & no      & yes     & no      & cellular  & may & ⋯ &  2 & 999 &  1 & failure     & -1.8 & 92.893 & -46.2 & 1.299 & 5099.1 & 0\\\\\n",
       "\t  9841 & 33 & admin.        & married  & high.school         & no      & yes     & yes     & cellular  & may & ⋯ &  1 & 999 &  1 & failure     & -1.8 & 92.893 & -46.2 & 1.299 & 5099.1 & 0\\\\\n",
       "\t 36432 & 43 & admin.        & married  & high.school         & no      & yes     & no      & telephone & jul & ⋯ & 10 & 999 &  0 & nonexistent &  1.4 & 93.918 & -42.7 & 4.960 & 5228.1 & 0\\\\\n",
       "\t 15639 & 55 & blue-collar   & married  & basic.9y            & no      & yes     & yes     & cellular  & aug & ⋯ &  3 & 999 &  0 & nonexistent &  1.4 & 93.444 & -36.1 & 4.963 & 5228.1 & 0\\\\\n",
       "\\end{tabular}\n"
      ],
      "text/markdown": [
       "\n",
       "A data.frame: 20000 × 21\n",
       "\n",
       "| client_id &lt;int&gt; | age &lt;int&gt; | job &lt;chr&gt; | marital &lt;chr&gt; | education &lt;chr&gt; | default &lt;chr&gt; | housing &lt;chr&gt; | loan &lt;chr&gt; | contact &lt;chr&gt; | month &lt;chr&gt; | ⋯ ⋯ | campaign &lt;int&gt; | pdays &lt;int&gt; | previous &lt;int&gt; | poutcome &lt;chr&gt; | emp.var.rate &lt;dbl&gt; | cons.price.idx &lt;dbl&gt; | cons.conf.idx &lt;dbl&gt; | euribor3m &lt;dbl&gt; | nr.employed &lt;dbl&gt; | subscribe &lt;int&gt; |\n",
       "|---|---|---|---|---|---|---|---|---|---|---|---|---|---|---|---|---|---|---|---|---|\n",
       "| 29925 | 42 | management   | married  | basic.9y            | no      | no      | no      | cellular  | jul | ⋯ | 1 | 999 | 0 | nonexistent |  1.4 | 93.918 | -42.7 | 4.968 | 5228.1 | 0 |\n",
       "| 37529 | 35 | unemployed   | married  | university.degree   | no      | yes     | no      | telephone | jun | ⋯ | 4 | 999 | 0 | nonexistent |  1.4 | 94.465 | -41.8 | 4.960 | 5228.1 | 0 |\n",
       "|  2757 | 44 | technician   | married  | basic.9y            | no      | yes     | yes     | cellular  | may | ⋯ | 1 | 999 | 0 | nonexistent | -1.8 | 92.893 | -46.2 | 1.264 | 5099.1 | 0 |\n",
       "|  9642 | 45 | services     | married  | high.school         | no      | yes     | no      | cellular  | apr | ⋯ | 1 | 999 | 0 | nonexistent | -1.8 | 93.075 | -47.1 | 1.453 | 5099.1 | 0 |\n",
       "| 14183 | 45 | unknown      | married  | unknown             | unknown | unknown | unknown | telephone | may | ⋯ | 1 | 999 | 0 | nonexistent |  1.1 | 93.994 | -36.4 | 4.859 | 5191.0 | 0 |\n",
       "| 15180 | 38 | technician   | married  | professional.course | no      | no      | no      | telephone | may | ⋯ | 2 | 999 | 0 | nonexistent |  1.1 | 93.994 | -36.4 | 4.858 | 5191.0 | 0 |\n",
       "| 27168 | 33 | technician   | married  | professional.course | no      | no      | yes     | cellular  | apr | ⋯ | 1 |  NA | 1 | failure     | -1.8 | 93.075 | -47.1 | 1.405 | 5099.1 | 1 |\n",
       "|  9097 | 38 | blue-collar  | single   | basic.9y            | unknown | yes     | no      | telephone | may | ⋯ | 1 | 999 | 0 | nonexistent |  1.1 | 93.994 | -36.4 | 4.857 | 5191.0 | 0 |\n",
       "| 30538 | 29 | blue-collar  | single   | unknown             | no      | yes     | no      | cellular  | may | ⋯ | 1 | 999 | 1 | failure     | -1.8 | 92.893 | -46.2 | 1.250 | 5099.1 | 0 |\n",
       "| 28981 | 34 | admin.       | divorced | university.degree   | no      | yes     | yes     | cellular  | aug | ⋯ | 1 | 999 | 0 | nonexistent |  1.4 | 93.444 | -36.1 | 4.965 | 5228.1 | 0 |\n",
       "|  7989 | 47 | blue-collar  | married  | high.school         | unknown | yes     | no      | telephone | jun | ⋯ | 3 | 999 | 0 | nonexistent |  1.4 | 94.465 | -41.8 | 4.961 | 5228.1 | 0 |\n",
       "| 13536 | 30 | blue-collar  | single   | basic.9y            | no      | yes     | no      | cellular  | jul | ⋯ | 1 | 999 | 0 | nonexistent |  1.4 | 93.918 | -42.7 | 4.963 | 5228.1 | 0 |\n",
       "| 24541 | 30 | admin.       | married  | basic.6y            | no      | yes     | no      | cellular  | jul | ⋯ | 1 | 999 | 0 | nonexistent |  1.4 | 93.918 | -42.7 | 4.958 | 5228.1 | 0 |\n",
       "|  6216 | 35 | services     | married  | basic.6y            | unknown | yes     | no      | cellular  | may | ⋯ | 2 | 999 | 0 | nonexistent | -1.8 | 92.893 | -46.2 | 1.344 | 5099.1 | 0 |\n",
       "| 17983 | 45 | management   | married  | professional.course | no      | no      | no      | cellular  | nov | ⋯ | 1 | 999 | 0 | nonexistent | -0.1 | 93.200 | -42.0 | 4.076 | 5195.8 | 1 |\n",
       "| 29394 | 37 | entrepreneur | married  | university.degree   | unknown | yes     | no      | cellular  | nov | ⋯ | 2 | 999 | 1 | failure     | -0.1 | 93.200 | -42.0 | 4.191 | 5195.8 | 0 |\n",
       "| 28825 | 48 | blue-collar  | married  | basic.6y            | no      | no      | no      | telephone | jun | ⋯ | 2 | 999 | 0 | nonexistent |  1.4 | 94.465 | -41.8 | 4.866 | 5228.1 | 0 |\n",
       "|    41 | 47 | admin.       | married  | basic.6y            | unknown | yes     | no      | cellular  | apr | ⋯ | 2 | 999 | 1 | failure     | -1.8 | 93.075 | -47.1 | 1.410 | 5099.1 | 0 |\n",
       "|  7284 | 35 | blue-collar  | married  | basic.9y            | no      | yes     | no      | telephone | may | ⋯ | 1 | 999 | 0 | nonexistent |  1.1 | 93.994 | -36.4 | 4.858 | 5191.0 | 0 |\n",
       "| 28502 | 34 | technician   | married  | professional.course | no      | no      | no      | cellular  | apr | ⋯ | 3 | 999 | 0 | nonexistent | -1.8 | 93.075 | -47.1 | 1.405 | 5099.1 | 0 |\n",
       "| 11473 | 60 | technician   | married  | university.degree   | unknown | yes     | no      | telephone | may | ⋯ | 5 | 999 | 0 | nonexistent |  1.1 | 93.994 | -36.4 | 4.855 | 5191.0 | 0 |\n",
       "|  6134 | 35 | services     | single   | high.school         | no      | no      | no      | cellular  | may | ⋯ | 2 | 999 | 1 | failure     | -1.8 | 92.893 | -46.2 | 1.334 | 5099.1 | 0 |\n",
       "| 33523 | 32 | technician   | married  | university.degree   | no      | yes     | no      | cellular  | may | ⋯ | 1 | 999 | 0 | nonexistent | -1.8 | 92.893 | -46.2 | 1.281 | 5099.1 | 0 |\n",
       "| 21812 | 49 | blue-collar  | married  | unknown             | unknown | yes     | no      | telephone | may | ⋯ | 1 | 999 | 0 | nonexistent |  1.1 | 93.994 | -36.4 | 4.856 | 5191.0 | 0 |\n",
       "| 39895 | 45 | technician   | single   | professional.course | no      | no      | no      | telephone | may | ⋯ | 2 | 999 | 0 | nonexistent |  1.1 | 93.994 | -36.4 | 4.856 | 5191.0 | 0 |\n",
       "|  9326 | 33 | blue-collar  | single   | basic.9y            | unknown | yes     | no      | telephone | jun | ⋯ | 4 | 999 | 0 | nonexistent |  1.4 | 94.465 | -41.8 | 4.865 | 5228.1 | 0 |\n",
       "| 26510 | 34 | management   | single   | university.degree   | no      | unknown | unknown | telephone | nov | ⋯ | 5 | 999 | 0 | nonexistent | -0.1 | 93.200 | -42.0 | 4.021 | 5195.8 | 0 |\n",
       "| 20960 | 57 | retired      | married  | university.degree   | no      | yes     | no      | telephone | may | ⋯ | 1 | 999 | 0 | nonexistent |  1.1 | 93.994 | -36.4 | 4.856 | 5191.0 | 0 |\n",
       "| 14403 | 50 | technician   | single   | professional.course | no      | no      | yes     | cellular  | jul | ⋯ | 8 | 999 | 0 | nonexistent |  1.4 | 93.918 | -42.7 | 4.962 | 5228.1 | 0 |\n",
       "| 28799 | 49 | housemaid    | married  | university.degree   | no      | yes     | no      | cellular  | aug | ⋯ | 2 | 999 | 0 | nonexistent |  1.4 | 93.444 | -36.1 | 4.967 | 5228.1 | 0 |\n",
       "| ⋮ | ⋮ | ⋮ | ⋮ | ⋮ | ⋮ | ⋮ | ⋮ | ⋮ | ⋮ | ⋱ | ⋮ | ⋮ | ⋮ | ⋮ | ⋮ | ⋮ | ⋮ | ⋮ | ⋮ | ⋮ |\n",
       "|  3036 | 33 | self-employed | married  | university.degree   | no      | no      | no      | cellular  | aug | ⋯ |  3 | 999 |  0 | nonexistent |  1.4 | 93.444 | -36.1 | 4.965 | 5228.1 | 0 |\n",
       "| 19102 | 31 | admin.        | single   | university.degree   | unknown | yes     | no      | cellular  | aug | ⋯ |  1 | 999 |  0 | nonexistent |  1.4 | 93.444 | -36.1 | 4.964 | 5228.1 | 0 |\n",
       "| 37729 | 46 | technician    | married  | professional.course | no      | no      | no      | telephone | may | ⋯ |  1 | 999 |  0 | nonexistent |  1.1 | 93.994 | -36.4 | 4.860 | 5191.0 | 0 |\n",
       "| 20186 | 50 | self-employed | married  | unknown             | no      | unknown | unknown | cellular  | jul | ⋯ |  2 | 999 |  0 | nonexistent | -2.9 | 92.469 | -33.6 | 0.914 | 5076.2 | 0 |\n",
       "| 38059 | 43 | admin.        | divorced | university.degree   | unknown | no      | no      | cellular  | aug | ⋯ |  2 | 999 |  0 | nonexistent |  1.4 | 93.444 | -36.1 | 4.966 | 5228.1 | 0 |\n",
       "|  8099 | 32 | technician    | divorced | professional.course | no      | no      | no      | cellular  | nov | ⋯ |  1 | 999 |  0 | nonexistent | -0.1 | 93.200 | -42.0 | 4.153 | 5195.8 | 0 |\n",
       "| 15178 | 37 | housemaid     | married  | basic.4y            | unknown | no      | yes     | cellular  | aug | ⋯ |  2 | 999 |  0 | nonexistent |  1.4 | 93.444 | -36.1 | 4.965 | 5228.1 | 0 |\n",
       "| 18920 | 47 | technician    | divorced | high.school         | no      | yes     | no      | telephone | jun | ⋯ |  2 | 999 | NA | nonexistent |  1.4 | 94.465 | -41.8 | 4.865 | 5228.1 | 0 |\n",
       "| 19757 | 31 | admin.        | single   | university.degree   | no      | yes     | no      | cellular  | aug | ⋯ |  1 | 999 |  0 | nonexistent |  1.4 | 93.444 | -36.1 | 4.965 | 5228.1 | 0 |\n",
       "|  9327 | 31 | admin.        | single   | university.degree   | unknown | no      | yes     | cellular  | aug | ⋯ |  1 | 999 |  0 | nonexistent |  1.4 | 93.444 | -36.1 | 4.968 | 5228.1 | 0 |\n",
       "| 16641 | 51 | technician    | married  | professional.course | no      | yes     | no      | cellular  | oct | ⋯ |  6 |   6 |  3 | failure     | -3.4 | 92.431 | -26.9 | 0.754 | 5017.5 | 0 |\n",
       "|  9656 | 30 | admin.        | married  | university.degree   | no      | yes     | no      | cellular  | aug | ⋯ |  3 | 999 |  0 | nonexistent |  1.4 | 93.444 | -36.1 | 4.963 | 5228.1 | 0 |\n",
       "| 37330 | 42 | technician    | married  | professional.course | unknown | yes     | no      | telephone | may | ⋯ |  3 | 999 |  0 | nonexistent |  1.1 | 93.994 | -36.4 | 4.864 | 5191.0 | 0 |\n",
       "| 34568 | 32 | blue-collar   | married  | basic.6y            | no      | yes     | no      | telephone | may | ⋯ |  3 | 999 |  0 | nonexistent |  1.1 | 93.994 | -36.4 | 4.860 | 5191.0 | 0 |\n",
       "| 23095 | 41 | blue-collar   | married  | basic.6y            | no      | yes     | no      | cellular  | jul | ⋯ |  3 | 999 |  0 | nonexistent |  1.4 | 93.918 | -42.7 | 4.968 | 5228.1 | 0 |\n",
       "| 25383 | 48 | admin.        | divorced | high.school         | no      | no      | yes     | telephone | may | ⋯ |  2 | 999 |  0 | nonexistent |  1.1 | 93.994 | -36.4 | 4.856 | 5191.0 | 0 |\n",
       "| 16918 | 31 | admin.        | NA       | university.degree   | no      | yes     | yes     | cellular  | sep | ⋯ |  1 | 999 |  0 | nonexistent | -1.1 | 94.199 | -37.5 | 0.877 | 4963.6 | 1 |\n",
       "|  4245 | 35 | blue-collar   | single   | unknown             | no      | yes     | no      | telephone | jul | ⋯ | NA | 999 |  0 | nonexistent |  1.4 | 93.918 | -42.7 | 4.960 | 5228.1 | 0 |\n",
       "| 21920 | 39 | blue-collar   | married  | basic.4y            | unknown | yes     | no      | telephone | may | ⋯ |  1 | 999 |  0 | nonexistent |  1.1 |     NA | -36.4 | 4.859 | 5191.0 | 0 |\n",
       "| 29000 | 21 | student       | single   | high.school         | no      | no      | no      | cellular  | oct | ⋯ |  1 | 999 |  0 | nonexistent | -3.4 | 92.431 |    NA | 0.728 | 5017.5 | 1 |\n",
       "|  6627 | 28 | admin.        | single   | university.degree   | no      | yes     | no      | cellular  | sep | ⋯ |  1 |   1 |  3 | success     | -3.4 | 92.379 | -29.8 | 0.773 | 5017.5 | 1 |\n",
       "| 35702 | 29 | admin.        | single   | university.degree   | no      | yes     | no      | cellular  | aug | ⋯ |  1 | 999 |  0 | nonexistent |  1.4 | 93.444 | -36.1 | 4.963 | 5228.1 | 0 |\n",
       "| 38555 | 49 | services      | married  | basic.4y            | unknown | no      | no      | cellular  | aug | ⋯ |  2 | 999 |  0 | nonexistent |  1.4 | 93.444 | -36.1 | 4.963 | 5228.1 | 1 |\n",
       "| 23289 | 38 | blue-collar   | divorced | high.school         | no      | yes     | no      | cellular  | may | ⋯ |  6 | 999 |  1 | failure     | -1.8 | 92.893 | -46.2 | 1.344 | 5099.1 | 0 |\n",
       "|  2969 | 36 | blue-collar   | single   | high.school         | no      | yes     | no      | cellular  | jul | ⋯ | 24 | 999 |  0 | nonexistent |  1.4 | 93.918 | -42.7 | 4.968 | 5228.1 | 0 |\n",
       "| 13724 | 45 | unknown       | unknown  | unknown             | no      | yes     | yes     | cellular  | jul | ⋯ |  1 | 999 |  0 | nonexistent |  1.4 | 93.918 | -42.7 | 4.957 | 5228.1 | 1 |\n",
       "| 29863 | 26 | admin.        | single   | university.degree   | no      | yes     | no      | cellular  | may | ⋯ |  2 | 999 |  1 | failure     | -1.8 | 92.893 | -46.2 | 1.299 | 5099.1 | 0 |\n",
       "|  9841 | 33 | admin.        | married  | high.school         | no      | yes     | yes     | cellular  | may | ⋯ |  1 | 999 |  1 | failure     | -1.8 | 92.893 | -46.2 | 1.299 | 5099.1 | 0 |\n",
       "| 36432 | 43 | admin.        | married  | high.school         | no      | yes     | no      | telephone | jul | ⋯ | 10 | 999 |  0 | nonexistent |  1.4 | 93.918 | -42.7 | 4.960 | 5228.1 | 0 |\n",
       "| 15639 | 55 | blue-collar   | married  | basic.9y            | no      | yes     | yes     | cellular  | aug | ⋯ |  3 | 999 |  0 | nonexistent |  1.4 | 93.444 | -36.1 | 4.963 | 5228.1 | 0 |\n",
       "\n"
      ],
      "text/plain": [
       "      client_id age job           marital  education           default housing\n",
       "1     29925     42  management    married  basic.9y            no      no     \n",
       "2     37529     35  unemployed    married  university.degree   no      yes    \n",
       "3      2757     44  technician    married  basic.9y            no      yes    \n",
       "4      9642     45  services      married  high.school         no      yes    \n",
       "5     14183     45  unknown       married  unknown             unknown unknown\n",
       "6     15180     38  technician    married  professional.course no      no     \n",
       "7     27168     33  technician    married  professional.course no      no     \n",
       "8      9097     38  blue-collar   single   basic.9y            unknown yes    \n",
       "9     30538     29  blue-collar   single   unknown             no      yes    \n",
       "10    28981     34  admin.        divorced university.degree   no      yes    \n",
       "11     7989     47  blue-collar   married  high.school         unknown yes    \n",
       "12    13536     30  blue-collar   single   basic.9y            no      yes    \n",
       "13    24541     30  admin.        married  basic.6y            no      yes    \n",
       "14     6216     35  services      married  basic.6y            unknown yes    \n",
       "15    17983     45  management    married  professional.course no      no     \n",
       "16    29394     37  entrepreneur  married  university.degree   unknown yes    \n",
       "17    28825     48  blue-collar   married  basic.6y            no      no     \n",
       "18       41     47  admin.        married  basic.6y            unknown yes    \n",
       "19     7284     35  blue-collar   married  basic.9y            no      yes    \n",
       "20    28502     34  technician    married  professional.course no      no     \n",
       "21    11473     60  technician    married  university.degree   unknown yes    \n",
       "22     6134     35  services      single   high.school         no      no     \n",
       "23    33523     32  technician    married  university.degree   no      yes    \n",
       "24    21812     49  blue-collar   married  unknown             unknown yes    \n",
       "25    39895     45  technician    single   professional.course no      no     \n",
       "26     9326     33  blue-collar   single   basic.9y            unknown yes    \n",
       "27    26510     34  management    single   university.degree   no      unknown\n",
       "28    20960     57  retired       married  university.degree   no      yes    \n",
       "29    14403     50  technician    single   professional.course no      no     \n",
       "30    28799     49  housemaid     married  university.degree   no      yes    \n",
       "<U+22EE>     <U+22EE>  <U+22EE> <U+22EE>      <U+22EE> <U+22EE>            <U+22EE> <U+22EE>\n",
       "19971  3036     33  self-employed married  university.degree   no      no     \n",
       "19972 19102     31  admin.        single   university.degree   unknown yes    \n",
       "19973 37729     46  technician    married  professional.course no      no     \n",
       "19974 20186     50  self-employed married  unknown             no      unknown\n",
       "19975 38059     43  admin.        divorced university.degree   unknown no     \n",
       "19976  8099     32  technician    divorced professional.course no      no     \n",
       "19977 15178     37  housemaid     married  basic.4y            unknown no     \n",
       "19978 18920     47  technician    divorced high.school         no      yes    \n",
       "19979 19757     31  admin.        single   university.degree   no      yes    \n",
       "19980  9327     31  admin.        single   university.degree   unknown no     \n",
       "19981 16641     51  technician    married  professional.course no      yes    \n",
       "19982  9656     30  admin.        married  university.degree   no      yes    \n",
       "19983 37330     42  technician    married  professional.course unknown yes    \n",
       "19984 34568     32  blue-collar   married  basic.6y            no      yes    \n",
       "19985 23095     41  blue-collar   married  basic.6y            no      yes    \n",
       "19986 25383     48  admin.        divorced high.school         no      no     \n",
       "19987 16918     31  admin.        NA       university.degree   no      yes    \n",
       "19988  4245     35  blue-collar   single   unknown             no      yes    \n",
       "19989 21920     39  blue-collar   married  basic.4y            unknown yes    \n",
       "19990 29000     21  student       single   high.school         no      no     \n",
       "19991  6627     28  admin.        single   university.degree   no      yes    \n",
       "19992 35702     29  admin.        single   university.degree   no      yes    \n",
       "19993 38555     49  services      married  basic.4y            unknown no     \n",
       "19994 23289     38  blue-collar   divorced high.school         no      yes    \n",
       "19995  2969     36  blue-collar   single   high.school         no      yes    \n",
       "19996 13724     45  unknown       unknown  unknown             no      yes    \n",
       "19997 29863     26  admin.        single   university.degree   no      yes    \n",
       "19998  9841     33  admin.        married  high.school         no      yes    \n",
       "19999 36432     43  admin.        married  high.school         no      yes    \n",
       "20000 15639     55  blue-collar   married  basic.9y            no      yes    \n",
       "      loan    contact   month <U+22EF>        campaign pdays previous poutcome   \n",
       "1     no      cellular  jul   <U+22EF> 1        999   0        nonexistent\n",
       "2     no      telephone jun   <U+22EF> 4        999   0        nonexistent\n",
       "3     yes     cellular  may   <U+22EF> 1        999   0        nonexistent\n",
       "4     no      cellular  apr   <U+22EF> 1        999   0        nonexistent\n",
       "5     unknown telephone may   <U+22EF> 1        999   0        nonexistent\n",
       "6     no      telephone may   <U+22EF> 2        999   0        nonexistent\n",
       "7     yes     cellular  apr   <U+22EF> 1         NA   1        failure    \n",
       "8     no      telephone may   <U+22EF> 1        999   0        nonexistent\n",
       "9     no      cellular  may   <U+22EF> 1        999   1        failure    \n",
       "10    yes     cellular  aug   <U+22EF> 1        999   0        nonexistent\n",
       "11    no      telephone jun   <U+22EF> 3        999   0        nonexistent\n",
       "12    no      cellular  jul   <U+22EF> 1        999   0        nonexistent\n",
       "13    no      cellular  jul   <U+22EF> 1        999   0        nonexistent\n",
       "14    no      cellular  may   <U+22EF> 2        999   0        nonexistent\n",
       "15    no      cellular  nov   <U+22EF> 1        999   0        nonexistent\n",
       "16    no      cellular  nov   <U+22EF> 2        999   1        failure    \n",
       "17    no      telephone jun   <U+22EF> 2        999   0        nonexistent\n",
       "18    no      cellular  apr   <U+22EF> 2        999   1        failure    \n",
       "19    no      telephone may   <U+22EF> 1        999   0        nonexistent\n",
       "20    no      cellular  apr   <U+22EF> 3        999   0        nonexistent\n",
       "21    no      telephone may   <U+22EF> 5        999   0        nonexistent\n",
       "22    no      cellular  may   <U+22EF> 2        999   1        failure    \n",
       "23    no      cellular  may   <U+22EF> 1        999   0        nonexistent\n",
       "24    no      telephone may   <U+22EF> 1        999   0        nonexistent\n",
       "25    no      telephone may   <U+22EF> 2        999   0        nonexistent\n",
       "26    no      telephone jun   <U+22EF> 4        999   0        nonexistent\n",
       "27    unknown telephone nov   <U+22EF> 5        999   0        nonexistent\n",
       "28    no      telephone may   <U+22EF> 1        999   0        nonexistent\n",
       "29    yes     cellular  jul   <U+22EF> 8        999   0        nonexistent\n",
       "30    no      cellular  aug   <U+22EF> 2        999   0        nonexistent\n",
       "<U+22EE>     <U+22EE> <U+22EE>  <U+22EE> <U+22F1> <U+22EE> <U+22EE> <U+22EE> <U+22EE>   \n",
       "19971 no      cellular  aug   <U+22EF>  3       999    0       nonexistent\n",
       "19972 no      cellular  aug   <U+22EF>  1       999    0       nonexistent\n",
       "19973 no      telephone may   <U+22EF>  1       999    0       nonexistent\n",
       "19974 unknown cellular  jul   <U+22EF>  2       999    0       nonexistent\n",
       "19975 no      cellular  aug   <U+22EF>  2       999    0       nonexistent\n",
       "19976 no      cellular  nov   <U+22EF>  1       999    0       nonexistent\n",
       "19977 yes     cellular  aug   <U+22EF>  2       999    0       nonexistent\n",
       "19978 no      telephone jun   <U+22EF>  2       999   NA       nonexistent\n",
       "19979 no      cellular  aug   <U+22EF>  1       999    0       nonexistent\n",
       "19980 yes     cellular  aug   <U+22EF>  1       999    0       nonexistent\n",
       "19981 no      cellular  oct   <U+22EF>  6         6    3       failure    \n",
       "19982 no      cellular  aug   <U+22EF>  3       999    0       nonexistent\n",
       "19983 no      telephone may   <U+22EF>  3       999    0       nonexistent\n",
       "19984 no      telephone may   <U+22EF>  3       999    0       nonexistent\n",
       "19985 no      cellular  jul   <U+22EF>  3       999    0       nonexistent\n",
       "19986 yes     telephone may   <U+22EF>  2       999    0       nonexistent\n",
       "19987 yes     cellular  sep   <U+22EF>  1       999    0       nonexistent\n",
       "19988 no      telephone jul   <U+22EF> NA       999    0       nonexistent\n",
       "19989 no      telephone may   <U+22EF>  1       999    0       nonexistent\n",
       "19990 no      cellular  oct   <U+22EF>  1       999    0       nonexistent\n",
       "19991 no      cellular  sep   <U+22EF>  1         1    3       success    \n",
       "19992 no      cellular  aug   <U+22EF>  1       999    0       nonexistent\n",
       "19993 no      cellular  aug   <U+22EF>  2       999    0       nonexistent\n",
       "19994 no      cellular  may   <U+22EF>  6       999    1       failure    \n",
       "19995 no      cellular  jul   <U+22EF> 24       999    0       nonexistent\n",
       "19996 yes     cellular  jul   <U+22EF>  1       999    0       nonexistent\n",
       "19997 no      cellular  may   <U+22EF>  2       999    1       failure    \n",
       "19998 yes     cellular  may   <U+22EF>  1       999    1       failure    \n",
       "19999 no      telephone jul   <U+22EF> 10       999    0       nonexistent\n",
       "20000 yes     cellular  aug   <U+22EF>  3       999    0       nonexistent\n",
       "      emp.var.rate cons.price.idx cons.conf.idx euribor3m nr.employed subscribe\n",
       "1      1.4         93.918         -42.7         4.968     5228.1      0        \n",
       "2      1.4         94.465         -41.8         4.960     5228.1      0        \n",
       "3     -1.8         92.893         -46.2         1.264     5099.1      0        \n",
       "4     -1.8         93.075         -47.1         1.453     5099.1      0        \n",
       "5      1.1         93.994         -36.4         4.859     5191.0      0        \n",
       "6      1.1         93.994         -36.4         4.858     5191.0      0        \n",
       "7     -1.8         93.075         -47.1         1.405     5099.1      1        \n",
       "8      1.1         93.994         -36.4         4.857     5191.0      0        \n",
       "9     -1.8         92.893         -46.2         1.250     5099.1      0        \n",
       "10     1.4         93.444         -36.1         4.965     5228.1      0        \n",
       "11     1.4         94.465         -41.8         4.961     5228.1      0        \n",
       "12     1.4         93.918         -42.7         4.963     5228.1      0        \n",
       "13     1.4         93.918         -42.7         4.958     5228.1      0        \n",
       "14    -1.8         92.893         -46.2         1.344     5099.1      0        \n",
       "15    -0.1         93.200         -42.0         4.076     5195.8      1        \n",
       "16    -0.1         93.200         -42.0         4.191     5195.8      0        \n",
       "17     1.4         94.465         -41.8         4.866     5228.1      0        \n",
       "18    -1.8         93.075         -47.1         1.410     5099.1      0        \n",
       "19     1.1         93.994         -36.4         4.858     5191.0      0        \n",
       "20    -1.8         93.075         -47.1         1.405     5099.1      0        \n",
       "21     1.1         93.994         -36.4         4.855     5191.0      0        \n",
       "22    -1.8         92.893         -46.2         1.334     5099.1      0        \n",
       "23    -1.8         92.893         -46.2         1.281     5099.1      0        \n",
       "24     1.1         93.994         -36.4         4.856     5191.0      0        \n",
       "25     1.1         93.994         -36.4         4.856     5191.0      0        \n",
       "26     1.4         94.465         -41.8         4.865     5228.1      0        \n",
       "27    -0.1         93.200         -42.0         4.021     5195.8      0        \n",
       "28     1.1         93.994         -36.4         4.856     5191.0      0        \n",
       "29     1.4         93.918         -42.7         4.962     5228.1      0        \n",
       "30     1.4         93.444         -36.1         4.967     5228.1      0        \n",
       "<U+22EE>     <U+22EE>     <U+22EE>       <U+22EE>      <U+22EE>  <U+22EE>    <U+22EE> \n",
       "19971  1.4         93.444         -36.1         4.965     5228.1      0        \n",
       "19972  1.4         93.444         -36.1         4.964     5228.1      0        \n",
       "19973  1.1         93.994         -36.4         4.860     5191.0      0        \n",
       "19974 -2.9         92.469         -33.6         0.914     5076.2      0        \n",
       "19975  1.4         93.444         -36.1         4.966     5228.1      0        \n",
       "19976 -0.1         93.200         -42.0         4.153     5195.8      0        \n",
       "19977  1.4         93.444         -36.1         4.965     5228.1      0        \n",
       "19978  1.4         94.465         -41.8         4.865     5228.1      0        \n",
       "19979  1.4         93.444         -36.1         4.965     5228.1      0        \n",
       "19980  1.4         93.444         -36.1         4.968     5228.1      0        \n",
       "19981 -3.4         92.431         -26.9         0.754     5017.5      0        \n",
       "19982  1.4         93.444         -36.1         4.963     5228.1      0        \n",
       "19983  1.1         93.994         -36.4         4.864     5191.0      0        \n",
       "19984  1.1         93.994         -36.4         4.860     5191.0      0        \n",
       "19985  1.4         93.918         -42.7         4.968     5228.1      0        \n",
       "19986  1.1         93.994         -36.4         4.856     5191.0      0        \n",
       "19987 -1.1         94.199         -37.5         0.877     4963.6      1        \n",
       "19988  1.4         93.918         -42.7         4.960     5228.1      0        \n",
       "19989  1.1             NA         -36.4         4.859     5191.0      0        \n",
       "19990 -3.4         92.431            NA         0.728     5017.5      1        \n",
       "19991 -3.4         92.379         -29.8         0.773     5017.5      1        \n",
       "19992  1.4         93.444         -36.1         4.963     5228.1      0        \n",
       "19993  1.4         93.444         -36.1         4.963     5228.1      1        \n",
       "19994 -1.8         92.893         -46.2         1.344     5099.1      0        \n",
       "19995  1.4         93.918         -42.7         4.968     5228.1      0        \n",
       "19996  1.4         93.918         -42.7         4.957     5228.1      1        \n",
       "19997 -1.8         92.893         -46.2         1.299     5099.1      0        \n",
       "19998 -1.8         92.893         -46.2         1.299     5099.1      0        \n",
       "19999  1.4         93.918         -42.7         4.960     5228.1      0        \n",
       "20000  1.4         93.444         -36.1         4.963     5228.1      0        "
      ]
     },
     "metadata": {},
     "output_type": "display_data"
    }
   ],
   "source": [
    "# Reading the bank_mkt_train.csv file\n",
    "bank <- read.csv('C:/Users/omantilla/OneDrive - IESEG/Documents/IESEG/Semester 2/Statical Machine Learning/Individual Project/MANTILLA_Omar_Augusto/Data/bank_mkt_train.csv')\n",
    "bank"
   ]
  },
  {
   "cell_type": "markdown",
   "id": "ddf52fb5",
   "metadata": {},
   "source": [
    "### DATA EXPLORATION"
   ]
  },
  {
   "cell_type": "code",
   "execution_count": 3,
   "id": "6caf68ae",
   "metadata": {
    "scrolled": true
   },
   "outputs": [
    {
     "data": {
      "text/html": [
       "<table class=\"dataframe\">\n",
       "<caption>A data.frame: 20000 × 1</caption>\n",
       "<thead>\n",
       "\t<tr><th></th><th scope=col>client_id</th></tr>\n",
       "\t<tr><th></th><th scope=col>&lt;int&gt;</th></tr>\n",
       "</thead>\n",
       "<tbody>\n",
       "\t<tr><th scope=row>1</th><td>29925</td></tr>\n",
       "\t<tr><th scope=row>2</th><td>37529</td></tr>\n",
       "\t<tr><th scope=row>3</th><td> 2757</td></tr>\n",
       "\t<tr><th scope=row>4</th><td> 9642</td></tr>\n",
       "\t<tr><th scope=row>5</th><td>14183</td></tr>\n",
       "\t<tr><th scope=row>6</th><td>15180</td></tr>\n",
       "\t<tr><th scope=row>7</th><td>27168</td></tr>\n",
       "\t<tr><th scope=row>8</th><td> 9097</td></tr>\n",
       "\t<tr><th scope=row>9</th><td>30538</td></tr>\n",
       "\t<tr><th scope=row>10</th><td>28981</td></tr>\n",
       "\t<tr><th scope=row>11</th><td> 7989</td></tr>\n",
       "\t<tr><th scope=row>12</th><td>13536</td></tr>\n",
       "\t<tr><th scope=row>13</th><td>24541</td></tr>\n",
       "\t<tr><th scope=row>14</th><td> 6216</td></tr>\n",
       "\t<tr><th scope=row>15</th><td>17983</td></tr>\n",
       "\t<tr><th scope=row>16</th><td>29394</td></tr>\n",
       "\t<tr><th scope=row>17</th><td>28825</td></tr>\n",
       "\t<tr><th scope=row>18</th><td>   41</td></tr>\n",
       "\t<tr><th scope=row>19</th><td> 7284</td></tr>\n",
       "\t<tr><th scope=row>20</th><td>28502</td></tr>\n",
       "\t<tr><th scope=row>21</th><td>11473</td></tr>\n",
       "\t<tr><th scope=row>22</th><td> 6134</td></tr>\n",
       "\t<tr><th scope=row>23</th><td>33523</td></tr>\n",
       "\t<tr><th scope=row>24</th><td>21812</td></tr>\n",
       "\t<tr><th scope=row>25</th><td>39895</td></tr>\n",
       "\t<tr><th scope=row>26</th><td> 9326</td></tr>\n",
       "\t<tr><th scope=row>27</th><td>26510</td></tr>\n",
       "\t<tr><th scope=row>28</th><td>20960</td></tr>\n",
       "\t<tr><th scope=row>29</th><td>14403</td></tr>\n",
       "\t<tr><th scope=row>30</th><td>28799</td></tr>\n",
       "\t<tr><th scope=row>⋮</th><td>⋮</td></tr>\n",
       "\t<tr><th scope=row>19971</th><td> 3036</td></tr>\n",
       "\t<tr><th scope=row>19972</th><td>19102</td></tr>\n",
       "\t<tr><th scope=row>19973</th><td>37729</td></tr>\n",
       "\t<tr><th scope=row>19974</th><td>20186</td></tr>\n",
       "\t<tr><th scope=row>19975</th><td>38059</td></tr>\n",
       "\t<tr><th scope=row>19976</th><td> 8099</td></tr>\n",
       "\t<tr><th scope=row>19977</th><td>15178</td></tr>\n",
       "\t<tr><th scope=row>19978</th><td>18920</td></tr>\n",
       "\t<tr><th scope=row>19979</th><td>19757</td></tr>\n",
       "\t<tr><th scope=row>19980</th><td> 9327</td></tr>\n",
       "\t<tr><th scope=row>19981</th><td>16641</td></tr>\n",
       "\t<tr><th scope=row>19982</th><td> 9656</td></tr>\n",
       "\t<tr><th scope=row>19983</th><td>37330</td></tr>\n",
       "\t<tr><th scope=row>19984</th><td>34568</td></tr>\n",
       "\t<tr><th scope=row>19985</th><td>23095</td></tr>\n",
       "\t<tr><th scope=row>19986</th><td>25383</td></tr>\n",
       "\t<tr><th scope=row>19987</th><td>16918</td></tr>\n",
       "\t<tr><th scope=row>19988</th><td> 4245</td></tr>\n",
       "\t<tr><th scope=row>19989</th><td>21920</td></tr>\n",
       "\t<tr><th scope=row>19990</th><td>29000</td></tr>\n",
       "\t<tr><th scope=row>19991</th><td> 6627</td></tr>\n",
       "\t<tr><th scope=row>19992</th><td>35702</td></tr>\n",
       "\t<tr><th scope=row>19993</th><td>38555</td></tr>\n",
       "\t<tr><th scope=row>19994</th><td>23289</td></tr>\n",
       "\t<tr><th scope=row>19995</th><td> 2969</td></tr>\n",
       "\t<tr><th scope=row>19996</th><td>13724</td></tr>\n",
       "\t<tr><th scope=row>19997</th><td>29863</td></tr>\n",
       "\t<tr><th scope=row>19998</th><td> 9841</td></tr>\n",
       "\t<tr><th scope=row>19999</th><td>36432</td></tr>\n",
       "\t<tr><th scope=row>20000</th><td>15639</td></tr>\n",
       "</tbody>\n",
       "</table>\n"
      ],
      "text/latex": [
       "A data.frame: 20000 × 1\n",
       "\\begin{tabular}{r|l}\n",
       "  & client\\_id\\\\\n",
       "  & <int>\\\\\n",
       "\\hline\n",
       "\t1 & 29925\\\\\n",
       "\t2 & 37529\\\\\n",
       "\t3 &  2757\\\\\n",
       "\t4 &  9642\\\\\n",
       "\t5 & 14183\\\\\n",
       "\t6 & 15180\\\\\n",
       "\t7 & 27168\\\\\n",
       "\t8 &  9097\\\\\n",
       "\t9 & 30538\\\\\n",
       "\t10 & 28981\\\\\n",
       "\t11 &  7989\\\\\n",
       "\t12 & 13536\\\\\n",
       "\t13 & 24541\\\\\n",
       "\t14 &  6216\\\\\n",
       "\t15 & 17983\\\\\n",
       "\t16 & 29394\\\\\n",
       "\t17 & 28825\\\\\n",
       "\t18 &    41\\\\\n",
       "\t19 &  7284\\\\\n",
       "\t20 & 28502\\\\\n",
       "\t21 & 11473\\\\\n",
       "\t22 &  6134\\\\\n",
       "\t23 & 33523\\\\\n",
       "\t24 & 21812\\\\\n",
       "\t25 & 39895\\\\\n",
       "\t26 &  9326\\\\\n",
       "\t27 & 26510\\\\\n",
       "\t28 & 20960\\\\\n",
       "\t29 & 14403\\\\\n",
       "\t30 & 28799\\\\\n",
       "\t⋮ & ⋮\\\\\n",
       "\t19971 &  3036\\\\\n",
       "\t19972 & 19102\\\\\n",
       "\t19973 & 37729\\\\\n",
       "\t19974 & 20186\\\\\n",
       "\t19975 & 38059\\\\\n",
       "\t19976 &  8099\\\\\n",
       "\t19977 & 15178\\\\\n",
       "\t19978 & 18920\\\\\n",
       "\t19979 & 19757\\\\\n",
       "\t19980 &  9327\\\\\n",
       "\t19981 & 16641\\\\\n",
       "\t19982 &  9656\\\\\n",
       "\t19983 & 37330\\\\\n",
       "\t19984 & 34568\\\\\n",
       "\t19985 & 23095\\\\\n",
       "\t19986 & 25383\\\\\n",
       "\t19987 & 16918\\\\\n",
       "\t19988 &  4245\\\\\n",
       "\t19989 & 21920\\\\\n",
       "\t19990 & 29000\\\\\n",
       "\t19991 &  6627\\\\\n",
       "\t19992 & 35702\\\\\n",
       "\t19993 & 38555\\\\\n",
       "\t19994 & 23289\\\\\n",
       "\t19995 &  2969\\\\\n",
       "\t19996 & 13724\\\\\n",
       "\t19997 & 29863\\\\\n",
       "\t19998 &  9841\\\\\n",
       "\t19999 & 36432\\\\\n",
       "\t20000 & 15639\\\\\n",
       "\\end{tabular}\n"
      ],
      "text/markdown": [
       "\n",
       "A data.frame: 20000 × 1\n",
       "\n",
       "| <!--/--> | client_id &lt;int&gt; |\n",
       "|---|---|\n",
       "| 1 | 29925 |\n",
       "| 2 | 37529 |\n",
       "| 3 |  2757 |\n",
       "| 4 |  9642 |\n",
       "| 5 | 14183 |\n",
       "| 6 | 15180 |\n",
       "| 7 | 27168 |\n",
       "| 8 |  9097 |\n",
       "| 9 | 30538 |\n",
       "| 10 | 28981 |\n",
       "| 11 |  7989 |\n",
       "| 12 | 13536 |\n",
       "| 13 | 24541 |\n",
       "| 14 |  6216 |\n",
       "| 15 | 17983 |\n",
       "| 16 | 29394 |\n",
       "| 17 | 28825 |\n",
       "| 18 |    41 |\n",
       "| 19 |  7284 |\n",
       "| 20 | 28502 |\n",
       "| 21 | 11473 |\n",
       "| 22 |  6134 |\n",
       "| 23 | 33523 |\n",
       "| 24 | 21812 |\n",
       "| 25 | 39895 |\n",
       "| 26 |  9326 |\n",
       "| 27 | 26510 |\n",
       "| 28 | 20960 |\n",
       "| 29 | 14403 |\n",
       "| 30 | 28799 |\n",
       "| ⋮ | ⋮ |\n",
       "| 19971 |  3036 |\n",
       "| 19972 | 19102 |\n",
       "| 19973 | 37729 |\n",
       "| 19974 | 20186 |\n",
       "| 19975 | 38059 |\n",
       "| 19976 |  8099 |\n",
       "| 19977 | 15178 |\n",
       "| 19978 | 18920 |\n",
       "| 19979 | 19757 |\n",
       "| 19980 |  9327 |\n",
       "| 19981 | 16641 |\n",
       "| 19982 |  9656 |\n",
       "| 19983 | 37330 |\n",
       "| 19984 | 34568 |\n",
       "| 19985 | 23095 |\n",
       "| 19986 | 25383 |\n",
       "| 19987 | 16918 |\n",
       "| 19988 |  4245 |\n",
       "| 19989 | 21920 |\n",
       "| 19990 | 29000 |\n",
       "| 19991 |  6627 |\n",
       "| 19992 | 35702 |\n",
       "| 19993 | 38555 |\n",
       "| 19994 | 23289 |\n",
       "| 19995 |  2969 |\n",
       "| 19996 | 13724 |\n",
       "| 19997 | 29863 |\n",
       "| 19998 |  9841 |\n",
       "| 19999 | 36432 |\n",
       "| 20000 | 15639 |\n",
       "\n"
      ],
      "text/plain": [
       "      client_id\n",
       "1     29925    \n",
       "2     37529    \n",
       "3      2757    \n",
       "4      9642    \n",
       "5     14183    \n",
       "6     15180    \n",
       "7     27168    \n",
       "8      9097    \n",
       "9     30538    \n",
       "10    28981    \n",
       "11     7989    \n",
       "12    13536    \n",
       "13    24541    \n",
       "14     6216    \n",
       "15    17983    \n",
       "16    29394    \n",
       "17    28825    \n",
       "18       41    \n",
       "19     7284    \n",
       "20    28502    \n",
       "21    11473    \n",
       "22     6134    \n",
       "23    33523    \n",
       "24    21812    \n",
       "25    39895    \n",
       "26     9326    \n",
       "27    26510    \n",
       "28    20960    \n",
       "29    14403    \n",
       "30    28799    \n",
       "<U+22EE>     <U+22EE> \n",
       "19971  3036    \n",
       "19972 19102    \n",
       "19973 37729    \n",
       "19974 20186    \n",
       "19975 38059    \n",
       "19976  8099    \n",
       "19977 15178    \n",
       "19978 18920    \n",
       "19979 19757    \n",
       "19980  9327    \n",
       "19981 16641    \n",
       "19982  9656    \n",
       "19983 37330    \n",
       "19984 34568    \n",
       "19985 23095    \n",
       "19986 25383    \n",
       "19987 16918    \n",
       "19988  4245    \n",
       "19989 21920    \n",
       "19990 29000    \n",
       "19991  6627    \n",
       "19992 35702    \n",
       "19993 38555    \n",
       "19994 23289    \n",
       "19995  2969    \n",
       "19996 13724    \n",
       "19997 29863    \n",
       "19998  9841    \n",
       "19999 36432    \n",
       "20000 15639    "
      ]
     },
     "metadata": {},
     "output_type": "display_data"
    }
   ],
   "source": [
    "# Number of Unique clients\n",
    "unique(bank[c(\"client_id\")])"
   ]
  },
  {
   "cell_type": "code",
   "execution_count": 4,
   "id": "216a2ba1",
   "metadata": {},
   "outputs": [
    {
     "data": {
      "text/html": [
       "3664"
      ],
      "text/latex": [
       "3664"
      ],
      "text/markdown": [
       "3664"
      ],
      "text/plain": [
       "[1] 3664"
      ]
     },
     "metadata": {},
     "output_type": "display_data"
    }
   ],
   "source": [
    "# Checking the total of Nas in the  Bank dataset\n",
    "sum(is.na(bank))"
   ]
  },
  {
   "cell_type": "markdown",
   "id": "66a8b575",
   "metadata": {},
   "source": [
    "There are a lot of NA so I will treat them to avoid get rid of them"
   ]
  },
  {
   "cell_type": "code",
   "execution_count": 5,
   "id": "6f43e555",
   "metadata": {},
   "outputs": [
    {
     "data": {
      "text/html": [
       "<style>\n",
       ".list-inline {list-style: none; margin:0; padding: 0}\n",
       ".list-inline>li {display: inline-block}\n",
       ".list-inline>li:not(:last-child)::after {content: \"\\00b7\"; padding: 0 .5ex}\n",
       "</style>\n",
       "<ol class=list-inline><li>'age'</li><li>'job'</li><li>'marital'</li><li>'education'</li><li>'default'</li><li>'housing'</li><li>'loan'</li><li>'contact'</li><li>'month'</li><li>'day_of_week'</li><li>'campaign'</li><li>'pdays'</li><li>'previous'</li><li>'poutcome'</li><li>'emp.var.rate'</li><li>'cons.price.idx'</li><li>'cons.conf.idx'</li><li>'euribor3m'</li><li>'nr.employed'</li></ol>\n"
      ],
      "text/latex": [
       "\\begin{enumerate*}\n",
       "\\item 'age'\n",
       "\\item 'job'\n",
       "\\item 'marital'\n",
       "\\item 'education'\n",
       "\\item 'default'\n",
       "\\item 'housing'\n",
       "\\item 'loan'\n",
       "\\item 'contact'\n",
       "\\item 'month'\n",
       "\\item 'day\\_of\\_week'\n",
       "\\item 'campaign'\n",
       "\\item 'pdays'\n",
       "\\item 'previous'\n",
       "\\item 'poutcome'\n",
       "\\item 'emp.var.rate'\n",
       "\\item 'cons.price.idx'\n",
       "\\item 'cons.conf.idx'\n",
       "\\item 'euribor3m'\n",
       "\\item 'nr.employed'\n",
       "\\end{enumerate*}\n"
      ],
      "text/markdown": [
       "1. 'age'\n",
       "2. 'job'\n",
       "3. 'marital'\n",
       "4. 'education'\n",
       "5. 'default'\n",
       "6. 'housing'\n",
       "7. 'loan'\n",
       "8. 'contact'\n",
       "9. 'month'\n",
       "10. 'day_of_week'\n",
       "11. 'campaign'\n",
       "12. 'pdays'\n",
       "13. 'previous'\n",
       "14. 'poutcome'\n",
       "15. 'emp.var.rate'\n",
       "16. 'cons.price.idx'\n",
       "17. 'cons.conf.idx'\n",
       "18. 'euribor3m'\n",
       "19. 'nr.employed'\n",
       "\n",
       "\n"
      ],
      "text/plain": [
       " [1] \"age\"            \"job\"            \"marital\"        \"education\"     \n",
       " [5] \"default\"        \"housing\"        \"loan\"           \"contact\"       \n",
       " [9] \"month\"          \"day_of_week\"    \"campaign\"       \"pdays\"         \n",
       "[13] \"previous\"       \"poutcome\"       \"emp.var.rate\"   \"cons.price.idx\"\n",
       "[17] \"cons.conf.idx\"  \"euribor3m\"      \"nr.employed\"   "
      ]
     },
     "metadata": {},
     "output_type": "display_data"
    }
   ],
   "source": [
    "names(which(colSums(is.na(bank))>0))"
   ]
  },
  {
   "cell_type": "code",
   "execution_count": 6,
   "id": "8b750f62",
   "metadata": {},
   "outputs": [],
   "source": [
    "# Renaming some columns\n",
    "names(bank)[names(bank) == \"emp.var.rate\"] <- \"emp_var_rate\"\n",
    "names(bank)[names(bank) == \"cons.price.idx\"] <- \"cons_price_idx\"\n",
    "names(bank)[names(bank) == \"cons.conf.idx\"] <- \"cons_conf_idx\"\n",
    "names(bank)[names(bank) == \"nr.employed\"] <- \"nr_employed\"\n"
   ]
  },
  {
   "cell_type": "code",
   "execution_count": 7,
   "id": "84c15f84",
   "metadata": {},
   "outputs": [
    {
     "name": "stdout",
     "output_type": "stream",
     "text": [
      "'data.frame':\t20000 obs. of  21 variables:\n",
      " $ client_id     : int  29925 37529 2757 9642 14183 15180 27168 9097 30538 28981 ...\n",
      " $ age           : int  42 35 44 45 45 38 33 38 29 34 ...\n",
      " $ job           : chr  \"management\" \"unemployed\" \"technician\" \"services\" ...\n",
      " $ marital       : chr  \"married\" \"married\" \"married\" \"married\" ...\n",
      " $ education     : chr  \"basic.9y\" \"university.degree\" \"basic.9y\" \"high.school\" ...\n",
      " $ default       : chr  \"no\" \"no\" \"no\" \"no\" ...\n",
      " $ housing       : chr  \"no\" \"yes\" \"yes\" \"yes\" ...\n",
      " $ loan          : chr  \"no\" \"no\" \"yes\" \"no\" ...\n",
      " $ contact       : chr  \"cellular\" \"telephone\" \"cellular\" \"cellular\" ...\n",
      " $ month         : chr  \"jul\" \"jun\" \"may\" \"apr\" ...\n",
      " $ day_of_week   : chr  \"thu\" \"mon\" \"mon\" \"tue\" ...\n",
      " $ campaign      : int  1 4 1 1 1 2 1 1 1 1 ...\n",
      " $ pdays         : int  999 999 999 999 999 999 NA 999 999 999 ...\n",
      " $ previous      : int  0 0 0 0 0 0 1 0 1 0 ...\n",
      " $ poutcome      : chr  \"nonexistent\" \"nonexistent\" \"nonexistent\" \"nonexistent\" ...\n",
      " $ emp_var_rate  : num  1.4 1.4 -1.8 -1.8 1.1 1.1 -1.8 1.1 -1.8 1.4 ...\n",
      " $ cons_price_idx: num  93.9 94.5 92.9 93.1 94 ...\n",
      " $ cons_conf_idx : num  -42.7 -41.8 -46.2 -47.1 -36.4 -36.4 -47.1 -36.4 -46.2 -36.1 ...\n",
      " $ euribor3m     : num  4.97 4.96 1.26 1.45 4.86 ...\n",
      " $ nr_employed   : num  5228 5228 5099 5099 5191 ...\n",
      " $ subscribe     : int  0 0 0 0 0 0 1 0 0 0 ...\n"
     ]
    }
   ],
   "source": [
    "# Checm the data structure\n",
    "str(bank)"
   ]
  },
  {
   "cell_type": "markdown",
   "id": "9cdf57df",
   "metadata": {},
   "source": [
    "### Replace the NAs from the different values"
   ]
  },
  {
   "cell_type": "code",
   "execution_count": 8,
   "id": "f56d58d2",
   "metadata": {},
   "outputs": [],
   "source": [
    "# Replace int and num values with mean\n",
    "bank$age[is.na(bank$age)]<-mean(bank$age,na.rm=TRUE)\n",
    "bank$campaign[is.na(bank$campaign)]<-mean(bank$campaign,na.rm=TRUE)\n",
    "bank$pdays[is.na(bank$pdays)]<-mean(bank$pdays,na.rm=TRUE)\n",
    "bank$previous[is.na(bank$previous)]<-mean(bank$previous,na.rm=TRUE)\n",
    "bank$emp_var_rate[is.na(bank$emp_var_rate)]<-mean(bank$emp_var_rate,na.rm=TRUE)\n",
    "bank$cons_price_idx[is.na(bank$cons_price_idx)]<-mean(bank$cons_price_idx,na.rm=TRUE)\n",
    "bank$cons_conf_idx[is.na(bank$cons_conf_idx)]<-mean(bank$cons_conf_idx,na.rm=TRUE)\n",
    "bank$euribor3m[is.na(bank$euribor3m)]<-mean(bank$euribor3m,na.rm=TRUE)\n",
    "bank$nr_employed[is.na(bank$nr_employed)]<-mean(bank$nr_employed,na.rm=TRUE)\n",
    "\n",
    "# Source https://www.tutorialspoint.com/how-to-replace-na-values-in-columns-of-an-r-data-frame-form-the-mean-of-that-column#:~:text=That%20means%20if%20we%20have,argument%20along%20with%20the%20same."
   ]
  },
  {
   "cell_type": "code",
   "execution_count": 9,
   "id": "0ab3f1ec",
   "metadata": {},
   "outputs": [],
   "source": [
    "# Remove the remaining observations with NA\n",
    "bank <- na.omit(bank) \n",
    "# Source: https://statisticsglobe.com/r-remove-data-frame-rows-with-some-or-all-na"
   ]
  },
  {
   "cell_type": "code",
   "execution_count": 10,
   "id": "cd4018f0",
   "metadata": {},
   "outputs": [
    {
     "data": {
      "text/html": [
       "<table class=\"dataframe\">\n",
       "<caption>A data.frame: 18139 × 21</caption>\n",
       "<thead>\n",
       "\t<tr><th></th><th scope=col>client_id</th><th scope=col>age</th><th scope=col>campaign</th><th scope=col>pdays</th><th scope=col>previous</th><th scope=col>emp_var_rate</th><th scope=col>cons_price_idx</th><th scope=col>cons_conf_idx</th><th scope=col>euribor3m</th><th scope=col>nr_employed</th><th scope=col>⋯</th><th scope=col>job</th><th scope=col>marital</th><th scope=col>education</th><th scope=col>default</th><th scope=col>housing</th><th scope=col>loan</th><th scope=col>contact</th><th scope=col>month</th><th scope=col>day_of_week</th><th scope=col>poutcome</th></tr>\n",
       "\t<tr><th></th><th scope=col>&lt;int&gt;</th><th scope=col>&lt;dbl&gt;</th><th scope=col>&lt;dbl&gt;</th><th scope=col>&lt;dbl&gt;</th><th scope=col>&lt;dbl&gt;</th><th scope=col>&lt;dbl&gt;</th><th scope=col>&lt;dbl&gt;</th><th scope=col>&lt;dbl&gt;</th><th scope=col>&lt;dbl&gt;</th><th scope=col>&lt;dbl&gt;</th><th scope=col>⋯</th><th scope=col>&lt;chr&gt;</th><th scope=col>&lt;chr&gt;</th><th scope=col>&lt;chr&gt;</th><th scope=col>&lt;chr&gt;</th><th scope=col>&lt;chr&gt;</th><th scope=col>&lt;chr&gt;</th><th scope=col>&lt;chr&gt;</th><th scope=col>&lt;chr&gt;</th><th scope=col>&lt;chr&gt;</th><th scope=col>&lt;chr&gt;</th></tr>\n",
       "</thead>\n",
       "<tbody>\n",
       "\t<tr><th scope=row>1</th><td>29925</td><td>42</td><td>1</td><td>999.0000</td><td>0</td><td> 1.4</td><td>93.918</td><td>-42.7</td><td>4.968</td><td>5228.1</td><td>⋯</td><td>management  </td><td>married </td><td>basic.9y           </td><td>no     </td><td>no     </td><td>no     </td><td>cellular </td><td>jul</td><td>thu</td><td>nonexistent</td></tr>\n",
       "\t<tr><th scope=row>2</th><td>37529</td><td>35</td><td>4</td><td>999.0000</td><td>0</td><td> 1.4</td><td>94.465</td><td>-41.8</td><td>4.960</td><td>5228.1</td><td>⋯</td><td>unemployed  </td><td>married </td><td>university.degree  </td><td>no     </td><td>yes    </td><td>no     </td><td>telephone</td><td>jun</td><td>mon</td><td>nonexistent</td></tr>\n",
       "\t<tr><th scope=row>3</th><td> 2757</td><td>44</td><td>1</td><td>999.0000</td><td>0</td><td>-1.8</td><td>92.893</td><td>-46.2</td><td>1.264</td><td>5099.1</td><td>⋯</td><td>technician  </td><td>married </td><td>basic.9y           </td><td>no     </td><td>yes    </td><td>yes    </td><td>cellular </td><td>may</td><td>mon</td><td>nonexistent</td></tr>\n",
       "\t<tr><th scope=row>4</th><td> 9642</td><td>45</td><td>1</td><td>999.0000</td><td>0</td><td>-1.8</td><td>93.075</td><td>-47.1</td><td>1.453</td><td>5099.1</td><td>⋯</td><td>services    </td><td>married </td><td>high.school        </td><td>no     </td><td>yes    </td><td>no     </td><td>cellular </td><td>apr</td><td>tue</td><td>nonexistent</td></tr>\n",
       "\t<tr><th scope=row>5</th><td>14183</td><td>45</td><td>1</td><td>999.0000</td><td>0</td><td> 1.1</td><td>93.994</td><td>-36.4</td><td>4.859</td><td>5191.0</td><td>⋯</td><td>unknown     </td><td>married </td><td>unknown            </td><td>unknown</td><td>unknown</td><td>unknown</td><td>telephone</td><td>may</td><td>wed</td><td>nonexistent</td></tr>\n",
       "\t<tr><th scope=row>6</th><td>15180</td><td>38</td><td>2</td><td>999.0000</td><td>0</td><td> 1.1</td><td>93.994</td><td>-36.4</td><td>4.858</td><td>5191.0</td><td>⋯</td><td>technician  </td><td>married </td><td>professional.course</td><td>no     </td><td>no     </td><td>no     </td><td>telephone</td><td>may</td><td>wed</td><td>nonexistent</td></tr>\n",
       "\t<tr><th scope=row>7</th><td>27168</td><td>33</td><td>1</td><td>961.4132</td><td>1</td><td>-1.8</td><td>93.075</td><td>-47.1</td><td>1.405</td><td>5099.1</td><td>⋯</td><td>technician  </td><td>married </td><td>professional.course</td><td>no     </td><td>no     </td><td>yes    </td><td>cellular </td><td>apr</td><td>fri</td><td>failure    </td></tr>\n",
       "\t<tr><th scope=row>8</th><td> 9097</td><td>38</td><td>1</td><td>999.0000</td><td>0</td><td> 1.1</td><td>93.994</td><td>-36.4</td><td>4.857</td><td>5191.0</td><td>⋯</td><td>blue-collar </td><td>single  </td><td>basic.9y           </td><td>unknown</td><td>yes    </td><td>no     </td><td>telephone</td><td>may</td><td>wed</td><td>nonexistent</td></tr>\n",
       "\t<tr><th scope=row>9</th><td>30538</td><td>29</td><td>1</td><td>999.0000</td><td>1</td><td>-1.8</td><td>92.893</td><td>-46.2</td><td>1.250</td><td>5099.1</td><td>⋯</td><td>blue-collar </td><td>single  </td><td>unknown            </td><td>no     </td><td>yes    </td><td>no     </td><td>cellular </td><td>may</td><td>fri</td><td>failure    </td></tr>\n",
       "\t<tr><th scope=row>10</th><td>28981</td><td>34</td><td>1</td><td>999.0000</td><td>0</td><td> 1.4</td><td>93.444</td><td>-36.1</td><td>4.965</td><td>5228.1</td><td>⋯</td><td>admin.      </td><td>divorced</td><td>university.degree  </td><td>no     </td><td>yes    </td><td>yes    </td><td>cellular </td><td>aug</td><td>wed</td><td>nonexistent</td></tr>\n",
       "\t<tr><th scope=row>11</th><td> 7989</td><td>47</td><td>3</td><td>999.0000</td><td>0</td><td> 1.4</td><td>94.465</td><td>-41.8</td><td>4.961</td><td>5228.1</td><td>⋯</td><td>blue-collar </td><td>married </td><td>high.school        </td><td>unknown</td><td>yes    </td><td>no     </td><td>telephone</td><td>jun</td><td>mon</td><td>nonexistent</td></tr>\n",
       "\t<tr><th scope=row>12</th><td>13536</td><td>30</td><td>1</td><td>999.0000</td><td>0</td><td> 1.4</td><td>93.918</td><td>-42.7</td><td>4.963</td><td>5228.1</td><td>⋯</td><td>blue-collar </td><td>single  </td><td>basic.9y           </td><td>no     </td><td>yes    </td><td>no     </td><td>cellular </td><td>jul</td><td>thu</td><td>nonexistent</td></tr>\n",
       "\t<tr><th scope=row>13</th><td>24541</td><td>30</td><td>1</td><td>999.0000</td><td>0</td><td> 1.4</td><td>93.918</td><td>-42.7</td><td>4.958</td><td>5228.1</td><td>⋯</td><td>admin.      </td><td>married </td><td>basic.6y           </td><td>no     </td><td>yes    </td><td>no     </td><td>cellular </td><td>jul</td><td>thu</td><td>nonexistent</td></tr>\n",
       "\t<tr><th scope=row>14</th><td> 6216</td><td>35</td><td>2</td><td>999.0000</td><td>0</td><td>-1.8</td><td>92.893</td><td>-46.2</td><td>1.344</td><td>5099.1</td><td>⋯</td><td>services    </td><td>married </td><td>basic.6y           </td><td>unknown</td><td>yes    </td><td>no     </td><td>cellular </td><td>may</td><td>tue</td><td>nonexistent</td></tr>\n",
       "\t<tr><th scope=row>15</th><td>17983</td><td>45</td><td>1</td><td>999.0000</td><td>0</td><td>-0.1</td><td>93.200</td><td>-42.0</td><td>4.076</td><td>5195.8</td><td>⋯</td><td>management  </td><td>married </td><td>professional.course</td><td>no     </td><td>no     </td><td>no     </td><td>cellular </td><td>nov</td><td>thu</td><td>nonexistent</td></tr>\n",
       "\t<tr><th scope=row>16</th><td>29394</td><td>37</td><td>2</td><td>999.0000</td><td>1</td><td>-0.1</td><td>93.200</td><td>-42.0</td><td>4.191</td><td>5195.8</td><td>⋯</td><td>entrepreneur</td><td>married </td><td>university.degree  </td><td>unknown</td><td>yes    </td><td>no     </td><td>cellular </td><td>nov</td><td>mon</td><td>failure    </td></tr>\n",
       "\t<tr><th scope=row>17</th><td>28825</td><td>48</td><td>2</td><td>999.0000</td><td>0</td><td> 1.4</td><td>94.465</td><td>-41.8</td><td>4.866</td><td>5228.1</td><td>⋯</td><td>blue-collar </td><td>married </td><td>basic.6y           </td><td>no     </td><td>no     </td><td>no     </td><td>telephone</td><td>jun</td><td>thu</td><td>nonexistent</td></tr>\n",
       "\t<tr><th scope=row>18</th><td>   41</td><td>47</td><td>2</td><td>999.0000</td><td>1</td><td>-1.8</td><td>93.075</td><td>-47.1</td><td>1.410</td><td>5099.1</td><td>⋯</td><td>admin.      </td><td>married </td><td>basic.6y           </td><td>unknown</td><td>yes    </td><td>no     </td><td>cellular </td><td>apr</td><td>thu</td><td>failure    </td></tr>\n",
       "\t<tr><th scope=row>19</th><td> 7284</td><td>35</td><td>1</td><td>999.0000</td><td>0</td><td> 1.1</td><td>93.994</td><td>-36.4</td><td>4.858</td><td>5191.0</td><td>⋯</td><td>blue-collar </td><td>married </td><td>basic.9y           </td><td>no     </td><td>yes    </td><td>no     </td><td>telephone</td><td>may</td><td>wed</td><td>nonexistent</td></tr>\n",
       "\t<tr><th scope=row>20</th><td>28502</td><td>34</td><td>3</td><td>999.0000</td><td>0</td><td>-1.8</td><td>93.075</td><td>-47.1</td><td>1.405</td><td>5099.1</td><td>⋯</td><td>technician  </td><td>married </td><td>professional.course</td><td>no     </td><td>no     </td><td>no     </td><td>cellular </td><td>apr</td><td>mon</td><td>nonexistent</td></tr>\n",
       "\t<tr><th scope=row>21</th><td>11473</td><td>60</td><td>5</td><td>999.0000</td><td>0</td><td> 1.1</td><td>93.994</td><td>-36.4</td><td>4.855</td><td>5191.0</td><td>⋯</td><td>technician  </td><td>married </td><td>university.degree  </td><td>unknown</td><td>yes    </td><td>no     </td><td>telephone</td><td>may</td><td>fri</td><td>nonexistent</td></tr>\n",
       "\t<tr><th scope=row>22</th><td> 6134</td><td>35</td><td>2</td><td>999.0000</td><td>1</td><td>-1.8</td><td>92.893</td><td>-46.2</td><td>1.334</td><td>5099.1</td><td>⋯</td><td>services    </td><td>single  </td><td>high.school        </td><td>no     </td><td>no     </td><td>no     </td><td>cellular </td><td>may</td><td>wed</td><td>failure    </td></tr>\n",
       "\t<tr><th scope=row>23</th><td>33523</td><td>32</td><td>1</td><td>999.0000</td><td>0</td><td>-1.8</td><td>92.893</td><td>-46.2</td><td>1.281</td><td>5099.1</td><td>⋯</td><td>technician  </td><td>married </td><td>university.degree  </td><td>no     </td><td>yes    </td><td>no     </td><td>cellular </td><td>may</td><td>wed</td><td>nonexistent</td></tr>\n",
       "\t<tr><th scope=row>24</th><td>21812</td><td>49</td><td>1</td><td>999.0000</td><td>0</td><td> 1.1</td><td>93.994</td><td>-36.4</td><td>4.856</td><td>5191.0</td><td>⋯</td><td>blue-collar </td><td>married </td><td>unknown            </td><td>unknown</td><td>yes    </td><td>no     </td><td>telephone</td><td>may</td><td>tue</td><td>nonexistent</td></tr>\n",
       "\t<tr><th scope=row>25</th><td>39895</td><td>45</td><td>2</td><td>999.0000</td><td>0</td><td> 1.1</td><td>93.994</td><td>-36.4</td><td>4.856</td><td>5191.0</td><td>⋯</td><td>technician  </td><td>single  </td><td>professional.course</td><td>no     </td><td>no     </td><td>no     </td><td>telephone</td><td>may</td><td>tue</td><td>nonexistent</td></tr>\n",
       "\t<tr><th scope=row>26</th><td> 9326</td><td>33</td><td>4</td><td>999.0000</td><td>0</td><td> 1.4</td><td>94.465</td><td>-41.8</td><td>4.865</td><td>5228.1</td><td>⋯</td><td>blue-collar </td><td>single  </td><td>basic.9y           </td><td>unknown</td><td>yes    </td><td>no     </td><td>telephone</td><td>jun</td><td>mon</td><td>nonexistent</td></tr>\n",
       "\t<tr><th scope=row>27</th><td>26510</td><td>34</td><td>5</td><td>999.0000</td><td>0</td><td>-0.1</td><td>93.200</td><td>-42.0</td><td>4.021</td><td>5195.8</td><td>⋯</td><td>management  </td><td>single  </td><td>university.degree  </td><td>no     </td><td>unknown</td><td>unknown</td><td>telephone</td><td>nov</td><td>fri</td><td>nonexistent</td></tr>\n",
       "\t<tr><th scope=row>28</th><td>20960</td><td>57</td><td>1</td><td>999.0000</td><td>0</td><td> 1.1</td><td>93.994</td><td>-36.4</td><td>4.856</td><td>5191.0</td><td>⋯</td><td>retired     </td><td>married </td><td>university.degree  </td><td>no     </td><td>yes    </td><td>no     </td><td>telephone</td><td>may</td><td>tue</td><td>nonexistent</td></tr>\n",
       "\t<tr><th scope=row>29</th><td>14403</td><td>50</td><td>8</td><td>999.0000</td><td>0</td><td> 1.4</td><td>93.918</td><td>-42.7</td><td>4.962</td><td>5228.1</td><td>⋯</td><td>technician  </td><td>single  </td><td>professional.course</td><td>no     </td><td>no     </td><td>yes    </td><td>cellular </td><td>jul</td><td>mon</td><td>nonexistent</td></tr>\n",
       "\t<tr><th scope=row>30</th><td>28799</td><td>49</td><td>2</td><td>999.0000</td><td>0</td><td> 1.4</td><td>93.444</td><td>-36.1</td><td>4.967</td><td>5228.1</td><td>⋯</td><td>housemaid   </td><td>married </td><td>university.degree  </td><td>no     </td><td>yes    </td><td>no     </td><td>cellular </td><td>aug</td><td>wed</td><td>nonexistent</td></tr>\n",
       "\t<tr><th scope=row>⋮</th><td>⋮</td><td>⋮</td><td>⋮</td><td>⋮</td><td>⋮</td><td>⋮</td><td>⋮</td><td>⋮</td><td>⋮</td><td>⋮</td><td>⋱</td><td>⋮</td><td>⋮</td><td>⋮</td><td>⋮</td><td>⋮</td><td>⋮</td><td>⋮</td><td>⋮</td><td>⋮</td><td>⋮</td></tr>\n",
       "\t<tr><th scope=row>19970</th><td>26121</td><td>22</td><td> 2.000000</td><td>  1</td><td>1.0000000</td><td>-1.8</td><td>93.87600</td><td>-40.00000</td><td>0.699</td><td>5008.7</td><td>⋯</td><td>student      </td><td>single  </td><td>high.school        </td><td>unknown</td><td>yes    </td><td>yes    </td><td>telephone</td><td>may</td><td>thu</td><td>success    </td></tr>\n",
       "\t<tr><th scope=row>19971</th><td> 3036</td><td>33</td><td> 3.000000</td><td>999</td><td>0.0000000</td><td> 1.4</td><td>93.44400</td><td>-36.10000</td><td>4.965</td><td>5228.1</td><td>⋯</td><td>self-employed</td><td>married </td><td>university.degree  </td><td>no     </td><td>no     </td><td>no     </td><td>cellular </td><td>aug</td><td>mon</td><td>nonexistent</td></tr>\n",
       "\t<tr><th scope=row>19972</th><td>19102</td><td>31</td><td> 1.000000</td><td>999</td><td>0.0000000</td><td> 1.4</td><td>93.44400</td><td>-36.10000</td><td>4.964</td><td>5228.1</td><td>⋯</td><td>admin.       </td><td>single  </td><td>university.degree  </td><td>unknown</td><td>yes    </td><td>no     </td><td>cellular </td><td>aug</td><td>wed</td><td>nonexistent</td></tr>\n",
       "\t<tr><th scope=row>19973</th><td>37729</td><td>46</td><td> 1.000000</td><td>999</td><td>0.0000000</td><td> 1.1</td><td>93.99400</td><td>-36.40000</td><td>4.860</td><td>5191.0</td><td>⋯</td><td>technician   </td><td>married </td><td>professional.course</td><td>no     </td><td>no     </td><td>no     </td><td>telephone</td><td>may</td><td>thu</td><td>nonexistent</td></tr>\n",
       "\t<tr><th scope=row>19974</th><td>20186</td><td>50</td><td> 2.000000</td><td>999</td><td>0.0000000</td><td>-2.9</td><td>92.46900</td><td>-33.60000</td><td>0.914</td><td>5076.2</td><td>⋯</td><td>self-employed</td><td>married </td><td>unknown            </td><td>no     </td><td>unknown</td><td>unknown</td><td>cellular </td><td>jul</td><td>mon</td><td>nonexistent</td></tr>\n",
       "\t<tr><th scope=row>19975</th><td>38059</td><td>43</td><td> 2.000000</td><td>999</td><td>0.0000000</td><td> 1.4</td><td>93.44400</td><td>-36.10000</td><td>4.966</td><td>5228.1</td><td>⋯</td><td>admin.       </td><td>divorced</td><td>university.degree  </td><td>unknown</td><td>no     </td><td>no     </td><td>cellular </td><td>aug</td><td>tue</td><td>nonexistent</td></tr>\n",
       "\t<tr><th scope=row>19976</th><td> 8099</td><td>32</td><td> 1.000000</td><td>999</td><td>0.0000000</td><td>-0.1</td><td>93.20000</td><td>-42.00000</td><td>4.153</td><td>5195.8</td><td>⋯</td><td>technician   </td><td>divorced</td><td>professional.course</td><td>no     </td><td>no     </td><td>no     </td><td>cellular </td><td>nov</td><td>tue</td><td>nonexistent</td></tr>\n",
       "\t<tr><th scope=row>19977</th><td>15178</td><td>37</td><td> 2.000000</td><td>999</td><td>0.0000000</td><td> 1.4</td><td>93.44400</td><td>-36.10000</td><td>4.965</td><td>5228.1</td><td>⋯</td><td>housemaid    </td><td>married </td><td>basic.4y           </td><td>unknown</td><td>no     </td><td>yes    </td><td>cellular </td><td>aug</td><td>tue</td><td>nonexistent</td></tr>\n",
       "\t<tr><th scope=row>19978</th><td>18920</td><td>47</td><td> 2.000000</td><td>999</td><td>0.1717447</td><td> 1.4</td><td>94.46500</td><td>-41.80000</td><td>4.865</td><td>5228.1</td><td>⋯</td><td>technician   </td><td>divorced</td><td>high.school        </td><td>no     </td><td>yes    </td><td>no     </td><td>telephone</td><td>jun</td><td>mon</td><td>nonexistent</td></tr>\n",
       "\t<tr><th scope=row>19979</th><td>19757</td><td>31</td><td> 1.000000</td><td>999</td><td>0.0000000</td><td> 1.4</td><td>93.44400</td><td>-36.10000</td><td>4.965</td><td>5228.1</td><td>⋯</td><td>admin.       </td><td>single  </td><td>university.degree  </td><td>no     </td><td>yes    </td><td>no     </td><td>cellular </td><td>aug</td><td>wed</td><td>nonexistent</td></tr>\n",
       "\t<tr><th scope=row>19980</th><td> 9327</td><td>31</td><td> 1.000000</td><td>999</td><td>0.0000000</td><td> 1.4</td><td>93.44400</td><td>-36.10000</td><td>4.968</td><td>5228.1</td><td>⋯</td><td>admin.       </td><td>single  </td><td>university.degree  </td><td>unknown</td><td>no     </td><td>yes    </td><td>cellular </td><td>aug</td><td>thu</td><td>nonexistent</td></tr>\n",
       "\t<tr><th scope=row>19981</th><td>16641</td><td>51</td><td> 6.000000</td><td>  6</td><td>3.0000000</td><td>-3.4</td><td>92.43100</td><td>-26.90000</td><td>0.754</td><td>5017.5</td><td>⋯</td><td>technician   </td><td>married </td><td>professional.course</td><td>no     </td><td>yes    </td><td>no     </td><td>cellular </td><td>oct</td><td>thu</td><td>failure    </td></tr>\n",
       "\t<tr><th scope=row>19982</th><td> 9656</td><td>30</td><td> 3.000000</td><td>999</td><td>0.0000000</td><td> 1.4</td><td>93.44400</td><td>-36.10000</td><td>4.963</td><td>5228.1</td><td>⋯</td><td>admin.       </td><td>married </td><td>university.degree  </td><td>no     </td><td>yes    </td><td>no     </td><td>cellular </td><td>aug</td><td>mon</td><td>nonexistent</td></tr>\n",
       "\t<tr><th scope=row>19983</th><td>37330</td><td>42</td><td> 3.000000</td><td>999</td><td>0.0000000</td><td> 1.1</td><td>93.99400</td><td>-36.40000</td><td>4.864</td><td>5191.0</td><td>⋯</td><td>technician   </td><td>married </td><td>professional.course</td><td>unknown</td><td>yes    </td><td>no     </td><td>telephone</td><td>may</td><td>fri</td><td>nonexistent</td></tr>\n",
       "\t<tr><th scope=row>19984</th><td>34568</td><td>32</td><td> 3.000000</td><td>999</td><td>0.0000000</td><td> 1.1</td><td>93.99400</td><td>-36.40000</td><td>4.860</td><td>5191.0</td><td>⋯</td><td>blue-collar  </td><td>married </td><td>basic.6y           </td><td>no     </td><td>yes    </td><td>no     </td><td>telephone</td><td>may</td><td>thu</td><td>nonexistent</td></tr>\n",
       "\t<tr><th scope=row>19985</th><td>23095</td><td>41</td><td> 3.000000</td><td>999</td><td>0.0000000</td><td> 1.4</td><td>93.91800</td><td>-42.70000</td><td>4.968</td><td>5228.1</td><td>⋯</td><td>blue-collar  </td><td>married </td><td>basic.6y           </td><td>no     </td><td>yes    </td><td>no     </td><td>cellular </td><td>jul</td><td>thu</td><td>nonexistent</td></tr>\n",
       "\t<tr><th scope=row>19986</th><td>25383</td><td>48</td><td> 2.000000</td><td>999</td><td>0.0000000</td><td> 1.1</td><td>93.99400</td><td>-36.40000</td><td>4.856</td><td>5191.0</td><td>⋯</td><td>admin.       </td><td>divorced</td><td>high.school        </td><td>no     </td><td>no     </td><td>yes    </td><td>telephone</td><td>may</td><td>tue</td><td>nonexistent</td></tr>\n",
       "\t<tr><th scope=row>19988</th><td> 4245</td><td>35</td><td> 2.580189</td><td>999</td><td>0.0000000</td><td> 1.4</td><td>93.91800</td><td>-42.70000</td><td>4.960</td><td>5228.1</td><td>⋯</td><td>blue-collar  </td><td>single  </td><td>unknown            </td><td>no     </td><td>yes    </td><td>no     </td><td>telephone</td><td>jul</td><td>mon</td><td>nonexistent</td></tr>\n",
       "\t<tr><th scope=row>19989</th><td>21920</td><td>39</td><td> 1.000000</td><td>999</td><td>0.0000000</td><td> 1.1</td><td>93.57625</td><td>-36.40000</td><td>4.859</td><td>5191.0</td><td>⋯</td><td>blue-collar  </td><td>married </td><td>basic.4y           </td><td>unknown</td><td>yes    </td><td>no     </td><td>telephone</td><td>may</td><td>wed</td><td>nonexistent</td></tr>\n",
       "\t<tr><th scope=row>19990</th><td>29000</td><td>21</td><td> 1.000000</td><td>999</td><td>0.0000000</td><td>-3.4</td><td>92.43100</td><td>-40.47166</td><td>0.728</td><td>5017.5</td><td>⋯</td><td>student      </td><td>single  </td><td>high.school        </td><td>no     </td><td>no     </td><td>no     </td><td>cellular </td><td>oct</td><td>tue</td><td>nonexistent</td></tr>\n",
       "\t<tr><th scope=row>19991</th><td> 6627</td><td>28</td><td> 1.000000</td><td>  1</td><td>3.0000000</td><td>-3.4</td><td>92.37900</td><td>-29.80000</td><td>0.773</td><td>5017.5</td><td>⋯</td><td>admin.       </td><td>single  </td><td>university.degree  </td><td>no     </td><td>yes    </td><td>no     </td><td>cellular </td><td>sep</td><td>fri</td><td>success    </td></tr>\n",
       "\t<tr><th scope=row>19992</th><td>35702</td><td>29</td><td> 1.000000</td><td>999</td><td>0.0000000</td><td> 1.4</td><td>93.44400</td><td>-36.10000</td><td>4.963</td><td>5228.1</td><td>⋯</td><td>admin.       </td><td>single  </td><td>university.degree  </td><td>no     </td><td>yes    </td><td>no     </td><td>cellular </td><td>aug</td><td>thu</td><td>nonexistent</td></tr>\n",
       "\t<tr><th scope=row>19993</th><td>38555</td><td>49</td><td> 2.000000</td><td>999</td><td>0.0000000</td><td> 1.4</td><td>93.44400</td><td>-36.10000</td><td>4.963</td><td>5228.1</td><td>⋯</td><td>services     </td><td>married </td><td>basic.4y           </td><td>unknown</td><td>no     </td><td>no     </td><td>cellular </td><td>aug</td><td>mon</td><td>nonexistent</td></tr>\n",
       "\t<tr><th scope=row>19994</th><td>23289</td><td>38</td><td> 6.000000</td><td>999</td><td>1.0000000</td><td>-1.8</td><td>92.89300</td><td>-46.20000</td><td>1.344</td><td>5099.1</td><td>⋯</td><td>blue-collar  </td><td>divorced</td><td>high.school        </td><td>no     </td><td>yes    </td><td>no     </td><td>cellular </td><td>may</td><td>tue</td><td>failure    </td></tr>\n",
       "\t<tr><th scope=row>19995</th><td> 2969</td><td>36</td><td>24.000000</td><td>999</td><td>0.0000000</td><td> 1.4</td><td>93.91800</td><td>-42.70000</td><td>4.968</td><td>5228.1</td><td>⋯</td><td>blue-collar  </td><td>single  </td><td>high.school        </td><td>no     </td><td>yes    </td><td>no     </td><td>cellular </td><td>jul</td><td>thu</td><td>nonexistent</td></tr>\n",
       "\t<tr><th scope=row>19996</th><td>13724</td><td>45</td><td> 1.000000</td><td>999</td><td>0.0000000</td><td> 1.4</td><td>93.91800</td><td>-42.70000</td><td>4.957</td><td>5228.1</td><td>⋯</td><td>unknown      </td><td>unknown </td><td>unknown            </td><td>no     </td><td>yes    </td><td>yes    </td><td>cellular </td><td>jul</td><td>wed</td><td>nonexistent</td></tr>\n",
       "\t<tr><th scope=row>19997</th><td>29863</td><td>26</td><td> 2.000000</td><td>999</td><td>1.0000000</td><td>-1.8</td><td>92.89300</td><td>-46.20000</td><td>1.299</td><td>5099.1</td><td>⋯</td><td>admin.       </td><td>single  </td><td>university.degree  </td><td>no     </td><td>yes    </td><td>no     </td><td>cellular </td><td>may</td><td>mon</td><td>failure    </td></tr>\n",
       "\t<tr><th scope=row>19998</th><td> 9841</td><td>33</td><td> 1.000000</td><td>999</td><td>1.0000000</td><td>-1.8</td><td>92.89300</td><td>-46.20000</td><td>1.299</td><td>5099.1</td><td>⋯</td><td>admin.       </td><td>married </td><td>high.school        </td><td>no     </td><td>yes    </td><td>yes    </td><td>cellular </td><td>may</td><td>mon</td><td>failure    </td></tr>\n",
       "\t<tr><th scope=row>19999</th><td>36432</td><td>43</td><td>10.000000</td><td>999</td><td>0.0000000</td><td> 1.4</td><td>93.91800</td><td>-42.70000</td><td>4.960</td><td>5228.1</td><td>⋯</td><td>admin.       </td><td>married </td><td>high.school        </td><td>no     </td><td>yes    </td><td>no     </td><td>telephone</td><td>jul</td><td>mon</td><td>nonexistent</td></tr>\n",
       "\t<tr><th scope=row>20000</th><td>15639</td><td>55</td><td> 3.000000</td><td>999</td><td>0.0000000</td><td> 1.4</td><td>93.44400</td><td>-36.10000</td><td>4.963</td><td>5228.1</td><td>⋯</td><td>blue-collar  </td><td>married </td><td>basic.9y           </td><td>no     </td><td>yes    </td><td>yes    </td><td>cellular </td><td>aug</td><td>thu</td><td>nonexistent</td></tr>\n",
       "</tbody>\n",
       "</table>\n"
      ],
      "text/latex": [
       "A data.frame: 18139 × 21\n",
       "\\begin{tabular}{r|lllllllllllllllllllll}\n",
       "  & client\\_id & age & campaign & pdays & previous & emp\\_var\\_rate & cons\\_price\\_idx & cons\\_conf\\_idx & euribor3m & nr\\_employed & ⋯ & job & marital & education & default & housing & loan & contact & month & day\\_of\\_week & poutcome\\\\\n",
       "  & <int> & <dbl> & <dbl> & <dbl> & <dbl> & <dbl> & <dbl> & <dbl> & <dbl> & <dbl> & ⋯ & <chr> & <chr> & <chr> & <chr> & <chr> & <chr> & <chr> & <chr> & <chr> & <chr>\\\\\n",
       "\\hline\n",
       "\t1 & 29925 & 42 & 1 & 999.0000 & 0 &  1.4 & 93.918 & -42.7 & 4.968 & 5228.1 & ⋯ & management   & married  & basic.9y            & no      & no      & no      & cellular  & jul & thu & nonexistent\\\\\n",
       "\t2 & 37529 & 35 & 4 & 999.0000 & 0 &  1.4 & 94.465 & -41.8 & 4.960 & 5228.1 & ⋯ & unemployed   & married  & university.degree   & no      & yes     & no      & telephone & jun & mon & nonexistent\\\\\n",
       "\t3 &  2757 & 44 & 1 & 999.0000 & 0 & -1.8 & 92.893 & -46.2 & 1.264 & 5099.1 & ⋯ & technician   & married  & basic.9y            & no      & yes     & yes     & cellular  & may & mon & nonexistent\\\\\n",
       "\t4 &  9642 & 45 & 1 & 999.0000 & 0 & -1.8 & 93.075 & -47.1 & 1.453 & 5099.1 & ⋯ & services     & married  & high.school         & no      & yes     & no      & cellular  & apr & tue & nonexistent\\\\\n",
       "\t5 & 14183 & 45 & 1 & 999.0000 & 0 &  1.1 & 93.994 & -36.4 & 4.859 & 5191.0 & ⋯ & unknown      & married  & unknown             & unknown & unknown & unknown & telephone & may & wed & nonexistent\\\\\n",
       "\t6 & 15180 & 38 & 2 & 999.0000 & 0 &  1.1 & 93.994 & -36.4 & 4.858 & 5191.0 & ⋯ & technician   & married  & professional.course & no      & no      & no      & telephone & may & wed & nonexistent\\\\\n",
       "\t7 & 27168 & 33 & 1 & 961.4132 & 1 & -1.8 & 93.075 & -47.1 & 1.405 & 5099.1 & ⋯ & technician   & married  & professional.course & no      & no      & yes     & cellular  & apr & fri & failure    \\\\\n",
       "\t8 &  9097 & 38 & 1 & 999.0000 & 0 &  1.1 & 93.994 & -36.4 & 4.857 & 5191.0 & ⋯ & blue-collar  & single   & basic.9y            & unknown & yes     & no      & telephone & may & wed & nonexistent\\\\\n",
       "\t9 & 30538 & 29 & 1 & 999.0000 & 1 & -1.8 & 92.893 & -46.2 & 1.250 & 5099.1 & ⋯ & blue-collar  & single   & unknown             & no      & yes     & no      & cellular  & may & fri & failure    \\\\\n",
       "\t10 & 28981 & 34 & 1 & 999.0000 & 0 &  1.4 & 93.444 & -36.1 & 4.965 & 5228.1 & ⋯ & admin.       & divorced & university.degree   & no      & yes     & yes     & cellular  & aug & wed & nonexistent\\\\\n",
       "\t11 &  7989 & 47 & 3 & 999.0000 & 0 &  1.4 & 94.465 & -41.8 & 4.961 & 5228.1 & ⋯ & blue-collar  & married  & high.school         & unknown & yes     & no      & telephone & jun & mon & nonexistent\\\\\n",
       "\t12 & 13536 & 30 & 1 & 999.0000 & 0 &  1.4 & 93.918 & -42.7 & 4.963 & 5228.1 & ⋯ & blue-collar  & single   & basic.9y            & no      & yes     & no      & cellular  & jul & thu & nonexistent\\\\\n",
       "\t13 & 24541 & 30 & 1 & 999.0000 & 0 &  1.4 & 93.918 & -42.7 & 4.958 & 5228.1 & ⋯ & admin.       & married  & basic.6y            & no      & yes     & no      & cellular  & jul & thu & nonexistent\\\\\n",
       "\t14 &  6216 & 35 & 2 & 999.0000 & 0 & -1.8 & 92.893 & -46.2 & 1.344 & 5099.1 & ⋯ & services     & married  & basic.6y            & unknown & yes     & no      & cellular  & may & tue & nonexistent\\\\\n",
       "\t15 & 17983 & 45 & 1 & 999.0000 & 0 & -0.1 & 93.200 & -42.0 & 4.076 & 5195.8 & ⋯ & management   & married  & professional.course & no      & no      & no      & cellular  & nov & thu & nonexistent\\\\\n",
       "\t16 & 29394 & 37 & 2 & 999.0000 & 1 & -0.1 & 93.200 & -42.0 & 4.191 & 5195.8 & ⋯ & entrepreneur & married  & university.degree   & unknown & yes     & no      & cellular  & nov & mon & failure    \\\\\n",
       "\t17 & 28825 & 48 & 2 & 999.0000 & 0 &  1.4 & 94.465 & -41.8 & 4.866 & 5228.1 & ⋯ & blue-collar  & married  & basic.6y            & no      & no      & no      & telephone & jun & thu & nonexistent\\\\\n",
       "\t18 &    41 & 47 & 2 & 999.0000 & 1 & -1.8 & 93.075 & -47.1 & 1.410 & 5099.1 & ⋯ & admin.       & married  & basic.6y            & unknown & yes     & no      & cellular  & apr & thu & failure    \\\\\n",
       "\t19 &  7284 & 35 & 1 & 999.0000 & 0 &  1.1 & 93.994 & -36.4 & 4.858 & 5191.0 & ⋯ & blue-collar  & married  & basic.9y            & no      & yes     & no      & telephone & may & wed & nonexistent\\\\\n",
       "\t20 & 28502 & 34 & 3 & 999.0000 & 0 & -1.8 & 93.075 & -47.1 & 1.405 & 5099.1 & ⋯ & technician   & married  & professional.course & no      & no      & no      & cellular  & apr & mon & nonexistent\\\\\n",
       "\t21 & 11473 & 60 & 5 & 999.0000 & 0 &  1.1 & 93.994 & -36.4 & 4.855 & 5191.0 & ⋯ & technician   & married  & university.degree   & unknown & yes     & no      & telephone & may & fri & nonexistent\\\\\n",
       "\t22 &  6134 & 35 & 2 & 999.0000 & 1 & -1.8 & 92.893 & -46.2 & 1.334 & 5099.1 & ⋯ & services     & single   & high.school         & no      & no      & no      & cellular  & may & wed & failure    \\\\\n",
       "\t23 & 33523 & 32 & 1 & 999.0000 & 0 & -1.8 & 92.893 & -46.2 & 1.281 & 5099.1 & ⋯ & technician   & married  & university.degree   & no      & yes     & no      & cellular  & may & wed & nonexistent\\\\\n",
       "\t24 & 21812 & 49 & 1 & 999.0000 & 0 &  1.1 & 93.994 & -36.4 & 4.856 & 5191.0 & ⋯ & blue-collar  & married  & unknown             & unknown & yes     & no      & telephone & may & tue & nonexistent\\\\\n",
       "\t25 & 39895 & 45 & 2 & 999.0000 & 0 &  1.1 & 93.994 & -36.4 & 4.856 & 5191.0 & ⋯ & technician   & single   & professional.course & no      & no      & no      & telephone & may & tue & nonexistent\\\\\n",
       "\t26 &  9326 & 33 & 4 & 999.0000 & 0 &  1.4 & 94.465 & -41.8 & 4.865 & 5228.1 & ⋯ & blue-collar  & single   & basic.9y            & unknown & yes     & no      & telephone & jun & mon & nonexistent\\\\\n",
       "\t27 & 26510 & 34 & 5 & 999.0000 & 0 & -0.1 & 93.200 & -42.0 & 4.021 & 5195.8 & ⋯ & management   & single   & university.degree   & no      & unknown & unknown & telephone & nov & fri & nonexistent\\\\\n",
       "\t28 & 20960 & 57 & 1 & 999.0000 & 0 &  1.1 & 93.994 & -36.4 & 4.856 & 5191.0 & ⋯ & retired      & married  & university.degree   & no      & yes     & no      & telephone & may & tue & nonexistent\\\\\n",
       "\t29 & 14403 & 50 & 8 & 999.0000 & 0 &  1.4 & 93.918 & -42.7 & 4.962 & 5228.1 & ⋯ & technician   & single   & professional.course & no      & no      & yes     & cellular  & jul & mon & nonexistent\\\\\n",
       "\t30 & 28799 & 49 & 2 & 999.0000 & 0 &  1.4 & 93.444 & -36.1 & 4.967 & 5228.1 & ⋯ & housemaid    & married  & university.degree   & no      & yes     & no      & cellular  & aug & wed & nonexistent\\\\\n",
       "\t⋮ & ⋮ & ⋮ & ⋮ & ⋮ & ⋮ & ⋮ & ⋮ & ⋮ & ⋮ & ⋮ & ⋱ & ⋮ & ⋮ & ⋮ & ⋮ & ⋮ & ⋮ & ⋮ & ⋮ & ⋮ & ⋮\\\\\n",
       "\t19970 & 26121 & 22 &  2.000000 &   1 & 1.0000000 & -1.8 & 93.87600 & -40.00000 & 0.699 & 5008.7 & ⋯ & student       & single   & high.school         & unknown & yes     & yes     & telephone & may & thu & success    \\\\\n",
       "\t19971 &  3036 & 33 &  3.000000 & 999 & 0.0000000 &  1.4 & 93.44400 & -36.10000 & 4.965 & 5228.1 & ⋯ & self-employed & married  & university.degree   & no      & no      & no      & cellular  & aug & mon & nonexistent\\\\\n",
       "\t19972 & 19102 & 31 &  1.000000 & 999 & 0.0000000 &  1.4 & 93.44400 & -36.10000 & 4.964 & 5228.1 & ⋯ & admin.        & single   & university.degree   & unknown & yes     & no      & cellular  & aug & wed & nonexistent\\\\\n",
       "\t19973 & 37729 & 46 &  1.000000 & 999 & 0.0000000 &  1.1 & 93.99400 & -36.40000 & 4.860 & 5191.0 & ⋯ & technician    & married  & professional.course & no      & no      & no      & telephone & may & thu & nonexistent\\\\\n",
       "\t19974 & 20186 & 50 &  2.000000 & 999 & 0.0000000 & -2.9 & 92.46900 & -33.60000 & 0.914 & 5076.2 & ⋯ & self-employed & married  & unknown             & no      & unknown & unknown & cellular  & jul & mon & nonexistent\\\\\n",
       "\t19975 & 38059 & 43 &  2.000000 & 999 & 0.0000000 &  1.4 & 93.44400 & -36.10000 & 4.966 & 5228.1 & ⋯ & admin.        & divorced & university.degree   & unknown & no      & no      & cellular  & aug & tue & nonexistent\\\\\n",
       "\t19976 &  8099 & 32 &  1.000000 & 999 & 0.0000000 & -0.1 & 93.20000 & -42.00000 & 4.153 & 5195.8 & ⋯ & technician    & divorced & professional.course & no      & no      & no      & cellular  & nov & tue & nonexistent\\\\\n",
       "\t19977 & 15178 & 37 &  2.000000 & 999 & 0.0000000 &  1.4 & 93.44400 & -36.10000 & 4.965 & 5228.1 & ⋯ & housemaid     & married  & basic.4y            & unknown & no      & yes     & cellular  & aug & tue & nonexistent\\\\\n",
       "\t19978 & 18920 & 47 &  2.000000 & 999 & 0.1717447 &  1.4 & 94.46500 & -41.80000 & 4.865 & 5228.1 & ⋯ & technician    & divorced & high.school         & no      & yes     & no      & telephone & jun & mon & nonexistent\\\\\n",
       "\t19979 & 19757 & 31 &  1.000000 & 999 & 0.0000000 &  1.4 & 93.44400 & -36.10000 & 4.965 & 5228.1 & ⋯ & admin.        & single   & university.degree   & no      & yes     & no      & cellular  & aug & wed & nonexistent\\\\\n",
       "\t19980 &  9327 & 31 &  1.000000 & 999 & 0.0000000 &  1.4 & 93.44400 & -36.10000 & 4.968 & 5228.1 & ⋯ & admin.        & single   & university.degree   & unknown & no      & yes     & cellular  & aug & thu & nonexistent\\\\\n",
       "\t19981 & 16641 & 51 &  6.000000 &   6 & 3.0000000 & -3.4 & 92.43100 & -26.90000 & 0.754 & 5017.5 & ⋯ & technician    & married  & professional.course & no      & yes     & no      & cellular  & oct & thu & failure    \\\\\n",
       "\t19982 &  9656 & 30 &  3.000000 & 999 & 0.0000000 &  1.4 & 93.44400 & -36.10000 & 4.963 & 5228.1 & ⋯ & admin.        & married  & university.degree   & no      & yes     & no      & cellular  & aug & mon & nonexistent\\\\\n",
       "\t19983 & 37330 & 42 &  3.000000 & 999 & 0.0000000 &  1.1 & 93.99400 & -36.40000 & 4.864 & 5191.0 & ⋯ & technician    & married  & professional.course & unknown & yes     & no      & telephone & may & fri & nonexistent\\\\\n",
       "\t19984 & 34568 & 32 &  3.000000 & 999 & 0.0000000 &  1.1 & 93.99400 & -36.40000 & 4.860 & 5191.0 & ⋯ & blue-collar   & married  & basic.6y            & no      & yes     & no      & telephone & may & thu & nonexistent\\\\\n",
       "\t19985 & 23095 & 41 &  3.000000 & 999 & 0.0000000 &  1.4 & 93.91800 & -42.70000 & 4.968 & 5228.1 & ⋯ & blue-collar   & married  & basic.6y            & no      & yes     & no      & cellular  & jul & thu & nonexistent\\\\\n",
       "\t19986 & 25383 & 48 &  2.000000 & 999 & 0.0000000 &  1.1 & 93.99400 & -36.40000 & 4.856 & 5191.0 & ⋯ & admin.        & divorced & high.school         & no      & no      & yes     & telephone & may & tue & nonexistent\\\\\n",
       "\t19988 &  4245 & 35 &  2.580189 & 999 & 0.0000000 &  1.4 & 93.91800 & -42.70000 & 4.960 & 5228.1 & ⋯ & blue-collar   & single   & unknown             & no      & yes     & no      & telephone & jul & mon & nonexistent\\\\\n",
       "\t19989 & 21920 & 39 &  1.000000 & 999 & 0.0000000 &  1.1 & 93.57625 & -36.40000 & 4.859 & 5191.0 & ⋯ & blue-collar   & married  & basic.4y            & unknown & yes     & no      & telephone & may & wed & nonexistent\\\\\n",
       "\t19990 & 29000 & 21 &  1.000000 & 999 & 0.0000000 & -3.4 & 92.43100 & -40.47166 & 0.728 & 5017.5 & ⋯ & student       & single   & high.school         & no      & no      & no      & cellular  & oct & tue & nonexistent\\\\\n",
       "\t19991 &  6627 & 28 &  1.000000 &   1 & 3.0000000 & -3.4 & 92.37900 & -29.80000 & 0.773 & 5017.5 & ⋯ & admin.        & single   & university.degree   & no      & yes     & no      & cellular  & sep & fri & success    \\\\\n",
       "\t19992 & 35702 & 29 &  1.000000 & 999 & 0.0000000 &  1.4 & 93.44400 & -36.10000 & 4.963 & 5228.1 & ⋯ & admin.        & single   & university.degree   & no      & yes     & no      & cellular  & aug & thu & nonexistent\\\\\n",
       "\t19993 & 38555 & 49 &  2.000000 & 999 & 0.0000000 &  1.4 & 93.44400 & -36.10000 & 4.963 & 5228.1 & ⋯ & services      & married  & basic.4y            & unknown & no      & no      & cellular  & aug & mon & nonexistent\\\\\n",
       "\t19994 & 23289 & 38 &  6.000000 & 999 & 1.0000000 & -1.8 & 92.89300 & -46.20000 & 1.344 & 5099.1 & ⋯ & blue-collar   & divorced & high.school         & no      & yes     & no      & cellular  & may & tue & failure    \\\\\n",
       "\t19995 &  2969 & 36 & 24.000000 & 999 & 0.0000000 &  1.4 & 93.91800 & -42.70000 & 4.968 & 5228.1 & ⋯ & blue-collar   & single   & high.school         & no      & yes     & no      & cellular  & jul & thu & nonexistent\\\\\n",
       "\t19996 & 13724 & 45 &  1.000000 & 999 & 0.0000000 &  1.4 & 93.91800 & -42.70000 & 4.957 & 5228.1 & ⋯ & unknown       & unknown  & unknown             & no      & yes     & yes     & cellular  & jul & wed & nonexistent\\\\\n",
       "\t19997 & 29863 & 26 &  2.000000 & 999 & 1.0000000 & -1.8 & 92.89300 & -46.20000 & 1.299 & 5099.1 & ⋯ & admin.        & single   & university.degree   & no      & yes     & no      & cellular  & may & mon & failure    \\\\\n",
       "\t19998 &  9841 & 33 &  1.000000 & 999 & 1.0000000 & -1.8 & 92.89300 & -46.20000 & 1.299 & 5099.1 & ⋯ & admin.        & married  & high.school         & no      & yes     & yes     & cellular  & may & mon & failure    \\\\\n",
       "\t19999 & 36432 & 43 & 10.000000 & 999 & 0.0000000 &  1.4 & 93.91800 & -42.70000 & 4.960 & 5228.1 & ⋯ & admin.        & married  & high.school         & no      & yes     & no      & telephone & jul & mon & nonexistent\\\\\n",
       "\t20000 & 15639 & 55 &  3.000000 & 999 & 0.0000000 &  1.4 & 93.44400 & -36.10000 & 4.963 & 5228.1 & ⋯ & blue-collar   & married  & basic.9y            & no      & yes     & yes     & cellular  & aug & thu & nonexistent\\\\\n",
       "\\end{tabular}\n"
      ],
      "text/markdown": [
       "\n",
       "A data.frame: 18139 × 21\n",
       "\n",
       "| <!--/--> | client_id &lt;int&gt; | age &lt;dbl&gt; | campaign &lt;dbl&gt; | pdays &lt;dbl&gt; | previous &lt;dbl&gt; | emp_var_rate &lt;dbl&gt; | cons_price_idx &lt;dbl&gt; | cons_conf_idx &lt;dbl&gt; | euribor3m &lt;dbl&gt; | nr_employed &lt;dbl&gt; | ⋯ ⋯ | job &lt;chr&gt; | marital &lt;chr&gt; | education &lt;chr&gt; | default &lt;chr&gt; | housing &lt;chr&gt; | loan &lt;chr&gt; | contact &lt;chr&gt; | month &lt;chr&gt; | day_of_week &lt;chr&gt; | poutcome &lt;chr&gt; |\n",
       "|---|---|---|---|---|---|---|---|---|---|---|---|---|---|---|---|---|---|---|---|---|---|\n",
       "| 1 | 29925 | 42 | 1 | 999.0000 | 0 |  1.4 | 93.918 | -42.7 | 4.968 | 5228.1 | ⋯ | management   | married  | basic.9y            | no      | no      | no      | cellular  | jul | thu | nonexistent |\n",
       "| 2 | 37529 | 35 | 4 | 999.0000 | 0 |  1.4 | 94.465 | -41.8 | 4.960 | 5228.1 | ⋯ | unemployed   | married  | university.degree   | no      | yes     | no      | telephone | jun | mon | nonexistent |\n",
       "| 3 |  2757 | 44 | 1 | 999.0000 | 0 | -1.8 | 92.893 | -46.2 | 1.264 | 5099.1 | ⋯ | technician   | married  | basic.9y            | no      | yes     | yes     | cellular  | may | mon | nonexistent |\n",
       "| 4 |  9642 | 45 | 1 | 999.0000 | 0 | -1.8 | 93.075 | -47.1 | 1.453 | 5099.1 | ⋯ | services     | married  | high.school         | no      | yes     | no      | cellular  | apr | tue | nonexistent |\n",
       "| 5 | 14183 | 45 | 1 | 999.0000 | 0 |  1.1 | 93.994 | -36.4 | 4.859 | 5191.0 | ⋯ | unknown      | married  | unknown             | unknown | unknown | unknown | telephone | may | wed | nonexistent |\n",
       "| 6 | 15180 | 38 | 2 | 999.0000 | 0 |  1.1 | 93.994 | -36.4 | 4.858 | 5191.0 | ⋯ | technician   | married  | professional.course | no      | no      | no      | telephone | may | wed | nonexistent |\n",
       "| 7 | 27168 | 33 | 1 | 961.4132 | 1 | -1.8 | 93.075 | -47.1 | 1.405 | 5099.1 | ⋯ | technician   | married  | professional.course | no      | no      | yes     | cellular  | apr | fri | failure     |\n",
       "| 8 |  9097 | 38 | 1 | 999.0000 | 0 |  1.1 | 93.994 | -36.4 | 4.857 | 5191.0 | ⋯ | blue-collar  | single   | basic.9y            | unknown | yes     | no      | telephone | may | wed | nonexistent |\n",
       "| 9 | 30538 | 29 | 1 | 999.0000 | 1 | -1.8 | 92.893 | -46.2 | 1.250 | 5099.1 | ⋯ | blue-collar  | single   | unknown             | no      | yes     | no      | cellular  | may | fri | failure     |\n",
       "| 10 | 28981 | 34 | 1 | 999.0000 | 0 |  1.4 | 93.444 | -36.1 | 4.965 | 5228.1 | ⋯ | admin.       | divorced | university.degree   | no      | yes     | yes     | cellular  | aug | wed | nonexistent |\n",
       "| 11 |  7989 | 47 | 3 | 999.0000 | 0 |  1.4 | 94.465 | -41.8 | 4.961 | 5228.1 | ⋯ | blue-collar  | married  | high.school         | unknown | yes     | no      | telephone | jun | mon | nonexistent |\n",
       "| 12 | 13536 | 30 | 1 | 999.0000 | 0 |  1.4 | 93.918 | -42.7 | 4.963 | 5228.1 | ⋯ | blue-collar  | single   | basic.9y            | no      | yes     | no      | cellular  | jul | thu | nonexistent |\n",
       "| 13 | 24541 | 30 | 1 | 999.0000 | 0 |  1.4 | 93.918 | -42.7 | 4.958 | 5228.1 | ⋯ | admin.       | married  | basic.6y            | no      | yes     | no      | cellular  | jul | thu | nonexistent |\n",
       "| 14 |  6216 | 35 | 2 | 999.0000 | 0 | -1.8 | 92.893 | -46.2 | 1.344 | 5099.1 | ⋯ | services     | married  | basic.6y            | unknown | yes     | no      | cellular  | may | tue | nonexistent |\n",
       "| 15 | 17983 | 45 | 1 | 999.0000 | 0 | -0.1 | 93.200 | -42.0 | 4.076 | 5195.8 | ⋯ | management   | married  | professional.course | no      | no      | no      | cellular  | nov | thu | nonexistent |\n",
       "| 16 | 29394 | 37 | 2 | 999.0000 | 1 | -0.1 | 93.200 | -42.0 | 4.191 | 5195.8 | ⋯ | entrepreneur | married  | university.degree   | unknown | yes     | no      | cellular  | nov | mon | failure     |\n",
       "| 17 | 28825 | 48 | 2 | 999.0000 | 0 |  1.4 | 94.465 | -41.8 | 4.866 | 5228.1 | ⋯ | blue-collar  | married  | basic.6y            | no      | no      | no      | telephone | jun | thu | nonexistent |\n",
       "| 18 |    41 | 47 | 2 | 999.0000 | 1 | -1.8 | 93.075 | -47.1 | 1.410 | 5099.1 | ⋯ | admin.       | married  | basic.6y            | unknown | yes     | no      | cellular  | apr | thu | failure     |\n",
       "| 19 |  7284 | 35 | 1 | 999.0000 | 0 |  1.1 | 93.994 | -36.4 | 4.858 | 5191.0 | ⋯ | blue-collar  | married  | basic.9y            | no      | yes     | no      | telephone | may | wed | nonexistent |\n",
       "| 20 | 28502 | 34 | 3 | 999.0000 | 0 | -1.8 | 93.075 | -47.1 | 1.405 | 5099.1 | ⋯ | technician   | married  | professional.course | no      | no      | no      | cellular  | apr | mon | nonexistent |\n",
       "| 21 | 11473 | 60 | 5 | 999.0000 | 0 |  1.1 | 93.994 | -36.4 | 4.855 | 5191.0 | ⋯ | technician   | married  | university.degree   | unknown | yes     | no      | telephone | may | fri | nonexistent |\n",
       "| 22 |  6134 | 35 | 2 | 999.0000 | 1 | -1.8 | 92.893 | -46.2 | 1.334 | 5099.1 | ⋯ | services     | single   | high.school         | no      | no      | no      | cellular  | may | wed | failure     |\n",
       "| 23 | 33523 | 32 | 1 | 999.0000 | 0 | -1.8 | 92.893 | -46.2 | 1.281 | 5099.1 | ⋯ | technician   | married  | university.degree   | no      | yes     | no      | cellular  | may | wed | nonexistent |\n",
       "| 24 | 21812 | 49 | 1 | 999.0000 | 0 |  1.1 | 93.994 | -36.4 | 4.856 | 5191.0 | ⋯ | blue-collar  | married  | unknown             | unknown | yes     | no      | telephone | may | tue | nonexistent |\n",
       "| 25 | 39895 | 45 | 2 | 999.0000 | 0 |  1.1 | 93.994 | -36.4 | 4.856 | 5191.0 | ⋯ | technician   | single   | professional.course | no      | no      | no      | telephone | may | tue | nonexistent |\n",
       "| 26 |  9326 | 33 | 4 | 999.0000 | 0 |  1.4 | 94.465 | -41.8 | 4.865 | 5228.1 | ⋯ | blue-collar  | single   | basic.9y            | unknown | yes     | no      | telephone | jun | mon | nonexistent |\n",
       "| 27 | 26510 | 34 | 5 | 999.0000 | 0 | -0.1 | 93.200 | -42.0 | 4.021 | 5195.8 | ⋯ | management   | single   | university.degree   | no      | unknown | unknown | telephone | nov | fri | nonexistent |\n",
       "| 28 | 20960 | 57 | 1 | 999.0000 | 0 |  1.1 | 93.994 | -36.4 | 4.856 | 5191.0 | ⋯ | retired      | married  | university.degree   | no      | yes     | no      | telephone | may | tue | nonexistent |\n",
       "| 29 | 14403 | 50 | 8 | 999.0000 | 0 |  1.4 | 93.918 | -42.7 | 4.962 | 5228.1 | ⋯ | technician   | single   | professional.course | no      | no      | yes     | cellular  | jul | mon | nonexistent |\n",
       "| 30 | 28799 | 49 | 2 | 999.0000 | 0 |  1.4 | 93.444 | -36.1 | 4.967 | 5228.1 | ⋯ | housemaid    | married  | university.degree   | no      | yes     | no      | cellular  | aug | wed | nonexistent |\n",
       "| ⋮ | ⋮ | ⋮ | ⋮ | ⋮ | ⋮ | ⋮ | ⋮ | ⋮ | ⋮ | ⋮ | ⋱ | ⋮ | ⋮ | ⋮ | ⋮ | ⋮ | ⋮ | ⋮ | ⋮ | ⋮ | ⋮ |\n",
       "| 19970 | 26121 | 22 |  2.000000 |   1 | 1.0000000 | -1.8 | 93.87600 | -40.00000 | 0.699 | 5008.7 | ⋯ | student       | single   | high.school         | unknown | yes     | yes     | telephone | may | thu | success     |\n",
       "| 19971 |  3036 | 33 |  3.000000 | 999 | 0.0000000 |  1.4 | 93.44400 | -36.10000 | 4.965 | 5228.1 | ⋯ | self-employed | married  | university.degree   | no      | no      | no      | cellular  | aug | mon | nonexistent |\n",
       "| 19972 | 19102 | 31 |  1.000000 | 999 | 0.0000000 |  1.4 | 93.44400 | -36.10000 | 4.964 | 5228.1 | ⋯ | admin.        | single   | university.degree   | unknown | yes     | no      | cellular  | aug | wed | nonexistent |\n",
       "| 19973 | 37729 | 46 |  1.000000 | 999 | 0.0000000 |  1.1 | 93.99400 | -36.40000 | 4.860 | 5191.0 | ⋯ | technician    | married  | professional.course | no      | no      | no      | telephone | may | thu | nonexistent |\n",
       "| 19974 | 20186 | 50 |  2.000000 | 999 | 0.0000000 | -2.9 | 92.46900 | -33.60000 | 0.914 | 5076.2 | ⋯ | self-employed | married  | unknown             | no      | unknown | unknown | cellular  | jul | mon | nonexistent |\n",
       "| 19975 | 38059 | 43 |  2.000000 | 999 | 0.0000000 |  1.4 | 93.44400 | -36.10000 | 4.966 | 5228.1 | ⋯ | admin.        | divorced | university.degree   | unknown | no      | no      | cellular  | aug | tue | nonexistent |\n",
       "| 19976 |  8099 | 32 |  1.000000 | 999 | 0.0000000 | -0.1 | 93.20000 | -42.00000 | 4.153 | 5195.8 | ⋯ | technician    | divorced | professional.course | no      | no      | no      | cellular  | nov | tue | nonexistent |\n",
       "| 19977 | 15178 | 37 |  2.000000 | 999 | 0.0000000 |  1.4 | 93.44400 | -36.10000 | 4.965 | 5228.1 | ⋯ | housemaid     | married  | basic.4y            | unknown | no      | yes     | cellular  | aug | tue | nonexistent |\n",
       "| 19978 | 18920 | 47 |  2.000000 | 999 | 0.1717447 |  1.4 | 94.46500 | -41.80000 | 4.865 | 5228.1 | ⋯ | technician    | divorced | high.school         | no      | yes     | no      | telephone | jun | mon | nonexistent |\n",
       "| 19979 | 19757 | 31 |  1.000000 | 999 | 0.0000000 |  1.4 | 93.44400 | -36.10000 | 4.965 | 5228.1 | ⋯ | admin.        | single   | university.degree   | no      | yes     | no      | cellular  | aug | wed | nonexistent |\n",
       "| 19980 |  9327 | 31 |  1.000000 | 999 | 0.0000000 |  1.4 | 93.44400 | -36.10000 | 4.968 | 5228.1 | ⋯ | admin.        | single   | university.degree   | unknown | no      | yes     | cellular  | aug | thu | nonexistent |\n",
       "| 19981 | 16641 | 51 |  6.000000 |   6 | 3.0000000 | -3.4 | 92.43100 | -26.90000 | 0.754 | 5017.5 | ⋯ | technician    | married  | professional.course | no      | yes     | no      | cellular  | oct | thu | failure     |\n",
       "| 19982 |  9656 | 30 |  3.000000 | 999 | 0.0000000 |  1.4 | 93.44400 | -36.10000 | 4.963 | 5228.1 | ⋯ | admin.        | married  | university.degree   | no      | yes     | no      | cellular  | aug | mon | nonexistent |\n",
       "| 19983 | 37330 | 42 |  3.000000 | 999 | 0.0000000 |  1.1 | 93.99400 | -36.40000 | 4.864 | 5191.0 | ⋯ | technician    | married  | professional.course | unknown | yes     | no      | telephone | may | fri | nonexistent |\n",
       "| 19984 | 34568 | 32 |  3.000000 | 999 | 0.0000000 |  1.1 | 93.99400 | -36.40000 | 4.860 | 5191.0 | ⋯ | blue-collar   | married  | basic.6y            | no      | yes     | no      | telephone | may | thu | nonexistent |\n",
       "| 19985 | 23095 | 41 |  3.000000 | 999 | 0.0000000 |  1.4 | 93.91800 | -42.70000 | 4.968 | 5228.1 | ⋯ | blue-collar   | married  | basic.6y            | no      | yes     | no      | cellular  | jul | thu | nonexistent |\n",
       "| 19986 | 25383 | 48 |  2.000000 | 999 | 0.0000000 |  1.1 | 93.99400 | -36.40000 | 4.856 | 5191.0 | ⋯ | admin.        | divorced | high.school         | no      | no      | yes     | telephone | may | tue | nonexistent |\n",
       "| 19988 |  4245 | 35 |  2.580189 | 999 | 0.0000000 |  1.4 | 93.91800 | -42.70000 | 4.960 | 5228.1 | ⋯ | blue-collar   | single   | unknown             | no      | yes     | no      | telephone | jul | mon | nonexistent |\n",
       "| 19989 | 21920 | 39 |  1.000000 | 999 | 0.0000000 |  1.1 | 93.57625 | -36.40000 | 4.859 | 5191.0 | ⋯ | blue-collar   | married  | basic.4y            | unknown | yes     | no      | telephone | may | wed | nonexistent |\n",
       "| 19990 | 29000 | 21 |  1.000000 | 999 | 0.0000000 | -3.4 | 92.43100 | -40.47166 | 0.728 | 5017.5 | ⋯ | student       | single   | high.school         | no      | no      | no      | cellular  | oct | tue | nonexistent |\n",
       "| 19991 |  6627 | 28 |  1.000000 |   1 | 3.0000000 | -3.4 | 92.37900 | -29.80000 | 0.773 | 5017.5 | ⋯ | admin.        | single   | university.degree   | no      | yes     | no      | cellular  | sep | fri | success     |\n",
       "| 19992 | 35702 | 29 |  1.000000 | 999 | 0.0000000 |  1.4 | 93.44400 | -36.10000 | 4.963 | 5228.1 | ⋯ | admin.        | single   | university.degree   | no      | yes     | no      | cellular  | aug | thu | nonexistent |\n",
       "| 19993 | 38555 | 49 |  2.000000 | 999 | 0.0000000 |  1.4 | 93.44400 | -36.10000 | 4.963 | 5228.1 | ⋯ | services      | married  | basic.4y            | unknown | no      | no      | cellular  | aug | mon | nonexistent |\n",
       "| 19994 | 23289 | 38 |  6.000000 | 999 | 1.0000000 | -1.8 | 92.89300 | -46.20000 | 1.344 | 5099.1 | ⋯ | blue-collar   | divorced | high.school         | no      | yes     | no      | cellular  | may | tue | failure     |\n",
       "| 19995 |  2969 | 36 | 24.000000 | 999 | 0.0000000 |  1.4 | 93.91800 | -42.70000 | 4.968 | 5228.1 | ⋯ | blue-collar   | single   | high.school         | no      | yes     | no      | cellular  | jul | thu | nonexistent |\n",
       "| 19996 | 13724 | 45 |  1.000000 | 999 | 0.0000000 |  1.4 | 93.91800 | -42.70000 | 4.957 | 5228.1 | ⋯ | unknown       | unknown  | unknown             | no      | yes     | yes     | cellular  | jul | wed | nonexistent |\n",
       "| 19997 | 29863 | 26 |  2.000000 | 999 | 1.0000000 | -1.8 | 92.89300 | -46.20000 | 1.299 | 5099.1 | ⋯ | admin.        | single   | university.degree   | no      | yes     | no      | cellular  | may | mon | failure     |\n",
       "| 19998 |  9841 | 33 |  1.000000 | 999 | 1.0000000 | -1.8 | 92.89300 | -46.20000 | 1.299 | 5099.1 | ⋯ | admin.        | married  | high.school         | no      | yes     | yes     | cellular  | may | mon | failure     |\n",
       "| 19999 | 36432 | 43 | 10.000000 | 999 | 0.0000000 |  1.4 | 93.91800 | -42.70000 | 4.960 | 5228.1 | ⋯ | admin.        | married  | high.school         | no      | yes     | no      | telephone | jul | mon | nonexistent |\n",
       "| 20000 | 15639 | 55 |  3.000000 | 999 | 0.0000000 |  1.4 | 93.44400 | -36.10000 | 4.963 | 5228.1 | ⋯ | blue-collar   | married  | basic.9y            | no      | yes     | yes     | cellular  | aug | thu | nonexistent |\n",
       "\n"
      ],
      "text/plain": [
       "      client_id age campaign  pdays    previous  emp_var_rate cons_price_idx\n",
       "1     29925     42  1         999.0000 0          1.4         93.918        \n",
       "2     37529     35  4         999.0000 0          1.4         94.465        \n",
       "3      2757     44  1         999.0000 0         -1.8         92.893        \n",
       "4      9642     45  1         999.0000 0         -1.8         93.075        \n",
       "5     14183     45  1         999.0000 0          1.1         93.994        \n",
       "6     15180     38  2         999.0000 0          1.1         93.994        \n",
       "7     27168     33  1         961.4132 1         -1.8         93.075        \n",
       "8      9097     38  1         999.0000 0          1.1         93.994        \n",
       "9     30538     29  1         999.0000 1         -1.8         92.893        \n",
       "10    28981     34  1         999.0000 0          1.4         93.444        \n",
       "11     7989     47  3         999.0000 0          1.4         94.465        \n",
       "12    13536     30  1         999.0000 0          1.4         93.918        \n",
       "13    24541     30  1         999.0000 0          1.4         93.918        \n",
       "14     6216     35  2         999.0000 0         -1.8         92.893        \n",
       "15    17983     45  1         999.0000 0         -0.1         93.200        \n",
       "16    29394     37  2         999.0000 1         -0.1         93.200        \n",
       "17    28825     48  2         999.0000 0          1.4         94.465        \n",
       "18       41     47  2         999.0000 1         -1.8         93.075        \n",
       "19     7284     35  1         999.0000 0          1.1         93.994        \n",
       "20    28502     34  3         999.0000 0         -1.8         93.075        \n",
       "21    11473     60  5         999.0000 0          1.1         93.994        \n",
       "22     6134     35  2         999.0000 1         -1.8         92.893        \n",
       "23    33523     32  1         999.0000 0         -1.8         92.893        \n",
       "24    21812     49  1         999.0000 0          1.1         93.994        \n",
       "25    39895     45  2         999.0000 0          1.1         93.994        \n",
       "26     9326     33  4         999.0000 0          1.4         94.465        \n",
       "27    26510     34  5         999.0000 0         -0.1         93.200        \n",
       "28    20960     57  1         999.0000 0          1.1         93.994        \n",
       "29    14403     50  8         999.0000 0          1.4         93.918        \n",
       "30    28799     49  2         999.0000 0          1.4         93.444        \n",
       "<U+22EE>     <U+22EE>  <U+22EE> <U+22EE>  <U+22EE> <U+22EE>  <U+22EE>     <U+22EE>      \n",
       "19970 26121     22   2.000000   1      1.0000000 -1.8         93.87600      \n",
       "19971  3036     33   3.000000 999      0.0000000  1.4         93.44400      \n",
       "19972 19102     31   1.000000 999      0.0000000  1.4         93.44400      \n",
       "19973 37729     46   1.000000 999      0.0000000  1.1         93.99400      \n",
       "19974 20186     50   2.000000 999      0.0000000 -2.9         92.46900      \n",
       "19975 38059     43   2.000000 999      0.0000000  1.4         93.44400      \n",
       "19976  8099     32   1.000000 999      0.0000000 -0.1         93.20000      \n",
       "19977 15178     37   2.000000 999      0.0000000  1.4         93.44400      \n",
       "19978 18920     47   2.000000 999      0.1717447  1.4         94.46500      \n",
       "19979 19757     31   1.000000 999      0.0000000  1.4         93.44400      \n",
       "19980  9327     31   1.000000 999      0.0000000  1.4         93.44400      \n",
       "19981 16641     51   6.000000   6      3.0000000 -3.4         92.43100      \n",
       "19982  9656     30   3.000000 999      0.0000000  1.4         93.44400      \n",
       "19983 37330     42   3.000000 999      0.0000000  1.1         93.99400      \n",
       "19984 34568     32   3.000000 999      0.0000000  1.1         93.99400      \n",
       "19985 23095     41   3.000000 999      0.0000000  1.4         93.91800      \n",
       "19986 25383     48   2.000000 999      0.0000000  1.1         93.99400      \n",
       "19988  4245     35   2.580189 999      0.0000000  1.4         93.91800      \n",
       "19989 21920     39   1.000000 999      0.0000000  1.1         93.57625      \n",
       "19990 29000     21   1.000000 999      0.0000000 -3.4         92.43100      \n",
       "19991  6627     28   1.000000   1      3.0000000 -3.4         92.37900      \n",
       "19992 35702     29   1.000000 999      0.0000000  1.4         93.44400      \n",
       "19993 38555     49   2.000000 999      0.0000000  1.4         93.44400      \n",
       "19994 23289     38   6.000000 999      1.0000000 -1.8         92.89300      \n",
       "19995  2969     36  24.000000 999      0.0000000  1.4         93.91800      \n",
       "19996 13724     45   1.000000 999      0.0000000  1.4         93.91800      \n",
       "19997 29863     26   2.000000 999      1.0000000 -1.8         92.89300      \n",
       "19998  9841     33   1.000000 999      1.0000000 -1.8         92.89300      \n",
       "19999 36432     43  10.000000 999      0.0000000  1.4         93.91800      \n",
       "20000 15639     55   3.000000 999      0.0000000  1.4         93.44400      \n",
       "      cons_conf_idx euribor3m nr_employed <U+22EF>        job           marital \n",
       "1     -42.7         4.968     5228.1      <U+22EF> management    married \n",
       "2     -41.8         4.960     5228.1      <U+22EF> unemployed    married \n",
       "3     -46.2         1.264     5099.1      <U+22EF> technician    married \n",
       "4     -47.1         1.453     5099.1      <U+22EF> services      married \n",
       "5     -36.4         4.859     5191.0      <U+22EF> unknown       married \n",
       "6     -36.4         4.858     5191.0      <U+22EF> technician    married \n",
       "7     -47.1         1.405     5099.1      <U+22EF> technician    married \n",
       "8     -36.4         4.857     5191.0      <U+22EF> blue-collar   single  \n",
       "9     -46.2         1.250     5099.1      <U+22EF> blue-collar   single  \n",
       "10    -36.1         4.965     5228.1      <U+22EF> admin.        divorced\n",
       "11    -41.8         4.961     5228.1      <U+22EF> blue-collar   married \n",
       "12    -42.7         4.963     5228.1      <U+22EF> blue-collar   single  \n",
       "13    -42.7         4.958     5228.1      <U+22EF> admin.        married \n",
       "14    -46.2         1.344     5099.1      <U+22EF> services      married \n",
       "15    -42.0         4.076     5195.8      <U+22EF> management    married \n",
       "16    -42.0         4.191     5195.8      <U+22EF> entrepreneur  married \n",
       "17    -41.8         4.866     5228.1      <U+22EF> blue-collar   married \n",
       "18    -47.1         1.410     5099.1      <U+22EF> admin.        married \n",
       "19    -36.4         4.858     5191.0      <U+22EF> blue-collar   married \n",
       "20    -47.1         1.405     5099.1      <U+22EF> technician    married \n",
       "21    -36.4         4.855     5191.0      <U+22EF> technician    married \n",
       "22    -46.2         1.334     5099.1      <U+22EF> services      single  \n",
       "23    -46.2         1.281     5099.1      <U+22EF> technician    married \n",
       "24    -36.4         4.856     5191.0      <U+22EF> blue-collar   married \n",
       "25    -36.4         4.856     5191.0      <U+22EF> technician    single  \n",
       "26    -41.8         4.865     5228.1      <U+22EF> blue-collar   single  \n",
       "27    -42.0         4.021     5195.8      <U+22EF> management    single  \n",
       "28    -36.4         4.856     5191.0      <U+22EF> retired       married \n",
       "29    -42.7         4.962     5228.1      <U+22EF> technician    single  \n",
       "30    -36.1         4.967     5228.1      <U+22EF> housemaid     married \n",
       "<U+22EE>     <U+22EE>      <U+22EE>  <U+22EE>    <U+22F1> <U+22EE>      <U+22EE>\n",
       "19970 -40.00000     0.699     5008.7      <U+22EF> student       single  \n",
       "19971 -36.10000     4.965     5228.1      <U+22EF> self-employed married \n",
       "19972 -36.10000     4.964     5228.1      <U+22EF> admin.        single  \n",
       "19973 -36.40000     4.860     5191.0      <U+22EF> technician    married \n",
       "19974 -33.60000     0.914     5076.2      <U+22EF> self-employed married \n",
       "19975 -36.10000     4.966     5228.1      <U+22EF> admin.        divorced\n",
       "19976 -42.00000     4.153     5195.8      <U+22EF> technician    divorced\n",
       "19977 -36.10000     4.965     5228.1      <U+22EF> housemaid     married \n",
       "19978 -41.80000     4.865     5228.1      <U+22EF> technician    divorced\n",
       "19979 -36.10000     4.965     5228.1      <U+22EF> admin.        single  \n",
       "19980 -36.10000     4.968     5228.1      <U+22EF> admin.        single  \n",
       "19981 -26.90000     0.754     5017.5      <U+22EF> technician    married \n",
       "19982 -36.10000     4.963     5228.1      <U+22EF> admin.        married \n",
       "19983 -36.40000     4.864     5191.0      <U+22EF> technician    married \n",
       "19984 -36.40000     4.860     5191.0      <U+22EF> blue-collar   married \n",
       "19985 -42.70000     4.968     5228.1      <U+22EF> blue-collar   married \n",
       "19986 -36.40000     4.856     5191.0      <U+22EF> admin.        divorced\n",
       "19988 -42.70000     4.960     5228.1      <U+22EF> blue-collar   single  \n",
       "19989 -36.40000     4.859     5191.0      <U+22EF> blue-collar   married \n",
       "19990 -40.47166     0.728     5017.5      <U+22EF> student       single  \n",
       "19991 -29.80000     0.773     5017.5      <U+22EF> admin.        single  \n",
       "19992 -36.10000     4.963     5228.1      <U+22EF> admin.        single  \n",
       "19993 -36.10000     4.963     5228.1      <U+22EF> services      married \n",
       "19994 -46.20000     1.344     5099.1      <U+22EF> blue-collar   divorced\n",
       "19995 -42.70000     4.968     5228.1      <U+22EF> blue-collar   single  \n",
       "19996 -42.70000     4.957     5228.1      <U+22EF> unknown       unknown \n",
       "19997 -46.20000     1.299     5099.1      <U+22EF> admin.        single  \n",
       "19998 -46.20000     1.299     5099.1      <U+22EF> admin.        married \n",
       "19999 -42.70000     4.960     5228.1      <U+22EF> admin.        married \n",
       "20000 -36.10000     4.963     5228.1      <U+22EF> blue-collar   married \n",
       "      education           default housing loan    contact   month day_of_week\n",
       "1     basic.9y            no      no      no      cellular  jul   thu        \n",
       "2     university.degree   no      yes     no      telephone jun   mon        \n",
       "3     basic.9y            no      yes     yes     cellular  may   mon        \n",
       "4     high.school         no      yes     no      cellular  apr   tue        \n",
       "5     unknown             unknown unknown unknown telephone may   wed        \n",
       "6     professional.course no      no      no      telephone may   wed        \n",
       "7     professional.course no      no      yes     cellular  apr   fri        \n",
       "8     basic.9y            unknown yes     no      telephone may   wed        \n",
       "9     unknown             no      yes     no      cellular  may   fri        \n",
       "10    university.degree   no      yes     yes     cellular  aug   wed        \n",
       "11    high.school         unknown yes     no      telephone jun   mon        \n",
       "12    basic.9y            no      yes     no      cellular  jul   thu        \n",
       "13    basic.6y            no      yes     no      cellular  jul   thu        \n",
       "14    basic.6y            unknown yes     no      cellular  may   tue        \n",
       "15    professional.course no      no      no      cellular  nov   thu        \n",
       "16    university.degree   unknown yes     no      cellular  nov   mon        \n",
       "17    basic.6y            no      no      no      telephone jun   thu        \n",
       "18    basic.6y            unknown yes     no      cellular  apr   thu        \n",
       "19    basic.9y            no      yes     no      telephone may   wed        \n",
       "20    professional.course no      no      no      cellular  apr   mon        \n",
       "21    university.degree   unknown yes     no      telephone may   fri        \n",
       "22    high.school         no      no      no      cellular  may   wed        \n",
       "23    university.degree   no      yes     no      cellular  may   wed        \n",
       "24    unknown             unknown yes     no      telephone may   tue        \n",
       "25    professional.course no      no      no      telephone may   tue        \n",
       "26    basic.9y            unknown yes     no      telephone jun   mon        \n",
       "27    university.degree   no      unknown unknown telephone nov   fri        \n",
       "28    university.degree   no      yes     no      telephone may   tue        \n",
       "29    professional.course no      no      yes     cellular  jul   mon        \n",
       "30    university.degree   no      yes     no      cellular  aug   wed        \n",
       "<U+22EE>     <U+22EE>            <U+22EE> <U+22EE> <U+22EE> <U+22EE>  <U+22EE> <U+22EE>   \n",
       "19970 high.school         unknown yes     yes     telephone may   thu        \n",
       "19971 university.degree   no      no      no      cellular  aug   mon        \n",
       "19972 university.degree   unknown yes     no      cellular  aug   wed        \n",
       "19973 professional.course no      no      no      telephone may   thu        \n",
       "19974 unknown             no      unknown unknown cellular  jul   mon        \n",
       "19975 university.degree   unknown no      no      cellular  aug   tue        \n",
       "19976 professional.course no      no      no      cellular  nov   tue        \n",
       "19977 basic.4y            unknown no      yes     cellular  aug   tue        \n",
       "19978 high.school         no      yes     no      telephone jun   mon        \n",
       "19979 university.degree   no      yes     no      cellular  aug   wed        \n",
       "19980 university.degree   unknown no      yes     cellular  aug   thu        \n",
       "19981 professional.course no      yes     no      cellular  oct   thu        \n",
       "19982 university.degree   no      yes     no      cellular  aug   mon        \n",
       "19983 professional.course unknown yes     no      telephone may   fri        \n",
       "19984 basic.6y            no      yes     no      telephone may   thu        \n",
       "19985 basic.6y            no      yes     no      cellular  jul   thu        \n",
       "19986 high.school         no      no      yes     telephone may   tue        \n",
       "19988 unknown             no      yes     no      telephone jul   mon        \n",
       "19989 basic.4y            unknown yes     no      telephone may   wed        \n",
       "19990 high.school         no      no      no      cellular  oct   tue        \n",
       "19991 university.degree   no      yes     no      cellular  sep   fri        \n",
       "19992 university.degree   no      yes     no      cellular  aug   thu        \n",
       "19993 basic.4y            unknown no      no      cellular  aug   mon        \n",
       "19994 high.school         no      yes     no      cellular  may   tue        \n",
       "19995 high.school         no      yes     no      cellular  jul   thu        \n",
       "19996 unknown             no      yes     yes     cellular  jul   wed        \n",
       "19997 university.degree   no      yes     no      cellular  may   mon        \n",
       "19998 high.school         no      yes     yes     cellular  may   mon        \n",
       "19999 high.school         no      yes     no      telephone jul   mon        \n",
       "20000 basic.9y            no      yes     yes     cellular  aug   thu        \n",
       "      poutcome   \n",
       "1     nonexistent\n",
       "2     nonexistent\n",
       "3     nonexistent\n",
       "4     nonexistent\n",
       "5     nonexistent\n",
       "6     nonexistent\n",
       "7     failure    \n",
       "8     nonexistent\n",
       "9     failure    \n",
       "10    nonexistent\n",
       "11    nonexistent\n",
       "12    nonexistent\n",
       "13    nonexistent\n",
       "14    nonexistent\n",
       "15    nonexistent\n",
       "16    failure    \n",
       "17    nonexistent\n",
       "18    failure    \n",
       "19    nonexistent\n",
       "20    nonexistent\n",
       "21    nonexistent\n",
       "22    failure    \n",
       "23    nonexistent\n",
       "24    nonexistent\n",
       "25    nonexistent\n",
       "26    nonexistent\n",
       "27    nonexistent\n",
       "28    nonexistent\n",
       "29    nonexistent\n",
       "30    nonexistent\n",
       "<U+22EE>     <U+22EE>   \n",
       "19970 success    \n",
       "19971 nonexistent\n",
       "19972 nonexistent\n",
       "19973 nonexistent\n",
       "19974 nonexistent\n",
       "19975 nonexistent\n",
       "19976 nonexistent\n",
       "19977 nonexistent\n",
       "19978 nonexistent\n",
       "19979 nonexistent\n",
       "19980 nonexistent\n",
       "19981 failure    \n",
       "19982 nonexistent\n",
       "19983 nonexistent\n",
       "19984 nonexistent\n",
       "19985 nonexistent\n",
       "19986 nonexistent\n",
       "19988 nonexistent\n",
       "19989 nonexistent\n",
       "19990 nonexistent\n",
       "19991 success    \n",
       "19992 nonexistent\n",
       "19993 nonexistent\n",
       "19994 failure    \n",
       "19995 nonexistent\n",
       "19996 nonexistent\n",
       "19997 failure    \n",
       "19998 failure    \n",
       "19999 nonexistent\n",
       "20000 nonexistent"
      ]
     },
     "metadata": {},
     "output_type": "display_data"
    }
   ],
   "source": [
    "# ReOrder columns\n",
    "col_order <- c(\"client_id\", \"age\", \"campaign\",\"pdays\", \n",
    "               \"previous\",\"emp_var_rate\",\"cons_price_idx\",\"cons_conf_idx\",\n",
    "               \"euribor3m\",\"nr_employed\",\"subscribe\",\"job\",\"marital\",\n",
    "               \"education\",\"default\",\"housing\",\"loan\",\"contact\",\"month\",\"day_of_week\",\"poutcome\")\n",
    "bank2 <- bank[, col_order]\n",
    "bank2"
   ]
  },
  {
   "cell_type": "markdown",
   "id": "c4abff52",
   "metadata": {},
   "source": [
    "### Encode Categorical Variables"
   ]
  },
  {
   "cell_type": "code",
   "execution_count": 11,
   "id": "c16601b2",
   "metadata": {
    "scrolled": true
   },
   "outputs": [
    {
     "data": {
      "text/html": [
       "<table class=\"dataframe\">\n",
       "<caption>A data.frame: 18139 × 64</caption>\n",
       "<thead>\n",
       "\t<tr><th></th><th scope=col>client_id</th><th scope=col>age</th><th scope=col>campaign</th><th scope=col>pdays</th><th scope=col>previous</th><th scope=col>emp_var_rate</th><th scope=col>cons_price_idx</th><th scope=col>cons_conf_idx</th><th scope=col>euribor3m</th><th scope=col>nr_employed</th><th scope=col>⋯</th><th scope=col>monthsep</th><th scope=col>day_of_weekfri</th><th scope=col>day_of_weekmon</th><th scope=col>day_of_weekthu</th><th scope=col>day_of_weektue</th><th scope=col>day_of_weekwed</th><th scope=col>poutcomefailure</th><th scope=col>poutcomenonexistent</th><th scope=col>poutcomesuccess</th><th scope=col>subscribe</th></tr>\n",
       "\t<tr><th></th><th scope=col>&lt;int&gt;</th><th scope=col>&lt;dbl&gt;</th><th scope=col>&lt;dbl&gt;</th><th scope=col>&lt;dbl&gt;</th><th scope=col>&lt;dbl&gt;</th><th scope=col>&lt;dbl&gt;</th><th scope=col>&lt;dbl&gt;</th><th scope=col>&lt;dbl&gt;</th><th scope=col>&lt;dbl&gt;</th><th scope=col>&lt;dbl&gt;</th><th scope=col>⋯</th><th scope=col>&lt;dbl&gt;</th><th scope=col>&lt;dbl&gt;</th><th scope=col>&lt;dbl&gt;</th><th scope=col>&lt;dbl&gt;</th><th scope=col>&lt;dbl&gt;</th><th scope=col>&lt;dbl&gt;</th><th scope=col>&lt;dbl&gt;</th><th scope=col>&lt;dbl&gt;</th><th scope=col>&lt;dbl&gt;</th><th scope=col>&lt;int&gt;</th></tr>\n",
       "</thead>\n",
       "<tbody>\n",
       "\t<tr><th scope=row>1</th><td>29925</td><td>42</td><td>1</td><td>999.0000</td><td>0</td><td> 1.4</td><td>93.918</td><td>-42.7</td><td>4.968</td><td>5228.1</td><td>⋯</td><td>0</td><td>0</td><td>0</td><td>1</td><td>0</td><td>0</td><td>0</td><td>1</td><td>0</td><td>0</td></tr>\n",
       "\t<tr><th scope=row>2</th><td>37529</td><td>35</td><td>4</td><td>999.0000</td><td>0</td><td> 1.4</td><td>94.465</td><td>-41.8</td><td>4.960</td><td>5228.1</td><td>⋯</td><td>0</td><td>0</td><td>1</td><td>0</td><td>0</td><td>0</td><td>0</td><td>1</td><td>0</td><td>0</td></tr>\n",
       "\t<tr><th scope=row>3</th><td> 2757</td><td>44</td><td>1</td><td>999.0000</td><td>0</td><td>-1.8</td><td>92.893</td><td>-46.2</td><td>1.264</td><td>5099.1</td><td>⋯</td><td>0</td><td>0</td><td>1</td><td>0</td><td>0</td><td>0</td><td>0</td><td>1</td><td>0</td><td>0</td></tr>\n",
       "\t<tr><th scope=row>4</th><td> 9642</td><td>45</td><td>1</td><td>999.0000</td><td>0</td><td>-1.8</td><td>93.075</td><td>-47.1</td><td>1.453</td><td>5099.1</td><td>⋯</td><td>0</td><td>0</td><td>0</td><td>0</td><td>1</td><td>0</td><td>0</td><td>1</td><td>0</td><td>0</td></tr>\n",
       "\t<tr><th scope=row>5</th><td>14183</td><td>45</td><td>1</td><td>999.0000</td><td>0</td><td> 1.1</td><td>93.994</td><td>-36.4</td><td>4.859</td><td>5191.0</td><td>⋯</td><td>0</td><td>0</td><td>0</td><td>0</td><td>0</td><td>1</td><td>0</td><td>1</td><td>0</td><td>0</td></tr>\n",
       "\t<tr><th scope=row>6</th><td>15180</td><td>38</td><td>2</td><td>999.0000</td><td>0</td><td> 1.1</td><td>93.994</td><td>-36.4</td><td>4.858</td><td>5191.0</td><td>⋯</td><td>0</td><td>0</td><td>0</td><td>0</td><td>0</td><td>1</td><td>0</td><td>1</td><td>0</td><td>0</td></tr>\n",
       "\t<tr><th scope=row>7</th><td>27168</td><td>33</td><td>1</td><td>961.4132</td><td>1</td><td>-1.8</td><td>93.075</td><td>-47.1</td><td>1.405</td><td>5099.1</td><td>⋯</td><td>0</td><td>1</td><td>0</td><td>0</td><td>0</td><td>0</td><td>1</td><td>0</td><td>0</td><td>1</td></tr>\n",
       "\t<tr><th scope=row>8</th><td> 9097</td><td>38</td><td>1</td><td>999.0000</td><td>0</td><td> 1.1</td><td>93.994</td><td>-36.4</td><td>4.857</td><td>5191.0</td><td>⋯</td><td>0</td><td>0</td><td>0</td><td>0</td><td>0</td><td>1</td><td>0</td><td>1</td><td>0</td><td>0</td></tr>\n",
       "\t<tr><th scope=row>9</th><td>30538</td><td>29</td><td>1</td><td>999.0000</td><td>1</td><td>-1.8</td><td>92.893</td><td>-46.2</td><td>1.250</td><td>5099.1</td><td>⋯</td><td>0</td><td>1</td><td>0</td><td>0</td><td>0</td><td>0</td><td>1</td><td>0</td><td>0</td><td>0</td></tr>\n",
       "\t<tr><th scope=row>10</th><td>28981</td><td>34</td><td>1</td><td>999.0000</td><td>0</td><td> 1.4</td><td>93.444</td><td>-36.1</td><td>4.965</td><td>5228.1</td><td>⋯</td><td>0</td><td>0</td><td>0</td><td>0</td><td>0</td><td>1</td><td>0</td><td>1</td><td>0</td><td>0</td></tr>\n",
       "\t<tr><th scope=row>11</th><td> 7989</td><td>47</td><td>3</td><td>999.0000</td><td>0</td><td> 1.4</td><td>94.465</td><td>-41.8</td><td>4.961</td><td>5228.1</td><td>⋯</td><td>0</td><td>0</td><td>1</td><td>0</td><td>0</td><td>0</td><td>0</td><td>1</td><td>0</td><td>0</td></tr>\n",
       "\t<tr><th scope=row>12</th><td>13536</td><td>30</td><td>1</td><td>999.0000</td><td>0</td><td> 1.4</td><td>93.918</td><td>-42.7</td><td>4.963</td><td>5228.1</td><td>⋯</td><td>0</td><td>0</td><td>0</td><td>1</td><td>0</td><td>0</td><td>0</td><td>1</td><td>0</td><td>0</td></tr>\n",
       "\t<tr><th scope=row>13</th><td>24541</td><td>30</td><td>1</td><td>999.0000</td><td>0</td><td> 1.4</td><td>93.918</td><td>-42.7</td><td>4.958</td><td>5228.1</td><td>⋯</td><td>0</td><td>0</td><td>0</td><td>1</td><td>0</td><td>0</td><td>0</td><td>1</td><td>0</td><td>0</td></tr>\n",
       "\t<tr><th scope=row>14</th><td> 6216</td><td>35</td><td>2</td><td>999.0000</td><td>0</td><td>-1.8</td><td>92.893</td><td>-46.2</td><td>1.344</td><td>5099.1</td><td>⋯</td><td>0</td><td>0</td><td>0</td><td>0</td><td>1</td><td>0</td><td>0</td><td>1</td><td>0</td><td>0</td></tr>\n",
       "\t<tr><th scope=row>15</th><td>17983</td><td>45</td><td>1</td><td>999.0000</td><td>0</td><td>-0.1</td><td>93.200</td><td>-42.0</td><td>4.076</td><td>5195.8</td><td>⋯</td><td>0</td><td>0</td><td>0</td><td>1</td><td>0</td><td>0</td><td>0</td><td>1</td><td>0</td><td>1</td></tr>\n",
       "\t<tr><th scope=row>16</th><td>29394</td><td>37</td><td>2</td><td>999.0000</td><td>1</td><td>-0.1</td><td>93.200</td><td>-42.0</td><td>4.191</td><td>5195.8</td><td>⋯</td><td>0</td><td>0</td><td>1</td><td>0</td><td>0</td><td>0</td><td>1</td><td>0</td><td>0</td><td>0</td></tr>\n",
       "\t<tr><th scope=row>17</th><td>28825</td><td>48</td><td>2</td><td>999.0000</td><td>0</td><td> 1.4</td><td>94.465</td><td>-41.8</td><td>4.866</td><td>5228.1</td><td>⋯</td><td>0</td><td>0</td><td>0</td><td>1</td><td>0</td><td>0</td><td>0</td><td>1</td><td>0</td><td>0</td></tr>\n",
       "\t<tr><th scope=row>18</th><td>   41</td><td>47</td><td>2</td><td>999.0000</td><td>1</td><td>-1.8</td><td>93.075</td><td>-47.1</td><td>1.410</td><td>5099.1</td><td>⋯</td><td>0</td><td>0</td><td>0</td><td>1</td><td>0</td><td>0</td><td>1</td><td>0</td><td>0</td><td>0</td></tr>\n",
       "\t<tr><th scope=row>19</th><td> 7284</td><td>35</td><td>1</td><td>999.0000</td><td>0</td><td> 1.1</td><td>93.994</td><td>-36.4</td><td>4.858</td><td>5191.0</td><td>⋯</td><td>0</td><td>0</td><td>0</td><td>0</td><td>0</td><td>1</td><td>0</td><td>1</td><td>0</td><td>0</td></tr>\n",
       "\t<tr><th scope=row>20</th><td>28502</td><td>34</td><td>3</td><td>999.0000</td><td>0</td><td>-1.8</td><td>93.075</td><td>-47.1</td><td>1.405</td><td>5099.1</td><td>⋯</td><td>0</td><td>0</td><td>1</td><td>0</td><td>0</td><td>0</td><td>0</td><td>1</td><td>0</td><td>0</td></tr>\n",
       "\t<tr><th scope=row>21</th><td>11473</td><td>60</td><td>5</td><td>999.0000</td><td>0</td><td> 1.1</td><td>93.994</td><td>-36.4</td><td>4.855</td><td>5191.0</td><td>⋯</td><td>0</td><td>1</td><td>0</td><td>0</td><td>0</td><td>0</td><td>0</td><td>1</td><td>0</td><td>0</td></tr>\n",
       "\t<tr><th scope=row>22</th><td> 6134</td><td>35</td><td>2</td><td>999.0000</td><td>1</td><td>-1.8</td><td>92.893</td><td>-46.2</td><td>1.334</td><td>5099.1</td><td>⋯</td><td>0</td><td>0</td><td>0</td><td>0</td><td>0</td><td>1</td><td>1</td><td>0</td><td>0</td><td>0</td></tr>\n",
       "\t<tr><th scope=row>23</th><td>33523</td><td>32</td><td>1</td><td>999.0000</td><td>0</td><td>-1.8</td><td>92.893</td><td>-46.2</td><td>1.281</td><td>5099.1</td><td>⋯</td><td>0</td><td>0</td><td>0</td><td>0</td><td>0</td><td>1</td><td>0</td><td>1</td><td>0</td><td>0</td></tr>\n",
       "\t<tr><th scope=row>24</th><td>21812</td><td>49</td><td>1</td><td>999.0000</td><td>0</td><td> 1.1</td><td>93.994</td><td>-36.4</td><td>4.856</td><td>5191.0</td><td>⋯</td><td>0</td><td>0</td><td>0</td><td>0</td><td>1</td><td>0</td><td>0</td><td>1</td><td>0</td><td>0</td></tr>\n",
       "\t<tr><th scope=row>25</th><td>39895</td><td>45</td><td>2</td><td>999.0000</td><td>0</td><td> 1.1</td><td>93.994</td><td>-36.4</td><td>4.856</td><td>5191.0</td><td>⋯</td><td>0</td><td>0</td><td>0</td><td>0</td><td>1</td><td>0</td><td>0</td><td>1</td><td>0</td><td>0</td></tr>\n",
       "\t<tr><th scope=row>26</th><td> 9326</td><td>33</td><td>4</td><td>999.0000</td><td>0</td><td> 1.4</td><td>94.465</td><td>-41.8</td><td>4.865</td><td>5228.1</td><td>⋯</td><td>0</td><td>0</td><td>1</td><td>0</td><td>0</td><td>0</td><td>0</td><td>1</td><td>0</td><td>0</td></tr>\n",
       "\t<tr><th scope=row>27</th><td>26510</td><td>34</td><td>5</td><td>999.0000</td><td>0</td><td>-0.1</td><td>93.200</td><td>-42.0</td><td>4.021</td><td>5195.8</td><td>⋯</td><td>0</td><td>1</td><td>0</td><td>0</td><td>0</td><td>0</td><td>0</td><td>1</td><td>0</td><td>0</td></tr>\n",
       "\t<tr><th scope=row>28</th><td>20960</td><td>57</td><td>1</td><td>999.0000</td><td>0</td><td> 1.1</td><td>93.994</td><td>-36.4</td><td>4.856</td><td>5191.0</td><td>⋯</td><td>0</td><td>0</td><td>0</td><td>0</td><td>1</td><td>0</td><td>0</td><td>1</td><td>0</td><td>0</td></tr>\n",
       "\t<tr><th scope=row>29</th><td>14403</td><td>50</td><td>8</td><td>999.0000</td><td>0</td><td> 1.4</td><td>93.918</td><td>-42.7</td><td>4.962</td><td>5228.1</td><td>⋯</td><td>0</td><td>0</td><td>1</td><td>0</td><td>0</td><td>0</td><td>0</td><td>1</td><td>0</td><td>0</td></tr>\n",
       "\t<tr><th scope=row>30</th><td>28799</td><td>49</td><td>2</td><td>999.0000</td><td>0</td><td> 1.4</td><td>93.444</td><td>-36.1</td><td>4.967</td><td>5228.1</td><td>⋯</td><td>0</td><td>0</td><td>0</td><td>0</td><td>0</td><td>1</td><td>0</td><td>1</td><td>0</td><td>0</td></tr>\n",
       "\t<tr><th scope=row>⋮</th><td>⋮</td><td>⋮</td><td>⋮</td><td>⋮</td><td>⋮</td><td>⋮</td><td>⋮</td><td>⋮</td><td>⋮</td><td>⋮</td><td>⋱</td><td>⋮</td><td>⋮</td><td>⋮</td><td>⋮</td><td>⋮</td><td>⋮</td><td>⋮</td><td>⋮</td><td>⋮</td><td>⋮</td></tr>\n",
       "\t<tr><th scope=row>19970</th><td>26121</td><td>22</td><td> 2.000000</td><td>  1</td><td>1.0000000</td><td>-1.8</td><td>93.87600</td><td>-40.00000</td><td>0.699</td><td>5008.7</td><td>⋯</td><td>0</td><td>0</td><td>0</td><td>1</td><td>0</td><td>0</td><td>0</td><td>0</td><td>1</td><td>1</td></tr>\n",
       "\t<tr><th scope=row>19971</th><td> 3036</td><td>33</td><td> 3.000000</td><td>999</td><td>0.0000000</td><td> 1.4</td><td>93.44400</td><td>-36.10000</td><td>4.965</td><td>5228.1</td><td>⋯</td><td>0</td><td>0</td><td>1</td><td>0</td><td>0</td><td>0</td><td>0</td><td>1</td><td>0</td><td>0</td></tr>\n",
       "\t<tr><th scope=row>19972</th><td>19102</td><td>31</td><td> 1.000000</td><td>999</td><td>0.0000000</td><td> 1.4</td><td>93.44400</td><td>-36.10000</td><td>4.964</td><td>5228.1</td><td>⋯</td><td>0</td><td>0</td><td>0</td><td>0</td><td>0</td><td>1</td><td>0</td><td>1</td><td>0</td><td>0</td></tr>\n",
       "\t<tr><th scope=row>19973</th><td>37729</td><td>46</td><td> 1.000000</td><td>999</td><td>0.0000000</td><td> 1.1</td><td>93.99400</td><td>-36.40000</td><td>4.860</td><td>5191.0</td><td>⋯</td><td>0</td><td>0</td><td>0</td><td>1</td><td>0</td><td>0</td><td>0</td><td>1</td><td>0</td><td>0</td></tr>\n",
       "\t<tr><th scope=row>19974</th><td>20186</td><td>50</td><td> 2.000000</td><td>999</td><td>0.0000000</td><td>-2.9</td><td>92.46900</td><td>-33.60000</td><td>0.914</td><td>5076.2</td><td>⋯</td><td>0</td><td>0</td><td>1</td><td>0</td><td>0</td><td>0</td><td>0</td><td>1</td><td>0</td><td>0</td></tr>\n",
       "\t<tr><th scope=row>19975</th><td>38059</td><td>43</td><td> 2.000000</td><td>999</td><td>0.0000000</td><td> 1.4</td><td>93.44400</td><td>-36.10000</td><td>4.966</td><td>5228.1</td><td>⋯</td><td>0</td><td>0</td><td>0</td><td>0</td><td>1</td><td>0</td><td>0</td><td>1</td><td>0</td><td>0</td></tr>\n",
       "\t<tr><th scope=row>19976</th><td> 8099</td><td>32</td><td> 1.000000</td><td>999</td><td>0.0000000</td><td>-0.1</td><td>93.20000</td><td>-42.00000</td><td>4.153</td><td>5195.8</td><td>⋯</td><td>0</td><td>0</td><td>0</td><td>0</td><td>1</td><td>0</td><td>0</td><td>1</td><td>0</td><td>0</td></tr>\n",
       "\t<tr><th scope=row>19977</th><td>15178</td><td>37</td><td> 2.000000</td><td>999</td><td>0.0000000</td><td> 1.4</td><td>93.44400</td><td>-36.10000</td><td>4.965</td><td>5228.1</td><td>⋯</td><td>0</td><td>0</td><td>0</td><td>0</td><td>1</td><td>0</td><td>0</td><td>1</td><td>0</td><td>0</td></tr>\n",
       "\t<tr><th scope=row>19978</th><td>18920</td><td>47</td><td> 2.000000</td><td>999</td><td>0.1717447</td><td> 1.4</td><td>94.46500</td><td>-41.80000</td><td>4.865</td><td>5228.1</td><td>⋯</td><td>0</td><td>0</td><td>1</td><td>0</td><td>0</td><td>0</td><td>0</td><td>1</td><td>0</td><td>0</td></tr>\n",
       "\t<tr><th scope=row>19979</th><td>19757</td><td>31</td><td> 1.000000</td><td>999</td><td>0.0000000</td><td> 1.4</td><td>93.44400</td><td>-36.10000</td><td>4.965</td><td>5228.1</td><td>⋯</td><td>0</td><td>0</td><td>0</td><td>0</td><td>0</td><td>1</td><td>0</td><td>1</td><td>0</td><td>0</td></tr>\n",
       "\t<tr><th scope=row>19980</th><td> 9327</td><td>31</td><td> 1.000000</td><td>999</td><td>0.0000000</td><td> 1.4</td><td>93.44400</td><td>-36.10000</td><td>4.968</td><td>5228.1</td><td>⋯</td><td>0</td><td>0</td><td>0</td><td>1</td><td>0</td><td>0</td><td>0</td><td>1</td><td>0</td><td>0</td></tr>\n",
       "\t<tr><th scope=row>19981</th><td>16641</td><td>51</td><td> 6.000000</td><td>  6</td><td>3.0000000</td><td>-3.4</td><td>92.43100</td><td>-26.90000</td><td>0.754</td><td>5017.5</td><td>⋯</td><td>0</td><td>0</td><td>0</td><td>1</td><td>0</td><td>0</td><td>1</td><td>0</td><td>0</td><td>0</td></tr>\n",
       "\t<tr><th scope=row>19982</th><td> 9656</td><td>30</td><td> 3.000000</td><td>999</td><td>0.0000000</td><td> 1.4</td><td>93.44400</td><td>-36.10000</td><td>4.963</td><td>5228.1</td><td>⋯</td><td>0</td><td>0</td><td>1</td><td>0</td><td>0</td><td>0</td><td>0</td><td>1</td><td>0</td><td>0</td></tr>\n",
       "\t<tr><th scope=row>19983</th><td>37330</td><td>42</td><td> 3.000000</td><td>999</td><td>0.0000000</td><td> 1.1</td><td>93.99400</td><td>-36.40000</td><td>4.864</td><td>5191.0</td><td>⋯</td><td>0</td><td>1</td><td>0</td><td>0</td><td>0</td><td>0</td><td>0</td><td>1</td><td>0</td><td>0</td></tr>\n",
       "\t<tr><th scope=row>19984</th><td>34568</td><td>32</td><td> 3.000000</td><td>999</td><td>0.0000000</td><td> 1.1</td><td>93.99400</td><td>-36.40000</td><td>4.860</td><td>5191.0</td><td>⋯</td><td>0</td><td>0</td><td>0</td><td>1</td><td>0</td><td>0</td><td>0</td><td>1</td><td>0</td><td>0</td></tr>\n",
       "\t<tr><th scope=row>19985</th><td>23095</td><td>41</td><td> 3.000000</td><td>999</td><td>0.0000000</td><td> 1.4</td><td>93.91800</td><td>-42.70000</td><td>4.968</td><td>5228.1</td><td>⋯</td><td>0</td><td>0</td><td>0</td><td>1</td><td>0</td><td>0</td><td>0</td><td>1</td><td>0</td><td>0</td></tr>\n",
       "\t<tr><th scope=row>19986</th><td>25383</td><td>48</td><td> 2.000000</td><td>999</td><td>0.0000000</td><td> 1.1</td><td>93.99400</td><td>-36.40000</td><td>4.856</td><td>5191.0</td><td>⋯</td><td>0</td><td>0</td><td>0</td><td>0</td><td>1</td><td>0</td><td>0</td><td>1</td><td>0</td><td>0</td></tr>\n",
       "\t<tr><th scope=row>19988</th><td> 4245</td><td>35</td><td> 2.580189</td><td>999</td><td>0.0000000</td><td> 1.4</td><td>93.91800</td><td>-42.70000</td><td>4.960</td><td>5228.1</td><td>⋯</td><td>0</td><td>0</td><td>1</td><td>0</td><td>0</td><td>0</td><td>0</td><td>1</td><td>0</td><td>0</td></tr>\n",
       "\t<tr><th scope=row>19989</th><td>21920</td><td>39</td><td> 1.000000</td><td>999</td><td>0.0000000</td><td> 1.1</td><td>93.57625</td><td>-36.40000</td><td>4.859</td><td>5191.0</td><td>⋯</td><td>0</td><td>0</td><td>0</td><td>0</td><td>0</td><td>1</td><td>0</td><td>1</td><td>0</td><td>0</td></tr>\n",
       "\t<tr><th scope=row>19990</th><td>29000</td><td>21</td><td> 1.000000</td><td>999</td><td>0.0000000</td><td>-3.4</td><td>92.43100</td><td>-40.47166</td><td>0.728</td><td>5017.5</td><td>⋯</td><td>0</td><td>0</td><td>0</td><td>0</td><td>1</td><td>0</td><td>0</td><td>1</td><td>0</td><td>1</td></tr>\n",
       "\t<tr><th scope=row>19991</th><td> 6627</td><td>28</td><td> 1.000000</td><td>  1</td><td>3.0000000</td><td>-3.4</td><td>92.37900</td><td>-29.80000</td><td>0.773</td><td>5017.5</td><td>⋯</td><td>1</td><td>1</td><td>0</td><td>0</td><td>0</td><td>0</td><td>0</td><td>0</td><td>1</td><td>1</td></tr>\n",
       "\t<tr><th scope=row>19992</th><td>35702</td><td>29</td><td> 1.000000</td><td>999</td><td>0.0000000</td><td> 1.4</td><td>93.44400</td><td>-36.10000</td><td>4.963</td><td>5228.1</td><td>⋯</td><td>0</td><td>0</td><td>0</td><td>1</td><td>0</td><td>0</td><td>0</td><td>1</td><td>0</td><td>0</td></tr>\n",
       "\t<tr><th scope=row>19993</th><td>38555</td><td>49</td><td> 2.000000</td><td>999</td><td>0.0000000</td><td> 1.4</td><td>93.44400</td><td>-36.10000</td><td>4.963</td><td>5228.1</td><td>⋯</td><td>0</td><td>0</td><td>1</td><td>0</td><td>0</td><td>0</td><td>0</td><td>1</td><td>0</td><td>1</td></tr>\n",
       "\t<tr><th scope=row>19994</th><td>23289</td><td>38</td><td> 6.000000</td><td>999</td><td>1.0000000</td><td>-1.8</td><td>92.89300</td><td>-46.20000</td><td>1.344</td><td>5099.1</td><td>⋯</td><td>0</td><td>0</td><td>0</td><td>0</td><td>1</td><td>0</td><td>1</td><td>0</td><td>0</td><td>0</td></tr>\n",
       "\t<tr><th scope=row>19995</th><td> 2969</td><td>36</td><td>24.000000</td><td>999</td><td>0.0000000</td><td> 1.4</td><td>93.91800</td><td>-42.70000</td><td>4.968</td><td>5228.1</td><td>⋯</td><td>0</td><td>0</td><td>0</td><td>1</td><td>0</td><td>0</td><td>0</td><td>1</td><td>0</td><td>0</td></tr>\n",
       "\t<tr><th scope=row>19996</th><td>13724</td><td>45</td><td> 1.000000</td><td>999</td><td>0.0000000</td><td> 1.4</td><td>93.91800</td><td>-42.70000</td><td>4.957</td><td>5228.1</td><td>⋯</td><td>0</td><td>0</td><td>0</td><td>0</td><td>0</td><td>1</td><td>0</td><td>1</td><td>0</td><td>1</td></tr>\n",
       "\t<tr><th scope=row>19997</th><td>29863</td><td>26</td><td> 2.000000</td><td>999</td><td>1.0000000</td><td>-1.8</td><td>92.89300</td><td>-46.20000</td><td>1.299</td><td>5099.1</td><td>⋯</td><td>0</td><td>0</td><td>1</td><td>0</td><td>0</td><td>0</td><td>1</td><td>0</td><td>0</td><td>0</td></tr>\n",
       "\t<tr><th scope=row>19998</th><td> 9841</td><td>33</td><td> 1.000000</td><td>999</td><td>1.0000000</td><td>-1.8</td><td>92.89300</td><td>-46.20000</td><td>1.299</td><td>5099.1</td><td>⋯</td><td>0</td><td>0</td><td>1</td><td>0</td><td>0</td><td>0</td><td>1</td><td>0</td><td>0</td><td>0</td></tr>\n",
       "\t<tr><th scope=row>19999</th><td>36432</td><td>43</td><td>10.000000</td><td>999</td><td>0.0000000</td><td> 1.4</td><td>93.91800</td><td>-42.70000</td><td>4.960</td><td>5228.1</td><td>⋯</td><td>0</td><td>0</td><td>1</td><td>0</td><td>0</td><td>0</td><td>0</td><td>1</td><td>0</td><td>0</td></tr>\n",
       "\t<tr><th scope=row>20000</th><td>15639</td><td>55</td><td> 3.000000</td><td>999</td><td>0.0000000</td><td> 1.4</td><td>93.44400</td><td>-36.10000</td><td>4.963</td><td>5228.1</td><td>⋯</td><td>0</td><td>0</td><td>0</td><td>1</td><td>0</td><td>0</td><td>0</td><td>1</td><td>0</td><td>0</td></tr>\n",
       "</tbody>\n",
       "</table>\n"
      ],
      "text/latex": [
       "A data.frame: 18139 × 64\n",
       "\\begin{tabular}{r|lllllllllllllllllllll}\n",
       "  & client\\_id & age & campaign & pdays & previous & emp\\_var\\_rate & cons\\_price\\_idx & cons\\_conf\\_idx & euribor3m & nr\\_employed & ⋯ & monthsep & day\\_of\\_weekfri & day\\_of\\_weekmon & day\\_of\\_weekthu & day\\_of\\_weektue & day\\_of\\_weekwed & poutcomefailure & poutcomenonexistent & poutcomesuccess & subscribe\\\\\n",
       "  & <int> & <dbl> & <dbl> & <dbl> & <dbl> & <dbl> & <dbl> & <dbl> & <dbl> & <dbl> & ⋯ & <dbl> & <dbl> & <dbl> & <dbl> & <dbl> & <dbl> & <dbl> & <dbl> & <dbl> & <int>\\\\\n",
       "\\hline\n",
       "\t1 & 29925 & 42 & 1 & 999.0000 & 0 &  1.4 & 93.918 & -42.7 & 4.968 & 5228.1 & ⋯ & 0 & 0 & 0 & 1 & 0 & 0 & 0 & 1 & 0 & 0\\\\\n",
       "\t2 & 37529 & 35 & 4 & 999.0000 & 0 &  1.4 & 94.465 & -41.8 & 4.960 & 5228.1 & ⋯ & 0 & 0 & 1 & 0 & 0 & 0 & 0 & 1 & 0 & 0\\\\\n",
       "\t3 &  2757 & 44 & 1 & 999.0000 & 0 & -1.8 & 92.893 & -46.2 & 1.264 & 5099.1 & ⋯ & 0 & 0 & 1 & 0 & 0 & 0 & 0 & 1 & 0 & 0\\\\\n",
       "\t4 &  9642 & 45 & 1 & 999.0000 & 0 & -1.8 & 93.075 & -47.1 & 1.453 & 5099.1 & ⋯ & 0 & 0 & 0 & 0 & 1 & 0 & 0 & 1 & 0 & 0\\\\\n",
       "\t5 & 14183 & 45 & 1 & 999.0000 & 0 &  1.1 & 93.994 & -36.4 & 4.859 & 5191.0 & ⋯ & 0 & 0 & 0 & 0 & 0 & 1 & 0 & 1 & 0 & 0\\\\\n",
       "\t6 & 15180 & 38 & 2 & 999.0000 & 0 &  1.1 & 93.994 & -36.4 & 4.858 & 5191.0 & ⋯ & 0 & 0 & 0 & 0 & 0 & 1 & 0 & 1 & 0 & 0\\\\\n",
       "\t7 & 27168 & 33 & 1 & 961.4132 & 1 & -1.8 & 93.075 & -47.1 & 1.405 & 5099.1 & ⋯ & 0 & 1 & 0 & 0 & 0 & 0 & 1 & 0 & 0 & 1\\\\\n",
       "\t8 &  9097 & 38 & 1 & 999.0000 & 0 &  1.1 & 93.994 & -36.4 & 4.857 & 5191.0 & ⋯ & 0 & 0 & 0 & 0 & 0 & 1 & 0 & 1 & 0 & 0\\\\\n",
       "\t9 & 30538 & 29 & 1 & 999.0000 & 1 & -1.8 & 92.893 & -46.2 & 1.250 & 5099.1 & ⋯ & 0 & 1 & 0 & 0 & 0 & 0 & 1 & 0 & 0 & 0\\\\\n",
       "\t10 & 28981 & 34 & 1 & 999.0000 & 0 &  1.4 & 93.444 & -36.1 & 4.965 & 5228.1 & ⋯ & 0 & 0 & 0 & 0 & 0 & 1 & 0 & 1 & 0 & 0\\\\\n",
       "\t11 &  7989 & 47 & 3 & 999.0000 & 0 &  1.4 & 94.465 & -41.8 & 4.961 & 5228.1 & ⋯ & 0 & 0 & 1 & 0 & 0 & 0 & 0 & 1 & 0 & 0\\\\\n",
       "\t12 & 13536 & 30 & 1 & 999.0000 & 0 &  1.4 & 93.918 & -42.7 & 4.963 & 5228.1 & ⋯ & 0 & 0 & 0 & 1 & 0 & 0 & 0 & 1 & 0 & 0\\\\\n",
       "\t13 & 24541 & 30 & 1 & 999.0000 & 0 &  1.4 & 93.918 & -42.7 & 4.958 & 5228.1 & ⋯ & 0 & 0 & 0 & 1 & 0 & 0 & 0 & 1 & 0 & 0\\\\\n",
       "\t14 &  6216 & 35 & 2 & 999.0000 & 0 & -1.8 & 92.893 & -46.2 & 1.344 & 5099.1 & ⋯ & 0 & 0 & 0 & 0 & 1 & 0 & 0 & 1 & 0 & 0\\\\\n",
       "\t15 & 17983 & 45 & 1 & 999.0000 & 0 & -0.1 & 93.200 & -42.0 & 4.076 & 5195.8 & ⋯ & 0 & 0 & 0 & 1 & 0 & 0 & 0 & 1 & 0 & 1\\\\\n",
       "\t16 & 29394 & 37 & 2 & 999.0000 & 1 & -0.1 & 93.200 & -42.0 & 4.191 & 5195.8 & ⋯ & 0 & 0 & 1 & 0 & 0 & 0 & 1 & 0 & 0 & 0\\\\\n",
       "\t17 & 28825 & 48 & 2 & 999.0000 & 0 &  1.4 & 94.465 & -41.8 & 4.866 & 5228.1 & ⋯ & 0 & 0 & 0 & 1 & 0 & 0 & 0 & 1 & 0 & 0\\\\\n",
       "\t18 &    41 & 47 & 2 & 999.0000 & 1 & -1.8 & 93.075 & -47.1 & 1.410 & 5099.1 & ⋯ & 0 & 0 & 0 & 1 & 0 & 0 & 1 & 0 & 0 & 0\\\\\n",
       "\t19 &  7284 & 35 & 1 & 999.0000 & 0 &  1.1 & 93.994 & -36.4 & 4.858 & 5191.0 & ⋯ & 0 & 0 & 0 & 0 & 0 & 1 & 0 & 1 & 0 & 0\\\\\n",
       "\t20 & 28502 & 34 & 3 & 999.0000 & 0 & -1.8 & 93.075 & -47.1 & 1.405 & 5099.1 & ⋯ & 0 & 0 & 1 & 0 & 0 & 0 & 0 & 1 & 0 & 0\\\\\n",
       "\t21 & 11473 & 60 & 5 & 999.0000 & 0 &  1.1 & 93.994 & -36.4 & 4.855 & 5191.0 & ⋯ & 0 & 1 & 0 & 0 & 0 & 0 & 0 & 1 & 0 & 0\\\\\n",
       "\t22 &  6134 & 35 & 2 & 999.0000 & 1 & -1.8 & 92.893 & -46.2 & 1.334 & 5099.1 & ⋯ & 0 & 0 & 0 & 0 & 0 & 1 & 1 & 0 & 0 & 0\\\\\n",
       "\t23 & 33523 & 32 & 1 & 999.0000 & 0 & -1.8 & 92.893 & -46.2 & 1.281 & 5099.1 & ⋯ & 0 & 0 & 0 & 0 & 0 & 1 & 0 & 1 & 0 & 0\\\\\n",
       "\t24 & 21812 & 49 & 1 & 999.0000 & 0 &  1.1 & 93.994 & -36.4 & 4.856 & 5191.0 & ⋯ & 0 & 0 & 0 & 0 & 1 & 0 & 0 & 1 & 0 & 0\\\\\n",
       "\t25 & 39895 & 45 & 2 & 999.0000 & 0 &  1.1 & 93.994 & -36.4 & 4.856 & 5191.0 & ⋯ & 0 & 0 & 0 & 0 & 1 & 0 & 0 & 1 & 0 & 0\\\\\n",
       "\t26 &  9326 & 33 & 4 & 999.0000 & 0 &  1.4 & 94.465 & -41.8 & 4.865 & 5228.1 & ⋯ & 0 & 0 & 1 & 0 & 0 & 0 & 0 & 1 & 0 & 0\\\\\n",
       "\t27 & 26510 & 34 & 5 & 999.0000 & 0 & -0.1 & 93.200 & -42.0 & 4.021 & 5195.8 & ⋯ & 0 & 1 & 0 & 0 & 0 & 0 & 0 & 1 & 0 & 0\\\\\n",
       "\t28 & 20960 & 57 & 1 & 999.0000 & 0 &  1.1 & 93.994 & -36.4 & 4.856 & 5191.0 & ⋯ & 0 & 0 & 0 & 0 & 1 & 0 & 0 & 1 & 0 & 0\\\\\n",
       "\t29 & 14403 & 50 & 8 & 999.0000 & 0 &  1.4 & 93.918 & -42.7 & 4.962 & 5228.1 & ⋯ & 0 & 0 & 1 & 0 & 0 & 0 & 0 & 1 & 0 & 0\\\\\n",
       "\t30 & 28799 & 49 & 2 & 999.0000 & 0 &  1.4 & 93.444 & -36.1 & 4.967 & 5228.1 & ⋯ & 0 & 0 & 0 & 0 & 0 & 1 & 0 & 1 & 0 & 0\\\\\n",
       "\t⋮ & ⋮ & ⋮ & ⋮ & ⋮ & ⋮ & ⋮ & ⋮ & ⋮ & ⋮ & ⋮ & ⋱ & ⋮ & ⋮ & ⋮ & ⋮ & ⋮ & ⋮ & ⋮ & ⋮ & ⋮ & ⋮\\\\\n",
       "\t19970 & 26121 & 22 &  2.000000 &   1 & 1.0000000 & -1.8 & 93.87600 & -40.00000 & 0.699 & 5008.7 & ⋯ & 0 & 0 & 0 & 1 & 0 & 0 & 0 & 0 & 1 & 1\\\\\n",
       "\t19971 &  3036 & 33 &  3.000000 & 999 & 0.0000000 &  1.4 & 93.44400 & -36.10000 & 4.965 & 5228.1 & ⋯ & 0 & 0 & 1 & 0 & 0 & 0 & 0 & 1 & 0 & 0\\\\\n",
       "\t19972 & 19102 & 31 &  1.000000 & 999 & 0.0000000 &  1.4 & 93.44400 & -36.10000 & 4.964 & 5228.1 & ⋯ & 0 & 0 & 0 & 0 & 0 & 1 & 0 & 1 & 0 & 0\\\\\n",
       "\t19973 & 37729 & 46 &  1.000000 & 999 & 0.0000000 &  1.1 & 93.99400 & -36.40000 & 4.860 & 5191.0 & ⋯ & 0 & 0 & 0 & 1 & 0 & 0 & 0 & 1 & 0 & 0\\\\\n",
       "\t19974 & 20186 & 50 &  2.000000 & 999 & 0.0000000 & -2.9 & 92.46900 & -33.60000 & 0.914 & 5076.2 & ⋯ & 0 & 0 & 1 & 0 & 0 & 0 & 0 & 1 & 0 & 0\\\\\n",
       "\t19975 & 38059 & 43 &  2.000000 & 999 & 0.0000000 &  1.4 & 93.44400 & -36.10000 & 4.966 & 5228.1 & ⋯ & 0 & 0 & 0 & 0 & 1 & 0 & 0 & 1 & 0 & 0\\\\\n",
       "\t19976 &  8099 & 32 &  1.000000 & 999 & 0.0000000 & -0.1 & 93.20000 & -42.00000 & 4.153 & 5195.8 & ⋯ & 0 & 0 & 0 & 0 & 1 & 0 & 0 & 1 & 0 & 0\\\\\n",
       "\t19977 & 15178 & 37 &  2.000000 & 999 & 0.0000000 &  1.4 & 93.44400 & -36.10000 & 4.965 & 5228.1 & ⋯ & 0 & 0 & 0 & 0 & 1 & 0 & 0 & 1 & 0 & 0\\\\\n",
       "\t19978 & 18920 & 47 &  2.000000 & 999 & 0.1717447 &  1.4 & 94.46500 & -41.80000 & 4.865 & 5228.1 & ⋯ & 0 & 0 & 1 & 0 & 0 & 0 & 0 & 1 & 0 & 0\\\\\n",
       "\t19979 & 19757 & 31 &  1.000000 & 999 & 0.0000000 &  1.4 & 93.44400 & -36.10000 & 4.965 & 5228.1 & ⋯ & 0 & 0 & 0 & 0 & 0 & 1 & 0 & 1 & 0 & 0\\\\\n",
       "\t19980 &  9327 & 31 &  1.000000 & 999 & 0.0000000 &  1.4 & 93.44400 & -36.10000 & 4.968 & 5228.1 & ⋯ & 0 & 0 & 0 & 1 & 0 & 0 & 0 & 1 & 0 & 0\\\\\n",
       "\t19981 & 16641 & 51 &  6.000000 &   6 & 3.0000000 & -3.4 & 92.43100 & -26.90000 & 0.754 & 5017.5 & ⋯ & 0 & 0 & 0 & 1 & 0 & 0 & 1 & 0 & 0 & 0\\\\\n",
       "\t19982 &  9656 & 30 &  3.000000 & 999 & 0.0000000 &  1.4 & 93.44400 & -36.10000 & 4.963 & 5228.1 & ⋯ & 0 & 0 & 1 & 0 & 0 & 0 & 0 & 1 & 0 & 0\\\\\n",
       "\t19983 & 37330 & 42 &  3.000000 & 999 & 0.0000000 &  1.1 & 93.99400 & -36.40000 & 4.864 & 5191.0 & ⋯ & 0 & 1 & 0 & 0 & 0 & 0 & 0 & 1 & 0 & 0\\\\\n",
       "\t19984 & 34568 & 32 &  3.000000 & 999 & 0.0000000 &  1.1 & 93.99400 & -36.40000 & 4.860 & 5191.0 & ⋯ & 0 & 0 & 0 & 1 & 0 & 0 & 0 & 1 & 0 & 0\\\\\n",
       "\t19985 & 23095 & 41 &  3.000000 & 999 & 0.0000000 &  1.4 & 93.91800 & -42.70000 & 4.968 & 5228.1 & ⋯ & 0 & 0 & 0 & 1 & 0 & 0 & 0 & 1 & 0 & 0\\\\\n",
       "\t19986 & 25383 & 48 &  2.000000 & 999 & 0.0000000 &  1.1 & 93.99400 & -36.40000 & 4.856 & 5191.0 & ⋯ & 0 & 0 & 0 & 0 & 1 & 0 & 0 & 1 & 0 & 0\\\\\n",
       "\t19988 &  4245 & 35 &  2.580189 & 999 & 0.0000000 &  1.4 & 93.91800 & -42.70000 & 4.960 & 5228.1 & ⋯ & 0 & 0 & 1 & 0 & 0 & 0 & 0 & 1 & 0 & 0\\\\\n",
       "\t19989 & 21920 & 39 &  1.000000 & 999 & 0.0000000 &  1.1 & 93.57625 & -36.40000 & 4.859 & 5191.0 & ⋯ & 0 & 0 & 0 & 0 & 0 & 1 & 0 & 1 & 0 & 0\\\\\n",
       "\t19990 & 29000 & 21 &  1.000000 & 999 & 0.0000000 & -3.4 & 92.43100 & -40.47166 & 0.728 & 5017.5 & ⋯ & 0 & 0 & 0 & 0 & 1 & 0 & 0 & 1 & 0 & 1\\\\\n",
       "\t19991 &  6627 & 28 &  1.000000 &   1 & 3.0000000 & -3.4 & 92.37900 & -29.80000 & 0.773 & 5017.5 & ⋯ & 1 & 1 & 0 & 0 & 0 & 0 & 0 & 0 & 1 & 1\\\\\n",
       "\t19992 & 35702 & 29 &  1.000000 & 999 & 0.0000000 &  1.4 & 93.44400 & -36.10000 & 4.963 & 5228.1 & ⋯ & 0 & 0 & 0 & 1 & 0 & 0 & 0 & 1 & 0 & 0\\\\\n",
       "\t19993 & 38555 & 49 &  2.000000 & 999 & 0.0000000 &  1.4 & 93.44400 & -36.10000 & 4.963 & 5228.1 & ⋯ & 0 & 0 & 1 & 0 & 0 & 0 & 0 & 1 & 0 & 1\\\\\n",
       "\t19994 & 23289 & 38 &  6.000000 & 999 & 1.0000000 & -1.8 & 92.89300 & -46.20000 & 1.344 & 5099.1 & ⋯ & 0 & 0 & 0 & 0 & 1 & 0 & 1 & 0 & 0 & 0\\\\\n",
       "\t19995 &  2969 & 36 & 24.000000 & 999 & 0.0000000 &  1.4 & 93.91800 & -42.70000 & 4.968 & 5228.1 & ⋯ & 0 & 0 & 0 & 1 & 0 & 0 & 0 & 1 & 0 & 0\\\\\n",
       "\t19996 & 13724 & 45 &  1.000000 & 999 & 0.0000000 &  1.4 & 93.91800 & -42.70000 & 4.957 & 5228.1 & ⋯ & 0 & 0 & 0 & 0 & 0 & 1 & 0 & 1 & 0 & 1\\\\\n",
       "\t19997 & 29863 & 26 &  2.000000 & 999 & 1.0000000 & -1.8 & 92.89300 & -46.20000 & 1.299 & 5099.1 & ⋯ & 0 & 0 & 1 & 0 & 0 & 0 & 1 & 0 & 0 & 0\\\\\n",
       "\t19998 &  9841 & 33 &  1.000000 & 999 & 1.0000000 & -1.8 & 92.89300 & -46.20000 & 1.299 & 5099.1 & ⋯ & 0 & 0 & 1 & 0 & 0 & 0 & 1 & 0 & 0 & 0\\\\\n",
       "\t19999 & 36432 & 43 & 10.000000 & 999 & 0.0000000 &  1.4 & 93.91800 & -42.70000 & 4.960 & 5228.1 & ⋯ & 0 & 0 & 1 & 0 & 0 & 0 & 0 & 1 & 0 & 0\\\\\n",
       "\t20000 & 15639 & 55 &  3.000000 & 999 & 0.0000000 &  1.4 & 93.44400 & -36.10000 & 4.963 & 5228.1 & ⋯ & 0 & 0 & 0 & 1 & 0 & 0 & 0 & 1 & 0 & 0\\\\\n",
       "\\end{tabular}\n"
      ],
      "text/markdown": [
       "\n",
       "A data.frame: 18139 × 64\n",
       "\n",
       "| <!--/--> | client_id &lt;int&gt; | age &lt;dbl&gt; | campaign &lt;dbl&gt; | pdays &lt;dbl&gt; | previous &lt;dbl&gt; | emp_var_rate &lt;dbl&gt; | cons_price_idx &lt;dbl&gt; | cons_conf_idx &lt;dbl&gt; | euribor3m &lt;dbl&gt; | nr_employed &lt;dbl&gt; | ⋯ ⋯ | monthsep &lt;dbl&gt; | day_of_weekfri &lt;dbl&gt; | day_of_weekmon &lt;dbl&gt; | day_of_weekthu &lt;dbl&gt; | day_of_weektue &lt;dbl&gt; | day_of_weekwed &lt;dbl&gt; | poutcomefailure &lt;dbl&gt; | poutcomenonexistent &lt;dbl&gt; | poutcomesuccess &lt;dbl&gt; | subscribe &lt;int&gt; |\n",
       "|---|---|---|---|---|---|---|---|---|---|---|---|---|---|---|---|---|---|---|---|---|---|\n",
       "| 1 | 29925 | 42 | 1 | 999.0000 | 0 |  1.4 | 93.918 | -42.7 | 4.968 | 5228.1 | ⋯ | 0 | 0 | 0 | 1 | 0 | 0 | 0 | 1 | 0 | 0 |\n",
       "| 2 | 37529 | 35 | 4 | 999.0000 | 0 |  1.4 | 94.465 | -41.8 | 4.960 | 5228.1 | ⋯ | 0 | 0 | 1 | 0 | 0 | 0 | 0 | 1 | 0 | 0 |\n",
       "| 3 |  2757 | 44 | 1 | 999.0000 | 0 | -1.8 | 92.893 | -46.2 | 1.264 | 5099.1 | ⋯ | 0 | 0 | 1 | 0 | 0 | 0 | 0 | 1 | 0 | 0 |\n",
       "| 4 |  9642 | 45 | 1 | 999.0000 | 0 | -1.8 | 93.075 | -47.1 | 1.453 | 5099.1 | ⋯ | 0 | 0 | 0 | 0 | 1 | 0 | 0 | 1 | 0 | 0 |\n",
       "| 5 | 14183 | 45 | 1 | 999.0000 | 0 |  1.1 | 93.994 | -36.4 | 4.859 | 5191.0 | ⋯ | 0 | 0 | 0 | 0 | 0 | 1 | 0 | 1 | 0 | 0 |\n",
       "| 6 | 15180 | 38 | 2 | 999.0000 | 0 |  1.1 | 93.994 | -36.4 | 4.858 | 5191.0 | ⋯ | 0 | 0 | 0 | 0 | 0 | 1 | 0 | 1 | 0 | 0 |\n",
       "| 7 | 27168 | 33 | 1 | 961.4132 | 1 | -1.8 | 93.075 | -47.1 | 1.405 | 5099.1 | ⋯ | 0 | 1 | 0 | 0 | 0 | 0 | 1 | 0 | 0 | 1 |\n",
       "| 8 |  9097 | 38 | 1 | 999.0000 | 0 |  1.1 | 93.994 | -36.4 | 4.857 | 5191.0 | ⋯ | 0 | 0 | 0 | 0 | 0 | 1 | 0 | 1 | 0 | 0 |\n",
       "| 9 | 30538 | 29 | 1 | 999.0000 | 1 | -1.8 | 92.893 | -46.2 | 1.250 | 5099.1 | ⋯ | 0 | 1 | 0 | 0 | 0 | 0 | 1 | 0 | 0 | 0 |\n",
       "| 10 | 28981 | 34 | 1 | 999.0000 | 0 |  1.4 | 93.444 | -36.1 | 4.965 | 5228.1 | ⋯ | 0 | 0 | 0 | 0 | 0 | 1 | 0 | 1 | 0 | 0 |\n",
       "| 11 |  7989 | 47 | 3 | 999.0000 | 0 |  1.4 | 94.465 | -41.8 | 4.961 | 5228.1 | ⋯ | 0 | 0 | 1 | 0 | 0 | 0 | 0 | 1 | 0 | 0 |\n",
       "| 12 | 13536 | 30 | 1 | 999.0000 | 0 |  1.4 | 93.918 | -42.7 | 4.963 | 5228.1 | ⋯ | 0 | 0 | 0 | 1 | 0 | 0 | 0 | 1 | 0 | 0 |\n",
       "| 13 | 24541 | 30 | 1 | 999.0000 | 0 |  1.4 | 93.918 | -42.7 | 4.958 | 5228.1 | ⋯ | 0 | 0 | 0 | 1 | 0 | 0 | 0 | 1 | 0 | 0 |\n",
       "| 14 |  6216 | 35 | 2 | 999.0000 | 0 | -1.8 | 92.893 | -46.2 | 1.344 | 5099.1 | ⋯ | 0 | 0 | 0 | 0 | 1 | 0 | 0 | 1 | 0 | 0 |\n",
       "| 15 | 17983 | 45 | 1 | 999.0000 | 0 | -0.1 | 93.200 | -42.0 | 4.076 | 5195.8 | ⋯ | 0 | 0 | 0 | 1 | 0 | 0 | 0 | 1 | 0 | 1 |\n",
       "| 16 | 29394 | 37 | 2 | 999.0000 | 1 | -0.1 | 93.200 | -42.0 | 4.191 | 5195.8 | ⋯ | 0 | 0 | 1 | 0 | 0 | 0 | 1 | 0 | 0 | 0 |\n",
       "| 17 | 28825 | 48 | 2 | 999.0000 | 0 |  1.4 | 94.465 | -41.8 | 4.866 | 5228.1 | ⋯ | 0 | 0 | 0 | 1 | 0 | 0 | 0 | 1 | 0 | 0 |\n",
       "| 18 |    41 | 47 | 2 | 999.0000 | 1 | -1.8 | 93.075 | -47.1 | 1.410 | 5099.1 | ⋯ | 0 | 0 | 0 | 1 | 0 | 0 | 1 | 0 | 0 | 0 |\n",
       "| 19 |  7284 | 35 | 1 | 999.0000 | 0 |  1.1 | 93.994 | -36.4 | 4.858 | 5191.0 | ⋯ | 0 | 0 | 0 | 0 | 0 | 1 | 0 | 1 | 0 | 0 |\n",
       "| 20 | 28502 | 34 | 3 | 999.0000 | 0 | -1.8 | 93.075 | -47.1 | 1.405 | 5099.1 | ⋯ | 0 | 0 | 1 | 0 | 0 | 0 | 0 | 1 | 0 | 0 |\n",
       "| 21 | 11473 | 60 | 5 | 999.0000 | 0 |  1.1 | 93.994 | -36.4 | 4.855 | 5191.0 | ⋯ | 0 | 1 | 0 | 0 | 0 | 0 | 0 | 1 | 0 | 0 |\n",
       "| 22 |  6134 | 35 | 2 | 999.0000 | 1 | -1.8 | 92.893 | -46.2 | 1.334 | 5099.1 | ⋯ | 0 | 0 | 0 | 0 | 0 | 1 | 1 | 0 | 0 | 0 |\n",
       "| 23 | 33523 | 32 | 1 | 999.0000 | 0 | -1.8 | 92.893 | -46.2 | 1.281 | 5099.1 | ⋯ | 0 | 0 | 0 | 0 | 0 | 1 | 0 | 1 | 0 | 0 |\n",
       "| 24 | 21812 | 49 | 1 | 999.0000 | 0 |  1.1 | 93.994 | -36.4 | 4.856 | 5191.0 | ⋯ | 0 | 0 | 0 | 0 | 1 | 0 | 0 | 1 | 0 | 0 |\n",
       "| 25 | 39895 | 45 | 2 | 999.0000 | 0 |  1.1 | 93.994 | -36.4 | 4.856 | 5191.0 | ⋯ | 0 | 0 | 0 | 0 | 1 | 0 | 0 | 1 | 0 | 0 |\n",
       "| 26 |  9326 | 33 | 4 | 999.0000 | 0 |  1.4 | 94.465 | -41.8 | 4.865 | 5228.1 | ⋯ | 0 | 0 | 1 | 0 | 0 | 0 | 0 | 1 | 0 | 0 |\n",
       "| 27 | 26510 | 34 | 5 | 999.0000 | 0 | -0.1 | 93.200 | -42.0 | 4.021 | 5195.8 | ⋯ | 0 | 1 | 0 | 0 | 0 | 0 | 0 | 1 | 0 | 0 |\n",
       "| 28 | 20960 | 57 | 1 | 999.0000 | 0 |  1.1 | 93.994 | -36.4 | 4.856 | 5191.0 | ⋯ | 0 | 0 | 0 | 0 | 1 | 0 | 0 | 1 | 0 | 0 |\n",
       "| 29 | 14403 | 50 | 8 | 999.0000 | 0 |  1.4 | 93.918 | -42.7 | 4.962 | 5228.1 | ⋯ | 0 | 0 | 1 | 0 | 0 | 0 | 0 | 1 | 0 | 0 |\n",
       "| 30 | 28799 | 49 | 2 | 999.0000 | 0 |  1.4 | 93.444 | -36.1 | 4.967 | 5228.1 | ⋯ | 0 | 0 | 0 | 0 | 0 | 1 | 0 | 1 | 0 | 0 |\n",
       "| ⋮ | ⋮ | ⋮ | ⋮ | ⋮ | ⋮ | ⋮ | ⋮ | ⋮ | ⋮ | ⋮ | ⋱ | ⋮ | ⋮ | ⋮ | ⋮ | ⋮ | ⋮ | ⋮ | ⋮ | ⋮ | ⋮ |\n",
       "| 19970 | 26121 | 22 |  2.000000 |   1 | 1.0000000 | -1.8 | 93.87600 | -40.00000 | 0.699 | 5008.7 | ⋯ | 0 | 0 | 0 | 1 | 0 | 0 | 0 | 0 | 1 | 1 |\n",
       "| 19971 |  3036 | 33 |  3.000000 | 999 | 0.0000000 |  1.4 | 93.44400 | -36.10000 | 4.965 | 5228.1 | ⋯ | 0 | 0 | 1 | 0 | 0 | 0 | 0 | 1 | 0 | 0 |\n",
       "| 19972 | 19102 | 31 |  1.000000 | 999 | 0.0000000 |  1.4 | 93.44400 | -36.10000 | 4.964 | 5228.1 | ⋯ | 0 | 0 | 0 | 0 | 0 | 1 | 0 | 1 | 0 | 0 |\n",
       "| 19973 | 37729 | 46 |  1.000000 | 999 | 0.0000000 |  1.1 | 93.99400 | -36.40000 | 4.860 | 5191.0 | ⋯ | 0 | 0 | 0 | 1 | 0 | 0 | 0 | 1 | 0 | 0 |\n",
       "| 19974 | 20186 | 50 |  2.000000 | 999 | 0.0000000 | -2.9 | 92.46900 | -33.60000 | 0.914 | 5076.2 | ⋯ | 0 | 0 | 1 | 0 | 0 | 0 | 0 | 1 | 0 | 0 |\n",
       "| 19975 | 38059 | 43 |  2.000000 | 999 | 0.0000000 |  1.4 | 93.44400 | -36.10000 | 4.966 | 5228.1 | ⋯ | 0 | 0 | 0 | 0 | 1 | 0 | 0 | 1 | 0 | 0 |\n",
       "| 19976 |  8099 | 32 |  1.000000 | 999 | 0.0000000 | -0.1 | 93.20000 | -42.00000 | 4.153 | 5195.8 | ⋯ | 0 | 0 | 0 | 0 | 1 | 0 | 0 | 1 | 0 | 0 |\n",
       "| 19977 | 15178 | 37 |  2.000000 | 999 | 0.0000000 |  1.4 | 93.44400 | -36.10000 | 4.965 | 5228.1 | ⋯ | 0 | 0 | 0 | 0 | 1 | 0 | 0 | 1 | 0 | 0 |\n",
       "| 19978 | 18920 | 47 |  2.000000 | 999 | 0.1717447 |  1.4 | 94.46500 | -41.80000 | 4.865 | 5228.1 | ⋯ | 0 | 0 | 1 | 0 | 0 | 0 | 0 | 1 | 0 | 0 |\n",
       "| 19979 | 19757 | 31 |  1.000000 | 999 | 0.0000000 |  1.4 | 93.44400 | -36.10000 | 4.965 | 5228.1 | ⋯ | 0 | 0 | 0 | 0 | 0 | 1 | 0 | 1 | 0 | 0 |\n",
       "| 19980 |  9327 | 31 |  1.000000 | 999 | 0.0000000 |  1.4 | 93.44400 | -36.10000 | 4.968 | 5228.1 | ⋯ | 0 | 0 | 0 | 1 | 0 | 0 | 0 | 1 | 0 | 0 |\n",
       "| 19981 | 16641 | 51 |  6.000000 |   6 | 3.0000000 | -3.4 | 92.43100 | -26.90000 | 0.754 | 5017.5 | ⋯ | 0 | 0 | 0 | 1 | 0 | 0 | 1 | 0 | 0 | 0 |\n",
       "| 19982 |  9656 | 30 |  3.000000 | 999 | 0.0000000 |  1.4 | 93.44400 | -36.10000 | 4.963 | 5228.1 | ⋯ | 0 | 0 | 1 | 0 | 0 | 0 | 0 | 1 | 0 | 0 |\n",
       "| 19983 | 37330 | 42 |  3.000000 | 999 | 0.0000000 |  1.1 | 93.99400 | -36.40000 | 4.864 | 5191.0 | ⋯ | 0 | 1 | 0 | 0 | 0 | 0 | 0 | 1 | 0 | 0 |\n",
       "| 19984 | 34568 | 32 |  3.000000 | 999 | 0.0000000 |  1.1 | 93.99400 | -36.40000 | 4.860 | 5191.0 | ⋯ | 0 | 0 | 0 | 1 | 0 | 0 | 0 | 1 | 0 | 0 |\n",
       "| 19985 | 23095 | 41 |  3.000000 | 999 | 0.0000000 |  1.4 | 93.91800 | -42.70000 | 4.968 | 5228.1 | ⋯ | 0 | 0 | 0 | 1 | 0 | 0 | 0 | 1 | 0 | 0 |\n",
       "| 19986 | 25383 | 48 |  2.000000 | 999 | 0.0000000 |  1.1 | 93.99400 | -36.40000 | 4.856 | 5191.0 | ⋯ | 0 | 0 | 0 | 0 | 1 | 0 | 0 | 1 | 0 | 0 |\n",
       "| 19988 |  4245 | 35 |  2.580189 | 999 | 0.0000000 |  1.4 | 93.91800 | -42.70000 | 4.960 | 5228.1 | ⋯ | 0 | 0 | 1 | 0 | 0 | 0 | 0 | 1 | 0 | 0 |\n",
       "| 19989 | 21920 | 39 |  1.000000 | 999 | 0.0000000 |  1.1 | 93.57625 | -36.40000 | 4.859 | 5191.0 | ⋯ | 0 | 0 | 0 | 0 | 0 | 1 | 0 | 1 | 0 | 0 |\n",
       "| 19990 | 29000 | 21 |  1.000000 | 999 | 0.0000000 | -3.4 | 92.43100 | -40.47166 | 0.728 | 5017.5 | ⋯ | 0 | 0 | 0 | 0 | 1 | 0 | 0 | 1 | 0 | 1 |\n",
       "| 19991 |  6627 | 28 |  1.000000 |   1 | 3.0000000 | -3.4 | 92.37900 | -29.80000 | 0.773 | 5017.5 | ⋯ | 1 | 1 | 0 | 0 | 0 | 0 | 0 | 0 | 1 | 1 |\n",
       "| 19992 | 35702 | 29 |  1.000000 | 999 | 0.0000000 |  1.4 | 93.44400 | -36.10000 | 4.963 | 5228.1 | ⋯ | 0 | 0 | 0 | 1 | 0 | 0 | 0 | 1 | 0 | 0 |\n",
       "| 19993 | 38555 | 49 |  2.000000 | 999 | 0.0000000 |  1.4 | 93.44400 | -36.10000 | 4.963 | 5228.1 | ⋯ | 0 | 0 | 1 | 0 | 0 | 0 | 0 | 1 | 0 | 1 |\n",
       "| 19994 | 23289 | 38 |  6.000000 | 999 | 1.0000000 | -1.8 | 92.89300 | -46.20000 | 1.344 | 5099.1 | ⋯ | 0 | 0 | 0 | 0 | 1 | 0 | 1 | 0 | 0 | 0 |\n",
       "| 19995 |  2969 | 36 | 24.000000 | 999 | 0.0000000 |  1.4 | 93.91800 | -42.70000 | 4.968 | 5228.1 | ⋯ | 0 | 0 | 0 | 1 | 0 | 0 | 0 | 1 | 0 | 0 |\n",
       "| 19996 | 13724 | 45 |  1.000000 | 999 | 0.0000000 |  1.4 | 93.91800 | -42.70000 | 4.957 | 5228.1 | ⋯ | 0 | 0 | 0 | 0 | 0 | 1 | 0 | 1 | 0 | 1 |\n",
       "| 19997 | 29863 | 26 |  2.000000 | 999 | 1.0000000 | -1.8 | 92.89300 | -46.20000 | 1.299 | 5099.1 | ⋯ | 0 | 0 | 1 | 0 | 0 | 0 | 1 | 0 | 0 | 0 |\n",
       "| 19998 |  9841 | 33 |  1.000000 | 999 | 1.0000000 | -1.8 | 92.89300 | -46.20000 | 1.299 | 5099.1 | ⋯ | 0 | 0 | 1 | 0 | 0 | 0 | 1 | 0 | 0 | 0 |\n",
       "| 19999 | 36432 | 43 | 10.000000 | 999 | 0.0000000 |  1.4 | 93.91800 | -42.70000 | 4.960 | 5228.1 | ⋯ | 0 | 0 | 1 | 0 | 0 | 0 | 0 | 1 | 0 | 0 |\n",
       "| 20000 | 15639 | 55 |  3.000000 | 999 | 0.0000000 |  1.4 | 93.44400 | -36.10000 | 4.963 | 5228.1 | ⋯ | 0 | 0 | 0 | 1 | 0 | 0 | 0 | 1 | 0 | 0 |\n",
       "\n"
      ],
      "text/plain": [
       "      client_id age campaign  pdays    previous  emp_var_rate cons_price_idx\n",
       "1     29925     42  1         999.0000 0          1.4         93.918        \n",
       "2     37529     35  4         999.0000 0          1.4         94.465        \n",
       "3      2757     44  1         999.0000 0         -1.8         92.893        \n",
       "4      9642     45  1         999.0000 0         -1.8         93.075        \n",
       "5     14183     45  1         999.0000 0          1.1         93.994        \n",
       "6     15180     38  2         999.0000 0          1.1         93.994        \n",
       "7     27168     33  1         961.4132 1         -1.8         93.075        \n",
       "8      9097     38  1         999.0000 0          1.1         93.994        \n",
       "9     30538     29  1         999.0000 1         -1.8         92.893        \n",
       "10    28981     34  1         999.0000 0          1.4         93.444        \n",
       "11     7989     47  3         999.0000 0          1.4         94.465        \n",
       "12    13536     30  1         999.0000 0          1.4         93.918        \n",
       "13    24541     30  1         999.0000 0          1.4         93.918        \n",
       "14     6216     35  2         999.0000 0         -1.8         92.893        \n",
       "15    17983     45  1         999.0000 0         -0.1         93.200        \n",
       "16    29394     37  2         999.0000 1         -0.1         93.200        \n",
       "17    28825     48  2         999.0000 0          1.4         94.465        \n",
       "18       41     47  2         999.0000 1         -1.8         93.075        \n",
       "19     7284     35  1         999.0000 0          1.1         93.994        \n",
       "20    28502     34  3         999.0000 0         -1.8         93.075        \n",
       "21    11473     60  5         999.0000 0          1.1         93.994        \n",
       "22     6134     35  2         999.0000 1         -1.8         92.893        \n",
       "23    33523     32  1         999.0000 0         -1.8         92.893        \n",
       "24    21812     49  1         999.0000 0          1.1         93.994        \n",
       "25    39895     45  2         999.0000 0          1.1         93.994        \n",
       "26     9326     33  4         999.0000 0          1.4         94.465        \n",
       "27    26510     34  5         999.0000 0         -0.1         93.200        \n",
       "28    20960     57  1         999.0000 0          1.1         93.994        \n",
       "29    14403     50  8         999.0000 0          1.4         93.918        \n",
       "30    28799     49  2         999.0000 0          1.4         93.444        \n",
       "<U+22EE>     <U+22EE>  <U+22EE> <U+22EE>  <U+22EE> <U+22EE>  <U+22EE>     <U+22EE>      \n",
       "19970 26121     22   2.000000   1      1.0000000 -1.8         93.87600      \n",
       "19971  3036     33   3.000000 999      0.0000000  1.4         93.44400      \n",
       "19972 19102     31   1.000000 999      0.0000000  1.4         93.44400      \n",
       "19973 37729     46   1.000000 999      0.0000000  1.1         93.99400      \n",
       "19974 20186     50   2.000000 999      0.0000000 -2.9         92.46900      \n",
       "19975 38059     43   2.000000 999      0.0000000  1.4         93.44400      \n",
       "19976  8099     32   1.000000 999      0.0000000 -0.1         93.20000      \n",
       "19977 15178     37   2.000000 999      0.0000000  1.4         93.44400      \n",
       "19978 18920     47   2.000000 999      0.1717447  1.4         94.46500      \n",
       "19979 19757     31   1.000000 999      0.0000000  1.4         93.44400      \n",
       "19980  9327     31   1.000000 999      0.0000000  1.4         93.44400      \n",
       "19981 16641     51   6.000000   6      3.0000000 -3.4         92.43100      \n",
       "19982  9656     30   3.000000 999      0.0000000  1.4         93.44400      \n",
       "19983 37330     42   3.000000 999      0.0000000  1.1         93.99400      \n",
       "19984 34568     32   3.000000 999      0.0000000  1.1         93.99400      \n",
       "19985 23095     41   3.000000 999      0.0000000  1.4         93.91800      \n",
       "19986 25383     48   2.000000 999      0.0000000  1.1         93.99400      \n",
       "19988  4245     35   2.580189 999      0.0000000  1.4         93.91800      \n",
       "19989 21920     39   1.000000 999      0.0000000  1.1         93.57625      \n",
       "19990 29000     21   1.000000 999      0.0000000 -3.4         92.43100      \n",
       "19991  6627     28   1.000000   1      3.0000000 -3.4         92.37900      \n",
       "19992 35702     29   1.000000 999      0.0000000  1.4         93.44400      \n",
       "19993 38555     49   2.000000 999      0.0000000  1.4         93.44400      \n",
       "19994 23289     38   6.000000 999      1.0000000 -1.8         92.89300      \n",
       "19995  2969     36  24.000000 999      0.0000000  1.4         93.91800      \n",
       "19996 13724     45   1.000000 999      0.0000000  1.4         93.91800      \n",
       "19997 29863     26   2.000000 999      1.0000000 -1.8         92.89300      \n",
       "19998  9841     33   1.000000 999      1.0000000 -1.8         92.89300      \n",
       "19999 36432     43  10.000000 999      0.0000000  1.4         93.91800      \n",
       "20000 15639     55   3.000000 999      0.0000000  1.4         93.44400      \n",
       "      cons_conf_idx euribor3m nr_employed <U+22EF>        monthsep day_of_weekfri\n",
       "1     -42.7         4.968     5228.1      <U+22EF> 0        0             \n",
       "2     -41.8         4.960     5228.1      <U+22EF> 0        0             \n",
       "3     -46.2         1.264     5099.1      <U+22EF> 0        0             \n",
       "4     -47.1         1.453     5099.1      <U+22EF> 0        0             \n",
       "5     -36.4         4.859     5191.0      <U+22EF> 0        0             \n",
       "6     -36.4         4.858     5191.0      <U+22EF> 0        0             \n",
       "7     -47.1         1.405     5099.1      <U+22EF> 0        1             \n",
       "8     -36.4         4.857     5191.0      <U+22EF> 0        0             \n",
       "9     -46.2         1.250     5099.1      <U+22EF> 0        1             \n",
       "10    -36.1         4.965     5228.1      <U+22EF> 0        0             \n",
       "11    -41.8         4.961     5228.1      <U+22EF> 0        0             \n",
       "12    -42.7         4.963     5228.1      <U+22EF> 0        0             \n",
       "13    -42.7         4.958     5228.1      <U+22EF> 0        0             \n",
       "14    -46.2         1.344     5099.1      <U+22EF> 0        0             \n",
       "15    -42.0         4.076     5195.8      <U+22EF> 0        0             \n",
       "16    -42.0         4.191     5195.8      <U+22EF> 0        0             \n",
       "17    -41.8         4.866     5228.1      <U+22EF> 0        0             \n",
       "18    -47.1         1.410     5099.1      <U+22EF> 0        0             \n",
       "19    -36.4         4.858     5191.0      <U+22EF> 0        0             \n",
       "20    -47.1         1.405     5099.1      <U+22EF> 0        0             \n",
       "21    -36.4         4.855     5191.0      <U+22EF> 0        1             \n",
       "22    -46.2         1.334     5099.1      <U+22EF> 0        0             \n",
       "23    -46.2         1.281     5099.1      <U+22EF> 0        0             \n",
       "24    -36.4         4.856     5191.0      <U+22EF> 0        0             \n",
       "25    -36.4         4.856     5191.0      <U+22EF> 0        0             \n",
       "26    -41.8         4.865     5228.1      <U+22EF> 0        0             \n",
       "27    -42.0         4.021     5195.8      <U+22EF> 0        1             \n",
       "28    -36.4         4.856     5191.0      <U+22EF> 0        0             \n",
       "29    -42.7         4.962     5228.1      <U+22EF> 0        0             \n",
       "30    -36.1         4.967     5228.1      <U+22EF> 0        0             \n",
       "<U+22EE>     <U+22EE>      <U+22EE>  <U+22EE>    <U+22F1> <U+22EE> <U+22EE>      \n",
       "19970 -40.00000     0.699     5008.7      <U+22EF> 0        0             \n",
       "19971 -36.10000     4.965     5228.1      <U+22EF> 0        0             \n",
       "19972 -36.10000     4.964     5228.1      <U+22EF> 0        0             \n",
       "19973 -36.40000     4.860     5191.0      <U+22EF> 0        0             \n",
       "19974 -33.60000     0.914     5076.2      <U+22EF> 0        0             \n",
       "19975 -36.10000     4.966     5228.1      <U+22EF> 0        0             \n",
       "19976 -42.00000     4.153     5195.8      <U+22EF> 0        0             \n",
       "19977 -36.10000     4.965     5228.1      <U+22EF> 0        0             \n",
       "19978 -41.80000     4.865     5228.1      <U+22EF> 0        0             \n",
       "19979 -36.10000     4.965     5228.1      <U+22EF> 0        0             \n",
       "19980 -36.10000     4.968     5228.1      <U+22EF> 0        0             \n",
       "19981 -26.90000     0.754     5017.5      <U+22EF> 0        0             \n",
       "19982 -36.10000     4.963     5228.1      <U+22EF> 0        0             \n",
       "19983 -36.40000     4.864     5191.0      <U+22EF> 0        1             \n",
       "19984 -36.40000     4.860     5191.0      <U+22EF> 0        0             \n",
       "19985 -42.70000     4.968     5228.1      <U+22EF> 0        0             \n",
       "19986 -36.40000     4.856     5191.0      <U+22EF> 0        0             \n",
       "19988 -42.70000     4.960     5228.1      <U+22EF> 0        0             \n",
       "19989 -36.40000     4.859     5191.0      <U+22EF> 0        0             \n",
       "19990 -40.47166     0.728     5017.5      <U+22EF> 0        0             \n",
       "19991 -29.80000     0.773     5017.5      <U+22EF> 1        1             \n",
       "19992 -36.10000     4.963     5228.1      <U+22EF> 0        0             \n",
       "19993 -36.10000     4.963     5228.1      <U+22EF> 0        0             \n",
       "19994 -46.20000     1.344     5099.1      <U+22EF> 0        0             \n",
       "19995 -42.70000     4.968     5228.1      <U+22EF> 0        0             \n",
       "19996 -42.70000     4.957     5228.1      <U+22EF> 0        0             \n",
       "19997 -46.20000     1.299     5099.1      <U+22EF> 0        0             \n",
       "19998 -46.20000     1.299     5099.1      <U+22EF> 0        0             \n",
       "19999 -42.70000     4.960     5228.1      <U+22EF> 0        0             \n",
       "20000 -36.10000     4.963     5228.1      <U+22EF> 0        0             \n",
       "      day_of_weekmon day_of_weekthu day_of_weektue day_of_weekwed\n",
       "1     0              1              0              0             \n",
       "2     1              0              0              0             \n",
       "3     1              0              0              0             \n",
       "4     0              0              1              0             \n",
       "5     0              0              0              1             \n",
       "6     0              0              0              1             \n",
       "7     0              0              0              0             \n",
       "8     0              0              0              1             \n",
       "9     0              0              0              0             \n",
       "10    0              0              0              1             \n",
       "11    1              0              0              0             \n",
       "12    0              1              0              0             \n",
       "13    0              1              0              0             \n",
       "14    0              0              1              0             \n",
       "15    0              1              0              0             \n",
       "16    1              0              0              0             \n",
       "17    0              1              0              0             \n",
       "18    0              1              0              0             \n",
       "19    0              0              0              1             \n",
       "20    1              0              0              0             \n",
       "21    0              0              0              0             \n",
       "22    0              0              0              1             \n",
       "23    0              0              0              1             \n",
       "24    0              0              1              0             \n",
       "25    0              0              1              0             \n",
       "26    1              0              0              0             \n",
       "27    0              0              0              0             \n",
       "28    0              0              1              0             \n",
       "29    1              0              0              0             \n",
       "30    0              0              0              1             \n",
       "<U+22EE>     <U+22EE>       <U+22EE>       <U+22EE>       <U+22EE>      \n",
       "19970 0              1              0              0             \n",
       "19971 1              0              0              0             \n",
       "19972 0              0              0              1             \n",
       "19973 0              1              0              0             \n",
       "19974 1              0              0              0             \n",
       "19975 0              0              1              0             \n",
       "19976 0              0              1              0             \n",
       "19977 0              0              1              0             \n",
       "19978 1              0              0              0             \n",
       "19979 0              0              0              1             \n",
       "19980 0              1              0              0             \n",
       "19981 0              1              0              0             \n",
       "19982 1              0              0              0             \n",
       "19983 0              0              0              0             \n",
       "19984 0              1              0              0             \n",
       "19985 0              1              0              0             \n",
       "19986 0              0              1              0             \n",
       "19988 1              0              0              0             \n",
       "19989 0              0              0              1             \n",
       "19990 0              0              1              0             \n",
       "19991 0              0              0              0             \n",
       "19992 0              1              0              0             \n",
       "19993 1              0              0              0             \n",
       "19994 0              0              1              0             \n",
       "19995 0              1              0              0             \n",
       "19996 0              0              0              1             \n",
       "19997 1              0              0              0             \n",
       "19998 1              0              0              0             \n",
       "19999 1              0              0              0             \n",
       "20000 0              1              0              0             \n",
       "      poutcomefailure poutcomenonexistent poutcomesuccess subscribe\n",
       "1     0               1                   0               0        \n",
       "2     0               1                   0               0        \n",
       "3     0               1                   0               0        \n",
       "4     0               1                   0               0        \n",
       "5     0               1                   0               0        \n",
       "6     0               1                   0               0        \n",
       "7     1               0                   0               1        \n",
       "8     0               1                   0               0        \n",
       "9     1               0                   0               0        \n",
       "10    0               1                   0               0        \n",
       "11    0               1                   0               0        \n",
       "12    0               1                   0               0        \n",
       "13    0               1                   0               0        \n",
       "14    0               1                   0               0        \n",
       "15    0               1                   0               1        \n",
       "16    1               0                   0               0        \n",
       "17    0               1                   0               0        \n",
       "18    1               0                   0               0        \n",
       "19    0               1                   0               0        \n",
       "20    0               1                   0               0        \n",
       "21    0               1                   0               0        \n",
       "22    1               0                   0               0        \n",
       "23    0               1                   0               0        \n",
       "24    0               1                   0               0        \n",
       "25    0               1                   0               0        \n",
       "26    0               1                   0               0        \n",
       "27    0               1                   0               0        \n",
       "28    0               1                   0               0        \n",
       "29    0               1                   0               0        \n",
       "30    0               1                   0               0        \n",
       "<U+22EE>     <U+22EE>        <U+22EE>            <U+22EE>        <U+22EE> \n",
       "19970 0               0                   1               1        \n",
       "19971 0               1                   0               0        \n",
       "19972 0               1                   0               0        \n",
       "19973 0               1                   0               0        \n",
       "19974 0               1                   0               0        \n",
       "19975 0               1                   0               0        \n",
       "19976 0               1                   0               0        \n",
       "19977 0               1                   0               0        \n",
       "19978 0               1                   0               0        \n",
       "19979 0               1                   0               0        \n",
       "19980 0               1                   0               0        \n",
       "19981 1               0                   0               0        \n",
       "19982 0               1                   0               0        \n",
       "19983 0               1                   0               0        \n",
       "19984 0               1                   0               0        \n",
       "19985 0               1                   0               0        \n",
       "19986 0               1                   0               0        \n",
       "19988 0               1                   0               0        \n",
       "19989 0               1                   0               0        \n",
       "19990 0               1                   0               1        \n",
       "19991 0               0                   1               1        \n",
       "19992 0               1                   0               0        \n",
       "19993 0               1                   0               1        \n",
       "19994 1               0                   0               0        \n",
       "19995 0               1                   0               0        \n",
       "19996 0               1                   0               1        \n",
       "19997 1               0                   0               0        \n",
       "19998 1               0                   0               0        \n",
       "19999 0               1                   0               0        \n",
       "20000 0               1                   0               0        "
      ]
     },
     "metadata": {},
     "output_type": "display_data"
    }
   ],
   "source": [
    "new_df <- bank2\n",
    "\n",
    "new_df$job <- factor(new_df$job, exclude = NULL)\n",
    "new_df$marital <- factor(new_df$marital, exclude = NULL)\n",
    "new_df$education <- factor(new_df$education, exclude = NULL)\n",
    "new_df$default <- factor(new_df$default, exclude = NULL)\n",
    "new_df$housing <- factor(new_df$housing, exclude = NULL)\n",
    "new_df$loan <- factor(new_df$loan, exclude = NULL)\n",
    "new_df$contact <- factor(new_df$contact, exclude = NULL)\n",
    "new_df$month <- factor(new_df$month, exclude = NULL)\n",
    "new_df$day_of_week <- factor(new_df$day_of_week, exclude = NULL)\n",
    "new_df$poutcome <- factor(new_df$poutcome, exclude = NULL)\n",
    "\n",
    "new_df <- model.matrix(~.-1, data = new_df[, c(\"job\", \"marital\",\"education\",\"default\",\"housing\",\"loan\",\"contact\",\"month\",\"day_of_week\",\"poutcome\")],\n",
    "                       contrasts.arg = list(\n",
    "                         job = contrasts(new_df$job, contrasts = FALSE),\n",
    "                         marital = contrasts(new_df$marital, contrasts = FALSE),\n",
    "                         education = contrasts(new_df$education, contrasts = FALSE),\n",
    "                         default = contrasts(new_df$default, contrasts = FALSE),\n",
    "                         housing = contrasts(new_df$housing, contrasts = FALSE),\n",
    "                         loan = contrasts(new_df$loan, contrasts = FALSE),\n",
    "                         contact = contrasts(new_df$contact, contrasts = FALSE),\n",
    "                         month = contrasts(new_df$month, contrasts = FALSE),\n",
    "                         day_of_week = contrasts(new_df$day_of_week, contrasts = FALSE),\n",
    "                         poutcome = contrasts(new_df$poutcome, contrasts = FALSE)\n",
    "                       ))\n",
    "\n",
    "# Put all Columns together\n",
    "bank3 <- cbind(bank2[,1:11], new_df)\n",
    "\n",
    "# Move out response variable to the last column possition.\n",
    "bank3 %>% relocate(subscribe, .after = poutcomesuccess)"
   ]
  },
  {
   "cell_type": "code",
   "execution_count": 12,
   "id": "870a690c",
   "metadata": {},
   "outputs": [],
   "source": [
    "# Converting as factor my response variable\n",
    "bank3$subscribe <- as.factor(bank3$subscribe)"
   ]
  },
  {
   "cell_type": "code",
   "execution_count": 13,
   "id": "58508702",
   "metadata": {
    "scrolled": true
   },
   "outputs": [
    {
     "name": "stdout",
     "output_type": "stream",
     "text": [
      "'data.frame':\t18139 obs. of  64 variables:\n",
      " $ client_id                   : int  29925 37529 2757 9642 14183 15180 27168 9097 30538 28981 ...\n",
      " $ age                         : num  42 35 44 45 45 38 33 38 29 34 ...\n",
      " $ campaign                    : num  1 4 1 1 1 2 1 1 1 1 ...\n",
      " $ pdays                       : num  999 999 999 999 999 ...\n",
      " $ previous                    : num  0 0 0 0 0 0 1 0 1 0 ...\n",
      " $ emp_var_rate                : num  1.4 1.4 -1.8 -1.8 1.1 1.1 -1.8 1.1 -1.8 1.4 ...\n",
      " $ cons_price_idx              : num  93.9 94.5 92.9 93.1 94 ...\n",
      " $ cons_conf_idx               : num  -42.7 -41.8 -46.2 -47.1 -36.4 -36.4 -47.1 -36.4 -46.2 -36.1 ...\n",
      " $ euribor3m                   : num  4.97 4.96 1.26 1.45 4.86 ...\n",
      " $ nr_employed                 : num  5228 5228 5099 5099 5191 ...\n",
      " $ subscribe                   : Factor w/ 2 levels \"0\",\"1\": 1 1 1 1 1 1 2 1 1 1 ...\n",
      " $ jobadmin.                   : num  0 0 0 0 0 0 0 0 0 1 ...\n",
      " $ jobblue-collar              : num  0 0 0 0 0 0 0 1 1 0 ...\n",
      " $ jobentrepreneur             : num  0 0 0 0 0 0 0 0 0 0 ...\n",
      " $ jobhousemaid                : num  0 0 0 0 0 0 0 0 0 0 ...\n",
      " $ jobmanagement               : num  1 0 0 0 0 0 0 0 0 0 ...\n",
      " $ jobretired                  : num  0 0 0 0 0 0 0 0 0 0 ...\n",
      " $ jobself-employed            : num  0 0 0 0 0 0 0 0 0 0 ...\n",
      " $ jobservices                 : num  0 0 0 1 0 0 0 0 0 0 ...\n",
      " $ jobstudent                  : num  0 0 0 0 0 0 0 0 0 0 ...\n",
      " $ jobtechnician               : num  0 0 1 0 0 1 1 0 0 0 ...\n",
      " $ jobunemployed               : num  0 1 0 0 0 0 0 0 0 0 ...\n",
      " $ jobunknown                  : num  0 0 0 0 1 0 0 0 0 0 ...\n",
      " $ maritaldivorced             : num  0 0 0 0 0 0 0 0 0 1 ...\n",
      " $ maritalmarried              : num  1 1 1 1 1 1 1 0 0 0 ...\n",
      " $ maritalsingle               : num  0 0 0 0 0 0 0 1 1 0 ...\n",
      " $ maritalunknown              : num  0 0 0 0 0 0 0 0 0 0 ...\n",
      " $ educationbasic.4y           : num  0 0 0 0 0 0 0 0 0 0 ...\n",
      " $ educationbasic.6y           : num  0 0 0 0 0 0 0 0 0 0 ...\n",
      " $ educationbasic.9y           : num  1 0 1 0 0 0 0 1 0 0 ...\n",
      " $ educationhigh.school        : num  0 0 0 1 0 0 0 0 0 0 ...\n",
      " $ educationilliterate         : num  0 0 0 0 0 0 0 0 0 0 ...\n",
      " $ educationprofessional.course: num  0 0 0 0 0 1 1 0 0 0 ...\n",
      " $ educationuniversity.degree  : num  0 1 0 0 0 0 0 0 0 1 ...\n",
      " $ educationunknown            : num  0 0 0 0 1 0 0 0 1 0 ...\n",
      " $ defaultno                   : num  1 1 1 1 0 1 1 0 1 1 ...\n",
      " $ defaultunknown              : num  0 0 0 0 1 0 0 1 0 0 ...\n",
      " $ defaultyes                  : num  0 0 0 0 0 0 0 0 0 0 ...\n",
      " $ housingno                   : num  1 0 0 0 0 1 1 0 0 0 ...\n",
      " $ housingunknown              : num  0 0 0 0 1 0 0 0 0 0 ...\n",
      " $ housingyes                  : num  0 1 1 1 0 0 0 1 1 1 ...\n",
      " $ loanno                      : num  1 1 0 1 0 1 0 1 1 0 ...\n",
      " $ loanunknown                 : num  0 0 0 0 1 0 0 0 0 0 ...\n",
      " $ loanyes                     : num  0 0 1 0 0 0 1 0 0 1 ...\n",
      " $ contactcellular             : num  1 0 1 1 0 0 1 0 1 1 ...\n",
      " $ contacttelephone            : num  0 1 0 0 1 1 0 1 0 0 ...\n",
      " $ monthapr                    : num  0 0 0 1 0 0 1 0 0 0 ...\n",
      " $ monthaug                    : num  0 0 0 0 0 0 0 0 0 1 ...\n",
      " $ monthdec                    : num  0 0 0 0 0 0 0 0 0 0 ...\n",
      " $ monthjul                    : num  1 0 0 0 0 0 0 0 0 0 ...\n",
      " $ monthjun                    : num  0 1 0 0 0 0 0 0 0 0 ...\n",
      " $ monthmar                    : num  0 0 0 0 0 0 0 0 0 0 ...\n",
      " $ monthmay                    : num  0 0 1 0 1 1 0 1 1 0 ...\n",
      " $ monthnov                    : num  0 0 0 0 0 0 0 0 0 0 ...\n",
      " $ monthoct                    : num  0 0 0 0 0 0 0 0 0 0 ...\n",
      " $ monthsep                    : num  0 0 0 0 0 0 0 0 0 0 ...\n",
      " $ day_of_weekfri              : num  0 0 0 0 0 0 1 0 1 0 ...\n",
      " $ day_of_weekmon              : num  0 1 1 0 0 0 0 0 0 0 ...\n",
      " $ day_of_weekthu              : num  1 0 0 0 0 0 0 0 0 0 ...\n",
      " $ day_of_weektue              : num  0 0 0 1 0 0 0 0 0 0 ...\n",
      " $ day_of_weekwed              : num  0 0 0 0 1 1 0 1 0 1 ...\n",
      " $ poutcomefailure             : num  0 0 0 0 0 0 1 0 1 0 ...\n",
      " $ poutcomenonexistent         : num  1 1 1 1 1 1 0 1 0 1 ...\n",
      " $ poutcomesuccess             : num  0 0 0 0 0 0 0 0 0 0 ...\n"
     ]
    }
   ],
   "source": [
    "str(bank3)"
   ]
  },
  {
   "cell_type": "code",
   "execution_count": 14,
   "id": "b4d1bc42",
   "metadata": {},
   "outputs": [],
   "source": [
    "# Renaming some columns\n",
    "names(bank3)[names(bank3) == \"jobadmin.\"] <- \"jobadmin\"\n",
    "names(bank3)[names(bank3) == \"jobblue-collar\"] <- \"jobblue_collar\"\n",
    "names(bank3)[names(bank3) == \"jobself-employed\"] <- \"jobself_employed\"\n",
    "names(bank3)[names(bank3) == \"educationbasic.4y\"] <- \"education_basic_4y\"\n",
    "names(bank3)[names(bank3) == \"educationbasic.6y\"] <- \"education_basic_6y\"\n",
    "names(bank3)[names(bank3) == \"educationbasic.9y\"] <- \"education_basic_9y\"\n",
    "names(bank3)[names(bank3) == \"educationhigh.school\"] <- \"education_high_school\"\n",
    "names(bank3)[names(bank3) == \"educationprofessional.course\"] <- \"education_professional_course\"\n",
    "names(bank3)[names(bank3) == \"educationuniversity.degree\"] <- \"education_university_degree\""
   ]
  },
  {
   "cell_type": "markdown",
   "id": "f9f0f26d",
   "metadata": {},
   "source": [
    "### Check the dataset dimension"
   ]
  },
  {
   "cell_type": "code",
   "execution_count": 15,
   "id": "1c1e9fe0",
   "metadata": {},
   "outputs": [
    {
     "data": {
      "text/html": [
       "<style>\n",
       ".list-inline {list-style: none; margin:0; padding: 0}\n",
       ".list-inline>li {display: inline-block}\n",
       ".list-inline>li:not(:last-child)::after {content: \"\\00b7\"; padding: 0 .5ex}\n",
       "</style>\n",
       "<ol class=list-inline><li>18139</li><li>64</li></ol>\n"
      ],
      "text/latex": [
       "\\begin{enumerate*}\n",
       "\\item 18139\n",
       "\\item 64\n",
       "\\end{enumerate*}\n"
      ],
      "text/markdown": [
       "1. 18139\n",
       "2. 64\n",
       "\n",
       "\n"
      ],
      "text/plain": [
       "[1] 18139    64"
      ]
     },
     "metadata": {},
     "output_type": "display_data"
    }
   ],
   "source": [
    "dim(bank3)"
   ]
  },
  {
   "cell_type": "markdown",
   "id": "481ffa2e",
   "metadata": {},
   "source": [
    "We have 18139 Observations and 63 predictors and our response variable subscribe"
   ]
  },
  {
   "cell_type": "markdown",
   "id": "2f7661e9",
   "metadata": {},
   "source": [
    "#### Check the response (subscribe) classes and size"
   ]
  },
  {
   "cell_type": "code",
   "execution_count": 16,
   "id": "318deab6",
   "metadata": {},
   "outputs": [
    {
     "data": {
      "text/plain": [
       "\n",
       "    0     1 \n",
       "16099  2040 "
      ]
     },
     "metadata": {},
     "output_type": "display_data"
    },
    {
     "data": {
      "text/plain": [
       "\n",
       "        0         1 \n",
       "0.8875351 0.1124649 "
      ]
     },
     "metadata": {},
     "output_type": "display_data"
    }
   ],
   "source": [
    "# The response classes and Size\n",
    "table(bank3$subscribe)\n",
    "table(bank3$subscribe)/nrow(bank3)"
   ]
  },
  {
   "cell_type": "markdown",
   "id": "a270e71b",
   "metadata": {},
   "source": [
    "#### Split the Data in Train 80% and Test 20%"
   ]
  },
  {
   "cell_type": "code",
   "execution_count": 17,
   "id": "86beab97",
   "metadata": {},
   "outputs": [],
   "source": [
    "# Split the data into training and test set\n",
    "set.seed(321)\n",
    "tra.samples <- bank3$subscribe %>% \n",
    "  createDataPartition(p = 0.8, list = FALSE)\n",
    "train.data  <- bank3[tra.samples, ]\n",
    "test.data <- bank3[-tra.samples, ]"
   ]
  },
  {
   "cell_type": "markdown",
   "id": "d9ff4647",
   "metadata": {},
   "source": [
    "## Model 1: Logistict Regression"
   ]
  },
  {
   "cell_type": "markdown",
   "id": "cda9d6b3",
   "metadata": {},
   "source": [
    "#### Fit the model"
   ]
  },
  {
   "cell_type": "code",
   "execution_count": 19,
   "id": "a55dafc7",
   "metadata": {},
   "outputs": [
    {
     "data": {
      "text/plain": [
       "\n",
       "Call:\n",
       "glm(formula = subscribe ~ ., family = \"binomial\", data = train.data)\n",
       "\n",
       "Deviance Residuals: \n",
       "    Min       1Q   Median       3Q      Max  \n",
       "-1.9933  -0.4063  -0.3246  -0.2600   2.9895  \n",
       "\n",
       "Coefficients: (11 not defined because of singularities)\n",
       "                                Estimate Std. Error z value Pr(>|z|)    \n",
       "(Intercept)                   -4.927e+01  3.782e+02  -0.130 0.896345    \n",
       "client_id                      1.947e-06  2.497e-06   0.780 0.435458    \n",
       "age                            2.230e-03  3.558e-03   0.627 0.530789    \n",
       "campaign                      -5.068e-02  1.554e-02  -3.262 0.001105 ** \n",
       "pdays                         -9.087e-04  3.020e-04  -3.009 0.002618 ** \n",
       "previous                       5.861e-03  8.951e-02   0.065 0.947788    \n",
       "emp_var_rate                  -3.627e-01  1.162e-01  -3.123 0.001793 ** \n",
       "cons_price_idx                 5.727e-01  1.837e-01   3.118 0.001818 ** \n",
       "cons_conf_idx                  2.404e-02  8.712e-03   2.759 0.005795 ** \n",
       "euribor3m                     -1.235e-01  1.005e-01  -1.229 0.219095    \n",
       "nr_employed                   -2.689e-03  2.096e-03  -1.283 0.199585    \n",
       "jobadmin                      -8.156e-02  3.363e-01  -0.243 0.808365    \n",
       "jobblue_collar                -2.564e-01  3.405e-01  -0.753 0.451589    \n",
       "jobentrepreneur                1.036e-02  3.672e-01   0.028 0.977490    \n",
       "jobhousemaid                  -1.454e-01  3.882e-01  -0.375 0.707943    \n",
       "jobmanagement                  7.239e-02  3.483e-01   0.208 0.835366    \n",
       "jobretired                     2.335e-01  3.546e-01   0.658 0.510222    \n",
       "jobself_employed              -2.197e-01  3.710e-01  -0.592 0.553762    \n",
       "jobservices                   -2.746e-01  3.494e-01  -0.786 0.431894    \n",
       "jobstudent                     1.631e-01  3.665e-01   0.445 0.656219    \n",
       "jobtechnician                  6.699e-02  3.406e-01   0.197 0.844057    \n",
       "jobunemployed                 -7.684e-02  3.751e-01  -0.205 0.837678    \n",
       "jobunknown                            NA         NA      NA       NA    \n",
       "maritaldivorced               -5.270e-01  6.299e-01  -0.837 0.402727    \n",
       "maritalmarried                -4.458e-01  6.237e-01  -0.715 0.474754    \n",
       "maritalsingle                 -2.730e-01  6.244e-01  -0.437 0.661900    \n",
       "maritalunknown                        NA         NA      NA       NA    \n",
       "education_basic_4y            -2.469e-01  1.801e-01  -1.371 0.170341    \n",
       "education_basic_6y            -8.297e-02  2.044e-01  -0.406 0.684803    \n",
       "education_basic_9y            -2.627e-02  1.691e-01  -0.155 0.876580    \n",
       "education_high_school         -2.421e-02  1.588e-01  -0.152 0.878819    \n",
       "educationilliterate           -1.119e+01  2.078e+02  -0.054 0.957071    \n",
       "education_professional_course -2.785e-01  1.730e-01  -1.610 0.107389    \n",
       "education_university_degree   -8.223e-02  1.570e-01  -0.524 0.600407    \n",
       "educationunknown                      NA         NA      NA       NA    \n",
       "defaultno                      1.060e+01  3.773e+02   0.028 0.977591    \n",
       "defaultunknown                 1.036e+01  3.773e+02   0.027 0.978098    \n",
       "defaultyes                            NA         NA      NA       NA    \n",
       "housingno                      5.841e-02  6.042e-02   0.967 0.333698    \n",
       "housingunknown                 1.145e-01  2.095e-01   0.546 0.584731    \n",
       "housingyes                            NA         NA      NA       NA    \n",
       "loanno                        -1.347e-02  8.235e-02  -0.164 0.870063    \n",
       "loanunknown                           NA         NA      NA       NA    \n",
       "loanyes                               NA         NA      NA       NA    \n",
       "contactcellular                3.993e-01  9.955e-02   4.011 6.04e-05 ***\n",
       "contacttelephone                      NA         NA      NA       NA    \n",
       "monthapr                       5.623e-02  2.181e-01   0.258 0.796603    \n",
       "monthaug                       3.771e-02  1.928e-01   0.196 0.844948    \n",
       "monthdec                       5.407e-01  3.270e-01   1.653 0.098264 .  \n",
       "monthjul                       2.828e-01  2.085e-01   1.356 0.175036    \n",
       "monthjun                      -5.540e-02  2.433e-01  -0.228 0.819877    \n",
       "monthmar                       9.652e-01  2.409e-01   4.007 6.16e-05 ***\n",
       "monthmay                      -5.106e-01  1.967e-01  -2.596 0.009427 ** \n",
       "monthnov                      -3.061e-01  2.043e-01  -1.499 0.134003    \n",
       "monthoct                       9.402e-03  2.060e-01   0.046 0.963598    \n",
       "monthsep                              NA         NA      NA       NA    \n",
       "day_of_weekfri                -1.142e-01  9.523e-02  -1.199 0.230598    \n",
       "day_of_weekmon                -3.002e-01  9.359e-02  -3.208 0.001336 ** \n",
       "day_of_weekthu                -9.217e-02  9.089e-02  -1.014 0.310523    \n",
       "day_of_weektue                -1.036e-01  9.406e-02  -1.101 0.270850    \n",
       "day_of_weekwed                        NA         NA      NA       NA    \n",
       "poutcomefailure               -1.011e+00  2.961e-01  -3.415 0.000638 ***\n",
       "poutcomenonexistent           -5.190e-01  3.049e-01  -1.702 0.088685 .  \n",
       "poutcomesuccess                       NA         NA      NA       NA    \n",
       "---\n",
       "Signif. codes:  0 '***' 0.001 '**' 0.01 '*' 0.05 '.' 0.1 ' ' 1\n",
       "\n",
       "(Dispersion parameter for binomial family taken to be 1)\n",
       "\n",
       "    Null deviance: 10205.6  on 14511  degrees of freedom\n",
       "Residual deviance:  8113.6  on 14459  degrees of freedom\n",
       "AIC: 8219.6\n",
       "\n",
       "Number of Fisher Scoring iterations: 12\n"
      ]
     },
     "metadata": {},
     "output_type": "display_data"
    },
    {
     "name": "stderr",
     "output_type": "stream",
     "text": [
      "Warning message in predict.lm(object, newdata, se.fit, scale = 1, type = if (type == :\n",
      "\"prediction from a rank-deficient fit may be misleading\"\n"
     ]
    },
    {
     "data": {
      "text/html": [
       "0.906534325889165"
      ],
      "text/latex": [
       "0.906534325889165"
      ],
      "text/markdown": [
       "0.906534325889165"
      ],
      "text/plain": [
       "[1] 0.9065343"
      ]
     },
     "metadata": {},
     "output_type": "display_data"
    }
   ],
   "source": [
    "# Fit the model\n",
    "modellr <- glm( subscribe ~., data = train.data , family = 'binomial') # Family = Binomial means Logistics Regrestion\n",
    "\n",
    "# Summarize the model\n",
    "summary(modellr)\n",
    "\n",
    "# Make predictions\n",
    "prob1 <- model %>% predict(test.data, type = \"response\")\n",
    "predicted.classes1 <- ifelse(prob1 > 0.5, 1, 0)  # If prob > 0.5 then 1, else 0\n",
    "\n",
    "# Model accuracy\n",
    "mean(predicted.classes1 == test.data$subscribe)"
   ]
  },
  {
   "cell_type": "markdown",
   "id": "1e3c1175",
   "metadata": {},
   "source": [
    "#### Setpwise selection"
   ]
  },
  {
   "cell_type": "code",
   "execution_count": 104,
   "id": "f70a56b5",
   "metadata": {
    "scrolled": true
   },
   "outputs": [
    {
     "data": {
      "text/html": [
       "<style>\n",
       ".dl-inline {width: auto; margin:0; padding: 0}\n",
       ".dl-inline>dt, .dl-inline>dd {float: none; width: auto; display: inline-block}\n",
       ".dl-inline>dt::after {content: \":\\0020\"; padding-right: .5ex}\n",
       ".dl-inline>dt:not(:first-of-type) {padding-left: .5ex}\n",
       "</style><dl class=dl-inline><dt>(Intercept)</dt><dd>-32.548432969411</dd><dt>campaign</dt><dd>-0.0518673131827669</dd><dt>pdays</dt><dd>-0.000917793364563279</dd><dt>emp_var_rate</dt><dd>-0.325314735865203</dd><dt>cons_price_idx</dt><dd>0.520909941343526</dd><dt>cons_conf_idx</dt><dd>0.0237273543182486</dd><dt>euribor3m</dt><dd>-0.13388895675763</dd><dt>nr_employed</dt><dd>-0.0030151611262098</dd><dt>jobadmin</dt><dd>-0.135045740179166</dd><dt>jobblue_collar</dt><dd>-0.286798258881321</dd><dt>jobretired</dt><dd>0.260384922544257</dd><dt>jobself_employed</dt><dd>-0.278250633027361</dd><dt>jobservices</dt><dd>-0.306415746989335</dd><dt>maritaldivorced</dt><dd>-0.241071627685781</dd><dt>maritalmarried</dt><dd>-0.168998823848597</dd><dt>education_basic_4y</dt><dd>-0.213262952739371</dd><dt>education_professional_course</dt><dd>-0.221332099138504</dd><dt>defaultno</dt><dd>0.234429296451154</dd><dt>contactcellular</dt><dd>0.402484073651789</dd><dt>monthdec</dt><dd>0.534246218676636</dd><dt>monthjul</dt><dd>0.275822088742883</dd><dt>monthmar</dt><dd>0.931234919469932</dd><dt>monthmay</dt><dd>-0.52623467346117</dd><dt>monthnov</dt><dd>-0.314497663308788</dd><dt>day_of_weekmon</dt><dd>-0.223800752825466</dd><dt>poutcomefailure</dt><dd>-0.999109652433078</dd><dt>poutcomenonexistent</dt><dd>-0.519209114561251</dd></dl>\n"
      ],
      "text/latex": [
       "\\begin{description*}\n",
       "\\item[(Intercept)] -32.548432969411\n",
       "\\item[campaign] -0.0518673131827669\n",
       "\\item[pdays] -0.000917793364563279\n",
       "\\item[emp\\textbackslash{}\\_var\\textbackslash{}\\_rate] -0.325314735865203\n",
       "\\item[cons\\textbackslash{}\\_price\\textbackslash{}\\_idx] 0.520909941343526\n",
       "\\item[cons\\textbackslash{}\\_conf\\textbackslash{}\\_idx] 0.0237273543182486\n",
       "\\item[euribor3m] -0.13388895675763\n",
       "\\item[nr\\textbackslash{}\\_employed] -0.0030151611262098\n",
       "\\item[jobadmin] -0.135045740179166\n",
       "\\item[jobblue\\textbackslash{}\\_collar] -0.286798258881321\n",
       "\\item[jobretired] 0.260384922544257\n",
       "\\item[jobself\\textbackslash{}\\_employed] -0.278250633027361\n",
       "\\item[jobservices] -0.306415746989335\n",
       "\\item[maritaldivorced] -0.241071627685781\n",
       "\\item[maritalmarried] -0.168998823848597\n",
       "\\item[education\\textbackslash{}\\_basic\\textbackslash{}\\_4y] -0.213262952739371\n",
       "\\item[education\\textbackslash{}\\_professional\\textbackslash{}\\_course] -0.221332099138504\n",
       "\\item[defaultno] 0.234429296451154\n",
       "\\item[contactcellular] 0.402484073651789\n",
       "\\item[monthdec] 0.534246218676636\n",
       "\\item[monthjul] 0.275822088742883\n",
       "\\item[monthmar] 0.931234919469932\n",
       "\\item[monthmay] -0.52623467346117\n",
       "\\item[monthnov] -0.314497663308788\n",
       "\\item[day\\textbackslash{}\\_of\\textbackslash{}\\_weekmon] -0.223800752825466\n",
       "\\item[poutcomefailure] -0.999109652433078\n",
       "\\item[poutcomenonexistent] -0.519209114561251\n",
       "\\end{description*}\n"
      ],
      "text/markdown": [
       "(Intercept)\n",
       ":   -32.548432969411campaign\n",
       ":   -0.0518673131827669pdays\n",
       ":   -0.000917793364563279emp_var_rate\n",
       ":   -0.325314735865203cons_price_idx\n",
       ":   0.520909941343526cons_conf_idx\n",
       ":   0.0237273543182486euribor3m\n",
       ":   -0.13388895675763nr_employed\n",
       ":   -0.0030151611262098jobadmin\n",
       ":   -0.135045740179166jobblue_collar\n",
       ":   -0.286798258881321jobretired\n",
       ":   0.260384922544257jobself_employed\n",
       ":   -0.278250633027361jobservices\n",
       ":   -0.306415746989335maritaldivorced\n",
       ":   -0.241071627685781maritalmarried\n",
       ":   -0.168998823848597education_basic_4y\n",
       ":   -0.213262952739371education_professional_course\n",
       ":   -0.221332099138504defaultno\n",
       ":   0.234429296451154contactcellular\n",
       ":   0.402484073651789monthdec\n",
       ":   0.534246218676636monthjul\n",
       ":   0.275822088742883monthmar\n",
       ":   0.931234919469932monthmay\n",
       ":   -0.52623467346117monthnov\n",
       ":   -0.314497663308788day_of_weekmon\n",
       ":   -0.223800752825466poutcomefailure\n",
       ":   -0.999109652433078poutcomenonexistent\n",
       ":   -0.519209114561251\n",
       "\n"
      ],
      "text/plain": [
       "                  (Intercept)                      campaign \n",
       "                -3.254843e+01                 -5.186731e-02 \n",
       "                        pdays                  emp_var_rate \n",
       "                -9.177934e-04                 -3.253147e-01 \n",
       "               cons_price_idx                 cons_conf_idx \n",
       "                 5.209099e-01                  2.372735e-02 \n",
       "                    euribor3m                   nr_employed \n",
       "                -1.338890e-01                 -3.015161e-03 \n",
       "                     jobadmin                jobblue_collar \n",
       "                -1.350457e-01                 -2.867983e-01 \n",
       "                   jobretired              jobself_employed \n",
       "                 2.603849e-01                 -2.782506e-01 \n",
       "                  jobservices               maritaldivorced \n",
       "                -3.064157e-01                 -2.410716e-01 \n",
       "               maritalmarried            education_basic_4y \n",
       "                -1.689988e-01                 -2.132630e-01 \n",
       "education_professional_course                     defaultno \n",
       "                -2.213321e-01                  2.344293e-01 \n",
       "              contactcellular                      monthdec \n",
       "                 4.024841e-01                  5.342462e-01 \n",
       "                     monthjul                      monthmar \n",
       "                 2.758221e-01                  9.312349e-01 \n",
       "                     monthmay                      monthnov \n",
       "                -5.262347e-01                 -3.144977e-01 \n",
       "               day_of_weekmon               poutcomefailure \n",
       "                -2.238008e-01                 -9.991097e-01 \n",
       "          poutcomenonexistent \n",
       "                -5.192091e-01 "
      ]
     },
     "metadata": {},
     "output_type": "display_data"
    }
   ],
   "source": [
    "smodel <- modellr %>% stepAIC(trace = FALSE)\n",
    "coef(smodellr)"
   ]
  },
  {
   "cell_type": "code",
   "execution_count": 21,
   "id": "37f8535b",
   "metadata": {},
   "outputs": [
    {
     "data": {
      "text/plain": [
       "\n",
       "Call:\n",
       "glm(formula = subscribe ~ campaign + pdays + emp_var_rate + cons_price_idx + \n",
       "    cons_conf_idx + euribor3m + nr_employed + jobadmin + jobblue_collar + \n",
       "    jobretired + jobself_employed + jobservices + maritaldivorced + \n",
       "    maritalmarried + education_basic_4y + education_professional_course + \n",
       "    defaultno + contactcellular + monthaug + monthdec + monthjul + \n",
       "    monthmar + monthmay + monthnov + day_of_weekmon + poutcomefailure + \n",
       "    poutcomenonexistent, family = \"binomial\", data = train.data)\n",
       "\n",
       "Deviance Residuals: \n",
       "    Min       1Q   Median       3Q      Max  \n",
       "-1.9802  -0.4058  -0.3269  -0.2606   2.9999  \n",
       "\n",
       "Coefficients:\n",
       "                                Estimate Std. Error z value Pr(>|z|)    \n",
       "(Intercept)                   -3.342e+01  1.978e+01  -1.689 0.091151 .  \n",
       "campaign                      -5.191e-02  1.552e-02  -3.345 0.000822 ***\n",
       "pdays                         -9.153e-04  2.878e-04  -3.181 0.001469 ** \n",
       "emp_var_rate                  -3.333e-01  9.587e-02  -3.477 0.000507 ***\n",
       "cons_price_idx                 5.294e-01  1.417e-01   3.737 0.000187 ***\n",
       "cons_conf_idx                  2.317e-02  8.302e-03   2.791 0.005257 ** \n",
       "euribor3m                     -1.303e-01  9.556e-02  -1.364 0.172638    \n",
       "nr_employed                   -3.009e-03  1.610e-03  -1.869 0.061688 .  \n",
       "jobadmin                      -1.356e-01  7.705e-02  -1.759 0.078505 .  \n",
       "jobblue_collar                -2.860e-01  9.260e-02  -3.089 0.002009 ** \n",
       "jobretired                     2.599e-01  1.300e-01   1.999 0.045584 *  \n",
       "jobself_employed              -2.777e-01  1.742e-01  -1.594 0.111034    \n",
       "jobservices                   -3.055e-01  1.180e-01  -2.590 0.009609 ** \n",
       "maritaldivorced               -2.405e-01  1.076e-01  -2.236 0.025343 *  \n",
       "maritalmarried                -1.686e-01  6.621e-02  -2.547 0.010865 *  \n",
       "education_basic_4y            -2.128e-01  1.155e-01  -1.843 0.065346 .  \n",
       "education_professional_course -2.216e-01  9.628e-02  -2.302 0.021342 *  \n",
       "defaultno                      2.341e-01  9.448e-02   2.478 0.013213 *  \n",
       "contactcellular                3.984e-01  9.864e-02   4.039 5.37e-05 ***\n",
       "monthaug                       2.569e-02  1.266e-01   0.203 0.839181    \n",
       "monthdec                       5.416e-01  2.925e-01   1.851 0.064110 .  \n",
       "monthjul                       2.853e-01  1.068e-01   2.671 0.007566 ** \n",
       "monthmar                       9.384e-01  1.836e-01   5.112 3.19e-07 ***\n",
       "monthmay                      -5.195e-01  8.975e-02  -5.789 7.09e-09 ***\n",
       "monthnov                      -3.072e-01  1.211e-01  -2.536 0.011215 *  \n",
       "day_of_weekmon                -2.241e-01  7.440e-02  -3.012 0.002593 ** \n",
       "poutcomefailure               -1.001e+00  2.880e-01  -3.476 0.000508 ***\n",
       "poutcomenonexistent           -5.208e-01  2.994e-01  -1.739 0.081964 .  \n",
       "---\n",
       "Signif. codes:  0 '***' 0.001 '**' 0.01 '*' 0.05 '.' 0.1 ' ' 1\n",
       "\n",
       "(Dispersion parameter for binomial family taken to be 1)\n",
       "\n",
       "    Null deviance: 10205.6  on 14511  degrees of freedom\n",
       "Residual deviance:  8122.2  on 14484  degrees of freedom\n",
       "AIC: 8178.2\n",
       "\n",
       "Number of Fisher Scoring iterations: 6\n"
      ]
     },
     "metadata": {},
     "output_type": "display_data"
    },
    {
     "data": {
      "text/html": [
       "0.906534325889165"
      ],
      "text/latex": [
       "0.906534325889165"
      ],
      "text/markdown": [
       "0.906534325889165"
      ],
      "text/plain": [
       "[1] 0.9065343"
      ]
     },
     "metadata": {},
     "output_type": "display_data"
    }
   ],
   "source": [
    "# Fit the model with Stepwise Selected Coefficients\n",
    "modells <- glm( subscribe ~ campaign + pdays + \n",
    "               emp_var_rate + cons_price_idx +\n",
    "               cons_conf_idx + euribor3m + \n",
    "               nr_employed + jobadmin + \n",
    "               jobblue_collar + jobretired + \n",
    "               jobself_employed + jobservices +\n",
    "               maritaldivorced + maritalmarried +\n",
    "               education_basic_4y + education_professional_course +\n",
    "               defaultno + contactcellular + monthaug + monthdec + \n",
    "               monthjul + monthmar + monthmay + monthnov + day_of_weekmon + \n",
    "               poutcomefailure + poutcomenonexistent, \n",
    "               data = train.data, \n",
    "               family = 'binomial') # Family = Binomial means Logistics Regrestion\n",
    "\n",
    "# Summarize the model\n",
    "summary(modells)\n",
    "\n",
    "# Make predictions\n",
    "proba2 <- modells %>% predict(test.data, type = \"response\")\n",
    "predicted.classes2 <- ifelse(proba2 > 0.5, 1, 0)  # If prob > 0.5 then 1, else 0\n",
    "\n",
    "# Model accuracy\n",
    "mean(predicted.classes2 == test.data$subscribe)"
   ]
  },
  {
   "cell_type": "markdown",
   "id": "52c564a8",
   "metadata": {},
   "source": [
    "#### Cross Validation"
   ]
  },
  {
   "cell_type": "code",
   "execution_count": 25,
   "id": "3c2c8449",
   "metadata": {},
   "outputs": [
    {
     "data": {
      "text/plain": [
       "\n",
       "Call:\n",
       "NULL\n",
       "\n",
       "Deviance Residuals: \n",
       "    Min       1Q   Median       3Q      Max  \n",
       "-1.9802  -0.4058  -0.3269  -0.2606   2.9999  \n",
       "\n",
       "Coefficients:\n",
       "                                Estimate Std. Error z value Pr(>|z|)    \n",
       "(Intercept)                   -3.342e+01  1.978e+01  -1.689 0.091151 .  \n",
       "campaign                      -5.191e-02  1.552e-02  -3.345 0.000822 ***\n",
       "pdays                         -9.153e-04  2.878e-04  -3.181 0.001469 ** \n",
       "emp_var_rate                  -3.333e-01  9.587e-02  -3.477 0.000507 ***\n",
       "cons_price_idx                 5.294e-01  1.417e-01   3.737 0.000187 ***\n",
       "cons_conf_idx                  2.317e-02  8.302e-03   2.791 0.005257 ** \n",
       "euribor3m                     -1.303e-01  9.556e-02  -1.364 0.172638    \n",
       "nr_employed                   -3.009e-03  1.610e-03  -1.869 0.061688 .  \n",
       "jobadmin                      -1.356e-01  7.705e-02  -1.759 0.078505 .  \n",
       "jobblue_collar                -2.860e-01  9.260e-02  -3.089 0.002009 ** \n",
       "jobretired                     2.599e-01  1.300e-01   1.999 0.045584 *  \n",
       "jobself_employed              -2.777e-01  1.742e-01  -1.594 0.111034    \n",
       "jobservices                   -3.055e-01  1.180e-01  -2.590 0.009609 ** \n",
       "maritaldivorced               -2.405e-01  1.076e-01  -2.236 0.025343 *  \n",
       "maritalmarried                -1.686e-01  6.621e-02  -2.547 0.010865 *  \n",
       "education_basic_4y            -2.128e-01  1.155e-01  -1.843 0.065346 .  \n",
       "education_professional_course -2.216e-01  9.628e-02  -2.302 0.021342 *  \n",
       "defaultno                      2.341e-01  9.448e-02   2.478 0.013213 *  \n",
       "contactcellular                3.984e-01  9.864e-02   4.039 5.37e-05 ***\n",
       "monthaug                       2.569e-02  1.266e-01   0.203 0.839181    \n",
       "monthdec                       5.416e-01  2.925e-01   1.851 0.064110 .  \n",
       "monthjul                       2.853e-01  1.068e-01   2.671 0.007566 ** \n",
       "monthmar                       9.384e-01  1.836e-01   5.112 3.19e-07 ***\n",
       "monthmay                      -5.195e-01  8.975e-02  -5.789 7.09e-09 ***\n",
       "monthnov                      -3.072e-01  1.211e-01  -2.536 0.011215 *  \n",
       "day_of_weekmon                -2.241e-01  7.440e-02  -3.012 0.002593 ** \n",
       "poutcomefailure               -1.001e+00  2.880e-01  -3.476 0.000508 ***\n",
       "poutcomenonexistent           -5.208e-01  2.994e-01  -1.739 0.081964 .  \n",
       "---\n",
       "Signif. codes:  0 '***' 0.001 '**' 0.01 '*' 0.05 '.' 0.1 ' ' 1\n",
       "\n",
       "(Dispersion parameter for binomial family taken to be 1)\n",
       "\n",
       "    Null deviance: 10205.6  on 14511  degrees of freedom\n",
       "Residual deviance:  8122.2  on 14484  degrees of freedom\n",
       "AIC: 8178.2\n",
       "\n",
       "Number of Fisher Scoring iterations: 6\n"
      ]
     },
     "metadata": {},
     "output_type": "display_data"
    }
   ],
   "source": [
    "# Training control definition\n",
    "train_control <- trainControl(method = \"cv\", number = 5)\n",
    "\n",
    "# Train the model on training set\n",
    "modellcv <- train(subscribe ~ campaign+pdays+emp_var_rate+cons_price_idx+cons_conf_idx+euribor3m+nr_employed+jobadmin+jobblue_collar+jobretired+jobself_employed+jobservices+maritaldivorced+maritalmarried+education_basic_4y+education_professional_course+defaultno+contactcellular+monthaug+monthdec+monthjul+monthmar+monthmay+monthnov+day_of_weekmon+poutcomefailure+poutcomenonexistent, data=train.data, trControl=train_control,\n",
    "               method = \"glm\",\n",
    "               family=\"binomial\")\n",
    "\n",
    "# print cv scores\n",
    "summary(modellcv)"
   ]
  },
  {
   "cell_type": "code",
   "execution_count": 27,
   "id": "48bf079b",
   "metadata": {},
   "outputs": [
    {
     "data": {
      "text/plain": [
       "Confusion Matrix and Statistics\n",
       "\n",
       "          Reference\n",
       "Prediction    0    1\n",
       "         0 3182  302\n",
       "         1   37  106\n",
       "                                          \n",
       "               Accuracy : 0.9065          \n",
       "                 95% CI : (0.8966, 0.9158)\n",
       "    No Information Rate : 0.8875          \n",
       "    P-Value [Acc > NIR] : 0.0001131       \n",
       "                                          \n",
       "                  Kappa : 0.3466          \n",
       "                                          \n",
       " Mcnemar's Test P-Value : < 2.2e-16       \n",
       "                                          \n",
       "            Sensitivity : 0.9885          \n",
       "            Specificity : 0.2598          \n",
       "         Pos Pred Value : 0.9133          \n",
       "         Neg Pred Value : 0.7413          \n",
       "             Prevalence : 0.8875          \n",
       "         Detection Rate : 0.8773          \n",
       "   Detection Prevalence : 0.9606          \n",
       "      Balanced Accuracy : 0.6242          \n",
       "                                          \n",
       "       'Positive' Class : 0               \n",
       "                                          "
      ]
     },
     "metadata": {},
     "output_type": "display_data"
    }
   ],
   "source": [
    "# Generate predictions on hold back data\n",
    "trainpre <- predict(modellcv,test.data)\n",
    "# generate confusion matrix for hold back data\n",
    "confusionMatrix(trainpre,reference=test.data$subscribe)"
   ]
  },
  {
   "cell_type": "markdown",
   "id": "3470688d",
   "metadata": {},
   "source": [
    "## Model 2 Random Forest"
   ]
  },
  {
   "cell_type": "markdown",
   "id": "21316ac5",
   "metadata": {},
   "source": [
    "#### Feature Selection Using Boruta"
   ]
  },
  {
   "cell_type": "code",
   "execution_count": 34,
   "id": "67fab6c3",
   "metadata": {
    "scrolled": true
   },
   "outputs": [
    {
     "name": "stderr",
     "output_type": "stream",
     "text": [
      " 1. run of importance source...\n",
      "\n"
     ]
    },
    {
     "name": "stdout",
     "output_type": "stream",
     "text": [
      "Computing permutation importance.. Progress: 85%. Estimated remaining time: 5 seconds.\n"
     ]
    },
    {
     "name": "stderr",
     "output_type": "stream",
     "text": [
      " 2. run of importance source...\n",
      "\n"
     ]
    },
    {
     "name": "stdout",
     "output_type": "stream",
     "text": [
      "Computing permutation importance.. Progress: 85%. Estimated remaining time: 5 seconds.\n"
     ]
    },
    {
     "name": "stderr",
     "output_type": "stream",
     "text": [
      " 3. run of importance source...\n",
      "\n"
     ]
    },
    {
     "name": "stdout",
     "output_type": "stream",
     "text": [
      "Computing permutation importance.. Progress: 84%. Estimated remaining time: 5 seconds.\n"
     ]
    },
    {
     "name": "stderr",
     "output_type": "stream",
     "text": [
      " 4. run of importance source...\n",
      "\n"
     ]
    },
    {
     "name": "stdout",
     "output_type": "stream",
     "text": [
      "Computing permutation importance.. Progress: 83%. Estimated remaining time: 6 seconds.\n"
     ]
    },
    {
     "name": "stderr",
     "output_type": "stream",
     "text": [
      " 5. run of importance source...\n",
      "\n"
     ]
    },
    {
     "name": "stdout",
     "output_type": "stream",
     "text": [
      "Computing permutation importance.. Progress: 85%. Estimated remaining time: 5 seconds.\n"
     ]
    },
    {
     "name": "stderr",
     "output_type": "stream",
     "text": [
      " 6. run of importance source...\n",
      "\n"
     ]
    },
    {
     "name": "stdout",
     "output_type": "stream",
     "text": [
      "Computing permutation importance.. Progress: 84%. Estimated remaining time: 5 seconds.\n"
     ]
    },
    {
     "name": "stderr",
     "output_type": "stream",
     "text": [
      " 7. run of importance source...\n",
      "\n"
     ]
    },
    {
     "name": "stdout",
     "output_type": "stream",
     "text": [
      "Computing permutation importance.. Progress: 85%. Estimated remaining time: 5 seconds.\n"
     ]
    },
    {
     "name": "stderr",
     "output_type": "stream",
     "text": [
      " 8. run of importance source...\n",
      "\n"
     ]
    },
    {
     "name": "stdout",
     "output_type": "stream",
     "text": [
      "Computing permutation importance.. Progress: 84%. Estimated remaining time: 5 seconds.\n"
     ]
    },
    {
     "name": "stderr",
     "output_type": "stream",
     "text": [
      " 9. run of importance source...\n",
      "\n"
     ]
    },
    {
     "name": "stdout",
     "output_type": "stream",
     "text": [
      "Computing permutation importance.. Progress: 84%. Estimated remaining time: 5 seconds.\n"
     ]
    },
    {
     "name": "stderr",
     "output_type": "stream",
     "text": [
      " 10. run of importance source...\n",
      "\n"
     ]
    },
    {
     "name": "stdout",
     "output_type": "stream",
     "text": [
      "Computing permutation importance.. Progress: 86%. Estimated remaining time: 4 seconds.\n"
     ]
    },
    {
     "name": "stderr",
     "output_type": "stream",
     "text": [
      " 11. run of importance source...\n",
      "\n"
     ]
    },
    {
     "name": "stdout",
     "output_type": "stream",
     "text": [
      "Computing permutation importance.. Progress: 84%. Estimated remaining time: 5 seconds.\n"
     ]
    },
    {
     "name": "stderr",
     "output_type": "stream",
     "text": [
      " 12. run of importance source...\n",
      "\n"
     ]
    },
    {
     "name": "stdout",
     "output_type": "stream",
     "text": [
      "Computing permutation importance.. Progress: 86%. Estimated remaining time: 5 seconds.\n"
     ]
    },
    {
     "name": "stderr",
     "output_type": "stream",
     "text": [
      " 13. run of importance source...\n",
      "\n"
     ]
    },
    {
     "name": "stdout",
     "output_type": "stream",
     "text": [
      "Computing permutation importance.. Progress: 84%. Estimated remaining time: 5 seconds.\n"
     ]
    },
    {
     "name": "stderr",
     "output_type": "stream",
     "text": [
      "After 13 iterations, +10 mins: \n",
      "\n",
      " confirmed 23 attributes: age, cons_conf_idx, cons_price_idx, contactcellular, contacttelephone and 18 more;\n",
      "\n",
      " rejected 21 attributes: client_id, day_of_weekthu, defaultyes, education_basic_4y, education_basic_6y and 16 more;\n",
      "\n",
      " still have 19 attributes left.\n",
      "\n",
      "\n",
      " 14. run of importance source...\n",
      "\n",
      " 15. run of importance source...\n",
      "\n"
     ]
    },
    {
     "name": "stdout",
     "output_type": "stream",
     "text": [
      "Computing permutation importance.. Progress: 93%. Estimated remaining time: 25 seconds.\n"
     ]
    },
    {
     "name": "stderr",
     "output_type": "stream",
     "text": [
      " 16. run of importance source...\n",
      "\n",
      " 17. run of importance source...\n",
      "\n",
      "After 17 iterations, +17 mins: \n",
      "\n",
      " confirmed 1 attribute: jobretired;\n",
      "\n",
      " rejected 3 attributes: defaultno, education_professional_course, jobmanagement;\n",
      "\n",
      " still have 15 attributes left.\n",
      "\n",
      "\n",
      " 18. run of importance source...\n",
      "\n",
      " 19. run of importance source...\n",
      "\n"
     ]
    },
    {
     "name": "stdout",
     "output_type": "stream",
     "text": [
      "Boruta performed 19 iterations in 17.66236 mins.\n",
      " 24 attributes confirmed important: age, cons_conf_idx, cons_price_idx,\n",
      "contactcellular, contacttelephone and 19 more;\n",
      " 24 attributes confirmed unimportant: client_id, day_of_weekthu,\n",
      "defaultno, defaultyes, education_basic_4y and 19 more;\n",
      " 15 tentative attributes left: campaign, day_of_weekfri,\n",
      "day_of_weektue, day_of_weekwed, defaultunknown and 10 more;\n"
     ]
    }
   ],
   "source": [
    "#### Feature Selection\n",
    "set.seed(111)\n",
    "boruta <- Boruta(subscribe ~ ., data = train.data, doTrace = 2, maxRuns = 20)\n",
    "print(boruta)"
   ]
  },
  {
   "cell_type": "code",
   "execution_count": 33,
   "id": "03788912",
   "metadata": {
    "scrolled": false
   },
   "outputs": [
    {
     "data": {
      "image/png": "[encoded data removed]",
      "text/plain": [
       "plot without title"
      ]
     },
     "metadata": {
      "image/png": {
       "height": 420,
       "width": 420
      }
     },
     "output_type": "display_data"
    }
   ],
   "source": [
    "plot(boruta, las = 2, cex.axis = 0.8)"
   ]
  },
  {
   "cell_type": "code",
   "execution_count": 35,
   "id": "5e82358c",
   "metadata": {},
   "outputs": [],
   "source": [
    "modelorf <- randomForest(subscribe~ age+campaign+cons_conf_idx+cons_price_idx+contactcellular, data=train.data, proximity=TRUE)"
   ]
  },
  {
   "cell_type": "code",
   "execution_count": 36,
   "id": "354772e1",
   "metadata": {},
   "outputs": [
    {
     "data": {
      "text/plain": [
       "\n",
       "Call:\n",
       " randomForest(formula = subscribe ~ age + campaign + cons_conf_idx +      cons_price_idx + contactcellular, data = train.data, proximity = TRUE) \n",
       "               Type of random forest: classification\n",
       "                     Number of trees: 500\n",
       "No. of variables tried at each split: 2\n",
       "\n",
       "        OOB estimate of  error rate: 10.79%\n",
       "Confusion matrix:\n",
       "      0   1 class.error\n",
       "0 12609 271  0.02104037\n",
       "1  1295 337  0.79350490"
      ]
     },
     "metadata": {},
     "output_type": "display_data"
    }
   ],
   "source": [
    "# Lets check how looks our RM Model\n",
    "modelorf"
   ]
  },
  {
   "cell_type": "markdown",
   "id": "2ec78b66",
   "metadata": {},
   "source": [
    "#### Prediction and Confussion Matrix"
   ]
  },
  {
   "cell_type": "code",
   "execution_count": 37,
   "id": "b8b85dc2",
   "metadata": {},
   "outputs": [
    {
     "data": {
      "text/plain": [
       "Confusion Matrix and Statistics\n",
       "\n",
       "          Reference\n",
       "Prediction    0    1\n",
       "         0 3170  323\n",
       "         1   49   85\n",
       "                                          \n",
       "               Accuracy : 0.8974          \n",
       "                 95% CI : (0.8871, 0.9071)\n",
       "    No Information Rate : 0.8875          \n",
       "    P-Value [Acc > NIR] : 0.02984         \n",
       "                                          \n",
       "                  Kappa : 0.2732          \n",
       "                                          \n",
       " Mcnemar's Test P-Value : < 2e-16         \n",
       "                                          \n",
       "            Sensitivity : 0.9848          \n",
       "            Specificity : 0.2083          \n",
       "         Pos Pred Value : 0.9075          \n",
       "         Neg Pred Value : 0.6343          \n",
       "             Prevalence : 0.8875          \n",
       "         Detection Rate : 0.8740          \n",
       "   Detection Prevalence : 0.9631          \n",
       "      Balanced Accuracy : 0.5966          \n",
       "                                          \n",
       "       'Positive' Class : 0               \n",
       "                                          "
      ]
     },
     "metadata": {},
     "output_type": "display_data"
    }
   ],
   "source": [
    "# Model Prediction\n",
    "p <- predict(modelorf, test.data)\n",
    "confusionMatrix(p, test.data$subscribe)"
   ]
  },
  {
   "cell_type": "markdown",
   "id": "56c2e5bd",
   "metadata": {},
   "source": [
    "## Model 3 Decision Treen"
   ]
  },
  {
   "cell_type": "code",
   "execution_count": 38,
   "id": "55118c21",
   "metadata": {},
   "outputs": [
    {
     "data": {
      "image/png": "[encoded data removed]",
      "text/plain": [
       "plot without title"
      ]
     },
     "metadata": {
      "image/png": {
       "height": 420,
       "width": 420
      }
     },
     "output_type": "display_data"
    }
   ],
   "source": [
    "# Fit the model\n",
    "modeldt <- rpart(subscribe~., data = train.data, method = 'class')\n",
    "rpart.plot(modeldt)"
   ]
  },
  {
   "cell_type": "code",
   "execution_count": 131,
   "id": "00586e03",
   "metadata": {},
   "outputs": [
    {
     "data": {
      "text/plain": [
       "n= 14512 \n",
       "\n",
       "node), split, n, loss, yval, (yprob)\n",
       "      * denotes terminal node\n",
       "\n",
       "1) root 14512 1632 0 (0.88754135 0.11245865)  \n",
       "  2) nr_employed>=5087.65 12779  880 0 (0.93113702 0.06886298) *\n",
       "  3) nr_employed< 5087.65 1733  752 0 (0.56607040 0.43392960)  \n",
       "    6) poutcomesuccess< 0.5 1343  471 0 (0.64929263 0.35070737) *\n",
       "    7) poutcomesuccess>=0.5 390  109 1 (0.27948718 0.72051282) *"
      ]
     },
     "metadata": {},
     "output_type": "display_data"
    }
   ],
   "source": [
    "modeldt"
   ]
  },
  {
   "cell_type": "markdown",
   "id": "752430ee",
   "metadata": {},
   "source": [
    "#### Prediction"
   ]
  },
  {
   "cell_type": "code",
   "execution_count": 39,
   "id": "181dc0c2",
   "metadata": {},
   "outputs": [],
   "source": [
    "pred <- predict(modeldt, test.data, type = 'class')"
   ]
  },
  {
   "cell_type": "code",
   "execution_count": 40,
   "id": "228bbd8e",
   "metadata": {},
   "outputs": [
    {
     "data": {
      "text/plain": [
       "   pred\n",
       "       0    1\n",
       "  0 3195   24\n",
       "  1  325   83"
      ]
     },
     "metadata": {},
     "output_type": "display_data"
    }
   ],
   "source": [
    "# Check if the customer will subscribe\n",
    "ts <- table(test.data$subscribe, pred)\n",
    "ts"
   ]
  },
  {
   "cell_type": "markdown",
   "id": "1068a674",
   "metadata": {},
   "source": [
    "#### Accuracy"
   ]
  },
  {
   "cell_type": "code",
   "execution_count": 42,
   "id": "6bd868ce",
   "metadata": {
    "scrolled": true
   },
   "outputs": [
    {
     "data": {
      "text/html": [
       "0.903777226357871"
      ],
      "text/latex": [
       "0.903777226357871"
      ],
      "text/markdown": [
       "0.903777226357871"
      ],
      "text/plain": [
       "[1] 0.9037772"
      ]
     },
     "metadata": {},
     "output_type": "display_data"
    }
   ],
   "source": [
    "accuracy<- sum(diag(ts)) / sum(ts)\n",
    "accuracy"
   ]
  },
  {
   "cell_type": "markdown",
   "id": "09b1d61d",
   "metadata": {},
   "source": [
    "#### Cross Validation"
   ]
  },
  {
   "cell_type": "code",
   "execution_count": 49,
   "id": "7ed7e9a7",
   "metadata": {},
   "outputs": [
    {
     "name": "stdout",
     "output_type": "stream",
     "text": [
      "[1] \"average error using k-fold cross-validation: 9.622 percent\"\n"
     ]
    }
   ],
   "source": [
    "set.seed(123)\n",
    "form <- \"subscribe~.\"\n",
    "folds <- split(bank3, cut(sample(1:nrow(bank3)),10))\n",
    "errs <- rep(NA, length(folds))\n",
    "\n",
    "\n",
    "for (i in 1:length(folds)) {\n",
    " test <- ldply(folds[i], data.frame)\n",
    " train <- ldply(folds[-i], data.frame)\n",
    " tmp.model <- rpart(form , train.data, method = \"class\")\n",
    " tmp.predict <- predict(tmp.model, newdata = test.data, type = \"class\")\n",
    " conf.mat <- table(test.data$subscribe, tmp.predict)\n",
    " errs[i] <- 1-sum(diag(conf.mat))/sum(conf.mat)\n",
    "}\n",
    "print(sprintf(\"average error using k-fold cross-validation: %.3f percent\", 100*mean(errs)))"
   ]
  },
  {
   "cell_type": "markdown",
   "id": "e78d4bba",
   "metadata": {},
   "source": [
    "## Model 4 Support Vector Machine"
   ]
  },
  {
   "cell_type": "code",
   "execution_count": 28,
   "id": "6022af28",
   "metadata": {},
   "outputs": [],
   "source": [
    "# Fit the Model\n",
    "set.seed(1)\n",
    "modelsvm = svm(formula = subscribe ~ ., data = train.data, type = 'C-classification', kernel = 'linear')"
   ]
  },
  {
   "cell_type": "code",
   "execution_count": 29,
   "id": "5432e6da",
   "metadata": {
    "scrolled": false
   },
   "outputs": [
    {
     "data": {
      "text/plain": [
       "\n",
       "Call:\n",
       "svm(formula = subscribe ~ ., data = train.data, type = \"C-classification\", \n",
       "    kernel = \"linear\")\n",
       "\n",
       "\n",
       "Parameters:\n",
       "   SVM-Type:  C-classification \n",
       " SVM-Kernel:  linear \n",
       "       cost:  1 \n",
       "\n",
       "Number of Support Vectors:  6653\n"
      ]
     },
     "metadata": {},
     "output_type": "display_data"
    }
   ],
   "source": [
    "modelsvm"
   ]
  },
  {
   "cell_type": "markdown",
   "id": "e75694e1",
   "metadata": {},
   "source": [
    "#### Prediction"
   ]
  },
  {
   "cell_type": "code",
   "execution_count": 30,
   "id": "c488a861",
   "metadata": {},
   "outputs": [],
   "source": [
    "# Make predictions on the test data\n",
    "predicted.classessvm <- modelsvm %>% predict(test.data)"
   ]
  },
  {
   "cell_type": "markdown",
   "id": "49d51ac6",
   "metadata": {},
   "source": [
    "#### Accuracy"
   ]
  },
  {
   "cell_type": "code",
   "execution_count": 31,
   "id": "e80c815b",
   "metadata": {},
   "outputs": [
    {
     "data": {
      "text/html": [
       "0.902122966639096"
      ],
      "text/latex": [
       "0.902122966639096"
      ],
      "text/markdown": [
       "0.902122966639096"
      ],
      "text/plain": [
       "[1] 0.902123"
      ]
     },
     "metadata": {},
     "output_type": "display_data"
    }
   ],
   "source": [
    "# Compute model accuracy rate\n",
    "mean(predicted.classessvm == test.data$subscribe)"
   ]
  },
  {
   "cell_type": "markdown",
   "id": "68d39449",
   "metadata": {},
   "source": [
    "#### Confusion Matrix"
   ]
  },
  {
   "cell_type": "code",
   "execution_count": 32,
   "id": "fa34df4d",
   "metadata": {},
   "outputs": [
    {
     "data": {
      "text/plain": [
       "                   predicted.classessvm\n",
       "observed.classessvm    0    1\n",
       "                  0 3182   37\n",
       "                  1  318   90"
      ]
     },
     "metadata": {},
     "output_type": "display_data"
    }
   ],
   "source": [
    "observed.classessvm<- test.data$subscribe\n",
    "# Confusion matrix, number of cases\n",
    "table(observed.classessvm, predicted.classessvm)"
   ]
  },
  {
   "cell_type": "code",
   "execution_count": 33,
   "id": "9ada7640",
   "metadata": {},
   "outputs": [
    {
     "data": {
      "text/plain": [
       "                   predicted.classes\n",
       "observed.classessvm     0     1\n",
       "                  0 0.877 0.010\n",
       "                  1 0.083 0.030"
      ]
     },
     "metadata": {},
     "output_type": "display_data"
    }
   ],
   "source": [
    "# Confusion matrix, proportion of cases\n",
    "table(observed.classessvm, predicted.classes) %>%  prop.table() %>% round(digits = 3)"
   ]
  },
  {
   "cell_type": "markdown",
   "id": "72d1739c",
   "metadata": {},
   "source": [
    "#### Tunning Parameters and Cross Validation"
   ]
  },
  {
   "cell_type": "code",
   "execution_count": 19,
   "id": "b5201a4d",
   "metadata": {},
   "outputs": [],
   "source": [
    "# Fit the Model\n",
    "set.seed(1)\n",
    "modelsvmcv <- train(subscribe ~., data = train.data, method = \"svmRadial\", trControl = trainControl(\"cv\", number = 10),\n",
    "              preProcess = c(\"center\",\"scale\"), tuneLength = 10)"
   ]
  },
  {
   "cell_type": "code",
   "execution_count": 21,
   "id": "b9cfd0ac",
   "metadata": {},
   "outputs": [
    {
     "data": {
      "text/plain": [
       "Support Vector Machines with Radial Basis Function Kernel \n",
       "\n",
       "14512 samples\n",
       "   63 predictor\n",
       "    2 classes: '0', '1' \n",
       "\n",
       "Pre-processing: centered (63), scaled (63) \n",
       "Resampling: Cross-Validated (10 fold) \n",
       "Summary of sample sizes: 13061, 13061, 13061, 13061, 13061, 13060, ... \n",
       "Resampling results across tuning parameters:\n",
       "\n",
       "  C       Accuracy   Kappa    \n",
       "    0.25  0.8971192  0.2528635\n",
       "    0.50  0.8982216  0.2483853\n",
       "    1.00  0.8982214  0.2516757\n",
       "    2.00  0.8976013  0.2725579\n",
       "    4.00  0.8980838  0.3005510\n",
       "    8.00  0.8953969  0.3078217\n",
       "   16.00  0.8920891  0.3075725\n",
       "   32.00  0.8883681  0.3057921\n",
       "   64.00  0.8804434  0.2844939\n",
       "  128.00  0.8721057  0.2712159\n",
       "\n",
       "Tuning parameter 'sigma' was held constant at a value of 0.01018875\n",
       "Accuracy was used to select the optimal model using the largest value.\n",
       "The final values used for the model were sigma = 0.01018875 and C = 0.5."
      ]
     },
     "metadata": {},
     "output_type": "display_data"
    }
   ],
   "source": [
    "modelsvmcv"
   ]
  },
  {
   "cell_type": "code",
   "execution_count": 20,
   "id": "eb27ec84",
   "metadata": {},
   "outputs": [
    {
     "data": {
      "text/html": [
       "<table class=\"dataframe\">\n",
       "<caption>A data.frame: 1 × 2</caption>\n",
       "<thead>\n",
       "\t<tr><th></th><th scope=col>sigma</th><th scope=col>C</th></tr>\n",
       "\t<tr><th></th><th scope=col>&lt;dbl&gt;</th><th scope=col>&lt;dbl&gt;</th></tr>\n",
       "</thead>\n",
       "<tbody>\n",
       "\t<tr><th scope=row>2</th><td>0.01018875</td><td>0.5</td></tr>\n",
       "</tbody>\n",
       "</table>\n"
      ],
      "text/latex": [
       "A data.frame: 1 × 2\n",
       "\\begin{tabular}{r|ll}\n",
       "  & sigma & C\\\\\n",
       "  & <dbl> & <dbl>\\\\\n",
       "\\hline\n",
       "\t2 & 0.01018875 & 0.5\\\\\n",
       "\\end{tabular}\n"
      ],
      "text/markdown": [
       "\n",
       "A data.frame: 1 × 2\n",
       "\n",
       "| <!--/--> | sigma &lt;dbl&gt; | C &lt;dbl&gt; |\n",
       "|---|---|---|\n",
       "| 2 | 0.01018875 | 0.5 |\n",
       "\n"
      ],
      "text/plain": [
       "  sigma      C  \n",
       "2 0.01018875 0.5"
      ]
     },
     "metadata": {},
     "output_type": "display_data"
    }
   ],
   "source": [
    "# Print the best tuning parameter sigma and C that\n",
    "# maximizes model accuracy\n",
    "modelsvmcv$bestTune"
   ]
  },
  {
   "cell_type": "markdown",
   "id": "eb58d266",
   "metadata": {},
   "source": [
    "#### Tunned Confusion Matrix"
   ]
  },
  {
   "cell_type": "code",
   "execution_count": 25,
   "id": "8a7239f1",
   "metadata": {},
   "outputs": [
    {
     "data": {
      "text/plain": [
       "                predictedt.classes\n",
       "observed.classes    0    1\n",
       "               0 3193   26\n",
       "               1  319   89"
      ]
     },
     "metadata": {},
     "output_type": "display_data"
    }
   ],
   "source": [
    "observed.classes <- test.data$subscribe\n",
    "# Confusion matrix, number of cases\n",
    "table(observed.classes, predictedt.classes)"
   ]
  },
  {
   "cell_type": "code",
   "execution_count": 26,
   "id": "b6b741bf",
   "metadata": {},
   "outputs": [
    {
     "data": {
      "text/plain": [
       "                predictedt.classes\n",
       "observed.classes     0     1\n",
       "               0 0.880 0.007\n",
       "               1 0.088 0.025"
      ]
     },
     "metadata": {},
     "output_type": "display_data"
    }
   ],
   "source": [
    "# Confusion matrix, proportion of cases\n",
    "table(observed.classes, predictedt.classes) %>% \n",
    "  prop.table() %>% round(digits = 3)"
   ]
  },
  {
   "cell_type": "markdown",
   "id": "e1b451a4",
   "metadata": {},
   "source": [
    "#### Tunned Accuracy"
   ]
  },
  {
   "cell_type": "code",
   "execution_count": 23,
   "id": "544ff9e5",
   "metadata": {},
   "outputs": [],
   "source": [
    "# Make predictions on the test data\n",
    "predictedt.classes <- modelsvmcv %>% predict(test.data)"
   ]
  },
  {
   "cell_type": "code",
   "execution_count": 24,
   "id": "ec652e3b",
   "metadata": {},
   "outputs": [
    {
     "data": {
      "text/html": [
       "0.904880066170389"
      ],
      "text/latex": [
       "0.904880066170389"
      ],
      "text/markdown": [
       "0.904880066170389"
      ],
      "text/plain": [
       "[1] 0.9048801"
      ]
     },
     "metadata": {},
     "output_type": "display_data"
    }
   ],
   "source": [
    "# Compute model accuracy rate\n",
    "mean(predictedt.classes == test.data$subscribe)"
   ]
  },
  {
   "cell_type": "markdown",
   "id": "2a499b17",
   "metadata": {},
   "source": [
    "## Model 5 Naive Bayes"
   ]
  },
  {
   "cell_type": "code",
   "execution_count": 34,
   "id": "6ee9457a",
   "metadata": {},
   "outputs": [
    {
     "data": {
      "text/plain": [
       "\n",
       "================================== Naive Bayes ================================== \n",
       " \n",
       " Call: \n",
       "naive_bayes.formula(formula = subscribe ~ ., data = train.data, \n",
       "    usekernel = T)\n",
       "\n",
       "--------------------------------------------------------------------------------- \n",
       " \n",
       "Laplace smoothing: 0\n",
       "\n",
       "--------------------------------------------------------------------------------- \n",
       " \n",
       " A priori probabilities: \n",
       "\n",
       "        0         1 \n",
       "0.8875413 0.1124587 \n",
       "\n",
       "--------------------------------------------------------------------------------- \n",
       " \n",
       " Tables: \n",
       "\n",
       "--------------------------------------------------------------------------------- \n",
       " ::: client_id::0 (KDE)\n",
       "--------------------------------------------------------------------------------- \n",
       "\n",
       "Call:\n",
       "\tdensity.default(x = x, na.rm = TRUE)\n",
       "\n",
       "Data: x (12880 obs.);\tBandwidth 'bw' = 1616\n",
       "\n",
       "       x               y            \n",
       " Min.   :-4844   Min.   :3.352e-08  \n",
       " 1st Qu.: 7875   1st Qu.:1.981e-05  \n",
       " Median :20594   Median :2.401e-05  \n",
       " Mean   :20594   Mean   :1.964e-05  \n",
       " 3rd Qu.:33312   3rd Qu.:2.434e-05  \n",
       " Max.   :46031   Max.   :2.539e-05  \n",
       "\n",
       "--------------------------------------------------------------------------------- \n",
       " ::: client_id::1 (KDE)\n",
       "--------------------------------------------------------------------------------- \n",
       "\n",
       "Call:\n",
       "\tdensity.default(x = x, na.rm = TRUE)\n",
       "\n",
       "Data: x (1632 obs.);\tBandwidth 'bw' = 2420\n",
       "\n",
       "       x               y            \n",
       " Min.   :-7194   Min.   :2.765e-08  \n",
       " 1st Qu.: 6716   1st Qu.:1.069e-05  \n",
       " Median :20626   Median :2.282e-05  \n",
       " Mean   :20626   Mean   :1.795e-05  \n",
       " 3rd Qu.:34536   3rd Qu.:2.457e-05  \n",
       " Max.   :48446   Max.   :2.653e-05  \n",
       "\n",
       "--------------------------------------------------------------------------------- \n",
       " ::: age::0 (KDE)\n",
       "--------------------------------------------------------------------------------- \n",
       "\n",
       "Call:\n",
       "\tdensity.default(x = x, na.rm = TRUE)\n",
       "\n",
       "Data: x (12880 obs.);\tBandwidth 'bw' = 1.338\n",
       "\n",
       "       x               y            \n",
       " Min.   :13.99   Min.   :2.900e-07  \n",
       " 1st Qu.:35.24   1st Qu.:2.477e-04  \n",
       " Median :56.50   Median :1.324e-03  \n",
       " Mean   :56.50   Mean   :1.175e-02  \n",
       " 3rd Qu.:77.76   3rd Qu.:2.230e-02  \n",
       " Max.   :99.01   Max.   :4.494e-02  \n",
       "\n",
       "--------------------------------------------------------------------------------- \n",
       " ::: age::1 (KDE)\n",
       "--------------------------------------------------------------------------------- \n",
       "\n",
       "Call:\n",
       "\tdensity.default(x = x, na.rm = TRUE)\n",
       "\n",
       "Data: x (1632 obs.);\tBandwidth 'bw' = 2.793\n",
       "\n",
       "       x                y            \n",
       " Min.   :  8.62   Min.   :1.020e-06  \n",
       " 1st Qu.: 31.56   1st Qu.:1.207e-03  \n",
       " Median : 54.50   Median :4.756e-03  \n",
       " Mean   : 54.50   Mean   :1.089e-02  \n",
       " 3rd Qu.: 77.44   3rd Qu.:1.762e-02  \n",
       " Max.   :100.38   Max.   :3.808e-02  \n",
       "\n",
       "--------------------------------------------------------------------------------- \n",
       " ::: campaign::0 (KDE)\n",
       "--------------------------------------------------------------------------------- \n",
       "\n",
       "Call:\n",
       "\tdensity.default(x = x, na.rm = TRUE)\n",
       "\n",
       "Data: x (12880 obs.);\tBandwidth 'bw' = 0.2024\n",
       "\n",
       "       x                 y            \n",
       " Min.   : 0.3928   Min.   :0.0000000  \n",
       " 1st Qu.:14.4464   1st Qu.:0.0000001  \n",
       " Median :28.5000   Median :0.0001486  \n",
       " Mean   :28.5000   Mean   :0.0177973  \n",
       " 3rd Qu.:42.5536   3rd Qu.:0.0016156  \n",
       " Max.   :56.6072   Max.   :0.7630921  \n",
       "\n",
       "--------------------------------------------------------------------------------- \n",
       " ::: campaign::1 (KDE)\n",
       "--------------------------------------------------------------------------------- \n",
       "\n",
       "Call:\n",
       "\tdensity.default(x = x, na.rm = TRUE)\n",
       "\n",
       "Data: x (1632 obs.);\tBandwidth 'bw' = 0.2417\n",
       "\n",
       "       x                 y            \n",
       " Min.   : 0.2749   Min.   :0.0000000  \n",
       " 1st Qu.: 6.1374   1st Qu.:0.0000002  \n",
       " Median :12.0000   Median :0.0010024  \n",
       " Mean   :12.0000   Mean   :0.0425774  \n",
       " 3rd Qu.:17.8626   3rd Qu.:0.0136301  \n",
       " Max.   :23.7251   Max.   :0.7944509  \n",
       "\n",
       "--------------------------------------------------------------------------------- \n",
       " ::: pdays::0 (KDE)\n",
       "--------------------------------------------------------------------------------- \n",
       "\n",
       "Call:\n",
       "\tdensity.default(x = x, na.rm = TRUE)\n",
       "\n",
       "Data: x (12880 obs.);\tBandwidth 'bw' = 16.52\n",
       "\n",
       "       x                 y            \n",
       " Min.   : -49.57   Min.   :0.000e+00  \n",
       " 1st Qu.: 224.97   1st Qu.:0.000e+00  \n",
       " Median : 499.50   Median :0.000e+00  \n",
       " Mean   : 499.50   Mean   :9.088e-04  \n",
       " 3rd Qu.: 774.03   3rd Qu.:1.640e-07  \n",
       " Max.   :1048.57   Max.   :2.356e-02  \n",
       "\n",
       "--------------------------------------------------------------------------------- \n",
       " ::: pdays::1 (KDE)\n",
       "--------------------------------------------------------------------------------- \n",
       "\n",
       "Call:\n",
       "\tdensity.default(x = x, na.rm = TRUE)\n",
       "\n",
       "Data: x (1632 obs.);\tBandwidth 'bw' = 82.66\n",
       "\n",
       "       x                y            \n",
       " Min.   :-248.0   Min.   :0.000e+00  \n",
       " 1st Qu.: 125.8   1st Qu.:1.882e-06  \n",
       " Median : 499.5   Median :1.470e-04  \n",
       " Mean   : 499.5   Mean   :6.674e-04  \n",
       " 3rd Qu.: 873.2   3rd Qu.:8.619e-04  \n",
       " Max.   :1247.0   Max.   :3.815e-03  \n",
       "\n",
       "--------------------------------------------------------------------------------- \n",
       " ::: previous::0 (KDE)\n",
       "--------------------------------------------------------------------------------- \n",
       "\n",
       "Call:\n",
       "\tdensity.default(x = x, na.rm = TRUE)\n",
       "\n",
       "Data: x (12880 obs.);\tBandwidth 'bw' = 0.05542\n",
       "\n",
       "       x                 y           \n",
       " Min.   :-0.1663   Min.   :0.000000  \n",
       " 1st Qu.: 1.4169   1st Qu.:0.000000  \n",
       " Median : 3.0000   Median :0.000006  \n",
       " Mean   : 3.0000   Mean   :0.157719  \n",
       " 3rd Qu.: 4.5831   3rd Qu.:0.002147  \n",
       " Max.   : 6.1663   Max.   :6.264172  \n",
       "\n",
       "--------------------------------------------------------------------------------- \n",
       " ::: previous::1 (KDE)\n",
       "--------------------------------------------------------------------------------- \n",
       "\n",
       "Call:\n",
       "\tdensity.default(x = x, na.rm = TRUE)\n",
       "\n",
       "Data: x (1632 obs.);\tBandwidth 'bw' = 0.153\n",
       "\n",
       "       x                 y            \n",
       " Min.   :-0.4589   Min.   :0.0000182  \n",
       " 1st Qu.: 1.2706   1st Qu.:0.0014907  \n",
       " Median : 3.0000   Median :0.0110113  \n",
       " Mean   : 3.0000   Mean   :0.1442978  \n",
       " 3rd Qu.: 4.7294   3rd Qu.:0.0907262  \n",
       " Max.   : 6.4589   Max.   :1.7593539  \n",
       "\n",
       "---------------------------------------------------------------------------------\n",
       "\n",
       "# ... and 58 more tables\n",
       "\n",
       "---------------------------------------------------------------------------------\n"
      ]
     },
     "metadata": {},
     "output_type": "display_data"
    }
   ],
   "source": [
    "modelnb <- naive_bayes(subscribe ~ ., data = train.data, usekernel = T) \n",
    "modelnb"
   ]
  },
  {
   "cell_type": "code",
   "execution_count": 36,
   "id": "21e0417c",
   "metadata": {
    "scrolled": true
   },
   "outputs": [
    {
     "name": "stderr",
     "output_type": "stream",
     "text": [
      "Warning message:\n",
      "\"predict.naive_bayes(): more features in the newdata are provided as there are probability tables in the object. Calculation is performed based on features to be found in the tables.\"\n"
     ]
    },
    {
     "data": {
      "text/html": [
       "<table class=\"dataframe\">\n",
       "<caption>A data.frame: 6 × 66</caption>\n",
       "<thead>\n",
       "\t<tr><th></th><th scope=col>0</th><th scope=col>1</th><th scope=col>client_id</th><th scope=col>age</th><th scope=col>campaign</th><th scope=col>pdays</th><th scope=col>previous</th><th scope=col>emp_var_rate</th><th scope=col>cons_price_idx</th><th scope=col>cons_conf_idx</th><th scope=col>⋯</th><th scope=col>monthoct</th><th scope=col>monthsep</th><th scope=col>day_of_weekfri</th><th scope=col>day_of_weekmon</th><th scope=col>day_of_weekthu</th><th scope=col>day_of_weektue</th><th scope=col>day_of_weekwed</th><th scope=col>poutcomefailure</th><th scope=col>poutcomenonexistent</th><th scope=col>poutcomesuccess</th></tr>\n",
       "\t<tr><th></th><th scope=col>&lt;dbl&gt;</th><th scope=col>&lt;dbl&gt;</th><th scope=col>&lt;int&gt;</th><th scope=col>&lt;dbl&gt;</th><th scope=col>&lt;dbl&gt;</th><th scope=col>&lt;dbl&gt;</th><th scope=col>&lt;dbl&gt;</th><th scope=col>&lt;dbl&gt;</th><th scope=col>&lt;dbl&gt;</th><th scope=col>&lt;dbl&gt;</th><th scope=col>⋯</th><th scope=col>&lt;dbl&gt;</th><th scope=col>&lt;dbl&gt;</th><th scope=col>&lt;dbl&gt;</th><th scope=col>&lt;dbl&gt;</th><th scope=col>&lt;dbl&gt;</th><th scope=col>&lt;dbl&gt;</th><th scope=col>&lt;dbl&gt;</th><th scope=col>&lt;dbl&gt;</th><th scope=col>&lt;dbl&gt;</th><th scope=col>&lt;dbl&gt;</th></tr>\n",
       "</thead>\n",
       "<tbody>\n",
       "\t<tr><th scope=row>1</th><td>1</td><td>8.252105e-21</td><td>29925</td><td>42</td><td>1</td><td>999.0000</td><td>0</td><td> 1.4</td><td>93.918</td><td>-42.7</td><td>⋯</td><td>0</td><td>0</td><td>0</td><td>0</td><td>1</td><td>0</td><td>0</td><td>0</td><td>1</td><td>0</td></tr>\n",
       "\t<tr><th scope=row>2</th><td>1</td><td>1.120065e-21</td><td>37529</td><td>35</td><td>4</td><td>999.0000</td><td>0</td><td> 1.4</td><td>94.465</td><td>-41.8</td><td>⋯</td><td>0</td><td>0</td><td>0</td><td>1</td><td>0</td><td>0</td><td>0</td><td>0</td><td>1</td><td>0</td></tr>\n",
       "\t<tr><th scope=row>3</th><td>1</td><td>7.951909e-19</td><td> 2757</td><td>44</td><td>1</td><td>999.0000</td><td>0</td><td>-1.8</td><td>92.893</td><td>-46.2</td><td>⋯</td><td>0</td><td>0</td><td>0</td><td>1</td><td>0</td><td>0</td><td>0</td><td>0</td><td>1</td><td>0</td></tr>\n",
       "\t<tr><th scope=row>4</th><td>1</td><td>8.526442e-18</td><td> 9642</td><td>45</td><td>1</td><td>999.0000</td><td>0</td><td>-1.8</td><td>93.075</td><td>-47.1</td><td>⋯</td><td>0</td><td>0</td><td>0</td><td>0</td><td>0</td><td>1</td><td>0</td><td>0</td><td>1</td><td>0</td></tr>\n",
       "\t<tr><th scope=row>5</th><td>1</td><td>1.459683e-22</td><td>14183</td><td>45</td><td>1</td><td>999.0000</td><td>0</td><td> 1.1</td><td>93.994</td><td>-36.4</td><td>⋯</td><td>0</td><td>0</td><td>0</td><td>0</td><td>0</td><td>0</td><td>1</td><td>0</td><td>1</td><td>0</td></tr>\n",
       "\t<tr><th scope=row>7</th><td>1</td><td>2.069620e-15</td><td>27168</td><td>33</td><td>1</td><td>961.4132</td><td>1</td><td>-1.8</td><td>93.075</td><td>-47.1</td><td>⋯</td><td>0</td><td>0</td><td>1</td><td>0</td><td>0</td><td>0</td><td>0</td><td>1</td><td>0</td><td>0</td></tr>\n",
       "</tbody>\n",
       "</table>\n"
      ],
      "text/latex": [
       "A data.frame: 6 × 66\n",
       "\\begin{tabular}{r|lllllllllllllllllllll}\n",
       "  & 0 & 1 & client\\_id & age & campaign & pdays & previous & emp\\_var\\_rate & cons\\_price\\_idx & cons\\_conf\\_idx & ⋯ & monthoct & monthsep & day\\_of\\_weekfri & day\\_of\\_weekmon & day\\_of\\_weekthu & day\\_of\\_weektue & day\\_of\\_weekwed & poutcomefailure & poutcomenonexistent & poutcomesuccess\\\\\n",
       "  & <dbl> & <dbl> & <int> & <dbl> & <dbl> & <dbl> & <dbl> & <dbl> & <dbl> & <dbl> & ⋯ & <dbl> & <dbl> & <dbl> & <dbl> & <dbl> & <dbl> & <dbl> & <dbl> & <dbl> & <dbl>\\\\\n",
       "\\hline\n",
       "\t1 & 1 & 8.252105e-21 & 29925 & 42 & 1 & 999.0000 & 0 &  1.4 & 93.918 & -42.7 & ⋯ & 0 & 0 & 0 & 0 & 1 & 0 & 0 & 0 & 1 & 0\\\\\n",
       "\t2 & 1 & 1.120065e-21 & 37529 & 35 & 4 & 999.0000 & 0 &  1.4 & 94.465 & -41.8 & ⋯ & 0 & 0 & 0 & 1 & 0 & 0 & 0 & 0 & 1 & 0\\\\\n",
       "\t3 & 1 & 7.951909e-19 &  2757 & 44 & 1 & 999.0000 & 0 & -1.8 & 92.893 & -46.2 & ⋯ & 0 & 0 & 0 & 1 & 0 & 0 & 0 & 0 & 1 & 0\\\\\n",
       "\t4 & 1 & 8.526442e-18 &  9642 & 45 & 1 & 999.0000 & 0 & -1.8 & 93.075 & -47.1 & ⋯ & 0 & 0 & 0 & 0 & 0 & 1 & 0 & 0 & 1 & 0\\\\\n",
       "\t5 & 1 & 1.459683e-22 & 14183 & 45 & 1 & 999.0000 & 0 &  1.1 & 93.994 & -36.4 & ⋯ & 0 & 0 & 0 & 0 & 0 & 0 & 1 & 0 & 1 & 0\\\\\n",
       "\t7 & 1 & 2.069620e-15 & 27168 & 33 & 1 & 961.4132 & 1 & -1.8 & 93.075 & -47.1 & ⋯ & 0 & 0 & 1 & 0 & 0 & 0 & 0 & 1 & 0 & 0\\\\\n",
       "\\end{tabular}\n"
      ],
      "text/markdown": [
       "\n",
       "A data.frame: 6 × 66\n",
       "\n",
       "| <!--/--> | 0 &lt;dbl&gt; | 1 &lt;dbl&gt; | client_id &lt;int&gt; | age &lt;dbl&gt; | campaign &lt;dbl&gt; | pdays &lt;dbl&gt; | previous &lt;dbl&gt; | emp_var_rate &lt;dbl&gt; | cons_price_idx &lt;dbl&gt; | cons_conf_idx &lt;dbl&gt; | ⋯ ⋯ | monthoct &lt;dbl&gt; | monthsep &lt;dbl&gt; | day_of_weekfri &lt;dbl&gt; | day_of_weekmon &lt;dbl&gt; | day_of_weekthu &lt;dbl&gt; | day_of_weektue &lt;dbl&gt; | day_of_weekwed &lt;dbl&gt; | poutcomefailure &lt;dbl&gt; | poutcomenonexistent &lt;dbl&gt; | poutcomesuccess &lt;dbl&gt; |\n",
       "|---|---|---|---|---|---|---|---|---|---|---|---|---|---|---|---|---|---|---|---|---|---|\n",
       "| 1 | 1 | 8.252105e-21 | 29925 | 42 | 1 | 999.0000 | 0 |  1.4 | 93.918 | -42.7 | ⋯ | 0 | 0 | 0 | 0 | 1 | 0 | 0 | 0 | 1 | 0 |\n",
       "| 2 | 1 | 1.120065e-21 | 37529 | 35 | 4 | 999.0000 | 0 |  1.4 | 94.465 | -41.8 | ⋯ | 0 | 0 | 0 | 1 | 0 | 0 | 0 | 0 | 1 | 0 |\n",
       "| 3 | 1 | 7.951909e-19 |  2757 | 44 | 1 | 999.0000 | 0 | -1.8 | 92.893 | -46.2 | ⋯ | 0 | 0 | 0 | 1 | 0 | 0 | 0 | 0 | 1 | 0 |\n",
       "| 4 | 1 | 8.526442e-18 |  9642 | 45 | 1 | 999.0000 | 0 | -1.8 | 93.075 | -47.1 | ⋯ | 0 | 0 | 0 | 0 | 0 | 1 | 0 | 0 | 1 | 0 |\n",
       "| 5 | 1 | 1.459683e-22 | 14183 | 45 | 1 | 999.0000 | 0 |  1.1 | 93.994 | -36.4 | ⋯ | 0 | 0 | 0 | 0 | 0 | 0 | 1 | 0 | 1 | 0 |\n",
       "| 7 | 1 | 2.069620e-15 | 27168 | 33 | 1 | 961.4132 | 1 | -1.8 | 93.075 | -47.1 | ⋯ | 0 | 0 | 1 | 0 | 0 | 0 | 0 | 1 | 0 | 0 |\n",
       "\n"
      ],
      "text/plain": [
       "  0 1            client_id age campaign pdays    previous emp_var_rate\n",
       "1 1 8.252105e-21 29925     42  1        999.0000 0         1.4        \n",
       "2 1 1.120065e-21 37529     35  4        999.0000 0         1.4        \n",
       "3 1 7.951909e-19  2757     44  1        999.0000 0        -1.8        \n",
       "4 1 8.526442e-18  9642     45  1        999.0000 0        -1.8        \n",
       "5 1 1.459683e-22 14183     45  1        999.0000 0         1.1        \n",
       "7 1 2.069620e-15 27168     33  1        961.4132 1        -1.8        \n",
       "  cons_price_idx cons_conf_idx <U+22EF>        monthoct monthsep day_of_weekfri\n",
       "1 93.918         -42.7         <U+22EF> 0        0        0             \n",
       "2 94.465         -41.8         <U+22EF> 0        0        0             \n",
       "3 92.893         -46.2         <U+22EF> 0        0        0             \n",
       "4 93.075         -47.1         <U+22EF> 0        0        0             \n",
       "5 93.994         -36.4         <U+22EF> 0        0        0             \n",
       "7 93.075         -47.1         <U+22EF> 0        0        1             \n",
       "  day_of_weekmon day_of_weekthu day_of_weektue day_of_weekwed poutcomefailure\n",
       "1 0              1              0              0              0              \n",
       "2 1              0              0              0              0              \n",
       "3 1              0              0              0              0              \n",
       "4 0              0              1              0              0              \n",
       "5 0              0              0              1              0              \n",
       "7 0              0              0              0              1              \n",
       "  poutcomenonexistent poutcomesuccess\n",
       "1 1                   0              \n",
       "2 1                   0              \n",
       "3 1                   0              \n",
       "4 1                   0              \n",
       "5 1                   0              \n",
       "7 0                   0              "
      ]
     },
     "metadata": {},
     "output_type": "display_data"
    }
   ],
   "source": [
    "pre <- predict(modelnb, train.data, type = 'prob')\n",
    "head(cbind(pre, train.data))"
   ]
  },
  {
   "cell_type": "markdown",
   "id": "c803cfad",
   "metadata": {},
   "source": [
    "#### Confusion Matrix Train Data"
   ]
  },
  {
   "cell_type": "code",
   "execution_count": 37,
   "id": "008130a3",
   "metadata": {},
   "outputs": [
    {
     "name": "stderr",
     "output_type": "stream",
     "text": [
      "Warning message:\n",
      "\"predict.naive_bayes(): more features in the newdata are provided as there are probability tables in the object. Calculation is performed based on features to be found in the tables.\"\n"
     ]
    },
    {
     "data": {
      "text/plain": [
       "    \n",
       "pre1     0     1\n",
       "   0 12880  1632\n",
       "   1     0     0"
      ]
     },
     "metadata": {},
     "output_type": "display_data"
    }
   ],
   "source": [
    "\n",
    "pre1 <- predict(modelnb, train.data)\n",
    "(tab1 <- table(pre1, train.data$subscribe))"
   ]
  },
  {
   "cell_type": "markdown",
   "id": "f30f8bcd",
   "metadata": {},
   "source": [
    "#### Accuracy Train"
   ]
  },
  {
   "cell_type": "code",
   "execution_count": 49,
   "id": "695a5f1f",
   "metadata": {},
   "outputs": [
    {
     "data": {
      "text/html": [
       "0.113555402787326"
      ],
      "text/latex": [
       "0.113555402787326"
      ],
      "text/markdown": [
       "0.113555402787326"
      ],
      "text/plain": [
       "[1] 0.1135554"
      ]
     },
     "metadata": {},
     "output_type": "display_data"
    }
   ],
   "source": [
    "1 - sum(diag(tab1)) / sum(tab1)"
   ]
  },
  {
   "cell_type": "code",
   "execution_count": 50,
   "id": "dd627362",
   "metadata": {},
   "outputs": [
    {
     "data": {
      "text/html": [
       "99.8864445972127"
      ],
      "text/latex": [
       "99.8864445972127"
      ],
      "text/markdown": [
       "99.8864445972127"
      ],
      "text/plain": [
       "[1] 99.88644"
      ]
     },
     "metadata": {},
     "output_type": "display_data"
    }
   ],
   "source": [
    "100 - 0.113555402787326"
   ]
  },
  {
   "cell_type": "markdown",
   "id": "70ecde6d",
   "metadata": {},
   "source": [
    "#### Confusion Matrix Test Data"
   ]
  },
  {
   "cell_type": "code",
   "execution_count": 38,
   "id": "f97c104d",
   "metadata": {},
   "outputs": [
    {
     "name": "stderr",
     "output_type": "stream",
     "text": [
      "Warning message:\n",
      "\"predict.naive_bayes(): more features in the newdata are provided as there are probability tables in the object. Calculation is performed based on features to be found in the tables.\"\n"
     ]
    },
    {
     "data": {
      "text/plain": [
       "    \n",
       "pre2    0    1\n",
       "   0 3219  408\n",
       "   1    0    0"
      ]
     },
     "metadata": {},
     "output_type": "display_data"
    }
   ],
   "source": [
    "pre2 <- predict(modelnb, test.data)\n",
    "(tab2 <- table(pre2, test.data$subscribe))"
   ]
  },
  {
   "cell_type": "markdown",
   "id": "788e10aa",
   "metadata": {},
   "source": [
    "#### Accuracy Test"
   ]
  },
  {
   "cell_type": "code",
   "execution_count": 52,
   "id": "4af91b69",
   "metadata": {},
   "outputs": [
    {
     "data": {
      "text/html": [
       "0.113528382095524"
      ],
      "text/latex": [
       "0.113528382095524"
      ],
      "text/markdown": [
       "0.113528382095524"
      ],
      "text/plain": [
       "[1] 0.1135284"
      ]
     },
     "metadata": {},
     "output_type": "display_data"
    }
   ],
   "source": [
    "1 - sum(diag(tab2)) / sum(tab2)"
   ]
  },
  {
   "cell_type": "code",
   "execution_count": 53,
   "id": "aefb1ab8",
   "metadata": {},
   "outputs": [
    {
     "data": {
      "text/html": [
       "99.8864716179045"
      ],
      "text/latex": [
       "99.8864716179045"
      ],
      "text/markdown": [
       "99.8864716179045"
      ],
      "text/plain": [
       "[1] 99.88647"
      ]
     },
     "metadata": {},
     "output_type": "display_data"
    }
   ],
   "source": [
    "100 - 0.113528382095524"
   ]
  }
 ],
 "metadata": {
  "kernelspec": {
   "display_name": "R",
   "language": "R",
   "name": "ir"
  },
  "language_info": {
   "codemirror_mode": "r",
   "file_extension": ".r",
   "mimetype": "text/x-r-source",
   "name": "R",
   "pygments_lexer": "r",
   "version": "4.0.5"
  }
 },
 "nbformat": 4,
 "nbformat_minor": 5
}

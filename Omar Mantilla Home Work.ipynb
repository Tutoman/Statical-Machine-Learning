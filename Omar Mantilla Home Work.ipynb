{
 "cells": [
  {
   "cell_type": "markdown",
   "id": "be1bdaff",
   "metadata": {},
   "source": [
    "# Omar MANTILLA"
   ]
  },
  {
   "cell_type": "code",
   "execution_count": 72,
   "id": "e4dde979",
   "metadata": {},
   "outputs": [],
   "source": [
    "# Set environment params\n",
    "Sys.setenv(LANG='en')  # English\n",
    "\n",
    "# Import libraries\n",
    "library(data.table)  # Data manipulate\n",
    "library(mlr)         # ML toolkit\n",
    "library(caret)       # ML toolkit\n",
    "library(ggplot2)     # Visualization\n",
    "library(plotrix)     # Draw circle\n",
    "library(rgl)         # 3D plots\n",
    "library(superml)\n",
    "\n",
    "# Dataset\n",
    "library(ISLR)      # Data from the course book\n",
    "library(MASS)      # Boston housing dataset\n",
    "library(datasets)  # US crime dataset\n",
    "\n",
    "# Resize plot\n",
    "library(repr)  # String and binary representations\n",
    "# options(repr.plot.width=4, repr.plot.height=4)\n"
   ]
  },
  {
   "cell_type": "markdown",
   "id": "b45eecf9",
   "metadata": {},
   "source": [
    "# Exercise 2 (p.52, Chap.2) "
   ]
  },
  {
   "cell_type": "markdown",
   "id": "108277b5",
   "metadata": {},
   "source": [
    "A)\n",
    "\n",
    "Answer: This is a regression, to infere the CEOs salary. \n",
    "\n",
    "n = 500\n",
    "\n",
    "p = # of employees, profit, industry and CEO salary."
   ]
  },
  {
   "cell_type": "markdown",
   "id": "005616fa",
   "metadata": {},
   "source": [
    "B)\n",
    "\n",
    "Answer: This is a classification to predict the succes or failure of a product.\n",
    "\n",
    "n = 20\n",
    "\n",
    "p = prd price, marketing budget, compt price, ten other variables."
   ]
  },
  {
   "cell_type": "markdown",
   "id": "fe4a98bb",
   "metadata": {},
   "source": [
    "C)\n",
    "\n",
    "Answer: This regression to predict the USD/EURO exchange rate in relation the weekly changes in the world stock markets.\n",
    "\n",
    "n = 52 (number of weeks in 2012)\n",
    "\n",
    "p = % of change in the USD/Euro, % of change in the US market, % of change in the British market, % of change in the German market."
   ]
  },
  {
   "cell_type": "markdown",
   "id": "127d8c88",
   "metadata": {},
   "source": [
    "# Excercise 10 (p.56, Chap.2)"
   ]
  },
  {
   "cell_type": "markdown",
   "id": "a2280db2",
   "metadata": {},
   "source": [
    "A)"
   ]
  },
  {
   "cell_type": "code",
   "execution_count": 2,
   "id": "9bcf597c",
   "metadata": {},
   "outputs": [],
   "source": [
    "?Boston"
   ]
  },
  {
   "cell_type": "markdown",
   "id": "fccf7d4d",
   "metadata": {},
   "source": [
    "Rows = 506\n",
    "\n",
    "Columns = 14\n",
    "\n",
    "The rows represent the data points (n) and the columns the dimensions  (p)\n"
   ]
  },
  {
   "cell_type": "code",
   "execution_count": 3,
   "id": "80fa2da6",
   "metadata": {},
   "outputs": [
    {
     "data": {
      "text/html": [
       "<table class=\"dataframe\">\n",
       "<caption>A data.frame: 6 × 14</caption>\n",
       "<thead>\n",
       "\t<tr><th></th><th scope=col>crim</th><th scope=col>zn</th><th scope=col>indus</th><th scope=col>chas</th><th scope=col>nox</th><th scope=col>rm</th><th scope=col>age</th><th scope=col>dis</th><th scope=col>rad</th><th scope=col>tax</th><th scope=col>ptratio</th><th scope=col>black</th><th scope=col>lstat</th><th scope=col>medv</th></tr>\n",
       "\t<tr><th></th><th scope=col>&lt;dbl&gt;</th><th scope=col>&lt;dbl&gt;</th><th scope=col>&lt;dbl&gt;</th><th scope=col>&lt;int&gt;</th><th scope=col>&lt;dbl&gt;</th><th scope=col>&lt;dbl&gt;</th><th scope=col>&lt;dbl&gt;</th><th scope=col>&lt;dbl&gt;</th><th scope=col>&lt;int&gt;</th><th scope=col>&lt;dbl&gt;</th><th scope=col>&lt;dbl&gt;</th><th scope=col>&lt;dbl&gt;</th><th scope=col>&lt;dbl&gt;</th><th scope=col>&lt;dbl&gt;</th></tr>\n",
       "</thead>\n",
       "<tbody>\n",
       "\t<tr><th scope=row>1</th><td>0.00632</td><td>18</td><td>2.31</td><td>0</td><td>0.538</td><td>6.575</td><td>65.2</td><td>4.0900</td><td>1</td><td>296</td><td>15.3</td><td>396.90</td><td>4.98</td><td>24.0</td></tr>\n",
       "\t<tr><th scope=row>2</th><td>0.02731</td><td> 0</td><td>7.07</td><td>0</td><td>0.469</td><td>6.421</td><td>78.9</td><td>4.9671</td><td>2</td><td>242</td><td>17.8</td><td>396.90</td><td>9.14</td><td>21.6</td></tr>\n",
       "\t<tr><th scope=row>3</th><td>0.02729</td><td> 0</td><td>7.07</td><td>0</td><td>0.469</td><td>7.185</td><td>61.1</td><td>4.9671</td><td>2</td><td>242</td><td>17.8</td><td>392.83</td><td>4.03</td><td>34.7</td></tr>\n",
       "\t<tr><th scope=row>4</th><td>0.03237</td><td> 0</td><td>2.18</td><td>0</td><td>0.458</td><td>6.998</td><td>45.8</td><td>6.0622</td><td>3</td><td>222</td><td>18.7</td><td>394.63</td><td>2.94</td><td>33.4</td></tr>\n",
       "\t<tr><th scope=row>5</th><td>0.06905</td><td> 0</td><td>2.18</td><td>0</td><td>0.458</td><td>7.147</td><td>54.2</td><td>6.0622</td><td>3</td><td>222</td><td>18.7</td><td>396.90</td><td>5.33</td><td>36.2</td></tr>\n",
       "\t<tr><th scope=row>6</th><td>0.02985</td><td> 0</td><td>2.18</td><td>0</td><td>0.458</td><td>6.430</td><td>58.7</td><td>6.0622</td><td>3</td><td>222</td><td>18.7</td><td>394.12</td><td>5.21</td><td>28.7</td></tr>\n",
       "</tbody>\n",
       "</table>\n"
      ],
      "text/latex": [
       "A data.frame: 6 × 14\n",
       "\\begin{tabular}{r|llllllllllllll}\n",
       "  & crim & zn & indus & chas & nox & rm & age & dis & rad & tax & ptratio & black & lstat & medv\\\\\n",
       "  & <dbl> & <dbl> & <dbl> & <int> & <dbl> & <dbl> & <dbl> & <dbl> & <int> & <dbl> & <dbl> & <dbl> & <dbl> & <dbl>\\\\\n",
       "\\hline\n",
       "\t1 & 0.00632 & 18 & 2.31 & 0 & 0.538 & 6.575 & 65.2 & 4.0900 & 1 & 296 & 15.3 & 396.90 & 4.98 & 24.0\\\\\n",
       "\t2 & 0.02731 &  0 & 7.07 & 0 & 0.469 & 6.421 & 78.9 & 4.9671 & 2 & 242 & 17.8 & 396.90 & 9.14 & 21.6\\\\\n",
       "\t3 & 0.02729 &  0 & 7.07 & 0 & 0.469 & 7.185 & 61.1 & 4.9671 & 2 & 242 & 17.8 & 392.83 & 4.03 & 34.7\\\\\n",
       "\t4 & 0.03237 &  0 & 2.18 & 0 & 0.458 & 6.998 & 45.8 & 6.0622 & 3 & 222 & 18.7 & 394.63 & 2.94 & 33.4\\\\\n",
       "\t5 & 0.06905 &  0 & 2.18 & 0 & 0.458 & 7.147 & 54.2 & 6.0622 & 3 & 222 & 18.7 & 396.90 & 5.33 & 36.2\\\\\n",
       "\t6 & 0.02985 &  0 & 2.18 & 0 & 0.458 & 6.430 & 58.7 & 6.0622 & 3 & 222 & 18.7 & 394.12 & 5.21 & 28.7\\\\\n",
       "\\end{tabular}\n"
      ],
      "text/markdown": [
       "\n",
       "A data.frame: 6 × 14\n",
       "\n",
       "| <!--/--> | crim &lt;dbl&gt; | zn &lt;dbl&gt; | indus &lt;dbl&gt; | chas &lt;int&gt; | nox &lt;dbl&gt; | rm &lt;dbl&gt; | age &lt;dbl&gt; | dis &lt;dbl&gt; | rad &lt;int&gt; | tax &lt;dbl&gt; | ptratio &lt;dbl&gt; | black &lt;dbl&gt; | lstat &lt;dbl&gt; | medv &lt;dbl&gt; |\n",
       "|---|---|---|---|---|---|---|---|---|---|---|---|---|---|---|\n",
       "| 1 | 0.00632 | 18 | 2.31 | 0 | 0.538 | 6.575 | 65.2 | 4.0900 | 1 | 296 | 15.3 | 396.90 | 4.98 | 24.0 |\n",
       "| 2 | 0.02731 |  0 | 7.07 | 0 | 0.469 | 6.421 | 78.9 | 4.9671 | 2 | 242 | 17.8 | 396.90 | 9.14 | 21.6 |\n",
       "| 3 | 0.02729 |  0 | 7.07 | 0 | 0.469 | 7.185 | 61.1 | 4.9671 | 2 | 242 | 17.8 | 392.83 | 4.03 | 34.7 |\n",
       "| 4 | 0.03237 |  0 | 2.18 | 0 | 0.458 | 6.998 | 45.8 | 6.0622 | 3 | 222 | 18.7 | 394.63 | 2.94 | 33.4 |\n",
       "| 5 | 0.06905 |  0 | 2.18 | 0 | 0.458 | 7.147 | 54.2 | 6.0622 | 3 | 222 | 18.7 | 396.90 | 5.33 | 36.2 |\n",
       "| 6 | 0.02985 |  0 | 2.18 | 0 | 0.458 | 6.430 | 58.7 | 6.0622 | 3 | 222 | 18.7 | 394.12 | 5.21 | 28.7 |\n",
       "\n"
      ],
      "text/plain": [
       "  crim    zn indus chas nox   rm    age  dis    rad tax ptratio black  lstat\n",
       "1 0.00632 18 2.31  0    0.538 6.575 65.2 4.0900 1   296 15.3    396.90 4.98 \n",
       "2 0.02731  0 7.07  0    0.469 6.421 78.9 4.9671 2   242 17.8    396.90 9.14 \n",
       "3 0.02729  0 7.07  0    0.469 7.185 61.1 4.9671 2   242 17.8    392.83 4.03 \n",
       "4 0.03237  0 2.18  0    0.458 6.998 45.8 6.0622 3   222 18.7    394.63 2.94 \n",
       "5 0.06905  0 2.18  0    0.458 7.147 54.2 6.0622 3   222 18.7    396.90 5.33 \n",
       "6 0.02985  0 2.18  0    0.458 6.430 58.7 6.0622 3   222 18.7    394.12 5.21 \n",
       "  medv\n",
       "1 24.0\n",
       "2 21.6\n",
       "3 34.7\n",
       "4 33.4\n",
       "5 36.2\n",
       "6 28.7"
      ]
     },
     "metadata": {},
     "output_type": "display_data"
    }
   ],
   "source": [
    "head(Boston)"
   ]
  },
  {
   "cell_type": "code",
   "execution_count": 7,
   "id": "5d7edb52",
   "metadata": {},
   "outputs": [],
   "source": [
    "?Boston"
   ]
  },
  {
   "cell_type": "markdown",
   "id": "f774c902",
   "metadata": {},
   "source": [
    "B)"
   ]
  },
  {
   "cell_type": "code",
   "execution_count": 19,
   "id": "e18d4243",
   "metadata": {},
   "outputs": [
    {
     "data": {
      "image/png": "[encoded data removed]",
      "text/plain": [
       "Plot with title \"Boston Suburbs House Average Value per Office emplyment Distance\""
      ]
     },
     "metadata": {
      "image/png": {
       "height": 420,
       "width": 420
      }
     },
     "output_type": "display_data"
    }
   ],
   "source": [
    "x <- Boston$dis\n",
    "y <- Boston$medv\n",
    "# Plot with main and axis titles\n",
    "# Change point shape (pch = 19) and regression line\n",
    "\n",
    "plot(x, y, main = \"Boston Suburbs House Average Value per Office emplyment Distance\",\n",
    "     xlab = \"Distance to Employment Offices\", ylab = \"House Media Value\",\n",
    "     pch = 19, frame = TRUE)\n",
    "abline(lm(y ~ x, data = Boston), col = \"blue\")"
   ]
  },
  {
   "cell_type": "markdown",
   "id": "2b24f912",
   "metadata": {},
   "source": [
    "With this 2 graphs we can see that the majority of the houses with a value between less that 10000 USD and 250000 USD are located close to the employment offices."
   ]
  },
  {
   "cell_type": "code",
   "execution_count": 20,
   "id": "5a9ae755",
   "metadata": {},
   "outputs": [
    {
     "data": {
      "image/png": "[encoded data removed]",
      "text/plain": [
       "Plot with title \"Relation of the house value and room average\""
      ]
     },
     "metadata": {
      "image/png": {
       "height": 420,
       "width": 420
      }
     },
     "output_type": "display_data"
    }
   ],
   "source": [
    "x <- Boston$rm\n",
    "y <- Boston$medv\n",
    "# Plot with main and axis titles\n",
    "# Change point shape (pch = 19) and regression line\n",
    "\n",
    "plot(x, y, main = \"Relation of the house value and room average\",\n",
    "     xlab = \"Room Average\", ylab = \"House Media Value\",\n",
    "     pch = 19, frame = TRUE)\n",
    "abline(lm(y ~ x, data = Boston), col = \"blue\")"
   ]
  },
  {
   "cell_type": "markdown",
   "id": "0a556e4a",
   "metadata": {},
   "source": [
    "In this graph we can see that the vast majority of houses have between 5 and 7 rooms. The average value of these houses is around 20,000 dollars."
   ]
  },
  {
   "cell_type": "code",
   "execution_count": 22,
   "id": "1add5560",
   "metadata": {},
   "outputs": [
    {
     "data": {
      "image/png": "[encoded data removed]",
      "text/plain": [
       "Plot with title \"Relation of criminality rate and Office employment distance\""
      ]
     },
     "metadata": {
      "image/png": {
       "height": 420,
       "width": 420
      }
     },
     "output_type": "display_data"
    }
   ],
   "source": [
    "x <- Boston$crim\n",
    "y <- Boston$dis\n",
    "# Plot with main and axis titles\n",
    "# Change point shape (pch = 19) and regression line\n",
    "\n",
    "plot(x, y, main = \"Relation of criminality rate and Office employment distance\",\n",
    "     xlab = \"Criminality Rate\", ylab = \"Distance to EO\",\n",
    "     pch = 19, frame = TRUE)\n",
    "abline(lm(y ~ x, data = Boston), col = \"blue\")"
   ]
  },
  {
   "cell_type": "markdown",
   "id": "486ef52c",
   "metadata": {},
   "source": [
    "We can see that most crimes are committed in the houses that are closest to the employment offices and that as the distance increases, crime decreases."
   ]
  },
  {
   "cell_type": "markdown",
   "id": "1f63ce92",
   "metadata": {},
   "source": [
    "C) \n",
    "\n",
    "We can see that most crimes are committed in the houses that are closest to the employment offices and that as the distance increases, crime decreases."
   ]
  },
  {
   "cell_type": "markdown",
   "id": "632bcd3e",
   "metadata": {},
   "source": [
    "D)"
   ]
  },
  {
   "cell_type": "code",
   "execution_count": 26,
   "id": "32dafce2",
   "metadata": {},
   "outputs": [
    {
     "data": {
      "image/png": "[encoded data removed]",
      "text/plain": [
       "Plot with title \"Relation of criminality rate and non retail stores\""
      ]
     },
     "metadata": {
      "image/png": {
       "height": 420,
       "width": 420
      }
     },
     "output_type": "display_data"
    }
   ],
   "source": [
    "x <- Boston$indus\n",
    "y <- Boston$crim\n",
    "# Plot with main and axis titles\n",
    "# Change point shape (pch = 19) and regression line\n",
    "\n",
    "plot(x, y, main = \"Relation of criminality rate and non retail stores\",\n",
    "     xlab = \"Proportion of non-retail business acres per town\", ylab = \"Crime rate by town\",\n",
    "     pch = 19, frame = TRUE)\n",
    "abline(lm(y ~ x, data = Boston), col = \"blue\")"
   ]
  },
  {
   "cell_type": "markdown",
   "id": "a3f3b828",
   "metadata": {},
   "source": [
    "We can see that most crimes occur in towns with less than 20 stores."
   ]
  },
  {
   "cell_type": "code",
   "execution_count": 34,
   "id": "e1cd875b",
   "metadata": {},
   "outputs": [
    {
     "data": {
      "image/png": "[encoded data removed]",
      "text/plain": [
       "Plot with title \"Relation Pupil-Teacher Ratio and Crime Rate\""
      ]
     },
     "metadata": {
      "image/png": {
       "height": 420,
       "width": 420
      }
     },
     "output_type": "display_data"
    }
   ],
   "source": [
    "x <- Boston$ptratio\n",
    "y <- Boston$crim\n",
    "# Plot with main and axis titles\n",
    "# Change point shape (pch = 19) and regression line\n",
    "\n",
    "plot(x, y, main = \"Relation Pupil-Teacher Ratio and Crime Rate\",\n",
    "     xlab = \"ptratio\", ylab = \"crim\",\n",
    "     pch = 19, frame = TRUE)\n",
    "abline(lm(y ~ x, data = Boston), col = \"blue\")"
   ]
  },
  {
   "cell_type": "markdown",
   "id": "42990704",
   "metadata": {},
   "source": [
    "We can see that most crimes occur in towns where the student-teacher ratio is higher."
   ]
  },
  {
   "cell_type": "code",
   "execution_count": 42,
   "id": "9e3de66c",
   "metadata": {},
   "outputs": [
    {
     "data": {
      "image/png": "[encoded data removed]",
      "text/plain": [
       "Plot with title \"Relation non retail stores and Taxes\""
      ]
     },
     "metadata": {
      "image/png": {
       "height": 420,
       "width": 420
      }
     },
     "output_type": "display_data"
    }
   ],
   "source": [
    "x <- Boston$indus\n",
    "y <- Boston$tax\n",
    "# Plot with main and axis titles\n",
    "# Change point shape (pch = 19) and regression line\n",
    "\n",
    "plot(x, y, main = \"Relation non retail stores and Taxes\",\n",
    "     xlab = \"indus\", ylab = \"tax\",\n",
    "     pch = 19, frame = TRUE)\n",
    "abline(lm(y ~ x, data = Boston), col = \"blue\")"
   ]
  },
  {
   "cell_type": "markdown",
   "id": "d72bbac5",
   "metadata": {},
   "source": [
    "Most houses that are located where there are fewer retailers pay less taxes"
   ]
  },
  {
   "cell_type": "markdown",
   "id": "7964867f",
   "metadata": {},
   "source": [
    "E)"
   ]
  },
  {
   "cell_type": "code",
   "execution_count": 46,
   "id": "6a6c8ebf",
   "metadata": {},
   "outputs": [
    {
     "data": {
      "text/plain": [
       "\n",
       "  0   1 \n",
       "471  35 "
      ]
     },
     "metadata": {},
     "output_type": "display_data"
    }
   ],
   "source": [
    "table(Boston$chas)"
   ]
  },
  {
   "cell_type": "markdown",
   "id": "c3be1e8a",
   "metadata": {},
   "source": [
    "35 Suburbs bound the Charles River"
   ]
  },
  {
   "cell_type": "markdown",
   "id": "f3e93235",
   "metadata": {},
   "source": [
    "F)"
   ]
  },
  {
   "cell_type": "code",
   "execution_count": 47,
   "id": "52e5d160",
   "metadata": {},
   "outputs": [
    {
     "data": {
      "text/html": [
       "19.05"
      ],
      "text/latex": [
       "19.05"
      ],
      "text/markdown": [
       "19.05"
      ],
      "text/plain": [
       "[1] 19.05"
      ]
     },
     "metadata": {},
     "output_type": "display_data"
    }
   ],
   "source": [
    "median(Boston$ptratio)\n"
   ]
  },
  {
   "cell_type": "markdown",
   "id": "91b4d883",
   "metadata": {},
   "source": [
    "The median is 19.05"
   ]
  },
  {
   "cell_type": "markdown",
   "id": "683530e6",
   "metadata": {},
   "source": [
    "G)"
   ]
  },
  {
   "cell_type": "code",
   "execution_count": 51,
   "id": "c405c534",
   "metadata": {},
   "outputs": [
    {
     "data": {
      "text/html": [
       "<table class=\"dataframe\">\n",
       "<caption>A matrix: 15 × 2 of type dbl</caption>\n",
       "<thead>\n",
       "\t<tr><th></th><th scope=col>399</th><th scope=col>406</th></tr>\n",
       "</thead>\n",
       "<tbody>\n",
       "\t<tr><th scope=row>crim</th><td> 38.3518</td><td> 67.9208</td></tr>\n",
       "\t<tr><th scope=row>zn</th><td>  0.0000</td><td>  0.0000</td></tr>\n",
       "\t<tr><th scope=row>indus</th><td> 18.1000</td><td> 18.1000</td></tr>\n",
       "\t<tr><th scope=row>chas</th><td>  0.0000</td><td>  0.0000</td></tr>\n",
       "\t<tr><th scope=row>nox</th><td>  0.6930</td><td>  0.6930</td></tr>\n",
       "\t<tr><th scope=row>rm</th><td>  5.4530</td><td>  5.6830</td></tr>\n",
       "\t<tr><th scope=row>age</th><td>100.0000</td><td>100.0000</td></tr>\n",
       "\t<tr><th scope=row>dis</th><td>  1.4896</td><td>  1.4254</td></tr>\n",
       "\t<tr><th scope=row>rad</th><td> 24.0000</td><td> 24.0000</td></tr>\n",
       "\t<tr><th scope=row>tax</th><td>666.0000</td><td>666.0000</td></tr>\n",
       "\t<tr><th scope=row>ptratio</th><td> 20.2000</td><td> 20.2000</td></tr>\n",
       "\t<tr><th scope=row>black</th><td>396.9000</td><td>384.9700</td></tr>\n",
       "\t<tr><th scope=row>lstat</th><td> 30.5900</td><td> 22.9800</td></tr>\n",
       "\t<tr><th scope=row>medv</th><td>  5.0000</td><td>  5.0000</td></tr>\n",
       "\t<tr><th scope=row>y</th><td> 20.2000</td><td> 20.2000</td></tr>\n",
       "</tbody>\n",
       "</table>\n"
      ],
      "text/latex": [
       "A matrix: 15 × 2 of type dbl\n",
       "\\begin{tabular}{r|ll}\n",
       "  & 399 & 406\\\\\n",
       "\\hline\n",
       "\tcrim &  38.3518 &  67.9208\\\\\n",
       "\tzn &   0.0000 &   0.0000\\\\\n",
       "\tindus &  18.1000 &  18.1000\\\\\n",
       "\tchas &   0.0000 &   0.0000\\\\\n",
       "\tnox &   0.6930 &   0.6930\\\\\n",
       "\trm &   5.4530 &   5.6830\\\\\n",
       "\tage & 100.0000 & 100.0000\\\\\n",
       "\tdis &   1.4896 &   1.4254\\\\\n",
       "\trad &  24.0000 &  24.0000\\\\\n",
       "\ttax & 666.0000 & 666.0000\\\\\n",
       "\tptratio &  20.2000 &  20.2000\\\\\n",
       "\tblack & 396.9000 & 384.9700\\\\\n",
       "\tlstat &  30.5900 &  22.9800\\\\\n",
       "\tmedv &   5.0000 &   5.0000\\\\\n",
       "\ty &  20.2000 &  20.2000\\\\\n",
       "\\end{tabular}\n"
      ],
      "text/markdown": [
       "\n",
       "A matrix: 15 × 2 of type dbl\n",
       "\n",
       "| <!--/--> | 399 | 406 |\n",
       "|---|---|---|\n",
       "| crim |  38.3518 |  67.9208 |\n",
       "| zn |   0.0000 |   0.0000 |\n",
       "| indus |  18.1000 |  18.1000 |\n",
       "| chas |   0.0000 |   0.0000 |\n",
       "| nox |   0.6930 |   0.6930 |\n",
       "| rm |   5.4530 |   5.6830 |\n",
       "| age | 100.0000 | 100.0000 |\n",
       "| dis |   1.4896 |   1.4254 |\n",
       "| rad |  24.0000 |  24.0000 |\n",
       "| tax | 666.0000 | 666.0000 |\n",
       "| ptratio |  20.2000 |  20.2000 |\n",
       "| black | 396.9000 | 384.9700 |\n",
       "| lstat |  30.5900 |  22.9800 |\n",
       "| medv |   5.0000 |   5.0000 |\n",
       "| y |  20.2000 |  20.2000 |\n",
       "\n"
      ],
      "text/plain": [
       "        399      406     \n",
       "crim     38.3518  67.9208\n",
       "zn        0.0000   0.0000\n",
       "indus    18.1000  18.1000\n",
       "chas      0.0000   0.0000\n",
       "nox       0.6930   0.6930\n",
       "rm        5.4530   5.6830\n",
       "age     100.0000 100.0000\n",
       "dis       1.4896   1.4254\n",
       "rad      24.0000  24.0000\n",
       "tax     666.0000 666.0000\n",
       "ptratio  20.2000  20.2000\n",
       "black   396.9000 384.9700\n",
       "lstat    30.5900  22.9800\n",
       "medv      5.0000   5.0000\n",
       "y        20.2000  20.2000"
      ]
     },
     "metadata": {},
     "output_type": "display_data"
    }
   ],
   "source": [
    "t(subset(Boston, medv == min(Boston$medv)))"
   ]
  },
  {
   "cell_type": "markdown",
   "id": "7146a786",
   "metadata": {},
   "source": [
    "H)"
   ]
  },
  {
   "cell_type": "code",
   "execution_count": 53,
   "id": "5f935017",
   "metadata": {},
   "outputs": [
    {
     "data": {
      "text/html": [
       "<style>\n",
       ".list-inline {list-style: none; margin:0; padding: 0}\n",
       ".list-inline>li {display: inline-block}\n",
       ".list-inline>li:not(:last-child)::after {content: \"\\00b7\"; padding: 0 .5ex}\n",
       "</style>\n",
       "<ol class=list-inline><li>64</li><li>15</li></ol>\n"
      ],
      "text/latex": [
       "\\begin{enumerate*}\n",
       "\\item 64\n",
       "\\item 15\n",
       "\\end{enumerate*}\n"
      ],
      "text/markdown": [
       "1. 64\n",
       "2. 15\n",
       "\n",
       "\n"
      ],
      "text/plain": [
       "[1] 64 15"
      ]
     },
     "metadata": {},
     "output_type": "display_data"
    },
    {
     "data": {
      "text/html": [
       "<style>\n",
       ".list-inline {list-style: none; margin:0; padding: 0}\n",
       ".list-inline>li {display: inline-block}\n",
       ".list-inline>li:not(:last-child)::after {content: \"\\00b7\"; padding: 0 .5ex}\n",
       "</style>\n",
       "<ol class=list-inline><li>13</li><li>15</li></ol>\n"
      ],
      "text/latex": [
       "\\begin{enumerate*}\n",
       "\\item 13\n",
       "\\item 15\n",
       "\\end{enumerate*}\n"
      ],
      "text/markdown": [
       "1. 13\n",
       "2. 15\n",
       "\n",
       "\n"
      ],
      "text/plain": [
       "[1] 13 15"
      ]
     },
     "metadata": {},
     "output_type": "display_data"
    },
    {
     "data": {
      "text/plain": [
       "      crim                zn             indus            chas        \n",
       " Min.   : 0.00632   Min.   :  0.00   Min.   : 0.46   Min.   :0.00000  \n",
       " 1st Qu.: 0.08205   1st Qu.:  0.00   1st Qu.: 5.19   1st Qu.:0.00000  \n",
       " Median : 0.25651   Median :  0.00   Median : 9.69   Median :0.00000  \n",
       " Mean   : 3.61352   Mean   : 11.36   Mean   :11.14   Mean   :0.06917  \n",
       " 3rd Qu.: 3.67708   3rd Qu.: 12.50   3rd Qu.:18.10   3rd Qu.:0.00000  \n",
       " Max.   :88.97620   Max.   :100.00   Max.   :27.74   Max.   :1.00000  \n",
       "      nox               rm             age              dis        \n",
       " Min.   :0.3850   Min.   :3.561   Min.   :  2.90   Min.   : 1.130  \n",
       " 1st Qu.:0.4490   1st Qu.:5.886   1st Qu.: 45.02   1st Qu.: 2.100  \n",
       " Median :0.5380   Median :6.208   Median : 77.50   Median : 3.207  \n",
       " Mean   :0.5547   Mean   :6.285   Mean   : 68.57   Mean   : 3.795  \n",
       " 3rd Qu.:0.6240   3rd Qu.:6.623   3rd Qu.: 94.08   3rd Qu.: 5.188  \n",
       " Max.   :0.8710   Max.   :8.780   Max.   :100.00   Max.   :12.127  \n",
       "      rad              tax           ptratio          black       \n",
       " Min.   : 1.000   Min.   :187.0   Min.   :12.60   Min.   :  0.32  \n",
       " 1st Qu.: 4.000   1st Qu.:279.0   1st Qu.:17.40   1st Qu.:375.38  \n",
       " Median : 5.000   Median :330.0   Median :19.05   Median :391.44  \n",
       " Mean   : 9.549   Mean   :408.2   Mean   :18.46   Mean   :356.67  \n",
       " 3rd Qu.:24.000   3rd Qu.:666.0   3rd Qu.:20.20   3rd Qu.:396.23  \n",
       " Max.   :24.000   Max.   :711.0   Max.   :22.00   Max.   :396.90  \n",
       "     lstat            medv             y        \n",
       " Min.   : 1.73   Min.   : 5.00   Min.   :12.60  \n",
       " 1st Qu.: 6.95   1st Qu.:17.02   1st Qu.:17.40  \n",
       " Median :11.36   Median :21.20   Median :19.05  \n",
       " Mean   :12.65   Mean   :22.53   Mean   :18.46  \n",
       " 3rd Qu.:16.95   3rd Qu.:25.00   3rd Qu.:20.20  \n",
       " Max.   :37.97   Max.   :50.00   Max.   :22.00  "
      ]
     },
     "metadata": {},
     "output_type": "display_data"
    }
   ],
   "source": [
    "dim(subset(Boston, rm > 7))\n",
    "dim(subset(Boston, rm > 8))\n",
    "summary(Boston)"
   ]
  },
  {
   "cell_type": "markdown",
   "id": "831e5801",
   "metadata": {},
   "source": [
    "64 suburbs have houses with more than 7 \n",
    "\n",
    "13 suburbs have houses with more than 8\n",
    "\n",
    "As it was mentioned before the suburbs with house with more rooms have less criminality"
   ]
  },
  {
   "cell_type": "markdown",
   "id": "6747b415",
   "metadata": {},
   "source": [
    "# Exercise 3 (p.120, Chap.3)"
   ]
  },
  {
   "cell_type": "markdown",
   "id": "2d3e7723",
   "metadata": {},
   "source": [
    "A) \n",
    "\n",
    "I use the standard linear regression model with two variables with the following:\n",
    "\n",
    "x1 = GPA\n",
    "\n",
    "x2 = IQ\n",
    "\n",
    "x3 = Gender (1 for women and 0 for men)\n",
    "\n",
    "X4 = X1*X2\n",
    "\n",
    "X5 = X1*X3\n",
    "\n",
    "B0 = 50\n",
    "\n",
    "B1 = 20\n",
    "\n",
    "B2 = 0.07\n",
    "\n",
    "B3 = 35\n",
    "\n",
    "B4 = 0.01\n",
    "\n",
    "B5 = -10\n",
    "\n",
    "y = B0 + B1X1 + B2X2 + B3X3 + B4X4 + B5X5\n",
    "\n",
    "For Women\n",
    "y = 50 + 20*x1 + 0.07*x2 + 35*x3 + 0.01*X4 -10*X5\n",
    "\n",
    "For Men\n",
    "y = 50 + 20*x1 + 0.07*x2 + 0.01*X4 \n",
    "\n",
    "According to this the correct one is the ii, females, earn lore on average that males.\n",
    "\n",
    "\n"
   ]
  },
  {
   "cell_type": "markdown",
   "id": "f9f4312f",
   "metadata": {},
   "source": [
    "B)"
   ]
  },
  {
   "cell_type": "markdown",
   "id": "4e6426f4",
   "metadata": {},
   "source": [
    "For Women y = 50 + 20*4 + 0.07*110 + 35*1 + 0.01*440 -10*4\n",
    "\n",
    "y = 137.1"
   ]
  },
  {
   "cell_type": "markdown",
   "id": "fc4dc3bb",
   "metadata": {},
   "source": [
    "C)"
   ]
  },
  {
   "cell_type": "markdown",
   "id": "5fdfcf6e",
   "metadata": {},
   "source": [
    "FALSE"
   ]
  },
  {
   "cell_type": "markdown",
   "id": "cd2575d3",
   "metadata": {},
   "source": [
    "# Excercise 10 (p.123, Chap.3)"
   ]
  },
  {
   "cell_type": "code",
   "execution_count": 58,
   "id": "6014e4d6",
   "metadata": {},
   "outputs": [
    {
     "data": {
      "text/html": [
       "<table class=\"dataframe\">\n",
       "<caption>A data.frame: 6 × 11</caption>\n",
       "<thead>\n",
       "\t<tr><th></th><th scope=col>Sales</th><th scope=col>CompPrice</th><th scope=col>Income</th><th scope=col>Advertising</th><th scope=col>Population</th><th scope=col>Price</th><th scope=col>ShelveLoc</th><th scope=col>Age</th><th scope=col>Education</th><th scope=col>Urban</th><th scope=col>US</th></tr>\n",
       "\t<tr><th></th><th scope=col>&lt;dbl&gt;</th><th scope=col>&lt;dbl&gt;</th><th scope=col>&lt;dbl&gt;</th><th scope=col>&lt;dbl&gt;</th><th scope=col>&lt;dbl&gt;</th><th scope=col>&lt;dbl&gt;</th><th scope=col>&lt;fct&gt;</th><th scope=col>&lt;dbl&gt;</th><th scope=col>&lt;dbl&gt;</th><th scope=col>&lt;fct&gt;</th><th scope=col>&lt;fct&gt;</th></tr>\n",
       "</thead>\n",
       "<tbody>\n",
       "\t<tr><th scope=row>1</th><td> 9.50</td><td>138</td><td> 73</td><td>11</td><td>276</td><td>120</td><td>Bad   </td><td>42</td><td>17</td><td>Yes</td><td>Yes</td></tr>\n",
       "\t<tr><th scope=row>2</th><td>11.22</td><td>111</td><td> 48</td><td>16</td><td>260</td><td> 83</td><td>Good  </td><td>65</td><td>10</td><td>Yes</td><td>Yes</td></tr>\n",
       "\t<tr><th scope=row>3</th><td>10.06</td><td>113</td><td> 35</td><td>10</td><td>269</td><td> 80</td><td>Medium</td><td>59</td><td>12</td><td>Yes</td><td>Yes</td></tr>\n",
       "\t<tr><th scope=row>4</th><td> 7.40</td><td>117</td><td>100</td><td> 4</td><td>466</td><td> 97</td><td>Medium</td><td>55</td><td>14</td><td>Yes</td><td>Yes</td></tr>\n",
       "\t<tr><th scope=row>5</th><td> 4.15</td><td>141</td><td> 64</td><td> 3</td><td>340</td><td>128</td><td>Bad   </td><td>38</td><td>13</td><td>Yes</td><td>No </td></tr>\n",
       "\t<tr><th scope=row>6</th><td>10.81</td><td>124</td><td>113</td><td>13</td><td>501</td><td> 72</td><td>Bad   </td><td>78</td><td>16</td><td>No </td><td>Yes</td></tr>\n",
       "</tbody>\n",
       "</table>\n"
      ],
      "text/latex": [
       "A data.frame: 6 × 11\n",
       "\\begin{tabular}{r|lllllllllll}\n",
       "  & Sales & CompPrice & Income & Advertising & Population & Price & ShelveLoc & Age & Education & Urban & US\\\\\n",
       "  & <dbl> & <dbl> & <dbl> & <dbl> & <dbl> & <dbl> & <fct> & <dbl> & <dbl> & <fct> & <fct>\\\\\n",
       "\\hline\n",
       "\t1 &  9.50 & 138 &  73 & 11 & 276 & 120 & Bad    & 42 & 17 & Yes & Yes\\\\\n",
       "\t2 & 11.22 & 111 &  48 & 16 & 260 &  83 & Good   & 65 & 10 & Yes & Yes\\\\\n",
       "\t3 & 10.06 & 113 &  35 & 10 & 269 &  80 & Medium & 59 & 12 & Yes & Yes\\\\\n",
       "\t4 &  7.40 & 117 & 100 &  4 & 466 &  97 & Medium & 55 & 14 & Yes & Yes\\\\\n",
       "\t5 &  4.15 & 141 &  64 &  3 & 340 & 128 & Bad    & 38 & 13 & Yes & No \\\\\n",
       "\t6 & 10.81 & 124 & 113 & 13 & 501 &  72 & Bad    & 78 & 16 & No  & Yes\\\\\n",
       "\\end{tabular}\n"
      ],
      "text/markdown": [
       "\n",
       "A data.frame: 6 × 11\n",
       "\n",
       "| <!--/--> | Sales &lt;dbl&gt; | CompPrice &lt;dbl&gt; | Income &lt;dbl&gt; | Advertising &lt;dbl&gt; | Population &lt;dbl&gt; | Price &lt;dbl&gt; | ShelveLoc &lt;fct&gt; | Age &lt;dbl&gt; | Education &lt;dbl&gt; | Urban &lt;fct&gt; | US &lt;fct&gt; |\n",
       "|---|---|---|---|---|---|---|---|---|---|---|---|\n",
       "| 1 |  9.50 | 138 |  73 | 11 | 276 | 120 | Bad    | 42 | 17 | Yes | Yes |\n",
       "| 2 | 11.22 | 111 |  48 | 16 | 260 |  83 | Good   | 65 | 10 | Yes | Yes |\n",
       "| 3 | 10.06 | 113 |  35 | 10 | 269 |  80 | Medium | 59 | 12 | Yes | Yes |\n",
       "| 4 |  7.40 | 117 | 100 |  4 | 466 |  97 | Medium | 55 | 14 | Yes | Yes |\n",
       "| 5 |  4.15 | 141 |  64 |  3 | 340 | 128 | Bad    | 38 | 13 | Yes | No  |\n",
       "| 6 | 10.81 | 124 | 113 | 13 | 501 |  72 | Bad    | 78 | 16 | No  | Yes |\n",
       "\n"
      ],
      "text/plain": [
       "  Sales CompPrice Income Advertising Population Price ShelveLoc Age Education\n",
       "1  9.50 138        73    11          276        120   Bad       42  17       \n",
       "2 11.22 111        48    16          260         83   Good      65  10       \n",
       "3 10.06 113        35    10          269         80   Medium    59  12       \n",
       "4  7.40 117       100     4          466         97   Medium    55  14       \n",
       "5  4.15 141        64     3          340        128   Bad       38  13       \n",
       "6 10.81 124       113    13          501         72   Bad       78  16       \n",
       "  Urban US \n",
       "1 Yes   Yes\n",
       "2 Yes   Yes\n",
       "3 Yes   Yes\n",
       "4 Yes   Yes\n",
       "5 Yes   No \n",
       "6 No    Yes"
      ]
     },
     "metadata": {},
     "output_type": "display_data"
    }
   ],
   "source": [
    "head(Carseats1)"
   ]
  },
  {
   "cell_type": "markdown",
   "id": "ebc421ac",
   "metadata": {},
   "source": [
    "A)"
   ]
  },
  {
   "cell_type": "code",
   "execution_count": 74,
   "id": "1d05814b",
   "metadata": {},
   "outputs": [],
   "source": [
    "Carseats1 <- Carseats"
   ]
  },
  {
   "cell_type": "code",
   "execution_count": 75,
   "id": "84536ae0",
   "metadata": {},
   "outputs": [],
   "source": [
    "# Encoding variables\n",
    "\n",
    "Carseats1$US<-ifelse(Carseats1$US==\"Yes\",1,0)\n",
    "Carseats1$Urban<-ifelse(Carseats1$Urban==\"Yes\",1,0)\n",
    "lbl = LabelEncoder$new()\n",
    "Carseats1$ShelveLoc = lbl$fit_transform(Carseats1$ShelveLoc)\n",
    "Carseats1"
   ]
  },
  {
   "cell_type": "code",
   "execution_count": 80,
   "id": "20074ebd",
   "metadata": {},
   "outputs": [],
   "source": [
    "# Construct matrix X, y\n",
    "X <- as.matrix(cbind(1, Carseats$Price, Carseats$Urban, Carseats$US))\n",
    "y <- as.matrix(Carseats$Sales)"
   ]
  },
  {
   "cell_type": "code",
   "execution_count": 81,
   "id": "7c40d568",
   "metadata": {},
   "outputs": [
    {
     "data": {
      "text/html": [
       "<table class=\"dataframe\">\n",
       "<caption>A matrix: 4 × 1 of type dbl</caption>\n",
       "<tbody>\n",
       "\t<tr><td>11.86481239</td></tr>\n",
       "\t<tr><td>-0.05445885</td></tr>\n",
       "\t<tr><td>-0.02191615</td></tr>\n",
       "\t<tr><td> 1.20057270</td></tr>\n",
       "</tbody>\n",
       "</table>\n"
      ],
      "text/latex": [
       "A matrix: 4 × 1 of type dbl\n",
       "\\begin{tabular}{l}\n",
       "\t 11.86481239\\\\\n",
       "\t -0.05445885\\\\\n",
       "\t -0.02191615\\\\\n",
       "\t  1.20057270\\\\\n",
       "\\end{tabular}\n"
      ],
      "text/markdown": [
       "\n",
       "A matrix: 4 × 1 of type dbl\n",
       "\n",
       "| 11.86481239 |\n",
       "| -0.05445885 |\n",
       "| -0.02191615 |\n",
       "|  1.20057270 |\n",
       "\n"
      ],
      "text/plain": [
       "     [,1]       \n",
       "[1,] 11.86481239\n",
       "[2,] -0.05445885\n",
       "[3,] -0.02191615\n",
       "[4,]  1.20057270"
      ]
     },
     "metadata": {},
     "output_type": "display_data"
    }
   ],
   "source": [
    "# Estimate the coefficient matrix\n",
    "beta_hat <- solve(t(X) %*% X) %*% t(X) %*% y\n",
    "beta_hat"
   ]
  },
  {
   "cell_type": "code",
   "execution_count": 82,
   "id": "58b6ff8d",
   "metadata": {},
   "outputs": [
    {
     "data": {
      "text/plain": [
       "\n",
       "Call:\n",
       "lm(formula = Sales ~ ., data = Carseats)\n",
       "\n",
       "Residuals:\n",
       "    Min      1Q  Median      3Q     Max \n",
       "-2.8692 -0.6908  0.0211  0.6636  3.4115 \n",
       "\n",
       "Coefficients:\n",
       "                  Estimate Std. Error t value Pr(>|t|)    \n",
       "(Intercept)      5.6606231  0.6034487   9.380  < 2e-16 ***\n",
       "CompPrice        0.0928153  0.0041477  22.378  < 2e-16 ***\n",
       "Income           0.0158028  0.0018451   8.565 2.58e-16 ***\n",
       "Advertising      0.1230951  0.0111237  11.066  < 2e-16 ***\n",
       "Population       0.0002079  0.0003705   0.561    0.575    \n",
       "Price           -0.0953579  0.0026711 -35.700  < 2e-16 ***\n",
       "ShelveLocGood    4.8501827  0.1531100  31.678  < 2e-16 ***\n",
       "ShelveLocMedium  1.9567148  0.1261056  15.516  < 2e-16 ***\n",
       "Age             -0.0460452  0.0031817 -14.472  < 2e-16 ***\n",
       "Education       -0.0211018  0.0197205  -1.070    0.285    \n",
       "UrbanYes         0.1228864  0.1129761   1.088    0.277    \n",
       "USYes           -0.1840928  0.1498423  -1.229    0.220    \n",
       "---\n",
       "Signif. codes:  0 '***' 0.001 '**' 0.01 '*' 0.05 '.' 0.1 ' ' 1\n",
       "\n",
       "Residual standard error: 1.019 on 388 degrees of freedom\n",
       "Multiple R-squared:  0.8734,\tAdjusted R-squared:  0.8698 \n",
       "F-statistic: 243.4 on 11 and 388 DF,  p-value: < 2.2e-16\n"
      ]
     },
     "metadata": {},
     "output_type": "display_data"
    }
   ],
   "source": [
    "# Compare with function of R\n",
    "md_full <- lm(Sales ~ ., data=Carseats)\n",
    "summary(md_full)"
   ]
  }
 ],
 "metadata": {
  "kernelspec": {
   "display_name": "R",
   "language": "R",
   "name": "ir"
  },
  "language_info": {
   "codemirror_mode": "r",
   "file_extension": ".r",
   "mimetype": "text/x-r-source",
   "name": "R",
   "pygments_lexer": "r",
   "version": "4.0.5"
  }
 },
 "nbformat": 4,
 "nbformat_minor": 5
}

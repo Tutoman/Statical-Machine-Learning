{
 "cells": [
  {
   "cell_type": "markdown",
   "id": "29ad56c3",
   "metadata": {},
   "source": [
    "# Excercise 8\n",
    "Suppose that we take a data set, divide it into equally-sized training\n",
    "and test sets, and then try out two different classification procedures.\n",
    "First we use logistic regression and get an error rate of 20% on the\n",
    "training data and 30% on the test data. Next we use 1-nearest neighbors\n",
    "(i.e. K = 1) and get an average error rate (averaged over both\n",
    "test and training data sets) of 18%. Based on these results, which\n",
    "method should we prefer to use for classification of new observations?\n",
    "Why?"
   ]
  },
  {
   "cell_type": "markdown",
   "id": "cf8088ef",
   "metadata": {},
   "source": [
    "Aswer: According to the information the method that should be prefered is 1-nearest neighbors (i.e. K = 1) because the average error rate is 18%"
   ]
  },
  {
   "cell_type": "markdown",
   "id": "78597a46",
   "metadata": {},
   "source": [
    "# Exercise 10\n",
    "This question should be answered using the Weekly data set, which is part of the ISLR package. This data is similar in nature to the Smarket data from this chapter’s lab, except that it contains 1,089 weekly returns for 21 years, from the beginning of 1990 to the end of 2010."
   ]
  },
  {
   "cell_type": "code",
   "execution_count": 20,
   "id": "1f7a1ae3",
   "metadata": {},
   "outputs": [],
   "source": [
    "# Load the ISLR Library\n",
    "library(ISLR)\n",
    "library(MASS)\n",
    "library(class)\n"
   ]
  },
  {
   "cell_type": "markdown",
   "id": "027b43d7",
   "metadata": {},
   "source": [
    "# A\n",
    "Produce some numerical and graphical summaries of the Weekly\n",
    "data. Do there appear to be any patterns?"
   ]
  },
  {
   "cell_type": "code",
   "execution_count": 4,
   "id": "cc145ef5",
   "metadata": {},
   "outputs": [
    {
     "data": {
      "text/html": [
       "<table class=\"dataframe\">\n",
       "<caption>A data.frame: 1089 × 9</caption>\n",
       "<thead>\n",
       "\t<tr><th></th><th scope=col>Year</th><th scope=col>Lag1</th><th scope=col>Lag2</th><th scope=col>Lag3</th><th scope=col>Lag4</th><th scope=col>Lag5</th><th scope=col>Volume</th><th scope=col>Today</th><th scope=col>Direction</th></tr>\n",
       "\t<tr><th></th><th scope=col>&lt;dbl&gt;</th><th scope=col>&lt;dbl&gt;</th><th scope=col>&lt;dbl&gt;</th><th scope=col>&lt;dbl&gt;</th><th scope=col>&lt;dbl&gt;</th><th scope=col>&lt;dbl&gt;</th><th scope=col>&lt;dbl&gt;</th><th scope=col>&lt;dbl&gt;</th><th scope=col>&lt;fct&gt;</th></tr>\n",
       "</thead>\n",
       "<tbody>\n",
       "\t<tr><th scope=row>1</th><td>1990</td><td> 0.816</td><td> 1.572</td><td>-3.936</td><td>-0.229</td><td>-3.484</td><td>0.1549760</td><td>-0.270</td><td>Down</td></tr>\n",
       "\t<tr><th scope=row>2</th><td>1990</td><td>-0.270</td><td> 0.816</td><td> 1.572</td><td>-3.936</td><td>-0.229</td><td>0.1485740</td><td>-2.576</td><td>Down</td></tr>\n",
       "\t<tr><th scope=row>3</th><td>1990</td><td>-2.576</td><td>-0.270</td><td> 0.816</td><td> 1.572</td><td>-3.936</td><td>0.1598375</td><td> 3.514</td><td>Up  </td></tr>\n",
       "\t<tr><th scope=row>4</th><td>1990</td><td> 3.514</td><td>-2.576</td><td>-0.270</td><td> 0.816</td><td> 1.572</td><td>0.1616300</td><td> 0.712</td><td>Up  </td></tr>\n",
       "\t<tr><th scope=row>5</th><td>1990</td><td> 0.712</td><td> 3.514</td><td>-2.576</td><td>-0.270</td><td> 0.816</td><td>0.1537280</td><td> 1.178</td><td>Up  </td></tr>\n",
       "\t<tr><th scope=row>6</th><td>1990</td><td> 1.178</td><td> 0.712</td><td> 3.514</td><td>-2.576</td><td>-0.270</td><td>0.1544440</td><td>-1.372</td><td>Down</td></tr>\n",
       "\t<tr><th scope=row>7</th><td>1990</td><td>-1.372</td><td> 1.178</td><td> 0.712</td><td> 3.514</td><td>-2.576</td><td>0.1517220</td><td> 0.807</td><td>Up  </td></tr>\n",
       "\t<tr><th scope=row>8</th><td>1990</td><td> 0.807</td><td>-1.372</td><td> 1.178</td><td> 0.712</td><td> 3.514</td><td>0.1323100</td><td> 0.041</td><td>Up  </td></tr>\n",
       "\t<tr><th scope=row>9</th><td>1990</td><td> 0.041</td><td> 0.807</td><td>-1.372</td><td> 1.178</td><td> 0.712</td><td>0.1439720</td><td> 1.253</td><td>Up  </td></tr>\n",
       "\t<tr><th scope=row>10</th><td>1990</td><td> 1.253</td><td> 0.041</td><td> 0.807</td><td>-1.372</td><td> 1.178</td><td>0.1336350</td><td>-2.678</td><td>Down</td></tr>\n",
       "\t<tr><th scope=row>11</th><td>1990</td><td>-2.678</td><td> 1.253</td><td> 0.041</td><td> 0.807</td><td>-1.372</td><td>0.1490240</td><td>-1.793</td><td>Down</td></tr>\n",
       "\t<tr><th scope=row>12</th><td>1990</td><td>-1.793</td><td>-2.678</td><td> 1.253</td><td> 0.041</td><td> 0.807</td><td>0.1357900</td><td> 2.820</td><td>Up  </td></tr>\n",
       "\t<tr><th scope=row>13</th><td>1990</td><td> 2.820</td><td>-1.793</td><td>-2.678</td><td> 1.253</td><td> 0.041</td><td>0.1398980</td><td> 4.022</td><td>Up  </td></tr>\n",
       "\t<tr><th scope=row>14</th><td>1990</td><td> 4.022</td><td> 2.820</td><td>-1.793</td><td>-2.678</td><td> 1.253</td><td>0.1643420</td><td> 0.750</td><td>Up  </td></tr>\n",
       "\t<tr><th scope=row>15</th><td>1990</td><td> 0.750</td><td> 4.022</td><td> 2.820</td><td>-1.793</td><td>-2.678</td><td>0.1756480</td><td>-0.017</td><td>Down</td></tr>\n",
       "\t<tr><th scope=row>16</th><td>1990</td><td>-0.017</td><td> 0.750</td><td> 4.022</td><td> 2.820</td><td>-1.793</td><td>0.1634700</td><td> 2.420</td><td>Up  </td></tr>\n",
       "\t<tr><th scope=row>17</th><td>1990</td><td> 2.420</td><td>-0.017</td><td> 0.750</td><td> 4.022</td><td> 2.820</td><td>0.1726250</td><td>-1.225</td><td>Down</td></tr>\n",
       "\t<tr><th scope=row>18</th><td>1990</td><td>-1.225</td><td> 2.420</td><td>-0.017</td><td> 0.750</td><td> 4.022</td><td>0.1684460</td><td> 1.171</td><td>Up  </td></tr>\n",
       "\t<tr><th scope=row>19</th><td>1990</td><td> 1.171</td><td>-1.225</td><td> 2.420</td><td>-0.017</td><td> 0.750</td><td>0.1552920</td><td>-2.061</td><td>Down</td></tr>\n",
       "\t<tr><th scope=row>20</th><td>1990</td><td>-2.061</td><td> 1.171</td><td>-1.225</td><td> 2.420</td><td>-0.017</td><td>0.1433920</td><td> 0.729</td><td>Up  </td></tr>\n",
       "\t<tr><th scope=row>21</th><td>1990</td><td> 0.729</td><td>-2.061</td><td> 1.171</td><td>-1.225</td><td> 2.420</td><td>0.1405540</td><td> 0.112</td><td>Up  </td></tr>\n",
       "\t<tr><th scope=row>22</th><td>1990</td><td> 0.112</td><td> 0.729</td><td>-2.061</td><td> 1.171</td><td>-1.225</td><td>0.1250750</td><td> 2.480</td><td>Up  </td></tr>\n",
       "\t<tr><th scope=row>23</th><td>1990</td><td> 2.480</td><td> 0.112</td><td> 0.729</td><td>-2.061</td><td> 1.171</td><td>0.1716040</td><td>-1.552</td><td>Down</td></tr>\n",
       "\t<tr><th scope=row>24</th><td>1990</td><td>-1.552</td><td> 2.480</td><td> 0.112</td><td> 0.729</td><td>-2.061</td><td>0.1669560</td><td>-2.259</td><td>Down</td></tr>\n",
       "\t<tr><th scope=row>25</th><td>1990</td><td>-2.259</td><td>-1.552</td><td> 2.480</td><td> 0.112</td><td> 0.729</td><td>0.1717180</td><td>-2.428</td><td>Down</td></tr>\n",
       "\t<tr><th scope=row>26</th><td>1990</td><td>-2.428</td><td>-2.259</td><td>-1.552</td><td> 2.480</td><td> 0.112</td><td>0.2098160</td><td>-2.708</td><td>Down</td></tr>\n",
       "\t<tr><th scope=row>27</th><td>1990</td><td>-2.708</td><td>-2.428</td><td>-2.259</td><td>-1.552</td><td> 2.480</td><td>0.1927060</td><td>-2.292</td><td>Down</td></tr>\n",
       "\t<tr><th scope=row>28</th><td>1990</td><td>-2.292</td><td>-2.708</td><td>-2.428</td><td>-2.259</td><td>-1.552</td><td>0.1482520</td><td>-4.978</td><td>Down</td></tr>\n",
       "\t<tr><th scope=row>29</th><td>1990</td><td>-4.978</td><td>-2.292</td><td>-2.708</td><td>-2.428</td><td>-2.259</td><td>0.1898580</td><td> 3.547</td><td>Up  </td></tr>\n",
       "\t<tr><th scope=row>30</th><td>1990</td><td> 3.547</td><td>-4.978</td><td>-2.292</td><td>-2.708</td><td>-2.428</td><td>0.1278840</td><td> 0.260</td><td>Up  </td></tr>\n",
       "\t<tr><th scope=row>⋮</th><td>⋮</td><td>⋮</td><td>⋮</td><td>⋮</td><td>⋮</td><td>⋮</td><td>⋮</td><td>⋮</td><td>⋮</td></tr>\n",
       "\t<tr><th scope=row>1060</th><td>2010</td><td>-2.252</td><td> 0.158</td><td>-4.226</td><td> 2.232</td><td>-6.388</td><td>5.368597</td><td> 2.509</td><td>Up  </td></tr>\n",
       "\t<tr><th scope=row>1061</th><td>2010</td><td> 2.509</td><td>-2.252</td><td> 0.158</td><td>-4.226</td><td> 2.232</td><td>5.369514</td><td> 2.374</td><td>Up  </td></tr>\n",
       "\t<tr><th scope=row>1062</th><td>2010</td><td> 2.374</td><td> 2.509</td><td>-2.252</td><td> 0.158</td><td>-4.226</td><td>4.637208</td><td>-3.646</td><td>Down</td></tr>\n",
       "\t<tr><th scope=row>1063</th><td>2010</td><td>-3.646</td><td> 2.374</td><td> 2.509</td><td>-2.252</td><td> 0.158</td><td>4.699712</td><td>-5.032</td><td>Down</td></tr>\n",
       "\t<tr><th scope=row>1064</th><td>2010</td><td>-5.032</td><td>-3.646</td><td> 2.374</td><td> 2.509</td><td>-2.252</td><td>5.100892</td><td> 5.416</td><td>Up  </td></tr>\n",
       "\t<tr><th scope=row>1065</th><td>2010</td><td> 5.416</td><td>-5.032</td><td>-3.646</td><td> 2.374</td><td> 2.509</td><td>4.419372</td><td>-1.213</td><td>Down</td></tr>\n",
       "\t<tr><th scope=row>1066</th><td>2010</td><td>-1.213</td><td> 5.416</td><td>-5.032</td><td>-3.646</td><td> 2.374</td><td>4.487664</td><td> 3.548</td><td>Up  </td></tr>\n",
       "\t<tr><th scope=row>1067</th><td>2010</td><td> 3.548</td><td>-1.213</td><td> 5.416</td><td>-5.032</td><td>-3.646</td><td>4.580286</td><td>-0.096</td><td>Down</td></tr>\n",
       "\t<tr><th scope=row>1068</th><td>2010</td><td>-0.096</td><td> 3.548</td><td>-1.213</td><td> 5.416</td><td>-5.032</td><td>4.271320</td><td> 1.819</td><td>Up  </td></tr>\n",
       "\t<tr><th scope=row>1069</th><td>2010</td><td> 1.819</td><td>-0.096</td><td> 3.548</td><td>-1.213</td><td> 5.416</td><td>3.963460</td><td>-3.779</td><td>Down</td></tr>\n",
       "\t<tr><th scope=row>1070</th><td>2010</td><td>-3.779</td><td> 1.819</td><td>-0.096</td><td> 3.548</td><td>-1.213</td><td>3.906558</td><td>-0.700</td><td>Down</td></tr>\n",
       "\t<tr><th scope=row>1071</th><td>2010</td><td>-0.700</td><td>-3.779</td><td> 1.819</td><td>-0.096</td><td> 3.548</td><td>3.777406</td><td>-0.663</td><td>Down</td></tr>\n",
       "\t<tr><th scope=row>1072</th><td>2010</td><td>-0.663</td><td>-0.700</td><td>-3.779</td><td> 1.819</td><td>-0.096</td><td>3.951328</td><td> 3.750</td><td>Up  </td></tr>\n",
       "\t<tr><th scope=row>1073</th><td>2010</td><td> 3.750</td><td>-0.663</td><td>-0.700</td><td>-3.779</td><td> 1.819</td><td>3.718470</td><td> 0.456</td><td>Up  </td></tr>\n",
       "\t<tr><th scope=row>1074</th><td>2010</td><td> 0.456</td><td> 3.750</td><td>-0.663</td><td>-0.700</td><td>-3.779</td><td>3.195238</td><td> 1.446</td><td>Up  </td></tr>\n",
       "\t<tr><th scope=row>1075</th><td>2010</td><td> 1.446</td><td> 0.456</td><td> 3.750</td><td>-0.663</td><td>-0.700</td><td>3.972432</td><td> 2.050</td><td>Up  </td></tr>\n",
       "\t<tr><th scope=row>1076</th><td>2010</td><td> 2.050</td><td> 1.446</td><td> 0.456</td><td> 3.750</td><td>-0.663</td><td>3.884522</td><td>-0.212</td><td>Down</td></tr>\n",
       "\t<tr><th scope=row>1077</th><td>2010</td><td>-0.212</td><td> 2.050</td><td> 1.446</td><td> 0.456</td><td> 3.750</td><td>4.037410</td><td> 1.650</td><td>Up  </td></tr>\n",
       "\t<tr><th scope=row>1078</th><td>2010</td><td> 1.650</td><td>-0.212</td><td> 2.050</td><td> 1.446</td><td> 0.456</td><td>3.905616</td><td> 0.948</td><td>Up  </td></tr>\n",
       "\t<tr><th scope=row>1079</th><td>2010</td><td> 0.948</td><td> 1.650</td><td>-0.212</td><td> 2.050</td><td> 1.446</td><td>4.449160</td><td> 0.586</td><td>Up  </td></tr>\n",
       "\t<tr><th scope=row>1080</th><td>2010</td><td> 0.586</td><td> 0.948</td><td> 1.650</td><td>-0.212</td><td> 2.050</td><td>4.576282</td><td> 0.015</td><td>Up  </td></tr>\n",
       "\t<tr><th scope=row>1081</th><td>2010</td><td> 0.015</td><td> 0.586</td><td> 0.948</td><td> 1.650</td><td>-0.212</td><td>4.116414</td><td> 3.599</td><td>Up  </td></tr>\n",
       "\t<tr><th scope=row>1082</th><td>2010</td><td> 3.599</td><td> 0.015</td><td> 0.586</td><td> 0.948</td><td> 1.650</td><td>4.798758</td><td>-2.173</td><td>Down</td></tr>\n",
       "\t<tr><th scope=row>1083</th><td>2010</td><td>-2.173</td><td> 3.599</td><td> 0.015</td><td> 0.586</td><td> 0.948</td><td>4.298262</td><td> 0.043</td><td>Up  </td></tr>\n",
       "\t<tr><th scope=row>1084</th><td>2010</td><td> 0.043</td><td>-2.173</td><td> 3.599</td><td> 0.015</td><td> 0.586</td><td>4.177436</td><td>-0.861</td><td>Down</td></tr>\n",
       "\t<tr><th scope=row>1085</th><td>2010</td><td>-0.861</td><td> 0.043</td><td>-2.173</td><td> 3.599</td><td> 0.015</td><td>3.205160</td><td> 2.969</td><td>Up  </td></tr>\n",
       "\t<tr><th scope=row>1086</th><td>2010</td><td> 2.969</td><td>-0.861</td><td> 0.043</td><td>-2.173</td><td> 3.599</td><td>4.242568</td><td> 1.281</td><td>Up  </td></tr>\n",
       "\t<tr><th scope=row>1087</th><td>2010</td><td> 1.281</td><td> 2.969</td><td>-0.861</td><td> 0.043</td><td>-2.173</td><td>4.835082</td><td> 0.283</td><td>Up  </td></tr>\n",
       "\t<tr><th scope=row>1088</th><td>2010</td><td> 0.283</td><td> 1.281</td><td> 2.969</td><td>-0.861</td><td> 0.043</td><td>4.454044</td><td> 1.034</td><td>Up  </td></tr>\n",
       "\t<tr><th scope=row>1089</th><td>2010</td><td> 1.034</td><td> 0.283</td><td> 1.281</td><td> 2.969</td><td>-0.861</td><td>2.707105</td><td> 0.069</td><td>Up  </td></tr>\n",
       "</tbody>\n",
       "</table>\n"
      ],
      "text/latex": [
       "A data.frame: 1089 × 9\n",
       "\\begin{tabular}{r|lllllllll}\n",
       "  & Year & Lag1 & Lag2 & Lag3 & Lag4 & Lag5 & Volume & Today & Direction\\\\\n",
       "  & <dbl> & <dbl> & <dbl> & <dbl> & <dbl> & <dbl> & <dbl> & <dbl> & <fct>\\\\\n",
       "\\hline\n",
       "\t1 & 1990 &  0.816 &  1.572 & -3.936 & -0.229 & -3.484 & 0.1549760 & -0.270 & Down\\\\\n",
       "\t2 & 1990 & -0.270 &  0.816 &  1.572 & -3.936 & -0.229 & 0.1485740 & -2.576 & Down\\\\\n",
       "\t3 & 1990 & -2.576 & -0.270 &  0.816 &  1.572 & -3.936 & 0.1598375 &  3.514 & Up  \\\\\n",
       "\t4 & 1990 &  3.514 & -2.576 & -0.270 &  0.816 &  1.572 & 0.1616300 &  0.712 & Up  \\\\\n",
       "\t5 & 1990 &  0.712 &  3.514 & -2.576 & -0.270 &  0.816 & 0.1537280 &  1.178 & Up  \\\\\n",
       "\t6 & 1990 &  1.178 &  0.712 &  3.514 & -2.576 & -0.270 & 0.1544440 & -1.372 & Down\\\\\n",
       "\t7 & 1990 & -1.372 &  1.178 &  0.712 &  3.514 & -2.576 & 0.1517220 &  0.807 & Up  \\\\\n",
       "\t8 & 1990 &  0.807 & -1.372 &  1.178 &  0.712 &  3.514 & 0.1323100 &  0.041 & Up  \\\\\n",
       "\t9 & 1990 &  0.041 &  0.807 & -1.372 &  1.178 &  0.712 & 0.1439720 &  1.253 & Up  \\\\\n",
       "\t10 & 1990 &  1.253 &  0.041 &  0.807 & -1.372 &  1.178 & 0.1336350 & -2.678 & Down\\\\\n",
       "\t11 & 1990 & -2.678 &  1.253 &  0.041 &  0.807 & -1.372 & 0.1490240 & -1.793 & Down\\\\\n",
       "\t12 & 1990 & -1.793 & -2.678 &  1.253 &  0.041 &  0.807 & 0.1357900 &  2.820 & Up  \\\\\n",
       "\t13 & 1990 &  2.820 & -1.793 & -2.678 &  1.253 &  0.041 & 0.1398980 &  4.022 & Up  \\\\\n",
       "\t14 & 1990 &  4.022 &  2.820 & -1.793 & -2.678 &  1.253 & 0.1643420 &  0.750 & Up  \\\\\n",
       "\t15 & 1990 &  0.750 &  4.022 &  2.820 & -1.793 & -2.678 & 0.1756480 & -0.017 & Down\\\\\n",
       "\t16 & 1990 & -0.017 &  0.750 &  4.022 &  2.820 & -1.793 & 0.1634700 &  2.420 & Up  \\\\\n",
       "\t17 & 1990 &  2.420 & -0.017 &  0.750 &  4.022 &  2.820 & 0.1726250 & -1.225 & Down\\\\\n",
       "\t18 & 1990 & -1.225 &  2.420 & -0.017 &  0.750 &  4.022 & 0.1684460 &  1.171 & Up  \\\\\n",
       "\t19 & 1990 &  1.171 & -1.225 &  2.420 & -0.017 &  0.750 & 0.1552920 & -2.061 & Down\\\\\n",
       "\t20 & 1990 & -2.061 &  1.171 & -1.225 &  2.420 & -0.017 & 0.1433920 &  0.729 & Up  \\\\\n",
       "\t21 & 1990 &  0.729 & -2.061 &  1.171 & -1.225 &  2.420 & 0.1405540 &  0.112 & Up  \\\\\n",
       "\t22 & 1990 &  0.112 &  0.729 & -2.061 &  1.171 & -1.225 & 0.1250750 &  2.480 & Up  \\\\\n",
       "\t23 & 1990 &  2.480 &  0.112 &  0.729 & -2.061 &  1.171 & 0.1716040 & -1.552 & Down\\\\\n",
       "\t24 & 1990 & -1.552 &  2.480 &  0.112 &  0.729 & -2.061 & 0.1669560 & -2.259 & Down\\\\\n",
       "\t25 & 1990 & -2.259 & -1.552 &  2.480 &  0.112 &  0.729 & 0.1717180 & -2.428 & Down\\\\\n",
       "\t26 & 1990 & -2.428 & -2.259 & -1.552 &  2.480 &  0.112 & 0.2098160 & -2.708 & Down\\\\\n",
       "\t27 & 1990 & -2.708 & -2.428 & -2.259 & -1.552 &  2.480 & 0.1927060 & -2.292 & Down\\\\\n",
       "\t28 & 1990 & -2.292 & -2.708 & -2.428 & -2.259 & -1.552 & 0.1482520 & -4.978 & Down\\\\\n",
       "\t29 & 1990 & -4.978 & -2.292 & -2.708 & -2.428 & -2.259 & 0.1898580 &  3.547 & Up  \\\\\n",
       "\t30 & 1990 &  3.547 & -4.978 & -2.292 & -2.708 & -2.428 & 0.1278840 &  0.260 & Up  \\\\\n",
       "\t⋮ & ⋮ & ⋮ & ⋮ & ⋮ & ⋮ & ⋮ & ⋮ & ⋮ & ⋮\\\\\n",
       "\t1060 & 2010 & -2.252 &  0.158 & -4.226 &  2.232 & -6.388 & 5.368597 &  2.509 & Up  \\\\\n",
       "\t1061 & 2010 &  2.509 & -2.252 &  0.158 & -4.226 &  2.232 & 5.369514 &  2.374 & Up  \\\\\n",
       "\t1062 & 2010 &  2.374 &  2.509 & -2.252 &  0.158 & -4.226 & 4.637208 & -3.646 & Down\\\\\n",
       "\t1063 & 2010 & -3.646 &  2.374 &  2.509 & -2.252 &  0.158 & 4.699712 & -5.032 & Down\\\\\n",
       "\t1064 & 2010 & -5.032 & -3.646 &  2.374 &  2.509 & -2.252 & 5.100892 &  5.416 & Up  \\\\\n",
       "\t1065 & 2010 &  5.416 & -5.032 & -3.646 &  2.374 &  2.509 & 4.419372 & -1.213 & Down\\\\\n",
       "\t1066 & 2010 & -1.213 &  5.416 & -5.032 & -3.646 &  2.374 & 4.487664 &  3.548 & Up  \\\\\n",
       "\t1067 & 2010 &  3.548 & -1.213 &  5.416 & -5.032 & -3.646 & 4.580286 & -0.096 & Down\\\\\n",
       "\t1068 & 2010 & -0.096 &  3.548 & -1.213 &  5.416 & -5.032 & 4.271320 &  1.819 & Up  \\\\\n",
       "\t1069 & 2010 &  1.819 & -0.096 &  3.548 & -1.213 &  5.416 & 3.963460 & -3.779 & Down\\\\\n",
       "\t1070 & 2010 & -3.779 &  1.819 & -0.096 &  3.548 & -1.213 & 3.906558 & -0.700 & Down\\\\\n",
       "\t1071 & 2010 & -0.700 & -3.779 &  1.819 & -0.096 &  3.548 & 3.777406 & -0.663 & Down\\\\\n",
       "\t1072 & 2010 & -0.663 & -0.700 & -3.779 &  1.819 & -0.096 & 3.951328 &  3.750 & Up  \\\\\n",
       "\t1073 & 2010 &  3.750 & -0.663 & -0.700 & -3.779 &  1.819 & 3.718470 &  0.456 & Up  \\\\\n",
       "\t1074 & 2010 &  0.456 &  3.750 & -0.663 & -0.700 & -3.779 & 3.195238 &  1.446 & Up  \\\\\n",
       "\t1075 & 2010 &  1.446 &  0.456 &  3.750 & -0.663 & -0.700 & 3.972432 &  2.050 & Up  \\\\\n",
       "\t1076 & 2010 &  2.050 &  1.446 &  0.456 &  3.750 & -0.663 & 3.884522 & -0.212 & Down\\\\\n",
       "\t1077 & 2010 & -0.212 &  2.050 &  1.446 &  0.456 &  3.750 & 4.037410 &  1.650 & Up  \\\\\n",
       "\t1078 & 2010 &  1.650 & -0.212 &  2.050 &  1.446 &  0.456 & 3.905616 &  0.948 & Up  \\\\\n",
       "\t1079 & 2010 &  0.948 &  1.650 & -0.212 &  2.050 &  1.446 & 4.449160 &  0.586 & Up  \\\\\n",
       "\t1080 & 2010 &  0.586 &  0.948 &  1.650 & -0.212 &  2.050 & 4.576282 &  0.015 & Up  \\\\\n",
       "\t1081 & 2010 &  0.015 &  0.586 &  0.948 &  1.650 & -0.212 & 4.116414 &  3.599 & Up  \\\\\n",
       "\t1082 & 2010 &  3.599 &  0.015 &  0.586 &  0.948 &  1.650 & 4.798758 & -2.173 & Down\\\\\n",
       "\t1083 & 2010 & -2.173 &  3.599 &  0.015 &  0.586 &  0.948 & 4.298262 &  0.043 & Up  \\\\\n",
       "\t1084 & 2010 &  0.043 & -2.173 &  3.599 &  0.015 &  0.586 & 4.177436 & -0.861 & Down\\\\\n",
       "\t1085 & 2010 & -0.861 &  0.043 & -2.173 &  3.599 &  0.015 & 3.205160 &  2.969 & Up  \\\\\n",
       "\t1086 & 2010 &  2.969 & -0.861 &  0.043 & -2.173 &  3.599 & 4.242568 &  1.281 & Up  \\\\\n",
       "\t1087 & 2010 &  1.281 &  2.969 & -0.861 &  0.043 & -2.173 & 4.835082 &  0.283 & Up  \\\\\n",
       "\t1088 & 2010 &  0.283 &  1.281 &  2.969 & -0.861 &  0.043 & 4.454044 &  1.034 & Up  \\\\\n",
       "\t1089 & 2010 &  1.034 &  0.283 &  1.281 &  2.969 & -0.861 & 2.707105 &  0.069 & Up  \\\\\n",
       "\\end{tabular}\n"
      ],
      "text/markdown": [
       "\n",
       "A data.frame: 1089 × 9\n",
       "\n",
       "| <!--/--> | Year &lt;dbl&gt; | Lag1 &lt;dbl&gt; | Lag2 &lt;dbl&gt; | Lag3 &lt;dbl&gt; | Lag4 &lt;dbl&gt; | Lag5 &lt;dbl&gt; | Volume &lt;dbl&gt; | Today &lt;dbl&gt; | Direction &lt;fct&gt; |\n",
       "|---|---|---|---|---|---|---|---|---|---|\n",
       "| 1 | 1990 |  0.816 |  1.572 | -3.936 | -0.229 | -3.484 | 0.1549760 | -0.270 | Down |\n",
       "| 2 | 1990 | -0.270 |  0.816 |  1.572 | -3.936 | -0.229 | 0.1485740 | -2.576 | Down |\n",
       "| 3 | 1990 | -2.576 | -0.270 |  0.816 |  1.572 | -3.936 | 0.1598375 |  3.514 | Up   |\n",
       "| 4 | 1990 |  3.514 | -2.576 | -0.270 |  0.816 |  1.572 | 0.1616300 |  0.712 | Up   |\n",
       "| 5 | 1990 |  0.712 |  3.514 | -2.576 | -0.270 |  0.816 | 0.1537280 |  1.178 | Up   |\n",
       "| 6 | 1990 |  1.178 |  0.712 |  3.514 | -2.576 | -0.270 | 0.1544440 | -1.372 | Down |\n",
       "| 7 | 1990 | -1.372 |  1.178 |  0.712 |  3.514 | -2.576 | 0.1517220 |  0.807 | Up   |\n",
       "| 8 | 1990 |  0.807 | -1.372 |  1.178 |  0.712 |  3.514 | 0.1323100 |  0.041 | Up   |\n",
       "| 9 | 1990 |  0.041 |  0.807 | -1.372 |  1.178 |  0.712 | 0.1439720 |  1.253 | Up   |\n",
       "| 10 | 1990 |  1.253 |  0.041 |  0.807 | -1.372 |  1.178 | 0.1336350 | -2.678 | Down |\n",
       "| 11 | 1990 | -2.678 |  1.253 |  0.041 |  0.807 | -1.372 | 0.1490240 | -1.793 | Down |\n",
       "| 12 | 1990 | -1.793 | -2.678 |  1.253 |  0.041 |  0.807 | 0.1357900 |  2.820 | Up   |\n",
       "| 13 | 1990 |  2.820 | -1.793 | -2.678 |  1.253 |  0.041 | 0.1398980 |  4.022 | Up   |\n",
       "| 14 | 1990 |  4.022 |  2.820 | -1.793 | -2.678 |  1.253 | 0.1643420 |  0.750 | Up   |\n",
       "| 15 | 1990 |  0.750 |  4.022 |  2.820 | -1.793 | -2.678 | 0.1756480 | -0.017 | Down |\n",
       "| 16 | 1990 | -0.017 |  0.750 |  4.022 |  2.820 | -1.793 | 0.1634700 |  2.420 | Up   |\n",
       "| 17 | 1990 |  2.420 | -0.017 |  0.750 |  4.022 |  2.820 | 0.1726250 | -1.225 | Down |\n",
       "| 18 | 1990 | -1.225 |  2.420 | -0.017 |  0.750 |  4.022 | 0.1684460 |  1.171 | Up   |\n",
       "| 19 | 1990 |  1.171 | -1.225 |  2.420 | -0.017 |  0.750 | 0.1552920 | -2.061 | Down |\n",
       "| 20 | 1990 | -2.061 |  1.171 | -1.225 |  2.420 | -0.017 | 0.1433920 |  0.729 | Up   |\n",
       "| 21 | 1990 |  0.729 | -2.061 |  1.171 | -1.225 |  2.420 | 0.1405540 |  0.112 | Up   |\n",
       "| 22 | 1990 |  0.112 |  0.729 | -2.061 |  1.171 | -1.225 | 0.1250750 |  2.480 | Up   |\n",
       "| 23 | 1990 |  2.480 |  0.112 |  0.729 | -2.061 |  1.171 | 0.1716040 | -1.552 | Down |\n",
       "| 24 | 1990 | -1.552 |  2.480 |  0.112 |  0.729 | -2.061 | 0.1669560 | -2.259 | Down |\n",
       "| 25 | 1990 | -2.259 | -1.552 |  2.480 |  0.112 |  0.729 | 0.1717180 | -2.428 | Down |\n",
       "| 26 | 1990 | -2.428 | -2.259 | -1.552 |  2.480 |  0.112 | 0.2098160 | -2.708 | Down |\n",
       "| 27 | 1990 | -2.708 | -2.428 | -2.259 | -1.552 |  2.480 | 0.1927060 | -2.292 | Down |\n",
       "| 28 | 1990 | -2.292 | -2.708 | -2.428 | -2.259 | -1.552 | 0.1482520 | -4.978 | Down |\n",
       "| 29 | 1990 | -4.978 | -2.292 | -2.708 | -2.428 | -2.259 | 0.1898580 |  3.547 | Up   |\n",
       "| 30 | 1990 |  3.547 | -4.978 | -2.292 | -2.708 | -2.428 | 0.1278840 |  0.260 | Up   |\n",
       "| ⋮ | ⋮ | ⋮ | ⋮ | ⋮ | ⋮ | ⋮ | ⋮ | ⋮ | ⋮ |\n",
       "| 1060 | 2010 | -2.252 |  0.158 | -4.226 |  2.232 | -6.388 | 5.368597 |  2.509 | Up   |\n",
       "| 1061 | 2010 |  2.509 | -2.252 |  0.158 | -4.226 |  2.232 | 5.369514 |  2.374 | Up   |\n",
       "| 1062 | 2010 |  2.374 |  2.509 | -2.252 |  0.158 | -4.226 | 4.637208 | -3.646 | Down |\n",
       "| 1063 | 2010 | -3.646 |  2.374 |  2.509 | -2.252 |  0.158 | 4.699712 | -5.032 | Down |\n",
       "| 1064 | 2010 | -5.032 | -3.646 |  2.374 |  2.509 | -2.252 | 5.100892 |  5.416 | Up   |\n",
       "| 1065 | 2010 |  5.416 | -5.032 | -3.646 |  2.374 |  2.509 | 4.419372 | -1.213 | Down |\n",
       "| 1066 | 2010 | -1.213 |  5.416 | -5.032 | -3.646 |  2.374 | 4.487664 |  3.548 | Up   |\n",
       "| 1067 | 2010 |  3.548 | -1.213 |  5.416 | -5.032 | -3.646 | 4.580286 | -0.096 | Down |\n",
       "| 1068 | 2010 | -0.096 |  3.548 | -1.213 |  5.416 | -5.032 | 4.271320 |  1.819 | Up   |\n",
       "| 1069 | 2010 |  1.819 | -0.096 |  3.548 | -1.213 |  5.416 | 3.963460 | -3.779 | Down |\n",
       "| 1070 | 2010 | -3.779 |  1.819 | -0.096 |  3.548 | -1.213 | 3.906558 | -0.700 | Down |\n",
       "| 1071 | 2010 | -0.700 | -3.779 |  1.819 | -0.096 |  3.548 | 3.777406 | -0.663 | Down |\n",
       "| 1072 | 2010 | -0.663 | -0.700 | -3.779 |  1.819 | -0.096 | 3.951328 |  3.750 | Up   |\n",
       "| 1073 | 2010 |  3.750 | -0.663 | -0.700 | -3.779 |  1.819 | 3.718470 |  0.456 | Up   |\n",
       "| 1074 | 2010 |  0.456 |  3.750 | -0.663 | -0.700 | -3.779 | 3.195238 |  1.446 | Up   |\n",
       "| 1075 | 2010 |  1.446 |  0.456 |  3.750 | -0.663 | -0.700 | 3.972432 |  2.050 | Up   |\n",
       "| 1076 | 2010 |  2.050 |  1.446 |  0.456 |  3.750 | -0.663 | 3.884522 | -0.212 | Down |\n",
       "| 1077 | 2010 | -0.212 |  2.050 |  1.446 |  0.456 |  3.750 | 4.037410 |  1.650 | Up   |\n",
       "| 1078 | 2010 |  1.650 | -0.212 |  2.050 |  1.446 |  0.456 | 3.905616 |  0.948 | Up   |\n",
       "| 1079 | 2010 |  0.948 |  1.650 | -0.212 |  2.050 |  1.446 | 4.449160 |  0.586 | Up   |\n",
       "| 1080 | 2010 |  0.586 |  0.948 |  1.650 | -0.212 |  2.050 | 4.576282 |  0.015 | Up   |\n",
       "| 1081 | 2010 |  0.015 |  0.586 |  0.948 |  1.650 | -0.212 | 4.116414 |  3.599 | Up   |\n",
       "| 1082 | 2010 |  3.599 |  0.015 |  0.586 |  0.948 |  1.650 | 4.798758 | -2.173 | Down |\n",
       "| 1083 | 2010 | -2.173 |  3.599 |  0.015 |  0.586 |  0.948 | 4.298262 |  0.043 | Up   |\n",
       "| 1084 | 2010 |  0.043 | -2.173 |  3.599 |  0.015 |  0.586 | 4.177436 | -0.861 | Down |\n",
       "| 1085 | 2010 | -0.861 |  0.043 | -2.173 |  3.599 |  0.015 | 3.205160 |  2.969 | Up   |\n",
       "| 1086 | 2010 |  2.969 | -0.861 |  0.043 | -2.173 |  3.599 | 4.242568 |  1.281 | Up   |\n",
       "| 1087 | 2010 |  1.281 |  2.969 | -0.861 |  0.043 | -2.173 | 4.835082 |  0.283 | Up   |\n",
       "| 1088 | 2010 |  0.283 |  1.281 |  2.969 | -0.861 |  0.043 | 4.454044 |  1.034 | Up   |\n",
       "| 1089 | 2010 |  1.034 |  0.283 |  1.281 |  2.969 | -0.861 | 2.707105 |  0.069 | Up   |\n",
       "\n"
      ],
      "text/plain": [
       "     Year Lag1   Lag2   Lag3   Lag4   Lag5   Volume    Today  Direction\n",
       "1    1990  0.816  1.572 -3.936 -0.229 -3.484 0.1549760 -0.270 Down     \n",
       "2    1990 -0.270  0.816  1.572 -3.936 -0.229 0.1485740 -2.576 Down     \n",
       "3    1990 -2.576 -0.270  0.816  1.572 -3.936 0.1598375  3.514 Up       \n",
       "4    1990  3.514 -2.576 -0.270  0.816  1.572 0.1616300  0.712 Up       \n",
       "5    1990  0.712  3.514 -2.576 -0.270  0.816 0.1537280  1.178 Up       \n",
       "6    1990  1.178  0.712  3.514 -2.576 -0.270 0.1544440 -1.372 Down     \n",
       "7    1990 -1.372  1.178  0.712  3.514 -2.576 0.1517220  0.807 Up       \n",
       "8    1990  0.807 -1.372  1.178  0.712  3.514 0.1323100  0.041 Up       \n",
       "9    1990  0.041  0.807 -1.372  1.178  0.712 0.1439720  1.253 Up       \n",
       "10   1990  1.253  0.041  0.807 -1.372  1.178 0.1336350 -2.678 Down     \n",
       "11   1990 -2.678  1.253  0.041  0.807 -1.372 0.1490240 -1.793 Down     \n",
       "12   1990 -1.793 -2.678  1.253  0.041  0.807 0.1357900  2.820 Up       \n",
       "13   1990  2.820 -1.793 -2.678  1.253  0.041 0.1398980  4.022 Up       \n",
       "14   1990  4.022  2.820 -1.793 -2.678  1.253 0.1643420  0.750 Up       \n",
       "15   1990  0.750  4.022  2.820 -1.793 -2.678 0.1756480 -0.017 Down     \n",
       "16   1990 -0.017  0.750  4.022  2.820 -1.793 0.1634700  2.420 Up       \n",
       "17   1990  2.420 -0.017  0.750  4.022  2.820 0.1726250 -1.225 Down     \n",
       "18   1990 -1.225  2.420 -0.017  0.750  4.022 0.1684460  1.171 Up       \n",
       "19   1990  1.171 -1.225  2.420 -0.017  0.750 0.1552920 -2.061 Down     \n",
       "20   1990 -2.061  1.171 -1.225  2.420 -0.017 0.1433920  0.729 Up       \n",
       "21   1990  0.729 -2.061  1.171 -1.225  2.420 0.1405540  0.112 Up       \n",
       "22   1990  0.112  0.729 -2.061  1.171 -1.225 0.1250750  2.480 Up       \n",
       "23   1990  2.480  0.112  0.729 -2.061  1.171 0.1716040 -1.552 Down     \n",
       "24   1990 -1.552  2.480  0.112  0.729 -2.061 0.1669560 -2.259 Down     \n",
       "25   1990 -2.259 -1.552  2.480  0.112  0.729 0.1717180 -2.428 Down     \n",
       "26   1990 -2.428 -2.259 -1.552  2.480  0.112 0.2098160 -2.708 Down     \n",
       "27   1990 -2.708 -2.428 -2.259 -1.552  2.480 0.1927060 -2.292 Down     \n",
       "28   1990 -2.292 -2.708 -2.428 -2.259 -1.552 0.1482520 -4.978 Down     \n",
       "29   1990 -4.978 -2.292 -2.708 -2.428 -2.259 0.1898580  3.547 Up       \n",
       "30   1990  3.547 -4.978 -2.292 -2.708 -2.428 0.1278840  0.260 Up       \n",
       "<U+22EE>    <U+22EE> <U+22EE> <U+22EE> <U+22EE> <U+22EE> <U+22EE> <U+22EE>  <U+22EE> <U+22EE> \n",
       "1060 2010 -2.252  0.158 -4.226  2.232 -6.388 5.368597   2.509 Up       \n",
       "1061 2010  2.509 -2.252  0.158 -4.226  2.232 5.369514   2.374 Up       \n",
       "1062 2010  2.374  2.509 -2.252  0.158 -4.226 4.637208  -3.646 Down     \n",
       "1063 2010 -3.646  2.374  2.509 -2.252  0.158 4.699712  -5.032 Down     \n",
       "1064 2010 -5.032 -3.646  2.374  2.509 -2.252 5.100892   5.416 Up       \n",
       "1065 2010  5.416 -5.032 -3.646  2.374  2.509 4.419372  -1.213 Down     \n",
       "1066 2010 -1.213  5.416 -5.032 -3.646  2.374 4.487664   3.548 Up       \n",
       "1067 2010  3.548 -1.213  5.416 -5.032 -3.646 4.580286  -0.096 Down     \n",
       "1068 2010 -0.096  3.548 -1.213  5.416 -5.032 4.271320   1.819 Up       \n",
       "1069 2010  1.819 -0.096  3.548 -1.213  5.416 3.963460  -3.779 Down     \n",
       "1070 2010 -3.779  1.819 -0.096  3.548 -1.213 3.906558  -0.700 Down     \n",
       "1071 2010 -0.700 -3.779  1.819 -0.096  3.548 3.777406  -0.663 Down     \n",
       "1072 2010 -0.663 -0.700 -3.779  1.819 -0.096 3.951328   3.750 Up       \n",
       "1073 2010  3.750 -0.663 -0.700 -3.779  1.819 3.718470   0.456 Up       \n",
       "1074 2010  0.456  3.750 -0.663 -0.700 -3.779 3.195238   1.446 Up       \n",
       "1075 2010  1.446  0.456  3.750 -0.663 -0.700 3.972432   2.050 Up       \n",
       "1076 2010  2.050  1.446  0.456  3.750 -0.663 3.884522  -0.212 Down     \n",
       "1077 2010 -0.212  2.050  1.446  0.456  3.750 4.037410   1.650 Up       \n",
       "1078 2010  1.650 -0.212  2.050  1.446  0.456 3.905616   0.948 Up       \n",
       "1079 2010  0.948  1.650 -0.212  2.050  1.446 4.449160   0.586 Up       \n",
       "1080 2010  0.586  0.948  1.650 -0.212  2.050 4.576282   0.015 Up       \n",
       "1081 2010  0.015  0.586  0.948  1.650 -0.212 4.116414   3.599 Up       \n",
       "1082 2010  3.599  0.015  0.586  0.948  1.650 4.798758  -2.173 Down     \n",
       "1083 2010 -2.173  3.599  0.015  0.586  0.948 4.298262   0.043 Up       \n",
       "1084 2010  0.043 -2.173  3.599  0.015  0.586 4.177436  -0.861 Down     \n",
       "1085 2010 -0.861  0.043 -2.173  3.599  0.015 3.205160   2.969 Up       \n",
       "1086 2010  2.969 -0.861  0.043 -2.173  3.599 4.242568   1.281 Up       \n",
       "1087 2010  1.281  2.969 -0.861  0.043 -2.173 4.835082   0.283 Up       \n",
       "1088 2010  0.283  1.281  2.969 -0.861  0.043 4.454044   1.034 Up       \n",
       "1089 2010  1.034  0.283  1.281  2.969 -0.861 2.707105   0.069 Up       "
      ]
     },
     "metadata": {},
     "output_type": "display_data"
    }
   ],
   "source": [
    "data(Weekly)\n",
    "View(Weekly)"
   ]
  },
  {
   "cell_type": "markdown",
   "id": "21a5cb08",
   "metadata": {},
   "source": [
    "# B\n",
    "Use the full data set to perform a logistic regression with Direction as the response and the five lag variables plus Volume\n",
    "as predictors. Use the summary function to print the results. Do any of the predictors appear to be statistically significant? If so, which ones?"
   ]
  },
  {
   "cell_type": "code",
   "execution_count": 7,
   "id": "356ef3b9",
   "metadata": {},
   "outputs": [
    {
     "data": {
      "text/plain": [
       "\n",
       "Call:\n",
       "glm(formula = Direction ~ Lag1 + Lag2 + Lag3 + Lag4 + Lag5 + \n",
       "    Volume, family = binomial, data = Weekly)\n",
       "\n",
       "Deviance Residuals: \n",
       "    Min       1Q   Median       3Q      Max  \n",
       "-1.6949  -1.2565   0.9913   1.0849   1.4579  \n",
       "\n",
       "Coefficients:\n",
       "            Estimate Std. Error z value Pr(>|z|)   \n",
       "(Intercept)  0.26686    0.08593   3.106   0.0019 **\n",
       "Lag1        -0.04127    0.02641  -1.563   0.1181   \n",
       "Lag2         0.05844    0.02686   2.175   0.0296 * \n",
       "Lag3        -0.01606    0.02666  -0.602   0.5469   \n",
       "Lag4        -0.02779    0.02646  -1.050   0.2937   \n",
       "Lag5        -0.01447    0.02638  -0.549   0.5833   \n",
       "Volume      -0.02274    0.03690  -0.616   0.5377   \n",
       "---\n",
       "Signif. codes:  0 '***' 0.001 '**' 0.01 '*' 0.05 '.' 0.1 ' ' 1\n",
       "\n",
       "(Dispersion parameter for binomial family taken to be 1)\n",
       "\n",
       "    Null deviance: 1496.2  on 1088  degrees of freedom\n",
       "Residual deviance: 1486.4  on 1082  degrees of freedom\n",
       "AIC: 1500.4\n",
       "\n",
       "Number of Fisher Scoring iterations: 4\n"
      ]
     },
     "metadata": {},
     "output_type": "display_data"
    }
   ],
   "source": [
    "attach(Weekly)\n",
    "glm.fit = glm(Direction~Lag1+Lag2+Lag3+Lag4+Lag5+Volume,data=Weekly,family=binomial)\n",
    "summary(glm.fit)\n",
    "# Aparenlty the Leg2 is the predictor to consider."
   ]
  },
  {
   "cell_type": "markdown",
   "id": "adb42cc3",
   "metadata": {},
   "source": [
    "# C\n",
    "Compute the confusion matrix and overall fraction of correct predictions. Explain what the confusion matrix is telling you\n",
    "about the types of mistakes made by logistic regression."
   ]
  },
  {
   "cell_type": "code",
   "execution_count": 8,
   "id": "1ad5b122",
   "metadata": {},
   "outputs": [
    {
     "data": {
      "text/plain": [
       "        Direction\n",
       "glm.pred Down  Up\n",
       "    Down   54  48\n",
       "    Up    430 557"
      ]
     },
     "metadata": {},
     "output_type": "display_data"
    }
   ],
   "source": [
    "glm.probs = predict(glm.fit, type=\"response\")\n",
    "glm.pred = rep(\"Down\", length(glm.probs))\n",
    "glm.pred[glm.probs>.5] = \"Up\"\n",
    "table(glm.pred, Direction)"
   ]
  },
  {
   "cell_type": "markdown",
   "id": "785ffd3d",
   "metadata": {},
   "source": [
    "Pred: 611/1089 = 0.56"
   ]
  },
  {
   "cell_type": "markdown",
   "id": "bf49d8f5",
   "metadata": {},
   "source": [
    "# D\n",
    "Now fit the logistic regression model using a training data period from 1990 to 2008, with Lag2 as the only predictor. Compute the confusion matrix and the overall fraction of correct predictions for the held out data (that is, the data from 2009 and 2010)."
   ]
  },
  {
   "cell_type": "code",
   "execution_count": 16,
   "id": "1071cb56",
   "metadata": {},
   "outputs": [
    {
     "data": {
      "text/plain": [
       "        Direction.1\n",
       "glm.pred Down Up\n",
       "    Down    7  5\n",
       "    Up     65 79"
      ]
     },
     "metadata": {},
     "output_type": "display_data"
    },
    {
     "data": {
      "text/html": [
       "0.551282051282051"
      ],
      "text/latex": [
       "0.551282051282051"
      ],
      "text/markdown": [
       "0.551282051282051"
      ],
      "text/plain": [
       "[1] 0.5512821"
      ]
     },
     "metadata": {},
     "output_type": "display_data"
    }
   ],
   "source": [
    "Train = (Year < 2008)\n",
    "Weekly.1= Weekly[!train,]\n",
    "\n",
    "# Fitting Logistic Regression\n",
    "\n",
    "glm.fit = glm(Direction~Lag2, data=Weekly, family=binomial, subset=Train)\n",
    "\n",
    "# Confusion matrix\n",
    "\n",
    "glm.probs = predict(glm.fit, Weekly.1,type=\"response\")\n",
    "glm.pred = rep(\"Down\", length(glm.probs))\n",
    "glm.pred[glm.probs>.5] = \"Up\"\n",
    "Direction.1 = Direction[!train]\n",
    "table(glm.pred, Direction.1)\n",
    "mean(glm.pred == Direction.1)"
   ]
  },
  {
   "cell_type": "markdown",
   "id": "5387955e",
   "metadata": {},
   "source": [
    "# E\n",
    "Repeat (d) using LDA."
   ]
  },
  {
   "cell_type": "code",
   "execution_count": 18,
   "id": "7a995f8f",
   "metadata": {},
   "outputs": [
    {
     "data": {
      "text/plain": [
       "      Direction.1\n",
       "       Down Up\n",
       "  Down    6  5\n",
       "  Up     66 79"
      ]
     },
     "metadata": {},
     "output_type": "display_data"
    },
    {
     "data": {
      "text/html": [
       "0.544871794871795"
      ],
      "text/latex": [
       "0.544871794871795"
      ],
      "text/markdown": [
       "0.544871794871795"
      ],
      "text/plain": [
       "[1] 0.5448718"
      ]
     },
     "metadata": {},
     "output_type": "display_data"
    }
   ],
   "source": [
    "# Fitting LDA\n",
    "\n",
    "lda.fit = lda(Direction ~ Lag2, data=Weekly, subset=Train)\n",
    "\n",
    "# Confusion matrix\n",
    "\n",
    "lda.pred = predict(lda.fit, Weekly.1)\n",
    "table(lda.pred$class, Direction.1)\n",
    "mean(lda.pred$class == Direction.1)"
   ]
  },
  {
   "cell_type": "markdown",
   "id": "2a714c73",
   "metadata": {},
   "source": [
    "# F\n",
    "Repeat (d) using QDA."
   ]
  },
  {
   "cell_type": "code",
   "execution_count": 19,
   "id": "caf82deb",
   "metadata": {},
   "outputs": [
    {
     "data": {
      "text/plain": [
       "         Direction.1\n",
       "qda.class Down Up\n",
       "     Down    0  0\n",
       "     Up     72 84"
      ]
     },
     "metadata": {},
     "output_type": "display_data"
    },
    {
     "data": {
      "text/html": [
       "0.538461538461538"
      ],
      "text/latex": [
       "0.538461538461538"
      ],
      "text/markdown": [
       "0.538461538461538"
      ],
      "text/plain": [
       "[1] 0.5384615"
      ]
     },
     "metadata": {},
     "output_type": "display_data"
    }
   ],
   "source": [
    "# Fitting QDA\n",
    "\n",
    "qda.fit = qda(Direction~Lag2, data=Weekly, subset=Train)\n",
    "\n",
    "# Confusion matrix\n",
    "\n",
    "qda.class = predict(qda.fit, Weekly.1)$class\n",
    "table(qda.class, Direction.1)\n",
    "mean(qda.class == Direction.1)"
   ]
  },
  {
   "cell_type": "markdown",
   "id": "7b963e4c",
   "metadata": {},
   "source": [
    "# G\n",
    "Repeat (d) using KNN with K = 1."
   ]
  },
  {
   "cell_type": "code",
   "execution_count": 21,
   "id": "69e4098e",
   "metadata": {},
   "outputs": [
    {
     "data": {
      "text/plain": [
       "        Direction.1\n",
       "knn.pred Down Up\n",
       "    Down   32 38\n",
       "    Up     40 46"
      ]
     },
     "metadata": {},
     "output_type": "display_data"
    },
    {
     "data": {
      "text/html": [
       "0.5"
      ],
      "text/latex": [
       "0.5"
      ],
      "text/markdown": [
       "0.5"
      ],
      "text/plain": [
       "[1] 0.5"
      ]
     },
     "metadata": {},
     "output_type": "display_data"
    }
   ],
   "source": [
    "train.X = as.matrix(Lag2[Train])\n",
    "test.X = as.matrix(Lag2[!Train])\n",
    "train.Direction = Direction[Train]\n",
    "set.seed(1)\n",
    "knn.pred = knn(train.X, test.X, train.Direction, k=1)\n",
    "table(knn.pred, Direction.1)\n",
    "mean(knn.pred == Direction.1)"
   ]
  },
  {
   "cell_type": "markdown",
   "id": "80c7cb93",
   "metadata": {},
   "source": [
    "# H\n",
    "Which of these methods appears to provide the best results on this data?"
   ]
  },
  {
   "cell_type": "markdown",
   "id": "c38822c3",
   "metadata": {},
   "source": [
    "Logistic Regression:  0.551282051282051"
   ]
  },
  {
   "cell_type": "markdown",
   "id": "24dd2234",
   "metadata": {},
   "source": [
    "# Exercise 11\n",
    "In this problem, you will develop a model to predict whether a given car gets high or low gas mileage based on the Auto data set"
   ]
  },
  {
   "cell_type": "code",
   "execution_count": 22,
   "id": "fa431c2d",
   "metadata": {},
   "outputs": [
    {
     "data": {
      "text/html": [
       "<table class=\"dataframe\">\n",
       "<caption>A data.frame: 392 × 9</caption>\n",
       "<thead>\n",
       "\t<tr><th></th><th scope=col>mpg</th><th scope=col>cylinders</th><th scope=col>displacement</th><th scope=col>horsepower</th><th scope=col>weight</th><th scope=col>acceleration</th><th scope=col>year</th><th scope=col>origin</th><th scope=col>name</th></tr>\n",
       "\t<tr><th></th><th scope=col>&lt;dbl&gt;</th><th scope=col>&lt;dbl&gt;</th><th scope=col>&lt;dbl&gt;</th><th scope=col>&lt;dbl&gt;</th><th scope=col>&lt;dbl&gt;</th><th scope=col>&lt;dbl&gt;</th><th scope=col>&lt;dbl&gt;</th><th scope=col>&lt;dbl&gt;</th><th scope=col>&lt;fct&gt;</th></tr>\n",
       "</thead>\n",
       "<tbody>\n",
       "\t<tr><th scope=row>1</th><td>18</td><td>8</td><td>307</td><td>130</td><td>3504</td><td>12.0</td><td>70</td><td>1</td><td>chevrolet chevelle malibu   </td></tr>\n",
       "\t<tr><th scope=row>2</th><td>15</td><td>8</td><td>350</td><td>165</td><td>3693</td><td>11.5</td><td>70</td><td>1</td><td>buick skylark 320           </td></tr>\n",
       "\t<tr><th scope=row>3</th><td>18</td><td>8</td><td>318</td><td>150</td><td>3436</td><td>11.0</td><td>70</td><td>1</td><td>plymouth satellite          </td></tr>\n",
       "\t<tr><th scope=row>4</th><td>16</td><td>8</td><td>304</td><td>150</td><td>3433</td><td>12.0</td><td>70</td><td>1</td><td>amc rebel sst               </td></tr>\n",
       "\t<tr><th scope=row>5</th><td>17</td><td>8</td><td>302</td><td>140</td><td>3449</td><td>10.5</td><td>70</td><td>1</td><td>ford torino                 </td></tr>\n",
       "\t<tr><th scope=row>6</th><td>15</td><td>8</td><td>429</td><td>198</td><td>4341</td><td>10.0</td><td>70</td><td>1</td><td>ford galaxie 500            </td></tr>\n",
       "\t<tr><th scope=row>7</th><td>14</td><td>8</td><td>454</td><td>220</td><td>4354</td><td> 9.0</td><td>70</td><td>1</td><td>chevrolet impala            </td></tr>\n",
       "\t<tr><th scope=row>8</th><td>14</td><td>8</td><td>440</td><td>215</td><td>4312</td><td> 8.5</td><td>70</td><td>1</td><td>plymouth fury iii           </td></tr>\n",
       "\t<tr><th scope=row>9</th><td>14</td><td>8</td><td>455</td><td>225</td><td>4425</td><td>10.0</td><td>70</td><td>1</td><td>pontiac catalina            </td></tr>\n",
       "\t<tr><th scope=row>10</th><td>15</td><td>8</td><td>390</td><td>190</td><td>3850</td><td> 8.5</td><td>70</td><td>1</td><td>amc ambassador dpl          </td></tr>\n",
       "\t<tr><th scope=row>11</th><td>15</td><td>8</td><td>383</td><td>170</td><td>3563</td><td>10.0</td><td>70</td><td>1</td><td>dodge challenger se         </td></tr>\n",
       "\t<tr><th scope=row>12</th><td>14</td><td>8</td><td>340</td><td>160</td><td>3609</td><td> 8.0</td><td>70</td><td>1</td><td>plymouth 'cuda 340          </td></tr>\n",
       "\t<tr><th scope=row>13</th><td>15</td><td>8</td><td>400</td><td>150</td><td>3761</td><td> 9.5</td><td>70</td><td>1</td><td>chevrolet monte carlo       </td></tr>\n",
       "\t<tr><th scope=row>14</th><td>14</td><td>8</td><td>455</td><td>225</td><td>3086</td><td>10.0</td><td>70</td><td>1</td><td>buick estate wagon (sw)     </td></tr>\n",
       "\t<tr><th scope=row>15</th><td>24</td><td>4</td><td>113</td><td> 95</td><td>2372</td><td>15.0</td><td>70</td><td>3</td><td>toyota corona mark ii       </td></tr>\n",
       "\t<tr><th scope=row>16</th><td>22</td><td>6</td><td>198</td><td> 95</td><td>2833</td><td>15.5</td><td>70</td><td>1</td><td>plymouth duster             </td></tr>\n",
       "\t<tr><th scope=row>17</th><td>18</td><td>6</td><td>199</td><td> 97</td><td>2774</td><td>15.5</td><td>70</td><td>1</td><td>amc hornet                  </td></tr>\n",
       "\t<tr><th scope=row>18</th><td>21</td><td>6</td><td>200</td><td> 85</td><td>2587</td><td>16.0</td><td>70</td><td>1</td><td>ford maverick               </td></tr>\n",
       "\t<tr><th scope=row>19</th><td>27</td><td>4</td><td> 97</td><td> 88</td><td>2130</td><td>14.5</td><td>70</td><td>3</td><td>datsun pl510                </td></tr>\n",
       "\t<tr><th scope=row>20</th><td>26</td><td>4</td><td> 97</td><td> 46</td><td>1835</td><td>20.5</td><td>70</td><td>2</td><td>volkswagen 1131 deluxe sedan</td></tr>\n",
       "\t<tr><th scope=row>21</th><td>25</td><td>4</td><td>110</td><td> 87</td><td>2672</td><td>17.5</td><td>70</td><td>2</td><td>peugeot 504                 </td></tr>\n",
       "\t<tr><th scope=row>22</th><td>24</td><td>4</td><td>107</td><td> 90</td><td>2430</td><td>14.5</td><td>70</td><td>2</td><td>audi 100 ls                 </td></tr>\n",
       "\t<tr><th scope=row>23</th><td>25</td><td>4</td><td>104</td><td> 95</td><td>2375</td><td>17.5</td><td>70</td><td>2</td><td>saab 99e                    </td></tr>\n",
       "\t<tr><th scope=row>24</th><td>26</td><td>4</td><td>121</td><td>113</td><td>2234</td><td>12.5</td><td>70</td><td>2</td><td>bmw 2002                    </td></tr>\n",
       "\t<tr><th scope=row>25</th><td>21</td><td>6</td><td>199</td><td> 90</td><td>2648</td><td>15.0</td><td>70</td><td>1</td><td>amc gremlin                 </td></tr>\n",
       "\t<tr><th scope=row>26</th><td>10</td><td>8</td><td>360</td><td>215</td><td>4615</td><td>14.0</td><td>70</td><td>1</td><td>ford f250                   </td></tr>\n",
       "\t<tr><th scope=row>27</th><td>10</td><td>8</td><td>307</td><td>200</td><td>4376</td><td>15.0</td><td>70</td><td>1</td><td>chevy c20                   </td></tr>\n",
       "\t<tr><th scope=row>28</th><td>11</td><td>8</td><td>318</td><td>210</td><td>4382</td><td>13.5</td><td>70</td><td>1</td><td>dodge d200                  </td></tr>\n",
       "\t<tr><th scope=row>29</th><td> 9</td><td>8</td><td>304</td><td>193</td><td>4732</td><td>18.5</td><td>70</td><td>1</td><td>hi 1200d                    </td></tr>\n",
       "\t<tr><th scope=row>30</th><td>27</td><td>4</td><td> 97</td><td> 88</td><td>2130</td><td>14.5</td><td>71</td><td>3</td><td>datsun pl510                </td></tr>\n",
       "\t<tr><th scope=row>⋮</th><td>⋮</td><td>⋮</td><td>⋮</td><td>⋮</td><td>⋮</td><td>⋮</td><td>⋮</td><td>⋮</td><td>⋮</td></tr>\n",
       "\t<tr><th scope=row>368</th><td>28</td><td>4</td><td>112</td><td> 88</td><td>2605</td><td>19.6</td><td>82</td><td>1</td><td>chevrolet cavalier               </td></tr>\n",
       "\t<tr><th scope=row>369</th><td>27</td><td>4</td><td>112</td><td> 88</td><td>2640</td><td>18.6</td><td>82</td><td>1</td><td>chevrolet cavalier wagon         </td></tr>\n",
       "\t<tr><th scope=row>370</th><td>34</td><td>4</td><td>112</td><td> 88</td><td>2395</td><td>18.0</td><td>82</td><td>1</td><td>chevrolet cavalier 2-door        </td></tr>\n",
       "\t<tr><th scope=row>371</th><td>31</td><td>4</td><td>112</td><td> 85</td><td>2575</td><td>16.2</td><td>82</td><td>1</td><td>pontiac j2000 se hatchback       </td></tr>\n",
       "\t<tr><th scope=row>372</th><td>29</td><td>4</td><td>135</td><td> 84</td><td>2525</td><td>16.0</td><td>82</td><td>1</td><td>dodge aries se                   </td></tr>\n",
       "\t<tr><th scope=row>373</th><td>27</td><td>4</td><td>151</td><td> 90</td><td>2735</td><td>18.0</td><td>82</td><td>1</td><td>pontiac phoenix                  </td></tr>\n",
       "\t<tr><th scope=row>374</th><td>24</td><td>4</td><td>140</td><td> 92</td><td>2865</td><td>16.4</td><td>82</td><td>1</td><td>ford fairmont futura             </td></tr>\n",
       "\t<tr><th scope=row>375</th><td>36</td><td>4</td><td>105</td><td> 74</td><td>1980</td><td>15.3</td><td>82</td><td>2</td><td>volkswagen rabbit l              </td></tr>\n",
       "\t<tr><th scope=row>376</th><td>37</td><td>4</td><td> 91</td><td> 68</td><td>2025</td><td>18.2</td><td>82</td><td>3</td><td>mazda glc custom l               </td></tr>\n",
       "\t<tr><th scope=row>377</th><td>31</td><td>4</td><td> 91</td><td> 68</td><td>1970</td><td>17.6</td><td>82</td><td>3</td><td>mazda glc custom                 </td></tr>\n",
       "\t<tr><th scope=row>378</th><td>38</td><td>4</td><td>105</td><td> 63</td><td>2125</td><td>14.7</td><td>82</td><td>1</td><td>plymouth horizon miser           </td></tr>\n",
       "\t<tr><th scope=row>379</th><td>36</td><td>4</td><td> 98</td><td> 70</td><td>2125</td><td>17.3</td><td>82</td><td>1</td><td>mercury lynx l                   </td></tr>\n",
       "\t<tr><th scope=row>380</th><td>36</td><td>4</td><td>120</td><td> 88</td><td>2160</td><td>14.5</td><td>82</td><td>3</td><td>nissan stanza xe                 </td></tr>\n",
       "\t<tr><th scope=row>381</th><td>36</td><td>4</td><td>107</td><td> 75</td><td>2205</td><td>14.5</td><td>82</td><td>3</td><td>honda accord                     </td></tr>\n",
       "\t<tr><th scope=row>382</th><td>34</td><td>4</td><td>108</td><td> 70</td><td>2245</td><td>16.9</td><td>82</td><td>3</td><td>toyota corolla                   </td></tr>\n",
       "\t<tr><th scope=row>383</th><td>38</td><td>4</td><td> 91</td><td> 67</td><td>1965</td><td>15.0</td><td>82</td><td>3</td><td>honda civic                      </td></tr>\n",
       "\t<tr><th scope=row>384</th><td>32</td><td>4</td><td> 91</td><td> 67</td><td>1965</td><td>15.7</td><td>82</td><td>3</td><td>honda civic (auto)               </td></tr>\n",
       "\t<tr><th scope=row>385</th><td>38</td><td>4</td><td> 91</td><td> 67</td><td>1995</td><td>16.2</td><td>82</td><td>3</td><td>datsun 310 gx                    </td></tr>\n",
       "\t<tr><th scope=row>386</th><td>25</td><td>6</td><td>181</td><td>110</td><td>2945</td><td>16.4</td><td>82</td><td>1</td><td>buick century limited            </td></tr>\n",
       "\t<tr><th scope=row>387</th><td>38</td><td>6</td><td>262</td><td> 85</td><td>3015</td><td>17.0</td><td>82</td><td>1</td><td>oldsmobile cutlass ciera (diesel)</td></tr>\n",
       "\t<tr><th scope=row>388</th><td>26</td><td>4</td><td>156</td><td> 92</td><td>2585</td><td>14.5</td><td>82</td><td>1</td><td>chrysler lebaron medallion       </td></tr>\n",
       "\t<tr><th scope=row>389</th><td>22</td><td>6</td><td>232</td><td>112</td><td>2835</td><td>14.7</td><td>82</td><td>1</td><td>ford granada l                   </td></tr>\n",
       "\t<tr><th scope=row>390</th><td>32</td><td>4</td><td>144</td><td> 96</td><td>2665</td><td>13.9</td><td>82</td><td>3</td><td>toyota celica gt                 </td></tr>\n",
       "\t<tr><th scope=row>391</th><td>36</td><td>4</td><td>135</td><td> 84</td><td>2370</td><td>13.0</td><td>82</td><td>1</td><td>dodge charger 2.2                </td></tr>\n",
       "\t<tr><th scope=row>392</th><td>27</td><td>4</td><td>151</td><td> 90</td><td>2950</td><td>17.3</td><td>82</td><td>1</td><td>chevrolet camaro                 </td></tr>\n",
       "\t<tr><th scope=row>393</th><td>27</td><td>4</td><td>140</td><td> 86</td><td>2790</td><td>15.6</td><td>82</td><td>1</td><td>ford mustang gl                  </td></tr>\n",
       "\t<tr><th scope=row>394</th><td>44</td><td>4</td><td> 97</td><td> 52</td><td>2130</td><td>24.6</td><td>82</td><td>2</td><td>vw pickup                        </td></tr>\n",
       "\t<tr><th scope=row>395</th><td>32</td><td>4</td><td>135</td><td> 84</td><td>2295</td><td>11.6</td><td>82</td><td>1</td><td>dodge rampage                    </td></tr>\n",
       "\t<tr><th scope=row>396</th><td>28</td><td>4</td><td>120</td><td> 79</td><td>2625</td><td>18.6</td><td>82</td><td>1</td><td>ford ranger                      </td></tr>\n",
       "\t<tr><th scope=row>397</th><td>31</td><td>4</td><td>119</td><td> 82</td><td>2720</td><td>19.4</td><td>82</td><td>1</td><td>chevy s-10                       </td></tr>\n",
       "</tbody>\n",
       "</table>\n"
      ],
      "text/latex": [
       "A data.frame: 392 × 9\n",
       "\\begin{tabular}{r|lllllllll}\n",
       "  & mpg & cylinders & displacement & horsepower & weight & acceleration & year & origin & name\\\\\n",
       "  & <dbl> & <dbl> & <dbl> & <dbl> & <dbl> & <dbl> & <dbl> & <dbl> & <fct>\\\\\n",
       "\\hline\n",
       "\t1 & 18 & 8 & 307 & 130 & 3504 & 12.0 & 70 & 1 & chevrolet chevelle malibu   \\\\\n",
       "\t2 & 15 & 8 & 350 & 165 & 3693 & 11.5 & 70 & 1 & buick skylark 320           \\\\\n",
       "\t3 & 18 & 8 & 318 & 150 & 3436 & 11.0 & 70 & 1 & plymouth satellite          \\\\\n",
       "\t4 & 16 & 8 & 304 & 150 & 3433 & 12.0 & 70 & 1 & amc rebel sst               \\\\\n",
       "\t5 & 17 & 8 & 302 & 140 & 3449 & 10.5 & 70 & 1 & ford torino                 \\\\\n",
       "\t6 & 15 & 8 & 429 & 198 & 4341 & 10.0 & 70 & 1 & ford galaxie 500            \\\\\n",
       "\t7 & 14 & 8 & 454 & 220 & 4354 &  9.0 & 70 & 1 & chevrolet impala            \\\\\n",
       "\t8 & 14 & 8 & 440 & 215 & 4312 &  8.5 & 70 & 1 & plymouth fury iii           \\\\\n",
       "\t9 & 14 & 8 & 455 & 225 & 4425 & 10.0 & 70 & 1 & pontiac catalina            \\\\\n",
       "\t10 & 15 & 8 & 390 & 190 & 3850 &  8.5 & 70 & 1 & amc ambassador dpl          \\\\\n",
       "\t11 & 15 & 8 & 383 & 170 & 3563 & 10.0 & 70 & 1 & dodge challenger se         \\\\\n",
       "\t12 & 14 & 8 & 340 & 160 & 3609 &  8.0 & 70 & 1 & plymouth 'cuda 340          \\\\\n",
       "\t13 & 15 & 8 & 400 & 150 & 3761 &  9.5 & 70 & 1 & chevrolet monte carlo       \\\\\n",
       "\t14 & 14 & 8 & 455 & 225 & 3086 & 10.0 & 70 & 1 & buick estate wagon (sw)     \\\\\n",
       "\t15 & 24 & 4 & 113 &  95 & 2372 & 15.0 & 70 & 3 & toyota corona mark ii       \\\\\n",
       "\t16 & 22 & 6 & 198 &  95 & 2833 & 15.5 & 70 & 1 & plymouth duster             \\\\\n",
       "\t17 & 18 & 6 & 199 &  97 & 2774 & 15.5 & 70 & 1 & amc hornet                  \\\\\n",
       "\t18 & 21 & 6 & 200 &  85 & 2587 & 16.0 & 70 & 1 & ford maverick               \\\\\n",
       "\t19 & 27 & 4 &  97 &  88 & 2130 & 14.5 & 70 & 3 & datsun pl510                \\\\\n",
       "\t20 & 26 & 4 &  97 &  46 & 1835 & 20.5 & 70 & 2 & volkswagen 1131 deluxe sedan\\\\\n",
       "\t21 & 25 & 4 & 110 &  87 & 2672 & 17.5 & 70 & 2 & peugeot 504                 \\\\\n",
       "\t22 & 24 & 4 & 107 &  90 & 2430 & 14.5 & 70 & 2 & audi 100 ls                 \\\\\n",
       "\t23 & 25 & 4 & 104 &  95 & 2375 & 17.5 & 70 & 2 & saab 99e                    \\\\\n",
       "\t24 & 26 & 4 & 121 & 113 & 2234 & 12.5 & 70 & 2 & bmw 2002                    \\\\\n",
       "\t25 & 21 & 6 & 199 &  90 & 2648 & 15.0 & 70 & 1 & amc gremlin                 \\\\\n",
       "\t26 & 10 & 8 & 360 & 215 & 4615 & 14.0 & 70 & 1 & ford f250                   \\\\\n",
       "\t27 & 10 & 8 & 307 & 200 & 4376 & 15.0 & 70 & 1 & chevy c20                   \\\\\n",
       "\t28 & 11 & 8 & 318 & 210 & 4382 & 13.5 & 70 & 1 & dodge d200                  \\\\\n",
       "\t29 &  9 & 8 & 304 & 193 & 4732 & 18.5 & 70 & 1 & hi 1200d                    \\\\\n",
       "\t30 & 27 & 4 &  97 &  88 & 2130 & 14.5 & 71 & 3 & datsun pl510                \\\\\n",
       "\t⋮ & ⋮ & ⋮ & ⋮ & ⋮ & ⋮ & ⋮ & ⋮ & ⋮ & ⋮\\\\\n",
       "\t368 & 28 & 4 & 112 &  88 & 2605 & 19.6 & 82 & 1 & chevrolet cavalier               \\\\\n",
       "\t369 & 27 & 4 & 112 &  88 & 2640 & 18.6 & 82 & 1 & chevrolet cavalier wagon         \\\\\n",
       "\t370 & 34 & 4 & 112 &  88 & 2395 & 18.0 & 82 & 1 & chevrolet cavalier 2-door        \\\\\n",
       "\t371 & 31 & 4 & 112 &  85 & 2575 & 16.2 & 82 & 1 & pontiac j2000 se hatchback       \\\\\n",
       "\t372 & 29 & 4 & 135 &  84 & 2525 & 16.0 & 82 & 1 & dodge aries se                   \\\\\n",
       "\t373 & 27 & 4 & 151 &  90 & 2735 & 18.0 & 82 & 1 & pontiac phoenix                  \\\\\n",
       "\t374 & 24 & 4 & 140 &  92 & 2865 & 16.4 & 82 & 1 & ford fairmont futura             \\\\\n",
       "\t375 & 36 & 4 & 105 &  74 & 1980 & 15.3 & 82 & 2 & volkswagen rabbit l              \\\\\n",
       "\t376 & 37 & 4 &  91 &  68 & 2025 & 18.2 & 82 & 3 & mazda glc custom l               \\\\\n",
       "\t377 & 31 & 4 &  91 &  68 & 1970 & 17.6 & 82 & 3 & mazda glc custom                 \\\\\n",
       "\t378 & 38 & 4 & 105 &  63 & 2125 & 14.7 & 82 & 1 & plymouth horizon miser           \\\\\n",
       "\t379 & 36 & 4 &  98 &  70 & 2125 & 17.3 & 82 & 1 & mercury lynx l                   \\\\\n",
       "\t380 & 36 & 4 & 120 &  88 & 2160 & 14.5 & 82 & 3 & nissan stanza xe                 \\\\\n",
       "\t381 & 36 & 4 & 107 &  75 & 2205 & 14.5 & 82 & 3 & honda accord                     \\\\\n",
       "\t382 & 34 & 4 & 108 &  70 & 2245 & 16.9 & 82 & 3 & toyota corolla                   \\\\\n",
       "\t383 & 38 & 4 &  91 &  67 & 1965 & 15.0 & 82 & 3 & honda civic                      \\\\\n",
       "\t384 & 32 & 4 &  91 &  67 & 1965 & 15.7 & 82 & 3 & honda civic (auto)               \\\\\n",
       "\t385 & 38 & 4 &  91 &  67 & 1995 & 16.2 & 82 & 3 & datsun 310 gx                    \\\\\n",
       "\t386 & 25 & 6 & 181 & 110 & 2945 & 16.4 & 82 & 1 & buick century limited            \\\\\n",
       "\t387 & 38 & 6 & 262 &  85 & 3015 & 17.0 & 82 & 1 & oldsmobile cutlass ciera (diesel)\\\\\n",
       "\t388 & 26 & 4 & 156 &  92 & 2585 & 14.5 & 82 & 1 & chrysler lebaron medallion       \\\\\n",
       "\t389 & 22 & 6 & 232 & 112 & 2835 & 14.7 & 82 & 1 & ford granada l                   \\\\\n",
       "\t390 & 32 & 4 & 144 &  96 & 2665 & 13.9 & 82 & 3 & toyota celica gt                 \\\\\n",
       "\t391 & 36 & 4 & 135 &  84 & 2370 & 13.0 & 82 & 1 & dodge charger 2.2                \\\\\n",
       "\t392 & 27 & 4 & 151 &  90 & 2950 & 17.3 & 82 & 1 & chevrolet camaro                 \\\\\n",
       "\t393 & 27 & 4 & 140 &  86 & 2790 & 15.6 & 82 & 1 & ford mustang gl                  \\\\\n",
       "\t394 & 44 & 4 &  97 &  52 & 2130 & 24.6 & 82 & 2 & vw pickup                        \\\\\n",
       "\t395 & 32 & 4 & 135 &  84 & 2295 & 11.6 & 82 & 1 & dodge rampage                    \\\\\n",
       "\t396 & 28 & 4 & 120 &  79 & 2625 & 18.6 & 82 & 1 & ford ranger                      \\\\\n",
       "\t397 & 31 & 4 & 119 &  82 & 2720 & 19.4 & 82 & 1 & chevy s-10                       \\\\\n",
       "\\end{tabular}\n"
      ],
      "text/markdown": [
       "\n",
       "A data.frame: 392 × 9\n",
       "\n",
       "| <!--/--> | mpg &lt;dbl&gt; | cylinders &lt;dbl&gt; | displacement &lt;dbl&gt; | horsepower &lt;dbl&gt; | weight &lt;dbl&gt; | acceleration &lt;dbl&gt; | year &lt;dbl&gt; | origin &lt;dbl&gt; | name &lt;fct&gt; |\n",
       "|---|---|---|---|---|---|---|---|---|---|\n",
       "| 1 | 18 | 8 | 307 | 130 | 3504 | 12.0 | 70 | 1 | chevrolet chevelle malibu    |\n",
       "| 2 | 15 | 8 | 350 | 165 | 3693 | 11.5 | 70 | 1 | buick skylark 320            |\n",
       "| 3 | 18 | 8 | 318 | 150 | 3436 | 11.0 | 70 | 1 | plymouth satellite           |\n",
       "| 4 | 16 | 8 | 304 | 150 | 3433 | 12.0 | 70 | 1 | amc rebel sst                |\n",
       "| 5 | 17 | 8 | 302 | 140 | 3449 | 10.5 | 70 | 1 | ford torino                  |\n",
       "| 6 | 15 | 8 | 429 | 198 | 4341 | 10.0 | 70 | 1 | ford galaxie 500             |\n",
       "| 7 | 14 | 8 | 454 | 220 | 4354 |  9.0 | 70 | 1 | chevrolet impala             |\n",
       "| 8 | 14 | 8 | 440 | 215 | 4312 |  8.5 | 70 | 1 | plymouth fury iii            |\n",
       "| 9 | 14 | 8 | 455 | 225 | 4425 | 10.0 | 70 | 1 | pontiac catalina             |\n",
       "| 10 | 15 | 8 | 390 | 190 | 3850 |  8.5 | 70 | 1 | amc ambassador dpl           |\n",
       "| 11 | 15 | 8 | 383 | 170 | 3563 | 10.0 | 70 | 1 | dodge challenger se          |\n",
       "| 12 | 14 | 8 | 340 | 160 | 3609 |  8.0 | 70 | 1 | plymouth 'cuda 340           |\n",
       "| 13 | 15 | 8 | 400 | 150 | 3761 |  9.5 | 70 | 1 | chevrolet monte carlo        |\n",
       "| 14 | 14 | 8 | 455 | 225 | 3086 | 10.0 | 70 | 1 | buick estate wagon (sw)      |\n",
       "| 15 | 24 | 4 | 113 |  95 | 2372 | 15.0 | 70 | 3 | toyota corona mark ii        |\n",
       "| 16 | 22 | 6 | 198 |  95 | 2833 | 15.5 | 70 | 1 | plymouth duster              |\n",
       "| 17 | 18 | 6 | 199 |  97 | 2774 | 15.5 | 70 | 1 | amc hornet                   |\n",
       "| 18 | 21 | 6 | 200 |  85 | 2587 | 16.0 | 70 | 1 | ford maverick                |\n",
       "| 19 | 27 | 4 |  97 |  88 | 2130 | 14.5 | 70 | 3 | datsun pl510                 |\n",
       "| 20 | 26 | 4 |  97 |  46 | 1835 | 20.5 | 70 | 2 | volkswagen 1131 deluxe sedan |\n",
       "| 21 | 25 | 4 | 110 |  87 | 2672 | 17.5 | 70 | 2 | peugeot 504                  |\n",
       "| 22 | 24 | 4 | 107 |  90 | 2430 | 14.5 | 70 | 2 | audi 100 ls                  |\n",
       "| 23 | 25 | 4 | 104 |  95 | 2375 | 17.5 | 70 | 2 | saab 99e                     |\n",
       "| 24 | 26 | 4 | 121 | 113 | 2234 | 12.5 | 70 | 2 | bmw 2002                     |\n",
       "| 25 | 21 | 6 | 199 |  90 | 2648 | 15.0 | 70 | 1 | amc gremlin                  |\n",
       "| 26 | 10 | 8 | 360 | 215 | 4615 | 14.0 | 70 | 1 | ford f250                    |\n",
       "| 27 | 10 | 8 | 307 | 200 | 4376 | 15.0 | 70 | 1 | chevy c20                    |\n",
       "| 28 | 11 | 8 | 318 | 210 | 4382 | 13.5 | 70 | 1 | dodge d200                   |\n",
       "| 29 |  9 | 8 | 304 | 193 | 4732 | 18.5 | 70 | 1 | hi 1200d                     |\n",
       "| 30 | 27 | 4 |  97 |  88 | 2130 | 14.5 | 71 | 3 | datsun pl510                 |\n",
       "| ⋮ | ⋮ | ⋮ | ⋮ | ⋮ | ⋮ | ⋮ | ⋮ | ⋮ | ⋮ |\n",
       "| 368 | 28 | 4 | 112 |  88 | 2605 | 19.6 | 82 | 1 | chevrolet cavalier                |\n",
       "| 369 | 27 | 4 | 112 |  88 | 2640 | 18.6 | 82 | 1 | chevrolet cavalier wagon          |\n",
       "| 370 | 34 | 4 | 112 |  88 | 2395 | 18.0 | 82 | 1 | chevrolet cavalier 2-door         |\n",
       "| 371 | 31 | 4 | 112 |  85 | 2575 | 16.2 | 82 | 1 | pontiac j2000 se hatchback        |\n",
       "| 372 | 29 | 4 | 135 |  84 | 2525 | 16.0 | 82 | 1 | dodge aries se                    |\n",
       "| 373 | 27 | 4 | 151 |  90 | 2735 | 18.0 | 82 | 1 | pontiac phoenix                   |\n",
       "| 374 | 24 | 4 | 140 |  92 | 2865 | 16.4 | 82 | 1 | ford fairmont futura              |\n",
       "| 375 | 36 | 4 | 105 |  74 | 1980 | 15.3 | 82 | 2 | volkswagen rabbit l               |\n",
       "| 376 | 37 | 4 |  91 |  68 | 2025 | 18.2 | 82 | 3 | mazda glc custom l                |\n",
       "| 377 | 31 | 4 |  91 |  68 | 1970 | 17.6 | 82 | 3 | mazda glc custom                  |\n",
       "| 378 | 38 | 4 | 105 |  63 | 2125 | 14.7 | 82 | 1 | plymouth horizon miser            |\n",
       "| 379 | 36 | 4 |  98 |  70 | 2125 | 17.3 | 82 | 1 | mercury lynx l                    |\n",
       "| 380 | 36 | 4 | 120 |  88 | 2160 | 14.5 | 82 | 3 | nissan stanza xe                  |\n",
       "| 381 | 36 | 4 | 107 |  75 | 2205 | 14.5 | 82 | 3 | honda accord                      |\n",
       "| 382 | 34 | 4 | 108 |  70 | 2245 | 16.9 | 82 | 3 | toyota corolla                    |\n",
       "| 383 | 38 | 4 |  91 |  67 | 1965 | 15.0 | 82 | 3 | honda civic                       |\n",
       "| 384 | 32 | 4 |  91 |  67 | 1965 | 15.7 | 82 | 3 | honda civic (auto)                |\n",
       "| 385 | 38 | 4 |  91 |  67 | 1995 | 16.2 | 82 | 3 | datsun 310 gx                     |\n",
       "| 386 | 25 | 6 | 181 | 110 | 2945 | 16.4 | 82 | 1 | buick century limited             |\n",
       "| 387 | 38 | 6 | 262 |  85 | 3015 | 17.0 | 82 | 1 | oldsmobile cutlass ciera (diesel) |\n",
       "| 388 | 26 | 4 | 156 |  92 | 2585 | 14.5 | 82 | 1 | chrysler lebaron medallion        |\n",
       "| 389 | 22 | 6 | 232 | 112 | 2835 | 14.7 | 82 | 1 | ford granada l                    |\n",
       "| 390 | 32 | 4 | 144 |  96 | 2665 | 13.9 | 82 | 3 | toyota celica gt                  |\n",
       "| 391 | 36 | 4 | 135 |  84 | 2370 | 13.0 | 82 | 1 | dodge charger 2.2                 |\n",
       "| 392 | 27 | 4 | 151 |  90 | 2950 | 17.3 | 82 | 1 | chevrolet camaro                  |\n",
       "| 393 | 27 | 4 | 140 |  86 | 2790 | 15.6 | 82 | 1 | ford mustang gl                   |\n",
       "| 394 | 44 | 4 |  97 |  52 | 2130 | 24.6 | 82 | 2 | vw pickup                         |\n",
       "| 395 | 32 | 4 | 135 |  84 | 2295 | 11.6 | 82 | 1 | dodge rampage                     |\n",
       "| 396 | 28 | 4 | 120 |  79 | 2625 | 18.6 | 82 | 1 | ford ranger                       |\n",
       "| 397 | 31 | 4 | 119 |  82 | 2720 | 19.4 | 82 | 1 | chevy s-10                        |\n",
       "\n"
      ],
      "text/plain": [
       "    mpg cylinders displacement horsepower weight acceleration year origin\n",
       "1   18  8         307          130        3504   12.0         70   1     \n",
       "2   15  8         350          165        3693   11.5         70   1     \n",
       "3   18  8         318          150        3436   11.0         70   1     \n",
       "4   16  8         304          150        3433   12.0         70   1     \n",
       "5   17  8         302          140        3449   10.5         70   1     \n",
       "6   15  8         429          198        4341   10.0         70   1     \n",
       "7   14  8         454          220        4354    9.0         70   1     \n",
       "8   14  8         440          215        4312    8.5         70   1     \n",
       "9   14  8         455          225        4425   10.0         70   1     \n",
       "10  15  8         390          190        3850    8.5         70   1     \n",
       "11  15  8         383          170        3563   10.0         70   1     \n",
       "12  14  8         340          160        3609    8.0         70   1     \n",
       "13  15  8         400          150        3761    9.5         70   1     \n",
       "14  14  8         455          225        3086   10.0         70   1     \n",
       "15  24  4         113           95        2372   15.0         70   3     \n",
       "16  22  6         198           95        2833   15.5         70   1     \n",
       "17  18  6         199           97        2774   15.5         70   1     \n",
       "18  21  6         200           85        2587   16.0         70   1     \n",
       "19  27  4          97           88        2130   14.5         70   3     \n",
       "20  26  4          97           46        1835   20.5         70   2     \n",
       "21  25  4         110           87        2672   17.5         70   2     \n",
       "22  24  4         107           90        2430   14.5         70   2     \n",
       "23  25  4         104           95        2375   17.5         70   2     \n",
       "24  26  4         121          113        2234   12.5         70   2     \n",
       "25  21  6         199           90        2648   15.0         70   1     \n",
       "26  10  8         360          215        4615   14.0         70   1     \n",
       "27  10  8         307          200        4376   15.0         70   1     \n",
       "28  11  8         318          210        4382   13.5         70   1     \n",
       "29   9  8         304          193        4732   18.5         70   1     \n",
       "30  27  4          97           88        2130   14.5         71   3     \n",
       "<U+22EE>   <U+22EE> <U+22EE>  <U+22EE>     <U+22EE>   <U+22EE> <U+22EE>     <U+22EE> <U+22EE>\n",
       "368 28  4         112           88        2605   19.6         82   1     \n",
       "369 27  4         112           88        2640   18.6         82   1     \n",
       "370 34  4         112           88        2395   18.0         82   1     \n",
       "371 31  4         112           85        2575   16.2         82   1     \n",
       "372 29  4         135           84        2525   16.0         82   1     \n",
       "373 27  4         151           90        2735   18.0         82   1     \n",
       "374 24  4         140           92        2865   16.4         82   1     \n",
       "375 36  4         105           74        1980   15.3         82   2     \n",
       "376 37  4          91           68        2025   18.2         82   3     \n",
       "377 31  4          91           68        1970   17.6         82   3     \n",
       "378 38  4         105           63        2125   14.7         82   1     \n",
       "379 36  4          98           70        2125   17.3         82   1     \n",
       "380 36  4         120           88        2160   14.5         82   3     \n",
       "381 36  4         107           75        2205   14.5         82   3     \n",
       "382 34  4         108           70        2245   16.9         82   3     \n",
       "383 38  4          91           67        1965   15.0         82   3     \n",
       "384 32  4          91           67        1965   15.7         82   3     \n",
       "385 38  4          91           67        1995   16.2         82   3     \n",
       "386 25  6         181          110        2945   16.4         82   1     \n",
       "387 38  6         262           85        3015   17.0         82   1     \n",
       "388 26  4         156           92        2585   14.5         82   1     \n",
       "389 22  6         232          112        2835   14.7         82   1     \n",
       "390 32  4         144           96        2665   13.9         82   3     \n",
       "391 36  4         135           84        2370   13.0         82   1     \n",
       "392 27  4         151           90        2950   17.3         82   1     \n",
       "393 27  4         140           86        2790   15.6         82   1     \n",
       "394 44  4          97           52        2130   24.6         82   2     \n",
       "395 32  4         135           84        2295   11.6         82   1     \n",
       "396 28  4         120           79        2625   18.6         82   1     \n",
       "397 31  4         119           82        2720   19.4         82   1     \n",
       "    name                             \n",
       "1   chevrolet chevelle malibu        \n",
       "2   buick skylark 320                \n",
       "3   plymouth satellite               \n",
       "4   amc rebel sst                    \n",
       "5   ford torino                      \n",
       "6   ford galaxie 500                 \n",
       "7   chevrolet impala                 \n",
       "8   plymouth fury iii                \n",
       "9   pontiac catalina                 \n",
       "10  amc ambassador dpl               \n",
       "11  dodge challenger se              \n",
       "12  plymouth 'cuda 340               \n",
       "13  chevrolet monte carlo            \n",
       "14  buick estate wagon (sw)          \n",
       "15  toyota corona mark ii            \n",
       "16  plymouth duster                  \n",
       "17  amc hornet                       \n",
       "18  ford maverick                    \n",
       "19  datsun pl510                     \n",
       "20  volkswagen 1131 deluxe sedan     \n",
       "21  peugeot 504                      \n",
       "22  audi 100 ls                      \n",
       "23  saab 99e                         \n",
       "24  bmw 2002                         \n",
       "25  amc gremlin                      \n",
       "26  ford f250                        \n",
       "27  chevy c20                        \n",
       "28  dodge d200                       \n",
       "29  hi 1200d                         \n",
       "30  datsun pl510                     \n",
       "<U+22EE>   <U+22EE>                         \n",
       "368 chevrolet cavalier               \n",
       "369 chevrolet cavalier wagon         \n",
       "370 chevrolet cavalier 2-door        \n",
       "371 pontiac j2000 se hatchback       \n",
       "372 dodge aries se                   \n",
       "373 pontiac phoenix                  \n",
       "374 ford fairmont futura             \n",
       "375 volkswagen rabbit l              \n",
       "376 mazda glc custom l               \n",
       "377 mazda glc custom                 \n",
       "378 plymouth horizon miser           \n",
       "379 mercury lynx l                   \n",
       "380 nissan stanza xe                 \n",
       "381 honda accord                     \n",
       "382 toyota corolla                   \n",
       "383 honda civic                      \n",
       "384 honda civic (auto)               \n",
       "385 datsun 310 gx                    \n",
       "386 buick century limited            \n",
       "387 oldsmobile cutlass ciera (diesel)\n",
       "388 chrysler lebaron medallion       \n",
       "389 ford granada l                   \n",
       "390 toyota celica gt                 \n",
       "391 dodge charger 2.2                \n",
       "392 chevrolet camaro                 \n",
       "393 ford mustang gl                  \n",
       "394 vw pickup                        \n",
       "395 dodge rampage                    \n",
       "396 ford ranger                      \n",
       "397 chevy s-10                       "
      ]
     },
     "metadata": {},
     "output_type": "display_data"
    }
   ],
   "source": [
    "data(Auto)\n",
    "View(Auto)"
   ]
  },
  {
   "cell_type": "markdown",
   "id": "7ec51fd2",
   "metadata": {},
   "source": [
    "# A\n",
    "Create a binary variable, mpg01, that contains a 1 if mpg contains a value above its median, and a 0 if mpg contains a value below its median. You can compute the median using the median() function. Note you may find it helpful to use the data.frame()\n",
    "function to create a single data set containing both mpg01 and the other Auto variables."
   ]
  }
 ],
 "metadata": {
  "kernelspec": {
   "display_name": "R",
   "language": "R",
   "name": "ir"
  },
  "language_info": {
   "codemirror_mode": "r",
   "file_extension": ".r",
   "mimetype": "text/x-r-source",
   "name": "R",
   "pygments_lexer": "r",
   "version": "4.0.5"
  }
 },
 "nbformat": 4,
 "nbformat_minor": 5
}
